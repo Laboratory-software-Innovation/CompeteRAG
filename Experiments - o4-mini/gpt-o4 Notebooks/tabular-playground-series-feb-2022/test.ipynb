{
 "cells": [
  {
   "cell_type": "markdown",
   "metadata": {},
   "source": [
    "# Tabular Playground Series - Feb 2022"
   ]
  },
  {
   "cell_type": "markdown",
   "metadata": {},
   "source": [
    "## Keras - 1 Attempt"
   ]
  },
  {
   "cell_type": "markdown",
   "metadata": {},
   "source": [
    "## Attempt 1"
   ]
  },
  {
   "cell_type": "code",
   "execution_count": 1,
   "metadata": {},
   "outputs": [
    {
     "name": "stderr",
     "output_type": "stream",
     "text": [
      "2025-07-10 13:37:50.096073: E external/local_xla/xla/stream_executor/cuda/cuda_fft.cc:467] Unable to register cuFFT factory: Attempting to register factory for plugin cuFFT when one has already been registered\n",
      "WARNING: All log messages before absl::InitializeLog() is called are written to STDERR\n",
      "E0000 00:00:1752154670.112678 1713711 cuda_dnn.cc:8579] Unable to register cuDNN factory: Attempting to register factory for plugin cuDNN when one has already been registered\n",
      "E0000 00:00:1752154670.117730 1713711 cuda_blas.cc:1407] Unable to register cuBLAS factory: Attempting to register factory for plugin cuBLAS when one has already been registered\n",
      "W0000 00:00:1752154670.132360 1713711 computation_placer.cc:177] computation placer already registered. Please check linkage and avoid linking the same target more than once.\n",
      "W0000 00:00:1752154670.132372 1713711 computation_placer.cc:177] computation placer already registered. Please check linkage and avoid linking the same target more than once.\n",
      "W0000 00:00:1752154670.132374 1713711 computation_placer.cc:177] computation placer already registered. Please check linkage and avoid linking the same target more than once.\n",
      "W0000 00:00:1752154670.132376 1713711 computation_placer.cc:177] computation placer already registered. Please check linkage and avoid linking the same target more than once.\n",
      "2025-07-10 13:37:50.137522: I tensorflow/core/platform/cpu_feature_guard.cc:210] This TensorFlow binary is optimized to use available CPU instructions in performance-critical operations.\n",
      "To enable the following instructions: AVX2 FMA, in other operations, rebuild TensorFlow with the appropriate compiler flags.\n",
      "I0000 00:00:1752154695.785547 1713711 gpu_device.cc:2019] Created device /job:localhost/replica:0/task:0/device:GPU:0 with 875 MB memory:  -> device: 0, name: NVIDIA A100-SXM4-40GB, pci bus id: 0000:04:00.0, compute capability: 8.0\n"
     ]
    },
    {
     "name": "stdout",
     "output_type": "stream",
     "text": [
      "Epoch 1/100\n"
     ]
    },
    {
     "name": "stderr",
     "output_type": "stream",
     "text": [
      "WARNING: All log messages before absl::InitializeLog() is called are written to STDERR\n",
      "I0000 00:00:1752154699.302901 1713886 service.cc:152] XLA service 0x740364006130 initialized for platform CUDA (this does not guarantee that XLA will be used). Devices:\n",
      "I0000 00:00:1752154699.302931 1713886 service.cc:160]   StreamExecutor device (0): NVIDIA A100-SXM4-40GB, Compute Capability 8.0\n",
      "2025-07-10 13:38:19.396819: I tensorflow/compiler/mlir/tensorflow/utils/dump_mlir_util.cc:269] disabling MLIR crash reproducer, set env var `MLIR_CRASH_REPRODUCER_DIRECTORY` to enable.\n",
      "I0000 00:00:1752154699.726603 1713886 cuda_dnn.cc:529] Loaded cuDNN version 90501\n",
      "I0000 00:00:1752154703.673110 1713886 device_compiler.h:188] Compiled cluster using XLA!  This line is logged at most once for the lifetime of the process.\n"
     ]
    },
    {
     "name": "stdout",
     "output_type": "stream",
     "text": [
      "\n",
      "Epoch 1: val_loss improved from inf to 0.30004, saving model to best_model.h5\n"
     ]
    },
    {
     "name": "stderr",
     "output_type": "stream",
     "text": [
      "WARNING:absl:You are saving your model as an HDF5 file via `model.save()` or `keras.saving.save_model(model)`. This file format is considered legacy. We recommend using instead the native Keras format, e.g. `model.save('my_model.keras')` or `keras.saving.save_model(model, 'my_model.keras')`. \n"
     ]
    },
    {
     "name": "stdout",
     "output_type": "stream",
     "text": [
      "2500/2500 - 18s - 7ms/step - accuracy: 0.7449 - loss: 0.7031 - top_5_accuracy: 0.9691 - val_accuracy: 0.8866 - val_loss: 0.3000 - val_top_5_accuracy: 0.9903\n",
      "Epoch 2/100\n",
      "\n",
      "Epoch 2: val_loss improved from 0.30004 to 0.21361, saving model to best_model.h5\n"
     ]
    },
    {
     "name": "stderr",
     "output_type": "stream",
     "text": [
      "WARNING:absl:You are saving your model as an HDF5 file via `model.save()` or `keras.saving.save_model(model)`. This file format is considered legacy. We recommend using instead the native Keras format, e.g. `model.save('my_model.keras')` or `keras.saving.save_model(model, 'my_model.keras')`. \n"
     ]
    },
    {
     "name": "stdout",
     "output_type": "stream",
     "text": [
      "2500/2500 - 11s - 4ms/step - accuracy: 0.8501 - loss: 0.4100 - top_5_accuracy: 0.9889 - val_accuracy: 0.9242 - val_loss: 0.2136 - val_top_5_accuracy: 0.9967\n",
      "Epoch 3/100\n",
      "\n",
      "Epoch 3: val_loss improved from 0.21361 to 0.18053, saving model to best_model.h5\n"
     ]
    },
    {
     "name": "stderr",
     "output_type": "stream",
     "text": [
      "WARNING:absl:You are saving your model as an HDF5 file via `model.save()` or `keras.saving.save_model(model)`. This file format is considered legacy. We recommend using instead the native Keras format, e.g. `model.save('my_model.keras')` or `keras.saving.save_model(model, 'my_model.keras')`. \n"
     ]
    },
    {
     "name": "stdout",
     "output_type": "stream",
     "text": [
      "2500/2500 - 10s - 4ms/step - accuracy: 0.8809 - loss: 0.3295 - top_5_accuracy: 0.9910 - val_accuracy: 0.9345 - val_loss: 0.1805 - val_top_5_accuracy: 0.9974\n",
      "Epoch 4/100\n",
      "\n",
      "Epoch 4: val_loss improved from 0.18053 to 0.16021, saving model to best_model.h5\n"
     ]
    },
    {
     "name": "stderr",
     "output_type": "stream",
     "text": [
      "WARNING:absl:You are saving your model as an HDF5 file via `model.save()` or `keras.saving.save_model(model)`. This file format is considered legacy. We recommend using instead the native Keras format, e.g. `model.save('my_model.keras')` or `keras.saving.save_model(model, 'my_model.keras')`. \n"
     ]
    },
    {
     "name": "stdout",
     "output_type": "stream",
     "text": [
      "2500/2500 - 10s - 4ms/step - accuracy: 0.8991 - loss: 0.2803 - top_5_accuracy: 0.9925 - val_accuracy: 0.9407 - val_loss: 0.1602 - val_top_5_accuracy: 0.9971\n",
      "Epoch 5/100\n",
      "\n",
      "Epoch 5: val_loss improved from 0.16021 to 0.14245, saving model to best_model.h5\n"
     ]
    },
    {
     "name": "stderr",
     "output_type": "stream",
     "text": [
      "WARNING:absl:You are saving your model as an HDF5 file via `model.save()` or `keras.saving.save_model(model)`. This file format is considered legacy. We recommend using instead the native Keras format, e.g. `model.save('my_model.keras')` or `keras.saving.save_model(model, 'my_model.keras')`. \n"
     ]
    },
    {
     "name": "stdout",
     "output_type": "stream",
     "text": [
      "2500/2500 - 10s - 4ms/step - accuracy: 0.9097 - loss: 0.2518 - top_5_accuracy: 0.9933 - val_accuracy: 0.9478 - val_loss: 0.1425 - val_top_5_accuracy: 0.9974\n",
      "Epoch 6/100\n",
      "\n",
      "Epoch 6: val_loss improved from 0.14245 to 0.13273, saving model to best_model.h5\n"
     ]
    },
    {
     "name": "stderr",
     "output_type": "stream",
     "text": [
      "WARNING:absl:You are saving your model as an HDF5 file via `model.save()` or `keras.saving.save_model(model)`. This file format is considered legacy. We recommend using instead the native Keras format, e.g. `model.save('my_model.keras')` or `keras.saving.save_model(model, 'my_model.keras')`. \n"
     ]
    },
    {
     "name": "stdout",
     "output_type": "stream",
     "text": [
      "2500/2500 - 11s - 4ms/step - accuracy: 0.9176 - loss: 0.2306 - top_5_accuracy: 0.9938 - val_accuracy: 0.9513 - val_loss: 0.1327 - val_top_5_accuracy: 0.9971\n",
      "Epoch 7/100\n",
      "\n",
      "Epoch 7: val_loss did not improve from 0.13273\n",
      "2500/2500 - 10s - 4ms/step - accuracy: 0.9236 - loss: 0.2129 - top_5_accuracy: 0.9944 - val_accuracy: 0.9468 - val_loss: 0.1363 - val_top_5_accuracy: 0.9971\n",
      "Epoch 8/100\n",
      "\n",
      "Epoch 8: val_loss improved from 0.13273 to 0.12270, saving model to best_model.h5\n"
     ]
    },
    {
     "name": "stderr",
     "output_type": "stream",
     "text": [
      "WARNING:absl:You are saving your model as an HDF5 file via `model.save()` or `keras.saving.save_model(model)`. This file format is considered legacy. We recommend using instead the native Keras format, e.g. `model.save('my_model.keras')` or `keras.saving.save_model(model, 'my_model.keras')`. \n"
     ]
    },
    {
     "name": "stdout",
     "output_type": "stream",
     "text": [
      "2500/2500 - 10s - 4ms/step - accuracy: 0.9278 - loss: 0.2026 - top_5_accuracy: 0.9948 - val_accuracy: 0.9525 - val_loss: 0.1227 - val_top_5_accuracy: 0.9976\n",
      "Epoch 9/100\n",
      "\n",
      "Epoch 9: val_loss improved from 0.12270 to 0.11369, saving model to best_model.h5\n"
     ]
    },
    {
     "name": "stderr",
     "output_type": "stream",
     "text": [
      "WARNING:absl:You are saving your model as an HDF5 file via `model.save()` or `keras.saving.save_model(model)`. This file format is considered legacy. We recommend using instead the native Keras format, e.g. `model.save('my_model.keras')` or `keras.saving.save_model(model, 'my_model.keras')`. \n"
     ]
    },
    {
     "name": "stdout",
     "output_type": "stream",
     "text": [
      "2500/2500 - 10s - 4ms/step - accuracy: 0.9322 - loss: 0.1918 - top_5_accuracy: 0.9951 - val_accuracy: 0.9583 - val_loss: 0.1137 - val_top_5_accuracy: 0.9980\n",
      "Epoch 10/100\n",
      "\n",
      "Epoch 10: val_loss did not improve from 0.11369\n",
      "2500/2500 - 11s - 4ms/step - accuracy: 0.9348 - loss: 0.1826 - top_5_accuracy: 0.9954 - val_accuracy: 0.9541 - val_loss: 0.1195 - val_top_5_accuracy: 0.9974\n",
      "Epoch 11/100\n",
      "\n",
      "Epoch 11: val_loss did not improve from 0.11369\n",
      "2500/2500 - 12s - 5ms/step - accuracy: 0.9385 - loss: 0.1745 - top_5_accuracy: 0.9957 - val_accuracy: 0.9548 - val_loss: 0.1158 - val_top_5_accuracy: 0.9973\n",
      "Epoch 12/100\n",
      "\n",
      "Epoch 12: val_loss improved from 0.11369 to 0.10620, saving model to best_model.h5\n"
     ]
    },
    {
     "name": "stderr",
     "output_type": "stream",
     "text": [
      "WARNING:absl:You are saving your model as an HDF5 file via `model.save()` or `keras.saving.save_model(model)`. This file format is considered legacy. We recommend using instead the native Keras format, e.g. `model.save('my_model.keras')` or `keras.saving.save_model(model, 'my_model.keras')`. \n"
     ]
    },
    {
     "name": "stdout",
     "output_type": "stream",
     "text": [
      "2500/2500 - 11s - 4ms/step - accuracy: 0.9396 - loss: 0.1683 - top_5_accuracy: 0.9958 - val_accuracy: 0.9611 - val_loss: 0.1062 - val_top_5_accuracy: 0.9980\n",
      "Epoch 13/100\n",
      "\n",
      "Epoch 13: val_loss improved from 0.10620 to 0.10512, saving model to best_model.h5\n"
     ]
    },
    {
     "name": "stderr",
     "output_type": "stream",
     "text": [
      "WARNING:absl:You are saving your model as an HDF5 file via `model.save()` or `keras.saving.save_model(model)`. This file format is considered legacy. We recommend using instead the native Keras format, e.g. `model.save('my_model.keras')` or `keras.saving.save_model(model, 'my_model.keras')`. \n"
     ]
    },
    {
     "name": "stdout",
     "output_type": "stream",
     "text": [
      "2500/2500 - 10s - 4ms/step - accuracy: 0.9427 - loss: 0.1604 - top_5_accuracy: 0.9962 - val_accuracy: 0.9610 - val_loss: 0.1051 - val_top_5_accuracy: 0.9980\n",
      "Epoch 14/100\n",
      "\n",
      "Epoch 14: val_loss improved from 0.10512 to 0.10178, saving model to best_model.h5\n"
     ]
    },
    {
     "name": "stderr",
     "output_type": "stream",
     "text": [
      "WARNING:absl:You are saving your model as an HDF5 file via `model.save()` or `keras.saving.save_model(model)`. This file format is considered legacy. We recommend using instead the native Keras format, e.g. `model.save('my_model.keras')` or `keras.saving.save_model(model, 'my_model.keras')`. \n"
     ]
    },
    {
     "name": "stdout",
     "output_type": "stream",
     "text": [
      "2500/2500 - 10s - 4ms/step - accuracy: 0.9444 - loss: 0.1567 - top_5_accuracy: 0.9963 - val_accuracy: 0.9614 - val_loss: 0.1018 - val_top_5_accuracy: 0.9979\n",
      "Epoch 15/100\n",
      "\n",
      "Epoch 15: val_loss improved from 0.10178 to 0.09649, saving model to best_model.h5\n"
     ]
    },
    {
     "name": "stderr",
     "output_type": "stream",
     "text": [
      "WARNING:absl:You are saving your model as an HDF5 file via `model.save()` or `keras.saving.save_model(model)`. This file format is considered legacy. We recommend using instead the native Keras format, e.g. `model.save('my_model.keras')` or `keras.saving.save_model(model, 'my_model.keras')`. \n"
     ]
    },
    {
     "name": "stdout",
     "output_type": "stream",
     "text": [
      "2500/2500 - 10s - 4ms/step - accuracy: 0.9465 - loss: 0.1519 - top_5_accuracy: 0.9965 - val_accuracy: 0.9664 - val_loss: 0.0965 - val_top_5_accuracy: 0.9979\n",
      "Epoch 16/100\n",
      "\n",
      "Epoch 16: val_loss improved from 0.09649 to 0.09190, saving model to best_model.h5\n"
     ]
    },
    {
     "name": "stderr",
     "output_type": "stream",
     "text": [
      "WARNING:absl:You are saving your model as an HDF5 file via `model.save()` or `keras.saving.save_model(model)`. This file format is considered legacy. We recommend using instead the native Keras format, e.g. `model.save('my_model.keras')` or `keras.saving.save_model(model, 'my_model.keras')`. \n"
     ]
    },
    {
     "name": "stdout",
     "output_type": "stream",
     "text": [
      "2500/2500 - 11s - 4ms/step - accuracy: 0.9483 - loss: 0.1454 - top_5_accuracy: 0.9965 - val_accuracy: 0.9665 - val_loss: 0.0919 - val_top_5_accuracy: 0.9981\n",
      "Epoch 17/100\n",
      "\n",
      "Epoch 17: val_loss did not improve from 0.09190\n",
      "2500/2500 - 11s - 4ms/step - accuracy: 0.9493 - loss: 0.1427 - top_5_accuracy: 0.9968 - val_accuracy: 0.9652 - val_loss: 0.0924 - val_top_5_accuracy: 0.9979\n",
      "Epoch 18/100\n",
      "\n",
      "Epoch 18: val_loss did not improve from 0.09190\n",
      "2500/2500 - 11s - 5ms/step - accuracy: 0.9506 - loss: 0.1391 - top_5_accuracy: 0.9968 - val_accuracy: 0.9643 - val_loss: 0.0926 - val_top_5_accuracy: 0.9981\n",
      "Epoch 19/100\n",
      "\n",
      "Epoch 19: val_loss improved from 0.09190 to 0.08679, saving model to best_model.h5\n"
     ]
    },
    {
     "name": "stderr",
     "output_type": "stream",
     "text": [
      "WARNING:absl:You are saving your model as an HDF5 file via `model.save()` or `keras.saving.save_model(model)`. This file format is considered legacy. We recommend using instead the native Keras format, e.g. `model.save('my_model.keras')` or `keras.saving.save_model(model, 'my_model.keras')`. \n"
     ]
    },
    {
     "name": "stdout",
     "output_type": "stream",
     "text": [
      "2500/2500 - 11s - 4ms/step - accuracy: 0.9517 - loss: 0.1366 - top_5_accuracy: 0.9971 - val_accuracy: 0.9684 - val_loss: 0.0868 - val_top_5_accuracy: 0.9981\n",
      "Epoch 20/100\n",
      "\n",
      "Epoch 20: val_loss did not improve from 0.08679\n",
      "2500/2500 - 11s - 5ms/step - accuracy: 0.9531 - loss: 0.1327 - top_5_accuracy: 0.9972 - val_accuracy: 0.9642 - val_loss: 0.0912 - val_top_5_accuracy: 0.9980\n",
      "Epoch 21/100\n",
      "\n",
      "Epoch 21: val_loss improved from 0.08679 to 0.08362, saving model to best_model.h5\n"
     ]
    },
    {
     "name": "stderr",
     "output_type": "stream",
     "text": [
      "WARNING:absl:You are saving your model as an HDF5 file via `model.save()` or `keras.saving.save_model(model)`. This file format is considered legacy. We recommend using instead the native Keras format, e.g. `model.save('my_model.keras')` or `keras.saving.save_model(model, 'my_model.keras')`. \n"
     ]
    },
    {
     "name": "stdout",
     "output_type": "stream",
     "text": [
      "2500/2500 - 12s - 5ms/step - accuracy: 0.9546 - loss: 0.1292 - top_5_accuracy: 0.9972 - val_accuracy: 0.9708 - val_loss: 0.0836 - val_top_5_accuracy: 0.9983\n",
      "Epoch 22/100\n",
      "\n",
      "Epoch 22: val_loss did not improve from 0.08362\n",
      "2500/2500 - 11s - 4ms/step - accuracy: 0.9548 - loss: 0.1277 - top_5_accuracy: 0.9972 - val_accuracy: 0.9700 - val_loss: 0.0846 - val_top_5_accuracy: 0.9979\n",
      "Epoch 23/100\n",
      "\n",
      "Epoch 23: val_loss improved from 0.08362 to 0.08220, saving model to best_model.h5\n"
     ]
    },
    {
     "name": "stderr",
     "output_type": "stream",
     "text": [
      "WARNING:absl:You are saving your model as an HDF5 file via `model.save()` or `keras.saving.save_model(model)`. This file format is considered legacy. We recommend using instead the native Keras format, e.g. `model.save('my_model.keras')` or `keras.saving.save_model(model, 'my_model.keras')`. \n"
     ]
    },
    {
     "name": "stdout",
     "output_type": "stream",
     "text": [
      "2500/2500 - 10s - 4ms/step - accuracy: 0.9571 - loss: 0.1227 - top_5_accuracy: 0.9973 - val_accuracy: 0.9701 - val_loss: 0.0822 - val_top_5_accuracy: 0.9984\n",
      "Epoch 24/100\n",
      "\n",
      "Epoch 24: val_loss improved from 0.08220 to 0.08016, saving model to best_model.h5\n"
     ]
    },
    {
     "name": "stderr",
     "output_type": "stream",
     "text": [
      "WARNING:absl:You are saving your model as an HDF5 file via `model.save()` or `keras.saving.save_model(model)`. This file format is considered legacy. We recommend using instead the native Keras format, e.g. `model.save('my_model.keras')` or `keras.saving.save_model(model, 'my_model.keras')`. \n"
     ]
    },
    {
     "name": "stdout",
     "output_type": "stream",
     "text": [
      "2500/2500 - 11s - 5ms/step - accuracy: 0.9573 - loss: 0.1218 - top_5_accuracy: 0.9975 - val_accuracy: 0.9723 - val_loss: 0.0802 - val_top_5_accuracy: 0.9983\n",
      "Epoch 25/100\n",
      "\n",
      "Epoch 25: val_loss did not improve from 0.08016\n",
      "2500/2500 - 9s - 4ms/step - accuracy: 0.9582 - loss: 0.1198 - top_5_accuracy: 0.9974 - val_accuracy: 0.9717 - val_loss: 0.0820 - val_top_5_accuracy: 0.9981\n",
      "Epoch 26/100\n",
      "\n",
      "Epoch 26: val_loss improved from 0.08016 to 0.07692, saving model to best_model.h5\n"
     ]
    },
    {
     "name": "stderr",
     "output_type": "stream",
     "text": [
      "WARNING:absl:You are saving your model as an HDF5 file via `model.save()` or `keras.saving.save_model(model)`. This file format is considered legacy. We recommend using instead the native Keras format, e.g. `model.save('my_model.keras')` or `keras.saving.save_model(model, 'my_model.keras')`. \n"
     ]
    },
    {
     "name": "stdout",
     "output_type": "stream",
     "text": [
      "2500/2500 - 10s - 4ms/step - accuracy: 0.9596 - loss: 0.1168 - top_5_accuracy: 0.9975 - val_accuracy: 0.9726 - val_loss: 0.0769 - val_top_5_accuracy: 0.9987\n",
      "Epoch 27/100\n",
      "\n",
      "Epoch 27: val_loss did not improve from 0.07692\n",
      "2500/2500 - 10s - 4ms/step - accuracy: 0.9602 - loss: 0.1132 - top_5_accuracy: 0.9977 - val_accuracy: 0.9683 - val_loss: 0.0811 - val_top_5_accuracy: 0.9981\n",
      "Epoch 28/100\n",
      "\n",
      "Epoch 28: val_loss did not improve from 0.07692\n",
      "2500/2500 - 10s - 4ms/step - accuracy: 0.9607 - loss: 0.1127 - top_5_accuracy: 0.9978 - val_accuracy: 0.9689 - val_loss: 0.0813 - val_top_5_accuracy: 0.9986\n",
      "Epoch 29/100\n",
      "\n",
      "Epoch 29: val_loss improved from 0.07692 to 0.07482, saving model to best_model.h5\n"
     ]
    },
    {
     "name": "stderr",
     "output_type": "stream",
     "text": [
      "WARNING:absl:You are saving your model as an HDF5 file via `model.save()` or `keras.saving.save_model(model)`. This file format is considered legacy. We recommend using instead the native Keras format, e.g. `model.save('my_model.keras')` or `keras.saving.save_model(model, 'my_model.keras')`. \n"
     ]
    },
    {
     "name": "stdout",
     "output_type": "stream",
     "text": [
      "2500/2500 - 10s - 4ms/step - accuracy: 0.9618 - loss: 0.1090 - top_5_accuracy: 0.9979 - val_accuracy: 0.9732 - val_loss: 0.0748 - val_top_5_accuracy: 0.9982\n",
      "Epoch 30/100\n",
      "\n",
      "Epoch 30: val_loss did not improve from 0.07482\n",
      "2500/2500 - 11s - 4ms/step - accuracy: 0.9629 - loss: 0.1062 - top_5_accuracy: 0.9977 - val_accuracy: 0.9708 - val_loss: 0.0764 - val_top_5_accuracy: 0.9984\n",
      "Epoch 31/100\n",
      "\n",
      "Epoch 31: val_loss improved from 0.07482 to 0.07429, saving model to best_model.h5\n"
     ]
    },
    {
     "name": "stderr",
     "output_type": "stream",
     "text": [
      "WARNING:absl:You are saving your model as an HDF5 file via `model.save()` or `keras.saving.save_model(model)`. This file format is considered legacy. We recommend using instead the native Keras format, e.g. `model.save('my_model.keras')` or `keras.saving.save_model(model, 'my_model.keras')`. \n"
     ]
    },
    {
     "name": "stdout",
     "output_type": "stream",
     "text": [
      "2500/2500 - 12s - 5ms/step - accuracy: 0.9634 - loss: 0.1052 - top_5_accuracy: 0.9980 - val_accuracy: 0.9728 - val_loss: 0.0743 - val_top_5_accuracy: 0.9984\n",
      "Epoch 32/100\n",
      "\n",
      "Epoch 32: val_loss improved from 0.07429 to 0.07074, saving model to best_model.h5\n"
     ]
    },
    {
     "name": "stderr",
     "output_type": "stream",
     "text": [
      "WARNING:absl:You are saving your model as an HDF5 file via `model.save()` or `keras.saving.save_model(model)`. This file format is considered legacy. We recommend using instead the native Keras format, e.g. `model.save('my_model.keras')` or `keras.saving.save_model(model, 'my_model.keras')`. \n"
     ]
    },
    {
     "name": "stdout",
     "output_type": "stream",
     "text": [
      "2500/2500 - 12s - 5ms/step - accuracy: 0.9638 - loss: 0.1038 - top_5_accuracy: 0.9980 - val_accuracy: 0.9752 - val_loss: 0.0707 - val_top_5_accuracy: 0.9985\n",
      "Epoch 33/100\n",
      "\n",
      "Epoch 33: val_loss improved from 0.07074 to 0.06841, saving model to best_model.h5\n"
     ]
    },
    {
     "name": "stderr",
     "output_type": "stream",
     "text": [
      "WARNING:absl:You are saving your model as an HDF5 file via `model.save()` or `keras.saving.save_model(model)`. This file format is considered legacy. We recommend using instead the native Keras format, e.g. `model.save('my_model.keras')` or `keras.saving.save_model(model, 'my_model.keras')`. \n"
     ]
    },
    {
     "name": "stdout",
     "output_type": "stream",
     "text": [
      "2500/2500 - 12s - 5ms/step - accuracy: 0.9647 - loss: 0.1024 - top_5_accuracy: 0.9981 - val_accuracy: 0.9769 - val_loss: 0.0684 - val_top_5_accuracy: 0.9987\n",
      "Epoch 34/100\n",
      "\n",
      "Epoch 34: val_loss did not improve from 0.06841\n",
      "2500/2500 - 11s - 5ms/step - accuracy: 0.9657 - loss: 0.0995 - top_5_accuracy: 0.9982 - val_accuracy: 0.9747 - val_loss: 0.0702 - val_top_5_accuracy: 0.9986\n",
      "Epoch 35/100\n",
      "\n",
      "Epoch 35: val_loss did not improve from 0.06841\n",
      "2500/2500 - 11s - 4ms/step - accuracy: 0.9661 - loss: 0.0995 - top_5_accuracy: 0.9982 - val_accuracy: 0.9753 - val_loss: 0.0697 - val_top_5_accuracy: 0.9987\n",
      "Epoch 36/100\n",
      "\n",
      "Epoch 36: val_loss improved from 0.06841 to 0.06554, saving model to best_model.h5\n"
     ]
    },
    {
     "name": "stderr",
     "output_type": "stream",
     "text": [
      "WARNING:absl:You are saving your model as an HDF5 file via `model.save()` or `keras.saving.save_model(model)`. This file format is considered legacy. We recommend using instead the native Keras format, e.g. `model.save('my_model.keras')` or `keras.saving.save_model(model, 'my_model.keras')`. \n"
     ]
    },
    {
     "name": "stdout",
     "output_type": "stream",
     "text": [
      "2500/2500 - 10s - 4ms/step - accuracy: 0.9668 - loss: 0.0958 - top_5_accuracy: 0.9982 - val_accuracy: 0.9765 - val_loss: 0.0655 - val_top_5_accuracy: 0.9988\n",
      "Epoch 37/100\n",
      "\n",
      "Epoch 37: val_loss did not improve from 0.06554\n",
      "2500/2500 - 10s - 4ms/step - accuracy: 0.9673 - loss: 0.0947 - top_5_accuracy: 0.9983 - val_accuracy: 0.9760 - val_loss: 0.0682 - val_top_5_accuracy: 0.9987\n",
      "Epoch 38/100\n",
      "\n",
      "Epoch 38: val_loss did not improve from 0.06554\n",
      "2500/2500 - 10s - 4ms/step - accuracy: 0.9680 - loss: 0.0923 - top_5_accuracy: 0.9984 - val_accuracy: 0.9762 - val_loss: 0.0686 - val_top_5_accuracy: 0.9987\n",
      "Epoch 39/100\n",
      "\n",
      "Epoch 39: val_loss improved from 0.06554 to 0.06383, saving model to best_model.h5\n"
     ]
    },
    {
     "name": "stderr",
     "output_type": "stream",
     "text": [
      "WARNING:absl:You are saving your model as an HDF5 file via `model.save()` or `keras.saving.save_model(model)`. This file format is considered legacy. We recommend using instead the native Keras format, e.g. `model.save('my_model.keras')` or `keras.saving.save_model(model, 'my_model.keras')`. \n"
     ]
    },
    {
     "name": "stdout",
     "output_type": "stream",
     "text": [
      "2500/2500 - 11s - 4ms/step - accuracy: 0.9682 - loss: 0.0923 - top_5_accuracy: 0.9985 - val_accuracy: 0.9758 - val_loss: 0.0638 - val_top_5_accuracy: 0.9988\n",
      "Epoch 40/100\n",
      "\n",
      "Epoch 40: val_loss did not improve from 0.06383\n",
      "2500/2500 - 10s - 4ms/step - accuracy: 0.9694 - loss: 0.0900 - top_5_accuracy: 0.9985 - val_accuracy: 0.9772 - val_loss: 0.0651 - val_top_5_accuracy: 0.9987\n",
      "Epoch 41/100\n",
      "\n",
      "Epoch 41: val_loss improved from 0.06383 to 0.06341, saving model to best_model.h5\n"
     ]
    },
    {
     "name": "stderr",
     "output_type": "stream",
     "text": [
      "WARNING:absl:You are saving your model as an HDF5 file via `model.save()` or `keras.saving.save_model(model)`. This file format is considered legacy. We recommend using instead the native Keras format, e.g. `model.save('my_model.keras')` or `keras.saving.save_model(model, 'my_model.keras')`. \n"
     ]
    },
    {
     "name": "stdout",
     "output_type": "stream",
     "text": [
      "2500/2500 - 10s - 4ms/step - accuracy: 0.9702 - loss: 0.0879 - top_5_accuracy: 0.9985 - val_accuracy: 0.9768 - val_loss: 0.0634 - val_top_5_accuracy: 0.9989\n",
      "Epoch 42/100\n",
      "\n",
      "Epoch 42: val_loss did not improve from 0.06341\n",
      "2500/2500 - 12s - 5ms/step - accuracy: 0.9700 - loss: 0.0881 - top_5_accuracy: 0.9986 - val_accuracy: 0.9736 - val_loss: 0.0720 - val_top_5_accuracy: 0.9988\n",
      "Epoch 43/100\n",
      "\n",
      "Epoch 43: val_loss improved from 0.06341 to 0.06140, saving model to best_model.h5\n"
     ]
    },
    {
     "name": "stderr",
     "output_type": "stream",
     "text": [
      "WARNING:absl:You are saving your model as an HDF5 file via `model.save()` or `keras.saving.save_model(model)`. This file format is considered legacy. We recommend using instead the native Keras format, e.g. `model.save('my_model.keras')` or `keras.saving.save_model(model, 'my_model.keras')`. \n"
     ]
    },
    {
     "name": "stdout",
     "output_type": "stream",
     "text": [
      "2500/2500 - 12s - 5ms/step - accuracy: 0.9703 - loss: 0.0873 - top_5_accuracy: 0.9984 - val_accuracy: 0.9787 - val_loss: 0.0614 - val_top_5_accuracy: 0.9991\n",
      "Epoch 44/100\n",
      "\n",
      "Epoch 44: val_loss did not improve from 0.06140\n",
      "2500/2500 - 10s - 4ms/step - accuracy: 0.9714 - loss: 0.0852 - top_5_accuracy: 0.9986 - val_accuracy: 0.9783 - val_loss: 0.0622 - val_top_5_accuracy: 0.9990\n",
      "Epoch 45/100\n",
      "\n",
      "Epoch 45: val_loss improved from 0.06140 to 0.05882, saving model to best_model.h5\n"
     ]
    },
    {
     "name": "stderr",
     "output_type": "stream",
     "text": [
      "WARNING:absl:You are saving your model as an HDF5 file via `model.save()` or `keras.saving.save_model(model)`. This file format is considered legacy. We recommend using instead the native Keras format, e.g. `model.save('my_model.keras')` or `keras.saving.save_model(model, 'my_model.keras')`. \n"
     ]
    },
    {
     "name": "stdout",
     "output_type": "stream",
     "text": [
      "2500/2500 - 9s - 4ms/step - accuracy: 0.9714 - loss: 0.0846 - top_5_accuracy: 0.9987 - val_accuracy: 0.9802 - val_loss: 0.0588 - val_top_5_accuracy: 0.9992\n",
      "Epoch 46/100\n",
      "\n",
      "Epoch 46: val_loss did not improve from 0.05882\n",
      "2500/2500 - 10s - 4ms/step - accuracy: 0.9714 - loss: 0.0836 - top_5_accuracy: 0.9988 - val_accuracy: 0.9792 - val_loss: 0.0613 - val_top_5_accuracy: 0.9992\n",
      "Epoch 47/100\n",
      "\n",
      "Epoch 47: val_loss did not improve from 0.05882\n",
      "2500/2500 - 11s - 4ms/step - accuracy: 0.9727 - loss: 0.0817 - top_5_accuracy: 0.9987 - val_accuracy: 0.9791 - val_loss: 0.0597 - val_top_5_accuracy: 0.9989\n",
      "Epoch 48/100\n",
      "\n",
      "Epoch 48: val_loss did not improve from 0.05882\n",
      "2500/2500 - 11s - 4ms/step - accuracy: 0.9727 - loss: 0.0800 - top_5_accuracy: 0.9988 - val_accuracy: 0.9801 - val_loss: 0.0591 - val_top_5_accuracy: 0.9991\n",
      "Epoch 49/100\n",
      "\n",
      "Epoch 49: val_loss improved from 0.05882 to 0.05711, saving model to best_model.h5\n"
     ]
    },
    {
     "name": "stderr",
     "output_type": "stream",
     "text": [
      "WARNING:absl:You are saving your model as an HDF5 file via `model.save()` or `keras.saving.save_model(model)`. This file format is considered legacy. We recommend using instead the native Keras format, e.g. `model.save('my_model.keras')` or `keras.saving.save_model(model, 'my_model.keras')`. \n"
     ]
    },
    {
     "name": "stdout",
     "output_type": "stream",
     "text": [
      "2500/2500 - 11s - 4ms/step - accuracy: 0.9736 - loss: 0.0784 - top_5_accuracy: 0.9988 - val_accuracy: 0.9811 - val_loss: 0.0571 - val_top_5_accuracy: 0.9990\n",
      "Epoch 50/100\n",
      "\n",
      "Epoch 50: val_loss improved from 0.05711 to 0.05389, saving model to best_model.h5\n"
     ]
    },
    {
     "name": "stderr",
     "output_type": "stream",
     "text": [
      "WARNING:absl:You are saving your model as an HDF5 file via `model.save()` or `keras.saving.save_model(model)`. This file format is considered legacy. We recommend using instead the native Keras format, e.g. `model.save('my_model.keras')` or `keras.saving.save_model(model, 'my_model.keras')`. \n"
     ]
    },
    {
     "name": "stdout",
     "output_type": "stream",
     "text": [
      "2500/2500 - 10s - 4ms/step - accuracy: 0.9735 - loss: 0.0791 - top_5_accuracy: 0.9987 - val_accuracy: 0.9803 - val_loss: 0.0539 - val_top_5_accuracy: 0.9993\n",
      "Epoch 51/100\n",
      "\n",
      "Epoch 51: val_loss improved from 0.05389 to 0.05304, saving model to best_model.h5\n"
     ]
    },
    {
     "name": "stderr",
     "output_type": "stream",
     "text": [
      "WARNING:absl:You are saving your model as an HDF5 file via `model.save()` or `keras.saving.save_model(model)`. This file format is considered legacy. We recommend using instead the native Keras format, e.g. `model.save('my_model.keras')` or `keras.saving.save_model(model, 'my_model.keras')`. \n"
     ]
    },
    {
     "name": "stdout",
     "output_type": "stream",
     "text": [
      "2500/2500 - 10s - 4ms/step - accuracy: 0.9738 - loss: 0.0773 - top_5_accuracy: 0.9989 - val_accuracy: 0.9807 - val_loss: 0.0530 - val_top_5_accuracy: 0.9993\n",
      "Epoch 52/100\n",
      "\n",
      "Epoch 52: val_loss did not improve from 0.05304\n",
      "2500/2500 - 10s - 4ms/step - accuracy: 0.9744 - loss: 0.0768 - top_5_accuracy: 0.9988 - val_accuracy: 0.9787 - val_loss: 0.0591 - val_top_5_accuracy: 0.9990\n",
      "Epoch 53/100\n",
      "\n",
      "Epoch 53: val_loss did not improve from 0.05304\n",
      "2500/2500 - 10s - 4ms/step - accuracy: 0.9750 - loss: 0.0746 - top_5_accuracy: 0.9990 - val_accuracy: 0.9796 - val_loss: 0.0591 - val_top_5_accuracy: 0.9989\n",
      "Epoch 54/100\n",
      "\n",
      "Epoch 54: val_loss did not improve from 0.05304\n",
      "2500/2500 - 11s - 4ms/step - accuracy: 0.9748 - loss: 0.0752 - top_5_accuracy: 0.9990 - val_accuracy: 0.9795 - val_loss: 0.0583 - val_top_5_accuracy: 0.9991\n",
      "Epoch 55/100\n",
      "\n",
      "Epoch 55: val_loss improved from 0.05304 to 0.05256, saving model to best_model.h5\n"
     ]
    },
    {
     "name": "stderr",
     "output_type": "stream",
     "text": [
      "WARNING:absl:You are saving your model as an HDF5 file via `model.save()` or `keras.saving.save_model(model)`. This file format is considered legacy. We recommend using instead the native Keras format, e.g. `model.save('my_model.keras')` or `keras.saving.save_model(model, 'my_model.keras')`. \n"
     ]
    },
    {
     "name": "stdout",
     "output_type": "stream",
     "text": [
      "2500/2500 - 11s - 4ms/step - accuracy: 0.9760 - loss: 0.0723 - top_5_accuracy: 0.9989 - val_accuracy: 0.9821 - val_loss: 0.0526 - val_top_5_accuracy: 0.9993\n",
      "Epoch 56/100\n",
      "\n",
      "Epoch 56: val_loss improved from 0.05256 to 0.04975, saving model to best_model.h5\n"
     ]
    },
    {
     "name": "stderr",
     "output_type": "stream",
     "text": [
      "WARNING:absl:You are saving your model as an HDF5 file via `model.save()` or `keras.saving.save_model(model)`. This file format is considered legacy. We recommend using instead the native Keras format, e.g. `model.save('my_model.keras')` or `keras.saving.save_model(model, 'my_model.keras')`. \n"
     ]
    },
    {
     "name": "stdout",
     "output_type": "stream",
     "text": [
      "2500/2500 - 11s - 4ms/step - accuracy: 0.9759 - loss: 0.0728 - top_5_accuracy: 0.9990 - val_accuracy: 0.9836 - val_loss: 0.0497 - val_top_5_accuracy: 0.9994\n",
      "Epoch 57/100\n",
      "\n",
      "Epoch 57: val_loss did not improve from 0.04975\n",
      "2500/2500 - 12s - 5ms/step - accuracy: 0.9763 - loss: 0.0711 - top_5_accuracy: 0.9991 - val_accuracy: 0.9815 - val_loss: 0.0527 - val_top_5_accuracy: 0.9993\n",
      "Epoch 58/100\n",
      "\n",
      "Epoch 58: val_loss did not improve from 0.04975\n",
      "2500/2500 - 10s - 4ms/step - accuracy: 0.9767 - loss: 0.0698 - top_5_accuracy: 0.9991 - val_accuracy: 0.9820 - val_loss: 0.0520 - val_top_5_accuracy: 0.9993\n",
      "Epoch 59/100\n",
      "\n",
      "Epoch 59: val_loss did not improve from 0.04975\n",
      "2500/2500 - 10s - 4ms/step - accuracy: 0.9771 - loss: 0.0702 - top_5_accuracy: 0.9990 - val_accuracy: 0.9786 - val_loss: 0.0573 - val_top_5_accuracy: 0.9992\n",
      "Epoch 60/100\n",
      "\n",
      "Epoch 60: val_loss improved from 0.04975 to 0.04873, saving model to best_model.h5\n"
     ]
    },
    {
     "name": "stderr",
     "output_type": "stream",
     "text": [
      "WARNING:absl:You are saving your model as an HDF5 file via `model.save()` or `keras.saving.save_model(model)`. This file format is considered legacy. We recommend using instead the native Keras format, e.g. `model.save('my_model.keras')` or `keras.saving.save_model(model, 'my_model.keras')`. \n"
     ]
    },
    {
     "name": "stdout",
     "output_type": "stream",
     "text": [
      "2500/2500 - 10s - 4ms/step - accuracy: 0.9773 - loss: 0.0680 - top_5_accuracy: 0.9991 - val_accuracy: 0.9839 - val_loss: 0.0487 - val_top_5_accuracy: 0.9994\n",
      "Epoch 61/100\n",
      "\n",
      "Epoch 61: val_loss did not improve from 0.04873\n",
      "2500/2500 - 10s - 4ms/step - accuracy: 0.9777 - loss: 0.0689 - top_5_accuracy: 0.9991 - val_accuracy: 0.9828 - val_loss: 0.0518 - val_top_5_accuracy: 0.9992\n",
      "Epoch 62/100\n",
      "\n",
      "Epoch 62: val_loss did not improve from 0.04873\n",
      "2500/2500 - 10s - 4ms/step - accuracy: 0.9776 - loss: 0.0678 - top_5_accuracy: 0.9992 - val_accuracy: 0.9826 - val_loss: 0.0534 - val_top_5_accuracy: 0.9990\n",
      "Epoch 63/100\n",
      "\n",
      "Epoch 63: val_loss improved from 0.04873 to 0.04722, saving model to best_model.h5\n"
     ]
    },
    {
     "name": "stderr",
     "output_type": "stream",
     "text": [
      "WARNING:absl:You are saving your model as an HDF5 file via `model.save()` or `keras.saving.save_model(model)`. This file format is considered legacy. We recommend using instead the native Keras format, e.g. `model.save('my_model.keras')` or `keras.saving.save_model(model, 'my_model.keras')`. \n"
     ]
    },
    {
     "name": "stdout",
     "output_type": "stream",
     "text": [
      "2500/2500 - 11s - 4ms/step - accuracy: 0.9781 - loss: 0.0669 - top_5_accuracy: 0.9992 - val_accuracy: 0.9843 - val_loss: 0.0472 - val_top_5_accuracy: 0.9994\n",
      "Epoch 64/100\n",
      "\n",
      "Epoch 64: val_loss did not improve from 0.04722\n",
      "2500/2500 - 12s - 5ms/step - accuracy: 0.9787 - loss: 0.0653 - top_5_accuracy: 0.9992 - val_accuracy: 0.9836 - val_loss: 0.0476 - val_top_5_accuracy: 0.9994\n",
      "Epoch 65/100\n",
      "\n",
      "Epoch 65: val_loss improved from 0.04722 to 0.04678, saving model to best_model.h5\n"
     ]
    },
    {
     "name": "stderr",
     "output_type": "stream",
     "text": [
      "WARNING:absl:You are saving your model as an HDF5 file via `model.save()` or `keras.saving.save_model(model)`. This file format is considered legacy. We recommend using instead the native Keras format, e.g. `model.save('my_model.keras')` or `keras.saving.save_model(model, 'my_model.keras')`. \n"
     ]
    },
    {
     "name": "stdout",
     "output_type": "stream",
     "text": [
      "2500/2500 - 11s - 4ms/step - accuracy: 0.9789 - loss: 0.0641 - top_5_accuracy: 0.9993 - val_accuracy: 0.9849 - val_loss: 0.0468 - val_top_5_accuracy: 0.9994\n",
      "Epoch 66/100\n",
      "\n",
      "Epoch 66: val_loss did not improve from 0.04678\n",
      "2500/2500 - 20s - 8ms/step - accuracy: 0.9792 - loss: 0.0629 - top_5_accuracy: 0.9993 - val_accuracy: 0.9831 - val_loss: 0.0473 - val_top_5_accuracy: 0.9995\n",
      "Epoch 67/100\n",
      "\n",
      "Epoch 67: val_loss improved from 0.04678 to 0.04500, saving model to best_model.h5\n"
     ]
    },
    {
     "name": "stderr",
     "output_type": "stream",
     "text": [
      "WARNING:absl:You are saving your model as an HDF5 file via `model.save()` or `keras.saving.save_model(model)`. This file format is considered legacy. We recommend using instead the native Keras format, e.g. `model.save('my_model.keras')` or `keras.saving.save_model(model, 'my_model.keras')`. \n"
     ]
    },
    {
     "name": "stdout",
     "output_type": "stream",
     "text": [
      "2500/2500 - 10s - 4ms/step - accuracy: 0.9796 - loss: 0.0624 - top_5_accuracy: 0.9993 - val_accuracy: 0.9857 - val_loss: 0.0450 - val_top_5_accuracy: 0.9995\n",
      "Epoch 68/100\n",
      "\n",
      "Epoch 68: val_loss improved from 0.04500 to 0.04413, saving model to best_model.h5\n"
     ]
    },
    {
     "name": "stderr",
     "output_type": "stream",
     "text": [
      "WARNING:absl:You are saving your model as an HDF5 file via `model.save()` or `keras.saving.save_model(model)`. This file format is considered legacy. We recommend using instead the native Keras format, e.g. `model.save('my_model.keras')` or `keras.saving.save_model(model, 'my_model.keras')`. \n"
     ]
    },
    {
     "name": "stdout",
     "output_type": "stream",
     "text": [
      "2500/2500 - 10s - 4ms/step - accuracy: 0.9794 - loss: 0.0622 - top_5_accuracy: 0.9994 - val_accuracy: 0.9857 - val_loss: 0.0441 - val_top_5_accuracy: 0.9994\n",
      "Epoch 69/100\n",
      "\n",
      "Epoch 69: val_loss did not improve from 0.04413\n",
      "2500/2500 - 10s - 4ms/step - accuracy: 0.9796 - loss: 0.0621 - top_5_accuracy: 0.9993 - val_accuracy: 0.9849 - val_loss: 0.0481 - val_top_5_accuracy: 0.9995\n",
      "Epoch 70/100\n",
      "\n",
      "Epoch 70: val_loss did not improve from 0.04413\n",
      "2500/2500 - 11s - 4ms/step - accuracy: 0.9797 - loss: 0.0605 - top_5_accuracy: 0.9993 - val_accuracy: 0.9837 - val_loss: 0.0493 - val_top_5_accuracy: 0.9995\n",
      "Epoch 71/100\n",
      "\n",
      "Epoch 71: val_loss did not improve from 0.04413\n",
      "2500/2500 - 11s - 5ms/step - accuracy: 0.9799 - loss: 0.0608 - top_5_accuracy: 0.9994 - val_accuracy: 0.9840 - val_loss: 0.0474 - val_top_5_accuracy: 0.9995\n",
      "Epoch 72/100\n",
      "\n",
      "Epoch 72: val_loss improved from 0.04413 to 0.04262, saving model to best_model.h5\n"
     ]
    },
    {
     "name": "stderr",
     "output_type": "stream",
     "text": [
      "WARNING:absl:You are saving your model as an HDF5 file via `model.save()` or `keras.saving.save_model(model)`. This file format is considered legacy. We recommend using instead the native Keras format, e.g. `model.save('my_model.keras')` or `keras.saving.save_model(model, 'my_model.keras')`. \n"
     ]
    },
    {
     "name": "stdout",
     "output_type": "stream",
     "text": [
      "2500/2500 - 12s - 5ms/step - accuracy: 0.9800 - loss: 0.0604 - top_5_accuracy: 0.9996 - val_accuracy: 0.9859 - val_loss: 0.0426 - val_top_5_accuracy: 0.9993\n",
      "Epoch 73/100\n",
      "\n",
      "Epoch 73: val_loss did not improve from 0.04262\n",
      "2500/2500 - 12s - 5ms/step - accuracy: 0.9805 - loss: 0.0607 - top_5_accuracy: 0.9993 - val_accuracy: 0.9863 - val_loss: 0.0436 - val_top_5_accuracy: 0.9995\n",
      "Epoch 74/100\n",
      "\n",
      "Epoch 74: val_loss did not improve from 0.04262\n",
      "2500/2500 - 12s - 5ms/step - accuracy: 0.9812 - loss: 0.0578 - top_5_accuracy: 0.9994 - val_accuracy: 0.9842 - val_loss: 0.0481 - val_top_5_accuracy: 0.9995\n",
      "Epoch 75/100\n",
      "\n",
      "Epoch 75: val_loss improved from 0.04262 to 0.04212, saving model to best_model.h5\n"
     ]
    },
    {
     "name": "stderr",
     "output_type": "stream",
     "text": [
      "WARNING:absl:You are saving your model as an HDF5 file via `model.save()` or `keras.saving.save_model(model)`. This file format is considered legacy. We recommend using instead the native Keras format, e.g. `model.save('my_model.keras')` or `keras.saving.save_model(model, 'my_model.keras')`. \n"
     ]
    },
    {
     "name": "stdout",
     "output_type": "stream",
     "text": [
      "2500/2500 - 12s - 5ms/step - accuracy: 0.9808 - loss: 0.0584 - top_5_accuracy: 0.9993 - val_accuracy: 0.9860 - val_loss: 0.0421 - val_top_5_accuracy: 0.9995\n",
      "Epoch 76/100\n",
      "\n",
      "Epoch 76: val_loss improved from 0.04212 to 0.04085, saving model to best_model.h5\n"
     ]
    },
    {
     "name": "stderr",
     "output_type": "stream",
     "text": [
      "WARNING:absl:You are saving your model as an HDF5 file via `model.save()` or `keras.saving.save_model(model)`. This file format is considered legacy. We recommend using instead the native Keras format, e.g. `model.save('my_model.keras')` or `keras.saving.save_model(model, 'my_model.keras')`. \n"
     ]
    },
    {
     "name": "stdout",
     "output_type": "stream",
     "text": [
      "2500/2500 - 11s - 4ms/step - accuracy: 0.9815 - loss: 0.0574 - top_5_accuracy: 0.9995 - val_accuracy: 0.9870 - val_loss: 0.0409 - val_top_5_accuracy: 0.9994\n",
      "Epoch 77/100\n",
      "\n",
      "Epoch 77: val_loss did not improve from 0.04085\n",
      "2500/2500 - 12s - 5ms/step - accuracy: 0.9815 - loss: 0.0557 - top_5_accuracy: 0.9995 - val_accuracy: 0.9864 - val_loss: 0.0441 - val_top_5_accuracy: 0.9992\n",
      "Epoch 78/100\n",
      "\n",
      "Epoch 78: val_loss did not improve from 0.04085\n",
      "2500/2500 - 12s - 5ms/step - accuracy: 0.9825 - loss: 0.0543 - top_5_accuracy: 0.9995 - val_accuracy: 0.9863 - val_loss: 0.0433 - val_top_5_accuracy: 0.9995\n",
      "Epoch 79/100\n",
      "\n",
      "Epoch 79: val_loss improved from 0.04085 to 0.04030, saving model to best_model.h5\n"
     ]
    },
    {
     "name": "stderr",
     "output_type": "stream",
     "text": [
      "WARNING:absl:You are saving your model as an HDF5 file via `model.save()` or `keras.saving.save_model(model)`. This file format is considered legacy. We recommend using instead the native Keras format, e.g. `model.save('my_model.keras')` or `keras.saving.save_model(model, 'my_model.keras')`. \n"
     ]
    },
    {
     "name": "stdout",
     "output_type": "stream",
     "text": [
      "2500/2500 - 10s - 4ms/step - accuracy: 0.9823 - loss: 0.0546 - top_5_accuracy: 0.9995 - val_accuracy: 0.9874 - val_loss: 0.0403 - val_top_5_accuracy: 0.9996\n",
      "Epoch 80/100\n",
      "\n",
      "Epoch 80: val_loss did not improve from 0.04030\n",
      "2500/2500 - 10s - 4ms/step - accuracy: 0.9825 - loss: 0.0541 - top_5_accuracy: 0.9995 - val_accuracy: 0.9873 - val_loss: 0.0408 - val_top_5_accuracy: 0.9996\n",
      "Epoch 81/100\n",
      "\n",
      "Epoch 81: val_loss did not improve from 0.04030\n",
      "2500/2500 - 10s - 4ms/step - accuracy: 0.9825 - loss: 0.0546 - top_5_accuracy: 0.9994 - val_accuracy: 0.9862 - val_loss: 0.0423 - val_top_5_accuracy: 0.9995\n",
      "Epoch 82/100\n",
      "\n",
      "Epoch 82: val_loss improved from 0.04030 to 0.03939, saving model to best_model.h5\n"
     ]
    },
    {
     "name": "stderr",
     "output_type": "stream",
     "text": [
      "WARNING:absl:You are saving your model as an HDF5 file via `model.save()` or `keras.saving.save_model(model)`. This file format is considered legacy. We recommend using instead the native Keras format, e.g. `model.save('my_model.keras')` or `keras.saving.save_model(model, 'my_model.keras')`. \n"
     ]
    },
    {
     "name": "stdout",
     "output_type": "stream",
     "text": [
      "2500/2500 - 10s - 4ms/step - accuracy: 0.9826 - loss: 0.0537 - top_5_accuracy: 0.9995 - val_accuracy: 0.9871 - val_loss: 0.0394 - val_top_5_accuracy: 0.9994\n",
      "Epoch 83/100\n",
      "\n",
      "Epoch 83: val_loss did not improve from 0.03939\n",
      "2500/2500 - 10s - 4ms/step - accuracy: 0.9826 - loss: 0.0536 - top_5_accuracy: 0.9995 - val_accuracy: 0.9870 - val_loss: 0.0406 - val_top_5_accuracy: 0.9994\n",
      "Epoch 84/100\n",
      "\n",
      "Epoch 84: val_loss did not improve from 0.03939\n",
      "2500/2500 - 10s - 4ms/step - accuracy: 0.9830 - loss: 0.0533 - top_5_accuracy: 0.9996 - val_accuracy: 0.9872 - val_loss: 0.0409 - val_top_5_accuracy: 0.9997\n",
      "Epoch 85/100\n",
      "\n",
      "Epoch 85: val_loss improved from 0.03939 to 0.03783, saving model to best_model.h5\n"
     ]
    },
    {
     "name": "stderr",
     "output_type": "stream",
     "text": [
      "WARNING:absl:You are saving your model as an HDF5 file via `model.save()` or `keras.saving.save_model(model)`. This file format is considered legacy. We recommend using instead the native Keras format, e.g. `model.save('my_model.keras')` or `keras.saving.save_model(model, 'my_model.keras')`. \n"
     ]
    },
    {
     "name": "stdout",
     "output_type": "stream",
     "text": [
      "2500/2500 - 11s - 4ms/step - accuracy: 0.9832 - loss: 0.0517 - top_5_accuracy: 0.9996 - val_accuracy: 0.9882 - val_loss: 0.0378 - val_top_5_accuracy: 0.9995\n",
      "Epoch 86/100\n",
      "\n",
      "Epoch 86: val_loss did not improve from 0.03783\n",
      "2500/2500 - 11s - 4ms/step - accuracy: 0.9834 - loss: 0.0511 - top_5_accuracy: 0.9995 - val_accuracy: 0.9871 - val_loss: 0.0411 - val_top_5_accuracy: 0.9996\n",
      "Epoch 87/100\n",
      "\n",
      "Epoch 87: val_loss did not improve from 0.03783\n",
      "2500/2500 - 11s - 4ms/step - accuracy: 0.9837 - loss: 0.0505 - top_5_accuracy: 0.9996 - val_accuracy: 0.9805 - val_loss: 0.0623 - val_top_5_accuracy: 0.9995\n",
      "Epoch 88/100\n",
      "\n",
      "Epoch 88: val_loss did not improve from 0.03783\n",
      "2500/2500 - 10s - 4ms/step - accuracy: 0.9839 - loss: 0.0494 - top_5_accuracy: 0.9996 - val_accuracy: 0.9875 - val_loss: 0.0394 - val_top_5_accuracy: 0.9997\n",
      "Epoch 89/100\n",
      "\n",
      "Epoch 89: val_loss did not improve from 0.03783\n",
      "2500/2500 - 10s - 4ms/step - accuracy: 0.9839 - loss: 0.0493 - top_5_accuracy: 0.9996 - val_accuracy: 0.9873 - val_loss: 0.0402 - val_top_5_accuracy: 0.9995\n",
      "Epoch 90/100\n",
      "\n",
      "Epoch 90: val_loss improved from 0.03783 to 0.03629, saving model to best_model.h5\n"
     ]
    },
    {
     "name": "stderr",
     "output_type": "stream",
     "text": [
      "WARNING:absl:You are saving your model as an HDF5 file via `model.save()` or `keras.saving.save_model(model)`. This file format is considered legacy. We recommend using instead the native Keras format, e.g. `model.save('my_model.keras')` or `keras.saving.save_model(model, 'my_model.keras')`. \n"
     ]
    },
    {
     "name": "stdout",
     "output_type": "stream",
     "text": [
      "2500/2500 - 12s - 5ms/step - accuracy: 0.9843 - loss: 0.0491 - top_5_accuracy: 0.9996 - val_accuracy: 0.9890 - val_loss: 0.0363 - val_top_5_accuracy: 0.9996\n",
      "Epoch 91/100\n",
      "\n",
      "Epoch 91: val_loss did not improve from 0.03629\n",
      "2500/2500 - 11s - 5ms/step - accuracy: 0.9844 - loss: 0.0480 - top_5_accuracy: 0.9997 - val_accuracy: 0.9880 - val_loss: 0.0392 - val_top_5_accuracy: 0.9995\n",
      "Epoch 92/100\n",
      "\n",
      "Epoch 92: val_loss did not improve from 0.03629\n",
      "2500/2500 - 12s - 5ms/step - accuracy: 0.9840 - loss: 0.0491 - top_5_accuracy: 0.9996 - val_accuracy: 0.9858 - val_loss: 0.0448 - val_top_5_accuracy: 0.9995\n",
      "Epoch 93/100\n",
      "\n",
      "Epoch 93: val_loss did not improve from 0.03629\n",
      "2500/2500 - 10s - 4ms/step - accuracy: 0.9848 - loss: 0.0484 - top_5_accuracy: 0.9996 - val_accuracy: 0.9821 - val_loss: 0.0517 - val_top_5_accuracy: 0.9995\n",
      "Epoch 94/100\n",
      "\n",
      "Epoch 94: val_loss did not improve from 0.03629\n",
      "2500/2500 - 11s - 4ms/step - accuracy: 0.9842 - loss: 0.0501 - top_5_accuracy: 0.9996 - val_accuracy: 0.9876 - val_loss: 0.0399 - val_top_5_accuracy: 0.9996\n",
      "Epoch 95/100\n",
      "\n",
      "Epoch 95: val_loss did not improve from 0.03629\n",
      "2500/2500 - 11s - 4ms/step - accuracy: 0.9845 - loss: 0.0485 - top_5_accuracy: 0.9997 - val_accuracy: 0.9875 - val_loss: 0.0412 - val_top_5_accuracy: 0.9995\n",
      "Epoch 96/100\n",
      "\n",
      "Epoch 96: val_loss did not improve from 0.03629\n",
      "2500/2500 - 12s - 5ms/step - accuracy: 0.9851 - loss: 0.0483 - top_5_accuracy: 0.9996 - val_accuracy: 0.9848 - val_loss: 0.0436 - val_top_5_accuracy: 0.9996\n",
      "Epoch 97/100\n",
      "\n",
      "Epoch 97: val_loss did not improve from 0.03629\n",
      "2500/2500 - 12s - 5ms/step - accuracy: 0.9859 - loss: 0.0450 - top_5_accuracy: 0.9996 - val_accuracy: 0.9883 - val_loss: 0.0388 - val_top_5_accuracy: 0.9997\n",
      "Epoch 98/100\n",
      "\n",
      "Epoch 98: val_loss did not improve from 0.03629\n",
      "2500/2500 - 10s - 4ms/step - accuracy: 0.9850 - loss: 0.0473 - top_5_accuracy: 0.9997 - val_accuracy: 0.9884 - val_loss: 0.0371 - val_top_5_accuracy: 0.9996\n",
      "Epoch 99/100\n",
      "\n",
      "Epoch 99: val_loss did not improve from 0.03629\n",
      "2500/2500 - 10s - 4ms/step - accuracy: 0.9854 - loss: 0.0453 - top_5_accuracy: 0.9996 - val_accuracy: 0.9886 - val_loss: 0.0377 - val_top_5_accuracy: 0.9997\n",
      "Epoch 100/100\n",
      "\n",
      "Epoch 100: val_loss did not improve from 0.03629\n",
      "2500/2500 - 10s - 4ms/step - accuracy: 0.9854 - loss: 0.0461 - top_5_accuracy: 0.9997 - val_accuracy: 0.9883 - val_loss: 0.0368 - val_top_5_accuracy: 0.9995\n",
      "Epoch 100: early stopping\n",
      "Restoring model weights from the end of the best epoch: 90.\n",
      "\u001b[1m3125/3125\u001b[0m \u001b[32m━━━━━━━━━━━━━━━━━━━━\u001b[0m\u001b[37m\u001b[0m \u001b[1m6s\u001b[0m 2ms/step\n"
     ]
    }
   ],
   "source": [
    "# 1. Reproducibility\n",
    "import random\n",
    "import os\n",
    "import numpy as np\n",
    "import pandas as pd\n",
    "from sklearn.model_selection import train_test_split\n",
    "from sklearn.impute import SimpleImputer\n",
    "from sklearn.compose import ColumnTransformer\n",
    "from sklearn.preprocessing import StandardScaler, OneHotEncoder, LabelEncoder\n",
    "from sklearn.pipeline import Pipeline\n",
    "import tensorflow as tf\n",
    "from tensorflow.keras.callbacks import EarlyStopping, ModelCheckpoint\n",
    "from tensorflow.keras.metrics import SparseTopKCategoricalAccuracy\n",
    "import json\n",
    "import time\n",
    "\n",
    "# Set seeds\n",
    "seed = 42\n",
    "random.seed(seed)\n",
    "os.environ['PYTHONHASHSEED'] = str(seed)\n",
    "np.random.seed(seed)\n",
    "tf.random.set_seed(seed)\n",
    "\n",
    "# 2. Data Loading, Split & Target Encoding\n",
    "train_df = pd.read_csv('train.csv.zip')\n",
    "test_df = pd.read_csv('test.csv.zip')\n",
    "\n",
    "# Identify id and target columns\n",
    "id_col = 'row_id' if 'row_id' in train_df.columns else 'id'\n",
    "target_col = 'target'\n",
    "\n",
    "df = train_df.copy()\n",
    "le = LabelEncoder().fit(df[target_col].astype(str))\n",
    "y_enc = le.transform(df[target_col].astype(str))\n",
    "classes_ = le.classes_\n",
    "num_classes = len(classes_)\n",
    "top_k = min(num_classes, 5)\n",
    "\n",
    "X = df.drop(columns=[id_col, target_col], errors='ignore')\n",
    "X_test = test_df.drop(columns=[id_col, target_col], errors='ignore')\n",
    "test_ids = test_df[id_col]\n",
    "\n",
    "X_train, X_val, y_train, y_val = train_test_split(\n",
    "    X, y_enc,\n",
    "    test_size=0.2,\n",
    "    stratify=y_enc,\n",
    "    random_state=seed\n",
    ")\n",
    "train_ids = train_df.loc[X_train.index, id_col]\n",
    "val_ids = train_df.loc[X_val.index, id_col]\n",
    "\n",
    "# 4. Feature Engineering\n",
    "missing_cols = [c for c in X_train.columns if X_train[c].isna().all()]\n",
    "X_train.drop(columns=missing_cols, inplace=True)\n",
    "X_val.drop(columns=missing_cols, inplace=True)\n",
    "X_test.drop(columns=missing_cols, inplace=True)\n",
    "\n",
    "cat_cols = X_train.select_dtypes(include=['object', 'category']).columns.tolist()\n",
    "cat_cols = [c for c in cat_cols if X_train[c].nunique() <= 50]\n",
    "num_cols = [c for c in X_train.columns if c not in cat_cols]\n",
    "\n",
    "# 5. Preprocessing Pipeline\n",
    "num_pipeline = Pipeline([\n",
    "    ('imputer', SimpleImputer(strategy='median')),\n",
    "    ('scaler', StandardScaler())\n",
    "])\n",
    "cat_pipeline = Pipeline([\n",
    "    ('imputer', SimpleImputer(strategy='most_frequent')),\n",
    "    ('encoder', OneHotEncoder(sparse_output=False, handle_unknown='ignore'))\n",
    "])\n",
    "preprocessor = ColumnTransformer([\n",
    "    ('num', num_pipeline, num_cols),\n",
    "    ('cat', cat_pipeline, cat_cols)\n",
    "])\n",
    "\n",
    "X_train_proc = preprocessor.fit_transform(X_train)\n",
    "X_val_proc = preprocessor.transform(X_val)\n",
    "X_test_proc = preprocessor.transform(X_test)\n",
    "\n",
    "# 6. Model Architecture\n",
    "n_samples, n_features = X_train_proc.shape\n",
    "if n_samples < 10000 or n_features < 100:\n",
    "    units = [min(n_features*2, 128), min(n_features, 64)]\n",
    "    drop_rate = 0.3\n",
    "    use_bn = False\n",
    "else:\n",
    "    units = [int(min(n_features*i, 1024)) for i in [2,1,0.5,0.25] if min(n_features*i, 1024) >= 16]\n",
    "    drop_rate = 0.4\n",
    "    use_bn = True\n",
    "\n",
    "inputs = tf.keras.Input(shape=(n_features,))\n",
    "x = inputs\n",
    "for u in units:\n",
    "    x = tf.keras.layers.Dense(u, activation='relu')(x)\n",
    "    if use_bn:\n",
    "        x = tf.keras.layers.BatchNormalization()(x)\n",
    "    x = tf.keras.layers.Dropout(drop_rate)(x)\n",
    "outputs = tf.keras.layers.Dense(num_classes, activation='softmax')(x)\n",
    "model = tf.keras.Model(inputs, outputs)\n",
    "\n",
    "# 7. Compile\n",
    "model.compile(\n",
    "    optimizer='adam',\n",
    "    loss='sparse_categorical_crossentropy',\n",
    "    metrics=['accuracy', SparseTopKCategoricalAccuracy(k=top_k, name=f'top_{top_k}_accuracy')]\n",
    ")\n",
    "\n",
    "# 8. Callbacks & Training\n",
    "callbacks = [\n",
    "    EarlyStopping(monitor='val_loss', patience=10, restore_best_weights=True, verbose=1),\n",
    "    ModelCheckpoint('best_model.h5', monitor='val_loss', save_best_only=True, verbose=1)\n",
    "]\n",
    "start_time = time.time()\n",
    "history = model.fit(\n",
    "    X_train_proc, y_train,\n",
    "    validation_data=(X_val_proc, y_val),\n",
    "    epochs=100,\n",
    "    batch_size=64,\n",
    "    callbacks=callbacks,\n",
    "    verbose=2\n",
    ")\n",
    "duration = time.time() - start_time\n",
    "\n",
    "# 9. Evaluation & Logging\n",
    "results = {\n",
    "    'training_accuracy': history.history['accuracy'][-1],\n",
    "    'training_loss': history.history['loss'][-1],\n",
    "    'validation_accuracy': history.history['val_accuracy'][-1],\n",
    "    'validation_loss': history.history['val_loss'][-1]\n",
    "}\n",
    "with open('results.json', 'w') as f:\n",
    "    json.dump(results, f)\n",
    "\n",
    "# 10. Prediction & Submission\n",
    "raw_preds = model.predict(X_test_proc)\n",
    "idxs = raw_preds.argmax(axis=1)\n",
    "final = le.inverse_transform(idxs)\n",
    "submission = pd.DataFrame({id_col: test_ids.reset_index(drop=True), target_col: final})\n",
    "submission.to_csv('submission_result.csv', index=False)"
   ]
  },
  {
   "cell_type": "code",
   "execution_count": 2,
   "metadata": {},
   "outputs": [
    {
     "name": "stdout",
     "output_type": "stream",
     "text": [
      "1088.3354680538177\n"
     ]
    }
   ],
   "source": [
    "print(duration)"
   ]
  },
  {
   "cell_type": "markdown",
   "metadata": {},
   "source": [
    "## Keras Tuner - 1 Attempt"
   ]
  },
  {
   "cell_type": "markdown",
   "metadata": {},
   "source": [
    "## Attempt 1"
   ]
  },
  {
   "cell_type": "code",
   "execution_count": null,
   "metadata": {},
   "outputs": [
    {
     "name": "stdout",
     "output_type": "stream",
     "text": [
      "Trial 10 Complete [00h 07m 19s]\n",
      "val_loss: 0.076991006731987\n",
      "\n",
      "Best val_loss So Far: 0.076991006731987\n",
      "Total elapsed time: 01h 14m 38s\n",
      "Epoch 1/100\n"
     ]
    },
    {
     "name": "stderr",
     "output_type": "stream",
     "text": [
      "WARNING:absl:You are saving your model as an HDF5 file via `model.save()` or `keras.saving.save_model(model)`. This file format is considered legacy. We recommend using instead the native Keras format, e.g. `model.save('my_model.keras')` or `keras.saving.save_model(model, 'my_model.keras')`. \n"
     ]
    },
    {
     "name": "stdout",
     "output_type": "stream",
     "text": [
      "5000/5000 - 23s - 5ms/step - accuracy: 0.8891 - loss: 0.3001 - val_accuracy: 0.9351 - val_loss: 0.1746\n",
      "Epoch 2/100\n"
     ]
    },
    {
     "name": "stderr",
     "output_type": "stream",
     "text": [
      "WARNING:absl:You are saving your model as an HDF5 file via `model.save()` or `keras.saving.save_model(model)`. This file format is considered legacy. We recommend using instead the native Keras format, e.g. `model.save('my_model.keras')` or `keras.saving.save_model(model, 'my_model.keras')`. \n"
     ]
    },
    {
     "name": "stdout",
     "output_type": "stream",
     "text": [
      "5000/5000 - 19s - 4ms/step - accuracy: 0.9427 - loss: 0.1572 - val_accuracy: 0.9518 - val_loss: 0.1404\n",
      "Epoch 3/100\n"
     ]
    },
    {
     "name": "stderr",
     "output_type": "stream",
     "text": [
      "WARNING:absl:You are saving your model as an HDF5 file via `model.save()` or `keras.saving.save_model(model)`. This file format is considered legacy. We recommend using instead the native Keras format, e.g. `model.save('my_model.keras')` or `keras.saving.save_model(model, 'my_model.keras')`. \n"
     ]
    },
    {
     "name": "stdout",
     "output_type": "stream",
     "text": [
      "5000/5000 - 18s - 4ms/step - accuracy: 0.9550 - loss: 0.1255 - val_accuracy: 0.9509 - val_loss: 0.1402\n",
      "Epoch 4/100\n"
     ]
    },
    {
     "name": "stderr",
     "output_type": "stream",
     "text": [
      "WARNING:absl:You are saving your model as an HDF5 file via `model.save()` or `keras.saving.save_model(model)`. This file format is considered legacy. We recommend using instead the native Keras format, e.g. `model.save('my_model.keras')` or `keras.saving.save_model(model, 'my_model.keras')`. \n"
     ]
    },
    {
     "name": "stdout",
     "output_type": "stream",
     "text": [
      "5000/5000 - 18s - 4ms/step - accuracy: 0.9606 - loss: 0.1120 - val_accuracy: 0.9489 - val_loss: 0.1289\n",
      "Epoch 5/100\n"
     ]
    },
    {
     "name": "stderr",
     "output_type": "stream",
     "text": [
      "WARNING:absl:You are saving your model as an HDF5 file via `model.save()` or `keras.saving.save_model(model)`. This file format is considered legacy. We recommend using instead the native Keras format, e.g. `model.save('my_model.keras')` or `keras.saving.save_model(model, 'my_model.keras')`. \n"
     ]
    },
    {
     "name": "stdout",
     "output_type": "stream",
     "text": [
      "5000/5000 - 18s - 4ms/step - accuracy: 0.9667 - loss: 0.0963 - val_accuracy: 0.9633 - val_loss: 0.1120\n",
      "Epoch 6/100\n"
     ]
    },
    {
     "name": "stderr",
     "output_type": "stream",
     "text": [
      "WARNING:absl:You are saving your model as an HDF5 file via `model.save()` or `keras.saving.save_model(model)`. This file format is considered legacy. We recommend using instead the native Keras format, e.g. `model.save('my_model.keras')` or `keras.saving.save_model(model, 'my_model.keras')`. \n"
     ]
    },
    {
     "name": "stdout",
     "output_type": "stream",
     "text": [
      "5000/5000 - 22s - 4ms/step - accuracy: 0.9687 - loss: 0.0916 - val_accuracy: 0.9667 - val_loss: 0.1010\n",
      "Epoch 7/100\n"
     ]
    },
    {
     "name": "stderr",
     "output_type": "stream",
     "text": [
      "WARNING:absl:You are saving your model as an HDF5 file via `model.save()` or `keras.saving.save_model(model)`. This file format is considered legacy. We recommend using instead the native Keras format, e.g. `model.save('my_model.keras')` or `keras.saving.save_model(model, 'my_model.keras')`. \n"
     ]
    },
    {
     "name": "stdout",
     "output_type": "stream",
     "text": [
      "5000/5000 - 21s - 4ms/step - accuracy: 0.9720 - loss: 0.0846 - val_accuracy: 0.9693 - val_loss: 0.0917\n",
      "Epoch 8/100\n",
      "5000/5000 - 21s - 4ms/step - accuracy: 0.9740 - loss: 0.0804 - val_accuracy: 0.9689 - val_loss: 0.0940\n",
      "Epoch 9/100\n",
      "5000/5000 - 21s - 4ms/step - accuracy: 0.9757 - loss: 0.0734 - val_accuracy: 0.9660 - val_loss: 0.1004\n",
      "Epoch 10/100\n",
      "5000/5000 - 20s - 4ms/step - accuracy: 0.9778 - loss: 0.0671 - val_accuracy: 0.9675 - val_loss: 0.0975\n",
      "Epoch 11/100\n"
     ]
    },
    {
     "name": "stderr",
     "output_type": "stream",
     "text": [
      "WARNING:absl:You are saving your model as an HDF5 file via `model.save()` or `keras.saving.save_model(model)`. This file format is considered legacy. We recommend using instead the native Keras format, e.g. `model.save('my_model.keras')` or `keras.saving.save_model(model, 'my_model.keras')`. \n"
     ]
    },
    {
     "name": "stdout",
     "output_type": "stream",
     "text": [
      "5000/5000 - 19s - 4ms/step - accuracy: 0.9787 - loss: 0.0682 - val_accuracy: 0.9747 - val_loss: 0.0899\n",
      "Epoch 12/100\n",
      "5000/5000 - 19s - 4ms/step - accuracy: 0.9802 - loss: 0.0657 - val_accuracy: 0.9734 - val_loss: 0.0946\n",
      "Epoch 13/100\n"
     ]
    },
    {
     "name": "stderr",
     "output_type": "stream",
     "text": [
      "WARNING:absl:You are saving your model as an HDF5 file via `model.save()` or `keras.saving.save_model(model)`. This file format is considered legacy. We recommend using instead the native Keras format, e.g. `model.save('my_model.keras')` or `keras.saving.save_model(model, 'my_model.keras')`. \n"
     ]
    },
    {
     "name": "stdout",
     "output_type": "stream",
     "text": [
      "5000/5000 - 18s - 4ms/step - accuracy: 0.9804 - loss: 0.0637 - val_accuracy: 0.9758 - val_loss: 0.0839\n",
      "Epoch 14/100\n",
      "5000/5000 - 19s - 4ms/step - accuracy: 0.9818 - loss: 0.0644 - val_accuracy: 0.9738 - val_loss: 0.1031\n",
      "Epoch 15/100\n",
      "5000/5000 - 19s - 4ms/step - accuracy: 0.9833 - loss: 0.0532 - val_accuracy: 0.9764 - val_loss: 0.0862\n",
      "Epoch 16/100\n",
      "5000/5000 - 19s - 4ms/step - accuracy: 0.9830 - loss: 0.0544 - val_accuracy: 0.9766 - val_loss: 0.0860\n",
      "Epoch 17/100\n"
     ]
    },
    {
     "name": "stderr",
     "output_type": "stream",
     "text": [
      "WARNING:absl:You are saving your model as an HDF5 file via `model.save()` or `keras.saving.save_model(model)`. This file format is considered legacy. We recommend using instead the native Keras format, e.g. `model.save('my_model.keras')` or `keras.saving.save_model(model, 'my_model.keras')`. \n"
     ]
    },
    {
     "name": "stdout",
     "output_type": "stream",
     "text": [
      "5000/5000 - 20s - 4ms/step - accuracy: 0.9843 - loss: 0.0552 - val_accuracy: 0.9809 - val_loss: 0.0720\n",
      "Epoch 18/100\n",
      "5000/5000 - 21s - 4ms/step - accuracy: 0.9850 - loss: 0.0490 - val_accuracy: 0.9796 - val_loss: 0.0890\n",
      "Epoch 19/100\n",
      "5000/5000 - 23s - 5ms/step - accuracy: 0.9849 - loss: 0.0557 - val_accuracy: 0.9800 - val_loss: 0.0793\n",
      "Epoch 20/100\n",
      "5000/5000 - 22s - 4ms/step - accuracy: 0.9858 - loss: 0.0480 - val_accuracy: 0.9805 - val_loss: 0.1034\n",
      "Epoch 21/100\n",
      "5000/5000 - 22s - 4ms/step - accuracy: 0.9864 - loss: 0.0492 - val_accuracy: 0.9806 - val_loss: 0.0941\n",
      "Epoch 22/100\n",
      "5000/5000 - 21s - 4ms/step - accuracy: 0.9862 - loss: 0.0472 - val_accuracy: 0.9757 - val_loss: 0.1197\n",
      "Epoch 23/100\n",
      "5000/5000 - 18s - 4ms/step - accuracy: 0.9879 - loss: 0.0441 - val_accuracy: 0.9811 - val_loss: 0.0749\n",
      "Epoch 24/100\n",
      "5000/5000 - 18s - 4ms/step - accuracy: 0.9872 - loss: 0.0543 - val_accuracy: 0.9811 - val_loss: 0.1243\n",
      "Epoch 25/100\n",
      "5000/5000 - 18s - 4ms/step - accuracy: 0.9886 - loss: 0.0451 - val_accuracy: 0.9843 - val_loss: 0.0785\n",
      "Epoch 26/100\n",
      "5000/5000 - 18s - 4ms/step - accuracy: 0.9879 - loss: 0.0485 - val_accuracy: 0.9855 - val_loss: 0.0898\n",
      "Epoch 27/100\n"
     ]
    },
    {
     "name": "stderr",
     "output_type": "stream",
     "text": [
      "WARNING:absl:You are saving your model as an HDF5 file via `model.save()` or `keras.saving.save_model(model)`. This file format is considered legacy. We recommend using instead the native Keras format, e.g. `model.save('my_model.keras')` or `keras.saving.save_model(model, 'my_model.keras')`. \n"
     ]
    },
    {
     "name": "stdout",
     "output_type": "stream",
     "text": [
      "5000/5000 - 19s - 4ms/step - accuracy: 0.9893 - loss: 0.0396 - val_accuracy: 0.9862 - val_loss: 0.0659\n",
      "Epoch 28/100\n",
      "5000/5000 - 18s - 4ms/step - accuracy: 0.9895 - loss: 0.0427 - val_accuracy: 0.9832 - val_loss: 0.0840\n",
      "Epoch 29/100\n",
      "5000/5000 - 19s - 4ms/step - accuracy: 0.9890 - loss: 0.0481 - val_accuracy: 0.9808 - val_loss: 0.1194\n",
      "Epoch 30/100\n",
      "5000/5000 - 19s - 4ms/step - accuracy: 0.9898 - loss: 0.0402 - val_accuracy: 0.9778 - val_loss: 0.0988\n",
      "Epoch 31/100\n",
      "5000/5000 - 18s - 4ms/step - accuracy: 0.9897 - loss: 0.0446 - val_accuracy: 0.9837 - val_loss: 0.0730\n",
      "Epoch 32/100\n",
      "5000/5000 - 20s - 4ms/step - accuracy: 0.9903 - loss: 0.0398 - val_accuracy: 0.9851 - val_loss: 0.0821\n",
      "Epoch 33/100\n",
      "5000/5000 - 19s - 4ms/step - accuracy: 0.9907 - loss: 0.0401 - val_accuracy: 0.9864 - val_loss: 0.0750\n",
      "Epoch 34/100\n",
      "5000/5000 - 22s - 4ms/step - accuracy: 0.9905 - loss: 0.0412 - val_accuracy: 0.9827 - val_loss: 0.0852\n",
      "Epoch 35/100\n",
      "5000/5000 - 21s - 4ms/step - accuracy: 0.9904 - loss: 0.0395 - val_accuracy: 0.9814 - val_loss: 0.0984\n",
      "Epoch 36/100\n",
      "5000/5000 - 22s - 4ms/step - accuracy: 0.9904 - loss: 0.0402 - val_accuracy: 0.9865 - val_loss: 0.0748\n",
      "Epoch 37/100\n",
      "5000/5000 - 18s - 4ms/step - accuracy: 0.9909 - loss: 0.0373 - val_accuracy: 0.9820 - val_loss: 0.1422\n",
      "\u001b[1m3125/3125\u001b[0m \u001b[32m━━━━━━━━━━━━━━━━━━━━\u001b[0m\u001b[37m\u001b[0m \u001b[1m6s\u001b[0m 2ms/step\n"
     ]
    }
   ],
   "source": [
    "# 1. Reproducibility\n",
    "import random\n",
    "import os\n",
    "import numpy as np\n",
    "import pandas as pd\n",
    "from sklearn.model_selection import train_test_split\n",
    "from sklearn.impute import SimpleImputer\n",
    "from sklearn.compose import ColumnTransformer\n",
    "from sklearn.preprocessing import StandardScaler, OneHotEncoder, LabelEncoder\n",
    "from sklearn.pipeline import Pipeline\n",
    "import tensorflow as tf\n",
    "from tensorflow.keras.callbacks import EarlyStopping, ModelCheckpoint\n",
    "from tensorflow.keras.metrics import SparseTopKCategoricalAccuracy\n",
    "import json\n",
    "import time\n",
    "\n",
    "# Set seeds\n",
    "seed = 42\n",
    "random.seed(seed)\n",
    "os.environ['PYTHONHASHSEED'] = str(seed)\n",
    "np.random.seed(seed)\n",
    "tf.random.set_seed(seed)\n",
    "\n",
    "# 2. Data Loading, Split & Target Encoding\n",
    "train_df = pd.read_csv('train.csv.zip')\n",
    "test_df = pd.read_csv('test.csv.zip')\n",
    "\n",
    "# Identify id and target columns\n",
    "id_col = 'row_id' if 'row_id' in train_df.columns else 'id'\n",
    "target_col = 'target'\n",
    "\n",
    "df = train_df.copy()\n",
    "le = LabelEncoder().fit(df[target_col].astype(str))\n",
    "y_enc = le.transform(df[target_col].astype(str))\n",
    "classes_ = le.classes_\n",
    "num_classes = len(classes_)\n",
    "top_k = min(num_classes, 5)\n",
    "\n",
    "X = df.drop(columns=[id_col, target_col], errors='ignore')\n",
    "X_test = test_df.drop(columns=[id_col, target_col], errors='ignore')\n",
    "test_ids = test_df[id_col]\n",
    "\n",
    "X_train, X_val, y_train, y_val = train_test_split(\n",
    "    X, y_enc,\n",
    "    test_size=0.2,\n",
    "    stratify=y_enc,\n",
    "    random_state=seed\n",
    ")\n",
    "train_ids = train_df.loc[X_train.index, id_col]\n",
    "val_ids = train_df.loc[X_val.index, id_col]\n",
    "\n",
    "# 4. Feature Engineering\n",
    "missing_cols = [c for c in X_train.columns if X_train[c].isna().all()]\n",
    "X_train.drop(columns=missing_cols, inplace=True)\n",
    "X_val.drop(columns=missing_cols, inplace=True)\n",
    "X_test.drop(columns=missing_cols, inplace=True)\n",
    "\n",
    "cat_cols = X_train.select_dtypes(include=['object', 'category']).columns.tolist()\n",
    "cat_cols = [c for c in cat_cols if X_train[c].nunique() <= 50]\n",
    "num_cols = [c for c in X_train.columns if c not in cat_cols]\n",
    "\n",
    "# 5. Preprocessing Pipeline\n",
    "num_pipeline = Pipeline([\n",
    "    ('imputer', SimpleImputer(strategy='median')),\n",
    "    ('scaler', StandardScaler())\n",
    "])\n",
    "cat_pipeline = Pipeline([\n",
    "    ('imputer', SimpleImputer(strategy='most_frequent')),\n",
    "    ('encoder', OneHotEncoder(sparse_output=False, handle_unknown='ignore'))\n",
    "])\n",
    "preprocessor = ColumnTransformer([\n",
    "    ('num', num_pipeline, num_cols),\n",
    "    ('cat', cat_pipeline, cat_cols)\n",
    "])\n",
    "\n",
    "X_train_proc = preprocessor.fit_transform(X_train)\n",
    "X_val_proc = preprocessor.transform(X_val)\n",
    "X_test_proc = preprocessor.transform(X_test)\n",
    "\n",
    "# 6. Model Architecture\n",
    "import keras_tuner as kt\n",
    "\n",
    "# Define early stopping and model checkpoint\n",
    "early_stopping = EarlyStopping(monitor='val_loss', patience=10, restore_best_weights=True)\n",
    "checkpoint = ModelCheckpoint('best_model.h5', monitor='val_loss', save_best_only=True)\n",
    "\n",
    "# Input dimension\n",
    "n_features = X_train_proc.shape[1]\n",
    "\n",
    "# HyperModel\n",
    "class MyHyperModel(kt.HyperModel):\n",
    "    def build(self, hp):\n",
    "        layers = hp.Int('layers', 2, 8)\n",
    "        units = hp.Int('units', 64, 1024, step=64)\n",
    "        drop = hp.Float('dropout', 0.0, 0.5, step=0.1)\n",
    "        opt = hp.Choice('optimizer', ['adam'])\n",
    "        lr = hp.Float('learning_rate', 1e-5, 0.01, sampling='log')\n",
    "\n",
    "        inputs = tf.keras.Input(shape=(n_features,))\n",
    "        x = inputs\n",
    "        for _ in range(layers):\n",
    "            x = tf.keras.layers.Dense(units, activation='relu')(x)\n",
    "            x = tf.keras.layers.Dropout(drop)(x)\n",
    "        outputs = tf.keras.layers.Dense(num_classes, activation='softmax')(x)\n",
    "        model = tf.keras.Model(inputs, outputs)\n",
    "        model.compile(optimizer=opt, loss='sparse_categorical_crossentropy', metrics=['accuracy'])\n",
    "        return model\n",
    "\n",
    "# Tuner setup\n",
    "bs = 32  # batch size\n",
    "ep = 20  # epochs\n",
    "\n",
    "tuner = kt.BayesianOptimization(\n",
    "    MyHyperModel(),\n",
    "    objective='val_loss',\n",
    "    max_trials=10,\n",
    "    executions_per_trial=1,\n",
    "    seed=42,\n",
    "    overwrite=True,\n",
    "    project_name='bayesian_tuner'\n",
    ")\n",
    "\n",
    "# Search for the best hyperparameters\n",
    "if y_val is not None:\n",
    "    tuner.search(\n",
    "        X_train_proc, y_train,\n",
    "        validation_data=(X_val_proc, y_val),\n",
    "        batch_size=bs, epochs=ep,\n",
    "        callbacks=[early_stopping, checkpoint]\n",
    "    )\n",
    "else:\n",
    "    tuner.search(\n",
    "        X_train_proc, y_train,\n",
    "        validation_split=0.2,\n",
    "        batch_size=bs, epochs=ep,\n",
    "        callbacks=[early_stopping, checkpoint]\n",
    "    )\n",
    "\n",
    "# Build the best model\n",
    "model = tuner.hypermodel.build(tuner.get_best_hyperparameters(1)[0])\n",
    "\n",
    "start_time = time.time()  # Start timing\n",
    "\n",
    "# Retrain the model with original callbacks and data\n",
    "if y_val is not None:\n",
    "    history = model.fit(\n",
    "        X_train_proc, y_train,\n",
    "        validation_data=(X_val_proc, y_val),\n",
    "        epochs=100, batch_size=bs,\n",
    "        callbacks=[early_stopping, checkpoint],\n",
    "        verbose=2\n",
    "    )\n",
    "else:\n",
    "    history = model.fit(\n",
    "        X_train_proc, y_train,\n",
    "        validation_split=0.2,\n",
    "        epochs=100, batch_size=bs,\n",
    "        callbacks=[early_stopping, checkpoint],\n",
    "        verbose=2\n",
    "    )\n",
    "\n",
    "duration = time.time() - start_time  # Calculate duration\n",
    "\n",
    "# 9. Evaluation & Logging\n",
    "results = {\n",
    "    'training_accuracy': history.history['accuracy'][-1],\n",
    "    'training_loss': history.history['loss'][-1],\n",
    "    'validation_accuracy': history.history['val_accuracy'][-1],\n",
    "    'validation_loss': history.history['val_loss'][-1]\n",
    "}\n",
    "with open('results.json', 'w') as f:\n",
    "    json.dump(results, f)\n",
    "\n",
    "# 10. Prediction & Submission\n",
    "raw_preds = model.predict(X_test_proc)\n",
    "idxs = raw_preds.argmax(axis=1)\n",
    "final = le.inverse_transform(idxs)\n",
    "submission = pd.DataFrame({id_col: test_ids.reset_index(drop=True), target_col: final})\n",
    "submission.to_csv('submission_result.csv', index=False)"
   ]
  },
  {
   "cell_type": "code",
   "execution_count": null,
   "metadata": {},
   "outputs": [
    {
     "name": "stdout",
     "output_type": "stream",
     "text": [
      "732.146827\n"
     ]
    }
   ],
   "source": [
    "print(duration)"
   ]
  }
 ],
 "metadata": {
  "kernelspec": {
   "display_name": "Python 3",
   "language": "python",
   "name": "python3"
  },
  "language_info": {
   "codemirror_mode": {
    "name": "ipython",
    "version": 3
   },
   "file_extension": ".py",
   "mimetype": "text/x-python",
   "name": "python",
   "nbconvert_exporter": "python",
   "pygments_lexer": "ipython3",
   "version": "3.12.3"
  }
 },
 "nbformat": 4,
 "nbformat_minor": 2
}
