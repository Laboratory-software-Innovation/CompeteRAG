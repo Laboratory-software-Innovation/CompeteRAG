{
 "cells": [
  {
   "cell_type": "markdown",
   "metadata": {},
   "source": [
    "# Conway's Reverse Game of Life"
   ]
  },
  {
   "cell_type": "markdown",
   "metadata": {},
   "source": [
    "## Modified the metric to be `cell_acc` instead of `accuracy` due to top-3 prediction"
   ]
  },
  {
   "cell_type": "markdown",
   "metadata": {},
   "source": [
    "# Keras - 1 Attempt"
   ]
  },
  {
   "cell_type": "markdown",
   "metadata": {},
   "source": [
    "# Attempt 1"
   ]
  },
  {
   "cell_type": "code",
   "execution_count": null,
   "metadata": {},
   "outputs": [
    {
     "name": "stdout",
     "output_type": "stream",
     "text": [
      "Epoch 1/100\n"
     ]
    },
    {
     "name": "stderr",
     "output_type": "stream",
     "text": [
      "WARNING:absl:You are saving your model as an HDF5 file via `model.save()` or `keras.saving.save_model(model)`. This file format is considered legacy. We recommend using instead the native Keras format, e.g. `model.save('my_model.keras')` or `keras.saving.save_model(model, 'my_model.keras')`. \n"
     ]
    },
    {
     "name": "stdout",
     "output_type": "stream",
     "text": [
      "313/313 - 8s - 25ms/step - cell_acc: 0.7655 - loss: 0.5049 - precision_1: 0.2181 - recall_1: 0.2383 - val_cell_acc: 0.8545 - val_loss: 0.3754 - val_precision_1: 0.3676 - val_recall_1: 0.0031\n",
      "Epoch 2/100\n"
     ]
    },
    {
     "name": "stderr",
     "output_type": "stream",
     "text": [
      "WARNING:absl:You are saving your model as an HDF5 file via `model.save()` or `keras.saving.save_model(model)`. This file format is considered legacy. We recommend using instead the native Keras format, e.g. `model.save('my_model.keras')` or `keras.saving.save_model(model, 'my_model.keras')`. \n"
     ]
    },
    {
     "name": "stdout",
     "output_type": "stream",
     "text": [
      "313/313 - 4s - 14ms/step - cell_acc: 0.8533 - loss: 0.3707 - precision_1: 0.3324 - recall_1: 0.0108 - val_cell_acc: 0.8548 - val_loss: 0.3523 - val_precision_1: 0.5043 - val_recall_1: 0.0016\n",
      "Epoch 3/100\n"
     ]
    },
    {
     "name": "stderr",
     "output_type": "stream",
     "text": [
      "WARNING:absl:You are saving your model as an HDF5 file via `model.save()` or `keras.saving.save_model(model)`. This file format is considered legacy. We recommend using instead the native Keras format, e.g. `model.save('my_model.keras')` or `keras.saving.save_model(model, 'my_model.keras')`. \n"
     ]
    },
    {
     "name": "stdout",
     "output_type": "stream",
     "text": [
      "313/313 - 4s - 14ms/step - cell_acc: 0.8543 - loss: 0.3572 - precision_1: 0.4158 - recall_1: 0.0101 - val_cell_acc: 0.8549 - val_loss: 0.3440 - val_precision_1: 0.5310 - val_recall_1: 0.0061\n",
      "Epoch 4/100\n"
     ]
    },
    {
     "name": "stderr",
     "output_type": "stream",
     "text": [
      "WARNING:absl:You are saving your model as an HDF5 file via `model.save()` or `keras.saving.save_model(model)`. This file format is considered legacy. We recommend using instead the native Keras format, e.g. `model.save('my_model.keras')` or `keras.saving.save_model(model, 'my_model.keras')`. \n"
     ]
    },
    {
     "name": "stdout",
     "output_type": "stream",
     "text": [
      "313/313 - 4s - 12ms/step - cell_acc: 0.8543 - loss: 0.3509 - precision_1: 0.4400 - recall_1: 0.0157 - val_cell_acc: 0.8550 - val_loss: 0.3394 - val_precision_1: 0.5274 - val_recall_1: 0.0096\n",
      "Epoch 5/100\n"
     ]
    },
    {
     "name": "stderr",
     "output_type": "stream",
     "text": [
      "WARNING:absl:You are saving your model as an HDF5 file via `model.save()` or `keras.saving.save_model(model)`. This file format is considered legacy. We recommend using instead the native Keras format, e.g. `model.save('my_model.keras')` or `keras.saving.save_model(model, 'my_model.keras')`. \n"
     ]
    },
    {
     "name": "stdout",
     "output_type": "stream",
     "text": [
      "313/313 - 4s - 14ms/step - cell_acc: 0.8543 - loss: 0.3470 - precision_1: 0.4517 - recall_1: 0.0200 - val_cell_acc: 0.8552 - val_loss: 0.3361 - val_precision_1: 0.5619 - val_recall_1: 0.0123\n",
      "Epoch 6/100\n"
     ]
    },
    {
     "name": "stderr",
     "output_type": "stream",
     "text": [
      "WARNING:absl:You are saving your model as an HDF5 file via `model.save()` or `keras.saving.save_model(model)`. This file format is considered legacy. We recommend using instead the native Keras format, e.g. `model.save('my_model.keras')` or `keras.saving.save_model(model, 'my_model.keras')`. \n"
     ]
    },
    {
     "name": "stdout",
     "output_type": "stream",
     "text": [
      "313/313 - 4s - 14ms/step - cell_acc: 0.8543 - loss: 0.3443 - precision_1: 0.4579 - recall_1: 0.0235 - val_cell_acc: 0.8554 - val_loss: 0.3340 - val_precision_1: 0.5759 - val_recall_1: 0.0149\n",
      "Epoch 7/100\n"
     ]
    },
    {
     "name": "stderr",
     "output_type": "stream",
     "text": [
      "WARNING:absl:You are saving your model as an HDF5 file via `model.save()` or `keras.saving.save_model(model)`. This file format is considered legacy. We recommend using instead the native Keras format, e.g. `model.save('my_model.keras')` or `keras.saving.save_model(model, 'my_model.keras')`. \n"
     ]
    },
    {
     "name": "stdout",
     "output_type": "stream",
     "text": [
      "313/313 - 4s - 13ms/step - cell_acc: 0.8543 - loss: 0.3422 - precision_1: 0.4671 - recall_1: 0.0268 - val_cell_acc: 0.8555 - val_loss: 0.3326 - val_precision_1: 0.5754 - val_recall_1: 0.0166\n",
      "Epoch 8/100\n"
     ]
    },
    {
     "name": "stderr",
     "output_type": "stream",
     "text": [
      "WARNING:absl:You are saving your model as an HDF5 file via `model.save()` or `keras.saving.save_model(model)`. This file format is considered legacy. We recommend using instead the native Keras format, e.g. `model.save('my_model.keras')` or `keras.saving.save_model(model, 'my_model.keras')`. \n"
     ]
    },
    {
     "name": "stdout",
     "output_type": "stream",
     "text": [
      "313/313 - 4s - 13ms/step - cell_acc: 0.8544 - loss: 0.3406 - precision_1: 0.4707 - recall_1: 0.0291 - val_cell_acc: 0.8555 - val_loss: 0.3311 - val_precision_1: 0.5818 - val_recall_1: 0.0167\n",
      "Epoch 9/100\n"
     ]
    },
    {
     "name": "stderr",
     "output_type": "stream",
     "text": [
      "WARNING:absl:You are saving your model as an HDF5 file via `model.save()` or `keras.saving.save_model(model)`. This file format is considered legacy. We recommend using instead the native Keras format, e.g. `model.save('my_model.keras')` or `keras.saving.save_model(model, 'my_model.keras')`. \n"
     ]
    },
    {
     "name": "stdout",
     "output_type": "stream",
     "text": [
      "313/313 - 4s - 14ms/step - cell_acc: 0.8544 - loss: 0.3391 - precision_1: 0.4741 - recall_1: 0.0310 - val_cell_acc: 0.8556 - val_loss: 0.3302 - val_precision_1: 0.5920 - val_recall_1: 0.0181\n",
      "Epoch 10/100\n"
     ]
    },
    {
     "name": "stderr",
     "output_type": "stream",
     "text": [
      "WARNING:absl:You are saving your model as an HDF5 file via `model.save()` or `keras.saving.save_model(model)`. This file format is considered legacy. We recommend using instead the native Keras format, e.g. `model.save('my_model.keras')` or `keras.saving.save_model(model, 'my_model.keras')`. \n"
     ]
    },
    {
     "name": "stdout",
     "output_type": "stream",
     "text": [
      "313/313 - 4s - 14ms/step - cell_acc: 0.8545 - loss: 0.3379 - precision_1: 0.4789 - recall_1: 0.0335 - val_cell_acc: 0.8559 - val_loss: 0.3292 - val_precision_1: 0.6065 - val_recall_1: 0.0215\n",
      "Epoch 11/100\n"
     ]
    },
    {
     "name": "stderr",
     "output_type": "stream",
     "text": [
      "WARNING:absl:You are saving your model as an HDF5 file via `model.save()` or `keras.saving.save_model(model)`. This file format is considered legacy. We recommend using instead the native Keras format, e.g. `model.save('my_model.keras')` or `keras.saving.save_model(model, 'my_model.keras')`. \n"
     ]
    },
    {
     "name": "stdout",
     "output_type": "stream",
     "text": [
      "313/313 - 4s - 14ms/step - cell_acc: 0.8545 - loss: 0.3369 - precision_1: 0.4805 - recall_1: 0.0354 - val_cell_acc: 0.8559 - val_loss: 0.3284 - val_precision_1: 0.6061 - val_recall_1: 0.0217\n",
      "Epoch 12/100\n"
     ]
    },
    {
     "name": "stderr",
     "output_type": "stream",
     "text": [
      "WARNING:absl:You are saving your model as an HDF5 file via `model.save()` or `keras.saving.save_model(model)`. This file format is considered legacy. We recommend using instead the native Keras format, e.g. `model.save('my_model.keras')` or `keras.saving.save_model(model, 'my_model.keras')`. \n"
     ]
    },
    {
     "name": "stdout",
     "output_type": "stream",
     "text": [
      "313/313 - 4s - 14ms/step - cell_acc: 0.8545 - loss: 0.3360 - precision_1: 0.4825 - recall_1: 0.0374 - val_cell_acc: 0.8560 - val_loss: 0.3278 - val_precision_1: 0.6098 - val_recall_1: 0.0231\n",
      "Epoch 13/100\n"
     ]
    },
    {
     "name": "stderr",
     "output_type": "stream",
     "text": [
      "WARNING:absl:You are saving your model as an HDF5 file via `model.save()` or `keras.saving.save_model(model)`. This file format is considered legacy. We recommend using instead the native Keras format, e.g. `model.save('my_model.keras')` or `keras.saving.save_model(model, 'my_model.keras')`. \n"
     ]
    },
    {
     "name": "stdout",
     "output_type": "stream",
     "text": [
      "313/313 - 4s - 14ms/step - cell_acc: 0.8546 - loss: 0.3351 - precision_1: 0.4859 - recall_1: 0.0386 - val_cell_acc: 0.8561 - val_loss: 0.3271 - val_precision_1: 0.6136 - val_recall_1: 0.0241\n",
      "Epoch 14/100\n"
     ]
    },
    {
     "name": "stderr",
     "output_type": "stream",
     "text": [
      "WARNING:absl:You are saving your model as an HDF5 file via `model.save()` or `keras.saving.save_model(model)`. This file format is considered legacy. We recommend using instead the native Keras format, e.g. `model.save('my_model.keras')` or `keras.saving.save_model(model, 'my_model.keras')`. \n"
     ]
    },
    {
     "name": "stdout",
     "output_type": "stream",
     "text": [
      "313/313 - 4s - 14ms/step - cell_acc: 0.8546 - loss: 0.3342 - precision_1: 0.4862 - recall_1: 0.0400 - val_cell_acc: 0.8562 - val_loss: 0.3268 - val_precision_1: 0.6223 - val_recall_1: 0.0244\n",
      "Epoch 15/100\n"
     ]
    },
    {
     "name": "stderr",
     "output_type": "stream",
     "text": [
      "WARNING:absl:You are saving your model as an HDF5 file via `model.save()` or `keras.saving.save_model(model)`. This file format is considered legacy. We recommend using instead the native Keras format, e.g. `model.save('my_model.keras')` or `keras.saving.save_model(model, 'my_model.keras')`. \n"
     ]
    },
    {
     "name": "stdout",
     "output_type": "stream",
     "text": [
      "313/313 - 4s - 14ms/step - cell_acc: 0.8546 - loss: 0.3336 - precision_1: 0.4877 - recall_1: 0.0409 - val_cell_acc: 0.8561 - val_loss: 0.3262 - val_precision_1: 0.6221 - val_recall_1: 0.0232\n",
      "Epoch 16/100\n"
     ]
    },
    {
     "name": "stderr",
     "output_type": "stream",
     "text": [
      "WARNING:absl:You are saving your model as an HDF5 file via `model.save()` or `keras.saving.save_model(model)`. This file format is considered legacy. We recommend using instead the native Keras format, e.g. `model.save('my_model.keras')` or `keras.saving.save_model(model, 'my_model.keras')`. \n"
     ]
    },
    {
     "name": "stdout",
     "output_type": "stream",
     "text": [
      "313/313 - 4s - 14ms/step - cell_acc: 0.8546 - loss: 0.3327 - precision_1: 0.4907 - recall_1: 0.0425 - val_cell_acc: 0.8563 - val_loss: 0.3258 - val_precision_1: 0.6224 - val_recall_1: 0.0264\n",
      "Epoch 17/100\n"
     ]
    },
    {
     "name": "stderr",
     "output_type": "stream",
     "text": [
      "WARNING:absl:You are saving your model as an HDF5 file via `model.save()` or `keras.saving.save_model(model)`. This file format is considered legacy. We recommend using instead the native Keras format, e.g. `model.save('my_model.keras')` or `keras.saving.save_model(model, 'my_model.keras')`. \n"
     ]
    },
    {
     "name": "stdout",
     "output_type": "stream",
     "text": [
      "313/313 - 4s - 14ms/step - cell_acc: 0.8547 - loss: 0.3321 - precision_1: 0.4917 - recall_1: 0.0432 - val_cell_acc: 0.8564 - val_loss: 0.3254 - val_precision_1: 0.6305 - val_recall_1: 0.0271\n",
      "Epoch 18/100\n"
     ]
    },
    {
     "name": "stderr",
     "output_type": "stream",
     "text": [
      "WARNING:absl:You are saving your model as an HDF5 file via `model.save()` or `keras.saving.save_model(model)`. This file format is considered legacy. We recommend using instead the native Keras format, e.g. `model.save('my_model.keras')` or `keras.saving.save_model(model, 'my_model.keras')`. \n"
     ]
    },
    {
     "name": "stdout",
     "output_type": "stream",
     "text": [
      "313/313 - 4s - 14ms/step - cell_acc: 0.8548 - loss: 0.3315 - precision_1: 0.4955 - recall_1: 0.0441 - val_cell_acc: 0.8565 - val_loss: 0.3252 - val_precision_1: 0.6387 - val_recall_1: 0.0265\n",
      "Epoch 19/100\n"
     ]
    },
    {
     "name": "stderr",
     "output_type": "stream",
     "text": [
      "WARNING:absl:You are saving your model as an HDF5 file via `model.save()` or `keras.saving.save_model(model)`. This file format is considered legacy. We recommend using instead the native Keras format, e.g. `model.save('my_model.keras')` or `keras.saving.save_model(model, 'my_model.keras')`. \n"
     ]
    },
    {
     "name": "stdout",
     "output_type": "stream",
     "text": [
      "313/313 - 4s - 13ms/step - cell_acc: 0.8548 - loss: 0.3310 - precision_1: 0.4953 - recall_1: 0.0445 - val_cell_acc: 0.8566 - val_loss: 0.3250 - val_precision_1: 0.6389 - val_recall_1: 0.0283\n",
      "Epoch 20/100\n"
     ]
    },
    {
     "name": "stderr",
     "output_type": "stream",
     "text": [
      "WARNING:absl:You are saving your model as an HDF5 file via `model.save()` or `keras.saving.save_model(model)`. This file format is considered legacy. We recommend using instead the native Keras format, e.g. `model.save('my_model.keras')` or `keras.saving.save_model(model, 'my_model.keras')`. \n"
     ]
    },
    {
     "name": "stdout",
     "output_type": "stream",
     "text": [
      "313/313 - 4s - 13ms/step - cell_acc: 0.8548 - loss: 0.3303 - precision_1: 0.4975 - recall_1: 0.0452 - val_cell_acc: 0.8566 - val_loss: 0.3245 - val_precision_1: 0.6387 - val_recall_1: 0.0285\n",
      "Epoch 21/100\n"
     ]
    },
    {
     "name": "stderr",
     "output_type": "stream",
     "text": [
      "WARNING:absl:You are saving your model as an HDF5 file via `model.save()` or `keras.saving.save_model(model)`. This file format is considered legacy. We recommend using instead the native Keras format, e.g. `model.save('my_model.keras')` or `keras.saving.save_model(model, 'my_model.keras')`. \n"
     ]
    },
    {
     "name": "stdout",
     "output_type": "stream",
     "text": [
      "313/313 - 5s - 16ms/step - cell_acc: 0.8548 - loss: 0.3296 - precision_1: 0.4984 - recall_1: 0.0465 - val_cell_acc: 0.8567 - val_loss: 0.3244 - val_precision_1: 0.6397 - val_recall_1: 0.0294\n",
      "Epoch 22/100\n"
     ]
    },
    {
     "name": "stderr",
     "output_type": "stream",
     "text": [
      "WARNING:absl:You are saving your model as an HDF5 file via `model.save()` or `keras.saving.save_model(model)`. This file format is considered legacy. We recommend using instead the native Keras format, e.g. `model.save('my_model.keras')` or `keras.saving.save_model(model, 'my_model.keras')`. \n"
     ]
    },
    {
     "name": "stdout",
     "output_type": "stream",
     "text": [
      "313/313 - 4s - 14ms/step - cell_acc: 0.8549 - loss: 0.3291 - precision_1: 0.5000 - recall_1: 0.0470 - val_cell_acc: 0.8567 - val_loss: 0.3239 - val_precision_1: 0.6462 - val_recall_1: 0.0291\n",
      "Epoch 23/100\n"
     ]
    },
    {
     "name": "stderr",
     "output_type": "stream",
     "text": [
      "WARNING:absl:You are saving your model as an HDF5 file via `model.save()` or `keras.saving.save_model(model)`. This file format is considered legacy. We recommend using instead the native Keras format, e.g. `model.save('my_model.keras')` or `keras.saving.save_model(model, 'my_model.keras')`. \n"
     ]
    },
    {
     "name": "stdout",
     "output_type": "stream",
     "text": [
      "313/313 - 4s - 13ms/step - cell_acc: 0.8549 - loss: 0.3287 - precision_1: 0.5003 - recall_1: 0.0475 - val_cell_acc: 0.8567 - val_loss: 0.3238 - val_precision_1: 0.6451 - val_recall_1: 0.0286\n",
      "Epoch 24/100\n"
     ]
    },
    {
     "name": "stderr",
     "output_type": "stream",
     "text": [
      "WARNING:absl:You are saving your model as an HDF5 file via `model.save()` or `keras.saving.save_model(model)`. This file format is considered legacy. We recommend using instead the native Keras format, e.g. `model.save('my_model.keras')` or `keras.saving.save_model(model, 'my_model.keras')`. \n"
     ]
    },
    {
     "name": "stdout",
     "output_type": "stream",
     "text": [
      "313/313 - 4s - 13ms/step - cell_acc: 0.8550 - loss: 0.3281 - precision_1: 0.5026 - recall_1: 0.0483 - val_cell_acc: 0.8568 - val_loss: 0.3236 - val_precision_1: 0.6486 - val_recall_1: 0.0293\n",
      "Epoch 25/100\n"
     ]
    },
    {
     "name": "stderr",
     "output_type": "stream",
     "text": [
      "WARNING:absl:You are saving your model as an HDF5 file via `model.save()` or `keras.saving.save_model(model)`. This file format is considered legacy. We recommend using instead the native Keras format, e.g. `model.save('my_model.keras')` or `keras.saving.save_model(model, 'my_model.keras')`. \n"
     ]
    },
    {
     "name": "stdout",
     "output_type": "stream",
     "text": [
      "313/313 - 4s - 13ms/step - cell_acc: 0.8550 - loss: 0.3277 - precision_1: 0.5036 - recall_1: 0.0486 - val_cell_acc: 0.8568 - val_loss: 0.3235 - val_precision_1: 0.6513 - val_recall_1: 0.0287\n",
      "Epoch 26/100\n"
     ]
    },
    {
     "name": "stderr",
     "output_type": "stream",
     "text": [
      "WARNING:absl:You are saving your model as an HDF5 file via `model.save()` or `keras.saving.save_model(model)`. This file format is considered legacy. We recommend using instead the native Keras format, e.g. `model.save('my_model.keras')` or `keras.saving.save_model(model, 'my_model.keras')`. \n"
     ]
    },
    {
     "name": "stdout",
     "output_type": "stream",
     "text": [
      "313/313 - 4s - 14ms/step - cell_acc: 0.8550 - loss: 0.3272 - precision_1: 0.5043 - recall_1: 0.0490 - val_cell_acc: 0.8569 - val_loss: 0.3234 - val_precision_1: 0.6508 - val_recall_1: 0.0313\n",
      "Epoch 27/100\n"
     ]
    },
    {
     "name": "stderr",
     "output_type": "stream",
     "text": [
      "WARNING:absl:You are saving your model as an HDF5 file via `model.save()` or `keras.saving.save_model(model)`. This file format is considered legacy. We recommend using instead the native Keras format, e.g. `model.save('my_model.keras')` or `keras.saving.save_model(model, 'my_model.keras')`. \n"
     ]
    },
    {
     "name": "stdout",
     "output_type": "stream",
     "text": [
      "313/313 - 4s - 14ms/step - cell_acc: 0.8550 - loss: 0.3267 - precision_1: 0.5050 - recall_1: 0.0494 - val_cell_acc: 0.8568 - val_loss: 0.3230 - val_precision_1: 0.6506 - val_recall_1: 0.0290\n",
      "Epoch 28/100\n",
      "313/313 - 4s - 14ms/step - cell_acc: 0.8551 - loss: 0.3264 - precision_1: 0.5062 - recall_1: 0.0495 - val_cell_acc: 0.8570 - val_loss: 0.3231 - val_precision_1: 0.6520 - val_recall_1: 0.0318\n",
      "Epoch 29/100\n"
     ]
    },
    {
     "name": "stderr",
     "output_type": "stream",
     "text": [
      "WARNING:absl:You are saving your model as an HDF5 file via `model.save()` or `keras.saving.save_model(model)`. This file format is considered legacy. We recommend using instead the native Keras format, e.g. `model.save('my_model.keras')` or `keras.saving.save_model(model, 'my_model.keras')`. \n"
     ]
    },
    {
     "name": "stdout",
     "output_type": "stream",
     "text": [
      "313/313 - 4s - 14ms/step - cell_acc: 0.8551 - loss: 0.3259 - precision_1: 0.5087 - recall_1: 0.0501 - val_cell_acc: 0.8569 - val_loss: 0.3228 - val_precision_1: 0.6541 - val_recall_1: 0.0302\n",
      "Epoch 30/100\n",
      "313/313 - 5s - 14ms/step - cell_acc: 0.8551 - loss: 0.3256 - precision_1: 0.5089 - recall_1: 0.0505 - val_cell_acc: 0.8568 - val_loss: 0.3229 - val_precision_1: 0.6524 - val_recall_1: 0.0294\n",
      "Epoch 31/100\n"
     ]
    },
    {
     "name": "stderr",
     "output_type": "stream",
     "text": [
      "WARNING:absl:You are saving your model as an HDF5 file via `model.save()` or `keras.saving.save_model(model)`. This file format is considered legacy. We recommend using instead the native Keras format, e.g. `model.save('my_model.keras')` or `keras.saving.save_model(model, 'my_model.keras')`. \n"
     ]
    },
    {
     "name": "stdout",
     "output_type": "stream",
     "text": [
      "313/313 - 4s - 14ms/step - cell_acc: 0.8552 - loss: 0.3252 - precision_1: 0.5099 - recall_1: 0.0502 - val_cell_acc: 0.8570 - val_loss: 0.3228 - val_precision_1: 0.6559 - val_recall_1: 0.0313\n",
      "Epoch 32/100\n"
     ]
    },
    {
     "name": "stderr",
     "output_type": "stream",
     "text": [
      "WARNING:absl:You are saving your model as an HDF5 file via `model.save()` or `keras.saving.save_model(model)`. This file format is considered legacy. We recommend using instead the native Keras format, e.g. `model.save('my_model.keras')` or `keras.saving.save_model(model, 'my_model.keras')`. \n"
     ]
    },
    {
     "name": "stdout",
     "output_type": "stream",
     "text": [
      "313/313 - 4s - 14ms/step - cell_acc: 0.8552 - loss: 0.3249 - precision_1: 0.5117 - recall_1: 0.0502 - val_cell_acc: 0.8570 - val_loss: 0.3226 - val_precision_1: 0.6573 - val_recall_1: 0.0314\n",
      "Epoch 33/100\n"
     ]
    },
    {
     "name": "stderr",
     "output_type": "stream",
     "text": [
      "WARNING:absl:You are saving your model as an HDF5 file via `model.save()` or `keras.saving.save_model(model)`. This file format is considered legacy. We recommend using instead the native Keras format, e.g. `model.save('my_model.keras')` or `keras.saving.save_model(model, 'my_model.keras')`. \n"
     ]
    },
    {
     "name": "stdout",
     "output_type": "stream",
     "text": [
      "313/313 - 4s - 14ms/step - cell_acc: 0.8552 - loss: 0.3246 - precision_1: 0.5112 - recall_1: 0.0503 - val_cell_acc: 0.8570 - val_loss: 0.3225 - val_precision_1: 0.6551 - val_recall_1: 0.0319\n",
      "Epoch 34/100\n"
     ]
    },
    {
     "name": "stderr",
     "output_type": "stream",
     "text": [
      "WARNING:absl:You are saving your model as an HDF5 file via `model.save()` or `keras.saving.save_model(model)`. This file format is considered legacy. We recommend using instead the native Keras format, e.g. `model.save('my_model.keras')` or `keras.saving.save_model(model, 'my_model.keras')`. \n"
     ]
    },
    {
     "name": "stdout",
     "output_type": "stream",
     "text": [
      "313/313 - 5s - 14ms/step - cell_acc: 0.8553 - loss: 0.3241 - precision_1: 0.5135 - recall_1: 0.0513 - val_cell_acc: 0.8570 - val_loss: 0.3225 - val_precision_1: 0.6590 - val_recall_1: 0.0311\n",
      "Epoch 35/100\n"
     ]
    },
    {
     "name": "stderr",
     "output_type": "stream",
     "text": [
      "WARNING:absl:You are saving your model as an HDF5 file via `model.save()` or `keras.saving.save_model(model)`. This file format is considered legacy. We recommend using instead the native Keras format, e.g. `model.save('my_model.keras')` or `keras.saving.save_model(model, 'my_model.keras')`. \n"
     ]
    },
    {
     "name": "stdout",
     "output_type": "stream",
     "text": [
      "313/313 - 4s - 14ms/step - cell_acc: 0.8553 - loss: 0.3239 - precision_1: 0.5127 - recall_1: 0.0514 - val_cell_acc: 0.8570 - val_loss: 0.3223 - val_precision_1: 0.6609 - val_recall_1: 0.0306\n",
      "Epoch 36/100\n",
      "313/313 - 4s - 14ms/step - cell_acc: 0.8553 - loss: 0.3235 - precision_1: 0.5150 - recall_1: 0.0519 - val_cell_acc: 0.8570 - val_loss: 0.3223 - val_precision_1: 0.6581 - val_recall_1: 0.0309\n",
      "Epoch 37/100\n"
     ]
    },
    {
     "name": "stderr",
     "output_type": "stream",
     "text": [
      "WARNING:absl:You are saving your model as an HDF5 file via `model.save()` or `keras.saving.save_model(model)`. This file format is considered legacy. We recommend using instead the native Keras format, e.g. `model.save('my_model.keras')` or `keras.saving.save_model(model, 'my_model.keras')`. \n"
     ]
    },
    {
     "name": "stdout",
     "output_type": "stream",
     "text": [
      "313/313 - 5s - 15ms/step - cell_acc: 0.8553 - loss: 0.3232 - precision_1: 0.5139 - recall_1: 0.0520 - val_cell_acc: 0.8571 - val_loss: 0.3223 - val_precision_1: 0.6588 - val_recall_1: 0.0321\n",
      "Epoch 38/100\n"
     ]
    },
    {
     "name": "stderr",
     "output_type": "stream",
     "text": [
      "WARNING:absl:You are saving your model as an HDF5 file via `model.save()` or `keras.saving.save_model(model)`. This file format is considered legacy. We recommend using instead the native Keras format, e.g. `model.save('my_model.keras')` or `keras.saving.save_model(model, 'my_model.keras')`. \n"
     ]
    },
    {
     "name": "stdout",
     "output_type": "stream",
     "text": [
      "313/313 - 5s - 14ms/step - cell_acc: 0.8554 - loss: 0.3229 - precision_1: 0.5160 - recall_1: 0.0523 - val_cell_acc: 0.8571 - val_loss: 0.3221 - val_precision_1: 0.6594 - val_recall_1: 0.0323\n",
      "Epoch 39/100\n",
      "313/313 - 4s - 14ms/step - cell_acc: 0.8553 - loss: 0.3227 - precision_1: 0.5153 - recall_1: 0.0525 - val_cell_acc: 0.8570 - val_loss: 0.3223 - val_precision_1: 0.6645 - val_recall_1: 0.0305\n",
      "Epoch 40/100\n",
      "313/313 - 4s - 13ms/step - cell_acc: 0.8554 - loss: 0.3223 - precision_1: 0.5160 - recall_1: 0.0529 - val_cell_acc: 0.8570 - val_loss: 0.3221 - val_precision_1: 0.6620 - val_recall_1: 0.0307\n",
      "Epoch 41/100\n",
      "313/313 - 4s - 14ms/step - cell_acc: 0.8553 - loss: 0.3220 - precision_1: 0.5141 - recall_1: 0.0528 - val_cell_acc: 0.8571 - val_loss: 0.3221 - val_precision_1: 0.6608 - val_recall_1: 0.0329\n",
      "Epoch 42/100\n"
     ]
    },
    {
     "name": "stderr",
     "output_type": "stream",
     "text": [
      "WARNING:absl:You are saving your model as an HDF5 file via `model.save()` or `keras.saving.save_model(model)`. This file format is considered legacy. We recommend using instead the native Keras format, e.g. `model.save('my_model.keras')` or `keras.saving.save_model(model, 'my_model.keras')`. \n"
     ]
    },
    {
     "name": "stdout",
     "output_type": "stream",
     "text": [
      "313/313 - 4s - 14ms/step - cell_acc: 0.8554 - loss: 0.3219 - precision_1: 0.5160 - recall_1: 0.0530 - val_cell_acc: 0.8571 - val_loss: 0.3221 - val_precision_1: 0.6611 - val_recall_1: 0.0322\n",
      "Epoch 43/100\n"
     ]
    },
    {
     "name": "stderr",
     "output_type": "stream",
     "text": [
      "WARNING:absl:You are saving your model as an HDF5 file via `model.save()` or `keras.saving.save_model(model)`. This file format is considered legacy. We recommend using instead the native Keras format, e.g. `model.save('my_model.keras')` or `keras.saving.save_model(model, 'my_model.keras')`. \n"
     ]
    },
    {
     "name": "stdout",
     "output_type": "stream",
     "text": [
      "313/313 - 4s - 14ms/step - cell_acc: 0.8554 - loss: 0.3216 - precision_1: 0.5175 - recall_1: 0.0532 - val_cell_acc: 0.8571 - val_loss: 0.3221 - val_precision_1: 0.6658 - val_recall_1: 0.0317\n",
      "Epoch 44/100\n"
     ]
    },
    {
     "name": "stderr",
     "output_type": "stream",
     "text": [
      "WARNING:absl:You are saving your model as an HDF5 file via `model.save()` or `keras.saving.save_model(model)`. This file format is considered legacy. We recommend using instead the native Keras format, e.g. `model.save('my_model.keras')` or `keras.saving.save_model(model, 'my_model.keras')`. \n"
     ]
    },
    {
     "name": "stdout",
     "output_type": "stream",
     "text": [
      "313/313 - 5s - 15ms/step - cell_acc: 0.8554 - loss: 0.3214 - precision_1: 0.5171 - recall_1: 0.0538 - val_cell_acc: 0.8571 - val_loss: 0.3219 - val_precision_1: 0.6660 - val_recall_1: 0.0320\n",
      "Epoch 45/100\n"
     ]
    },
    {
     "name": "stderr",
     "output_type": "stream",
     "text": [
      "WARNING:absl:You are saving your model as an HDF5 file via `model.save()` or `keras.saving.save_model(model)`. This file format is considered legacy. We recommend using instead the native Keras format, e.g. `model.save('my_model.keras')` or `keras.saving.save_model(model, 'my_model.keras')`. \n"
     ]
    },
    {
     "name": "stdout",
     "output_type": "stream",
     "text": [
      "313/313 - 4s - 14ms/step - cell_acc: 0.8554 - loss: 0.3213 - precision_1: 0.5165 - recall_1: 0.0535 - val_cell_acc: 0.8572 - val_loss: 0.3219 - val_precision_1: 0.6681 - val_recall_1: 0.0321\n",
      "Epoch 46/100\n"
     ]
    },
    {
     "name": "stderr",
     "output_type": "stream",
     "text": [
      "WARNING:absl:You are saving your model as an HDF5 file via `model.save()` or `keras.saving.save_model(model)`. This file format is considered legacy. We recommend using instead the native Keras format, e.g. `model.save('my_model.keras')` or `keras.saving.save_model(model, 'my_model.keras')`. \n"
     ]
    },
    {
     "name": "stdout",
     "output_type": "stream",
     "text": [
      "313/313 - 4s - 13ms/step - cell_acc: 0.8554 - loss: 0.3209 - precision_1: 0.5170 - recall_1: 0.0544 - val_cell_acc: 0.8572 - val_loss: 0.3218 - val_precision_1: 0.6620 - val_recall_1: 0.0338\n",
      "Epoch 47/100\n"
     ]
    },
    {
     "name": "stderr",
     "output_type": "stream",
     "text": [
      "WARNING:absl:You are saving your model as an HDF5 file via `model.save()` or `keras.saving.save_model(model)`. This file format is considered legacy. We recommend using instead the native Keras format, e.g. `model.save('my_model.keras')` or `keras.saving.save_model(model, 'my_model.keras')`. \n"
     ]
    },
    {
     "name": "stdout",
     "output_type": "stream",
     "text": [
      "313/313 - 4s - 14ms/step - cell_acc: 0.8554 - loss: 0.3207 - precision_1: 0.5173 - recall_1: 0.0546 - val_cell_acc: 0.8573 - val_loss: 0.3218 - val_precision_1: 0.6697 - val_recall_1: 0.0331\n",
      "Epoch 48/100\n",
      "313/313 - 4s - 13ms/step - cell_acc: 0.8554 - loss: 0.3205 - precision_1: 0.5178 - recall_1: 0.0551 - val_cell_acc: 0.8572 - val_loss: 0.3218 - val_precision_1: 0.6692 - val_recall_1: 0.0325\n",
      "Epoch 49/100\n"
     ]
    },
    {
     "name": "stderr",
     "output_type": "stream",
     "text": [
      "WARNING:absl:You are saving your model as an HDF5 file via `model.save()` or `keras.saving.save_model(model)`. This file format is considered legacy. We recommend using instead the native Keras format, e.g. `model.save('my_model.keras')` or `keras.saving.save_model(model, 'my_model.keras')`. \n"
     ]
    },
    {
     "name": "stdout",
     "output_type": "stream",
     "text": [
      "313/313 - 4s - 14ms/step - cell_acc: 0.8554 - loss: 0.3202 - precision_1: 0.5180 - recall_1: 0.0554 - val_cell_acc: 0.8572 - val_loss: 0.3217 - val_precision_1: 0.6638 - val_recall_1: 0.0332\n",
      "Epoch 50/100\n"
     ]
    },
    {
     "name": "stderr",
     "output_type": "stream",
     "text": [
      "WARNING:absl:You are saving your model as an HDF5 file via `model.save()` or `keras.saving.save_model(model)`. This file format is considered legacy. We recommend using instead the native Keras format, e.g. `model.save('my_model.keras')` or `keras.saving.save_model(model, 'my_model.keras')`. \n"
     ]
    },
    {
     "name": "stdout",
     "output_type": "stream",
     "text": [
      "313/313 - 5s - 15ms/step - cell_acc: 0.8554 - loss: 0.3201 - precision_1: 0.5170 - recall_1: 0.0555 - val_cell_acc: 0.8572 - val_loss: 0.3217 - val_precision_1: 0.6698 - val_recall_1: 0.0324\n",
      "Epoch 51/100\n",
      "313/313 - 4s - 14ms/step - cell_acc: 0.8555 - loss: 0.3201 - precision_1: 0.5182 - recall_1: 0.0555 - val_cell_acc: 0.8572 - val_loss: 0.3217 - val_precision_1: 0.6669 - val_recall_1: 0.0333\n",
      "Epoch 52/100\n",
      "313/313 - 5s - 15ms/step - cell_acc: 0.8554 - loss: 0.3198 - precision_1: 0.5153 - recall_1: 0.0558 - val_cell_acc: 0.8572 - val_loss: 0.3217 - val_precision_1: 0.6729 - val_recall_1: 0.0315\n",
      "Epoch 53/100\n"
     ]
    },
    {
     "name": "stderr",
     "output_type": "stream",
     "text": [
      "WARNING:absl:You are saving your model as an HDF5 file via `model.save()` or `keras.saving.save_model(model)`. This file format is considered legacy. We recommend using instead the native Keras format, e.g. `model.save('my_model.keras')` or `keras.saving.save_model(model, 'my_model.keras')`. \n"
     ]
    },
    {
     "name": "stdout",
     "output_type": "stream",
     "text": [
      "313/313 - 5s - 15ms/step - cell_acc: 0.8554 - loss: 0.3196 - precision_1: 0.5174 - recall_1: 0.0563 - val_cell_acc: 0.8572 - val_loss: 0.3217 - val_precision_1: 0.6760 - val_recall_1: 0.0313\n",
      "Epoch 54/100\n",
      "313/313 - 5s - 15ms/step - cell_acc: 0.8554 - loss: 0.3194 - precision_1: 0.5169 - recall_1: 0.0565 - val_cell_acc: 0.8572 - val_loss: 0.3217 - val_precision_1: 0.6745 - val_recall_1: 0.0323\n",
      "Epoch 55/100\n"
     ]
    },
    {
     "name": "stderr",
     "output_type": "stream",
     "text": [
      "WARNING:absl:You are saving your model as an HDF5 file via `model.save()` or `keras.saving.save_model(model)`. This file format is considered legacy. We recommend using instead the native Keras format, e.g. `model.save('my_model.keras')` or `keras.saving.save_model(model, 'my_model.keras')`. \n"
     ]
    },
    {
     "name": "stdout",
     "output_type": "stream",
     "text": [
      "313/313 - 5s - 15ms/step - cell_acc: 0.8555 - loss: 0.3192 - precision_1: 0.5186 - recall_1: 0.0570 - val_cell_acc: 0.8573 - val_loss: 0.3216 - val_precision_1: 0.6733 - val_recall_1: 0.0330\n",
      "Epoch 56/100\n",
      "313/313 - 5s - 15ms/step - cell_acc: 0.8554 - loss: 0.3191 - precision_1: 0.5171 - recall_1: 0.0567 - val_cell_acc: 0.8573 - val_loss: 0.3216 - val_precision_1: 0.6751 - val_recall_1: 0.0334\n",
      "Epoch 57/100\n",
      "313/313 - 5s - 14ms/step - cell_acc: 0.8555 - loss: 0.3190 - precision_1: 0.5184 - recall_1: 0.0569 - val_cell_acc: 0.8573 - val_loss: 0.3217 - val_precision_1: 0.6715 - val_recall_1: 0.0331\n",
      "Epoch 58/100\n",
      "313/313 - 5s - 15ms/step - cell_acc: 0.8555 - loss: 0.3188 - precision_1: 0.5180 - recall_1: 0.0572 - val_cell_acc: 0.8573 - val_loss: 0.3216 - val_precision_1: 0.6748 - val_recall_1: 0.0333\n",
      "Epoch 59/100\n"
     ]
    },
    {
     "name": "stderr",
     "output_type": "stream",
     "text": [
      "WARNING:absl:You are saving your model as an HDF5 file via `model.save()` or `keras.saving.save_model(model)`. This file format is considered legacy. We recommend using instead the native Keras format, e.g. `model.save('my_model.keras')` or `keras.saving.save_model(model, 'my_model.keras')`. \n"
     ]
    },
    {
     "name": "stdout",
     "output_type": "stream",
     "text": [
      "313/313 - 5s - 15ms/step - cell_acc: 0.8554 - loss: 0.3186 - precision_1: 0.5162 - recall_1: 0.0575 - val_cell_acc: 0.8574 - val_loss: 0.3215 - val_precision_1: 0.6727 - val_recall_1: 0.0342\n",
      "Epoch 60/100\n",
      "313/313 - 5s - 15ms/step - cell_acc: 0.8555 - loss: 0.3184 - precision_1: 0.5178 - recall_1: 0.0581 - val_cell_acc: 0.8573 - val_loss: 0.3216 - val_precision_1: 0.6722 - val_recall_1: 0.0335\n",
      "Epoch 61/100\n",
      "313/313 - 5s - 15ms/step - cell_acc: 0.8554 - loss: 0.3184 - precision_1: 0.5158 - recall_1: 0.0581 - val_cell_acc: 0.8573 - val_loss: 0.3216 - val_precision_1: 0.6767 - val_recall_1: 0.0322\n",
      "Epoch 62/100\n"
     ]
    },
    {
     "name": "stderr",
     "output_type": "stream",
     "text": [
      "WARNING:absl:You are saving your model as an HDF5 file via `model.save()` or `keras.saving.save_model(model)`. This file format is considered legacy. We recommend using instead the native Keras format, e.g. `model.save('my_model.keras')` or `keras.saving.save_model(model, 'my_model.keras')`. \n"
     ]
    },
    {
     "name": "stdout",
     "output_type": "stream",
     "text": [
      "313/313 - 5s - 16ms/step - cell_acc: 0.8555 - loss: 0.3183 - precision_1: 0.5175 - recall_1: 0.0583 - val_cell_acc: 0.8574 - val_loss: 0.3215 - val_precision_1: 0.6728 - val_recall_1: 0.0342\n",
      "Epoch 63/100\n"
     ]
    },
    {
     "name": "stderr",
     "output_type": "stream",
     "text": [
      "WARNING:absl:You are saving your model as an HDF5 file via `model.save()` or `keras.saving.save_model(model)`. This file format is considered legacy. We recommend using instead the native Keras format, e.g. `model.save('my_model.keras')` or `keras.saving.save_model(model, 'my_model.keras')`. \n"
     ]
    },
    {
     "name": "stdout",
     "output_type": "stream",
     "text": [
      "313/313 - 5s - 16ms/step - cell_acc: 0.8555 - loss: 0.3181 - precision_1: 0.5173 - recall_1: 0.0587 - val_cell_acc: 0.8573 - val_loss: 0.3215 - val_precision_1: 0.6664 - val_recall_1: 0.0348\n",
      "Epoch 64/100\n",
      "313/313 - 5s - 14ms/step - cell_acc: 0.8555 - loss: 0.3179 - precision_1: 0.5178 - recall_1: 0.0590 - val_cell_acc: 0.8574 - val_loss: 0.3216 - val_precision_1: 0.6721 - val_recall_1: 0.0341\n",
      "Epoch 65/100\n"
     ]
    },
    {
     "name": "stderr",
     "output_type": "stream",
     "text": [
      "WARNING:absl:You are saving your model as an HDF5 file via `model.save()` or `keras.saving.save_model(model)`. This file format is considered legacy. We recommend using instead the native Keras format, e.g. `model.save('my_model.keras')` or `keras.saving.save_model(model, 'my_model.keras')`. \n"
     ]
    },
    {
     "name": "stdout",
     "output_type": "stream",
     "text": [
      "313/313 - 5s - 16ms/step - cell_acc: 0.8555 - loss: 0.3177 - precision_1: 0.5176 - recall_1: 0.0597 - val_cell_acc: 0.8573 - val_loss: 0.3214 - val_precision_1: 0.6729 - val_recall_1: 0.0335\n",
      "Epoch 66/100\n",
      "313/313 - 5s - 14ms/step - cell_acc: 0.8555 - loss: 0.3178 - precision_1: 0.5174 - recall_1: 0.0592 - val_cell_acc: 0.8573 - val_loss: 0.3215 - val_precision_1: 0.6830 - val_recall_1: 0.0317\n",
      "Epoch 67/100\n",
      "313/313 - 5s - 16ms/step - cell_acc: 0.8554 - loss: 0.3176 - precision_1: 0.5166 - recall_1: 0.0592 - val_cell_acc: 0.8573 - val_loss: 0.3214 - val_precision_1: 0.6746 - val_recall_1: 0.0335\n",
      "Epoch 68/100\n",
      "313/313 - 5s - 16ms/step - cell_acc: 0.8555 - loss: 0.3175 - precision_1: 0.5173 - recall_1: 0.0593 - val_cell_acc: 0.8573 - val_loss: 0.3215 - val_precision_1: 0.6762 - val_recall_1: 0.0327\n",
      "Epoch 69/100\n",
      "313/313 - 5s - 15ms/step - cell_acc: 0.8555 - loss: 0.3173 - precision_1: 0.5175 - recall_1: 0.0604 - val_cell_acc: 0.8573 - val_loss: 0.3214 - val_precision_1: 0.6751 - val_recall_1: 0.0332\n",
      "Epoch 70/100\n",
      "313/313 - 5s - 15ms/step - cell_acc: 0.8555 - loss: 0.3171 - precision_1: 0.5174 - recall_1: 0.0604 - val_cell_acc: 0.8574 - val_loss: 0.3214 - val_precision_1: 0.6833 - val_recall_1: 0.0330\n",
      "Epoch 71/100\n"
     ]
    },
    {
     "name": "stderr",
     "output_type": "stream",
     "text": [
      "WARNING:absl:You are saving your model as an HDF5 file via `model.save()` or `keras.saving.save_model(model)`. This file format is considered legacy. We recommend using instead the native Keras format, e.g. `model.save('my_model.keras')` or `keras.saving.save_model(model, 'my_model.keras')`. \n"
     ]
    },
    {
     "name": "stdout",
     "output_type": "stream",
     "text": [
      "313/313 - 5s - 16ms/step - cell_acc: 0.8555 - loss: 0.3171 - precision_1: 0.5186 - recall_1: 0.0602 - val_cell_acc: 0.8573 - val_loss: 0.3213 - val_precision_1: 0.6810 - val_recall_1: 0.0327\n",
      "Epoch 72/100\n",
      "313/313 - 5s - 15ms/step - cell_acc: 0.8555 - loss: 0.3169 - precision_1: 0.5174 - recall_1: 0.0605 - val_cell_acc: 0.8573 - val_loss: 0.3214 - val_precision_1: 0.6760 - val_recall_1: 0.0333\n",
      "Epoch 73/100\n",
      "313/313 - 5s - 15ms/step - cell_acc: 0.8555 - loss: 0.3170 - precision_1: 0.5178 - recall_1: 0.0610 - val_cell_acc: 0.8573 - val_loss: 0.3214 - val_precision_1: 0.6817 - val_recall_1: 0.0317\n",
      "Epoch 74/100\n",
      "313/313 - 5s - 15ms/step - cell_acc: 0.8555 - loss: 0.3168 - precision_1: 0.5173 - recall_1: 0.0609 - val_cell_acc: 0.8574 - val_loss: 0.3215 - val_precision_1: 0.6805 - val_recall_1: 0.0334\n",
      "Epoch 75/100\n",
      "313/313 - 5s - 15ms/step - cell_acc: 0.8554 - loss: 0.3166 - precision_1: 0.5154 - recall_1: 0.0613 - val_cell_acc: 0.8574 - val_loss: 0.3214 - val_precision_1: 0.6799 - val_recall_1: 0.0335\n",
      "Epoch 76/100\n",
      "313/313 - 5s - 15ms/step - cell_acc: 0.8554 - loss: 0.3166 - precision_1: 0.5160 - recall_1: 0.0621 - val_cell_acc: 0.8574 - val_loss: 0.3214 - val_precision_1: 0.6808 - val_recall_1: 0.0335\n",
      "Epoch 77/100\n",
      "313/313 - 5s - 15ms/step - cell_acc: 0.8555 - loss: 0.3165 - precision_1: 0.5167 - recall_1: 0.0614 - val_cell_acc: 0.8574 - val_loss: 0.3214 - val_precision_1: 0.6819 - val_recall_1: 0.0329\n",
      "Epoch 78/100\n"
     ]
    },
    {
     "name": "stderr",
     "output_type": "stream",
     "text": [
      "WARNING:absl:You are saving your model as an HDF5 file via `model.save()` or `keras.saving.save_model(model)`. This file format is considered legacy. We recommend using instead the native Keras format, e.g. `model.save('my_model.keras')` or `keras.saving.save_model(model, 'my_model.keras')`. \n"
     ]
    },
    {
     "name": "stdout",
     "output_type": "stream",
     "text": [
      "313/313 - 5s - 15ms/step - cell_acc: 0.8554 - loss: 0.3163 - precision_1: 0.5156 - recall_1: 0.0619 - val_cell_acc: 0.8574 - val_loss: 0.3213 - val_precision_1: 0.6792 - val_recall_1: 0.0337\n",
      "Epoch 79/100\n",
      "313/313 - 5s - 15ms/step - cell_acc: 0.8555 - loss: 0.3163 - precision_1: 0.5164 - recall_1: 0.0622 - val_cell_acc: 0.8575 - val_loss: 0.3214 - val_precision_1: 0.6836 - val_recall_1: 0.0338\n",
      "Epoch 80/100\n"
     ]
    },
    {
     "name": "stderr",
     "output_type": "stream",
     "text": [
      "WARNING:absl:You are saving your model as an HDF5 file via `model.save()` or `keras.saving.save_model(model)`. This file format is considered legacy. We recommend using instead the native Keras format, e.g. `model.save('my_model.keras')` or `keras.saving.save_model(model, 'my_model.keras')`. \n"
     ]
    },
    {
     "name": "stdout",
     "output_type": "stream",
     "text": [
      "313/313 - 5s - 15ms/step - cell_acc: 0.8555 - loss: 0.3163 - precision_1: 0.5174 - recall_1: 0.0621 - val_cell_acc: 0.8575 - val_loss: 0.3213 - val_precision_1: 0.6854 - val_recall_1: 0.0336\n",
      "Epoch 81/100\n",
      "313/313 - 5s - 16ms/step - cell_acc: 0.8555 - loss: 0.3161 - precision_1: 0.5174 - recall_1: 0.0618 - val_cell_acc: 0.8574 - val_loss: 0.3213 - val_precision_1: 0.6847 - val_recall_1: 0.0326\n",
      "Epoch 82/100\n"
     ]
    },
    {
     "name": "stderr",
     "output_type": "stream",
     "text": [
      "WARNING:absl:You are saving your model as an HDF5 file via `model.save()` or `keras.saving.save_model(model)`. This file format is considered legacy. We recommend using instead the native Keras format, e.g. `model.save('my_model.keras')` or `keras.saving.save_model(model, 'my_model.keras')`. \n"
     ]
    },
    {
     "name": "stdout",
     "output_type": "stream",
     "text": [
      "313/313 - 5s - 15ms/step - cell_acc: 0.8555 - loss: 0.3161 - precision_1: 0.5170 - recall_1: 0.0627 - val_cell_acc: 0.8574 - val_loss: 0.3213 - val_precision_1: 0.6837 - val_recall_1: 0.0324\n",
      "Epoch 83/100\n"
     ]
    },
    {
     "name": "stderr",
     "output_type": "stream",
     "text": [
      "WARNING:absl:You are saving your model as an HDF5 file via `model.save()` or `keras.saving.save_model(model)`. This file format is considered legacy. We recommend using instead the native Keras format, e.g. `model.save('my_model.keras')` or `keras.saving.save_model(model, 'my_model.keras')`. \n"
     ]
    },
    {
     "name": "stdout",
     "output_type": "stream",
     "text": [
      "313/313 - 5s - 15ms/step - cell_acc: 0.8555 - loss: 0.3160 - precision_1: 0.5168 - recall_1: 0.0628 - val_cell_acc: 0.8575 - val_loss: 0.3213 - val_precision_1: 0.6801 - val_recall_1: 0.0342\n",
      "Epoch 84/100\n"
     ]
    },
    {
     "name": "stderr",
     "output_type": "stream",
     "text": [
      "WARNING:absl:You are saving your model as an HDF5 file via `model.save()` or `keras.saving.save_model(model)`. This file format is considered legacy. We recommend using instead the native Keras format, e.g. `model.save('my_model.keras')` or `keras.saving.save_model(model, 'my_model.keras')`. \n"
     ]
    },
    {
     "name": "stdout",
     "output_type": "stream",
     "text": [
      "313/313 - 5s - 15ms/step - cell_acc: 0.8555 - loss: 0.3157 - precision_1: 0.5171 - recall_1: 0.0636 - val_cell_acc: 0.8574 - val_loss: 0.3212 - val_precision_1: 0.6783 - val_recall_1: 0.0342\n",
      "Epoch 85/100\n",
      "313/313 - 5s - 15ms/step - cell_acc: 0.8555 - loss: 0.3158 - precision_1: 0.5179 - recall_1: 0.0634 - val_cell_acc: 0.8574 - val_loss: 0.3213 - val_precision_1: 0.6848 - val_recall_1: 0.0332\n",
      "Epoch 86/100\n",
      "313/313 - 4s - 14ms/step - cell_acc: 0.8555 - loss: 0.3156 - precision_1: 0.5160 - recall_1: 0.0635 - val_cell_acc: 0.8575 - val_loss: 0.3213 - val_precision_1: 0.6754 - val_recall_1: 0.0358\n",
      "Epoch 87/100\n",
      "313/313 - 5s - 14ms/step - cell_acc: 0.8555 - loss: 0.3155 - precision_1: 0.5165 - recall_1: 0.0635 - val_cell_acc: 0.8574 - val_loss: 0.3213 - val_precision_1: 0.6819 - val_recall_1: 0.0339\n",
      "Epoch 88/100\n",
      "313/313 - 4s - 14ms/step - cell_acc: 0.8555 - loss: 0.3155 - precision_1: 0.5172 - recall_1: 0.0640 - val_cell_acc: 0.8575 - val_loss: 0.3213 - val_precision_1: 0.6829 - val_recall_1: 0.0341\n",
      "Epoch 89/100\n",
      "313/313 - 5s - 14ms/step - cell_acc: 0.8555 - loss: 0.3155 - precision_1: 0.5169 - recall_1: 0.0638 - val_cell_acc: 0.8575 - val_loss: 0.3213 - val_precision_1: 0.6814 - val_recall_1: 0.0348\n",
      "Epoch 90/100\n",
      "313/313 - 5s - 15ms/step - cell_acc: 0.8555 - loss: 0.3153 - precision_1: 0.5158 - recall_1: 0.0641 - val_cell_acc: 0.8574 - val_loss: 0.3213 - val_precision_1: 0.6855 - val_recall_1: 0.0329\n",
      "Epoch 91/100\n",
      "313/313 - 4s - 14ms/step - cell_acc: 0.8554 - loss: 0.3154 - precision_1: 0.5157 - recall_1: 0.0638 - val_cell_acc: 0.8574 - val_loss: 0.3214 - val_precision_1: 0.6824 - val_recall_1: 0.0336\n",
      "Epoch 92/100\n",
      "313/313 - 4s - 14ms/step - cell_acc: 0.8555 - loss: 0.3152 - precision_1: 0.5183 - recall_1: 0.0646 - val_cell_acc: 0.8575 - val_loss: 0.3212 - val_precision_1: 0.6886 - val_recall_1: 0.0333\n",
      "Epoch 93/100\n",
      "313/313 - 4s - 14ms/step - cell_acc: 0.8555 - loss: 0.3151 - precision_1: 0.5157 - recall_1: 0.0648 - val_cell_acc: 0.8575 - val_loss: 0.3214 - val_precision_1: 0.6800 - val_recall_1: 0.0346\n",
      "Epoch 94/100\n",
      "313/313 - 5s - 14ms/step - cell_acc: 0.8555 - loss: 0.3150 - precision_1: 0.5168 - recall_1: 0.0647 - val_cell_acc: 0.8575 - val_loss: 0.3214 - val_precision_1: 0.6778 - val_recall_1: 0.0346\n",
      "\u001b[1m1563/1563\u001b[0m \u001b[32m━━━━━━━━━━━━━━━━━━━━\u001b[0m\u001b[37m\u001b[0m \u001b[1m3s\u001b[0m 2ms/step\n"
     ]
    }
   ],
   "source": [
    "# Reproducibility\n",
    "import random\n",
    "import numpy as np\n",
    "import pandas as pd\n",
    "import json\n",
    "import time\n",
    "import tensorflow as tf\n",
    "from sklearn.model_selection import train_test_split\n",
    "from sklearn.impute import SimpleImputer\n",
    "from sklearn.compose import ColumnTransformer\n",
    "from sklearn.preprocessing import StandardScaler, OneHotEncoder, LabelEncoder, MultiLabelBinarizer\n",
    "from sklearn.pipeline import Pipeline\n",
    "from tensorflow.keras.callbacks import EarlyStopping, ModelCheckpoint\n",
    "from tensorflow.keras.metrics import SparseTopKCategoricalAccuracy,BinaryAccuracy\n",
    "\n",
    "# Set seeds for reproducibility\n",
    "seed = 42\n",
    "random.seed(seed)\n",
    "np.random.seed(seed)\n",
    "tf.random.set_seed(seed)\n",
    "\n",
    "# Data Loading\n",
    "train_df = pd.read_csv('conway-s-reverse-game-of-life/train.csv.zip')\n",
    "test_df = pd.read_csv('conway-s-reverse-game-of-life/test.csv.zip')\n",
    "\n",
    "# Infer id and target columns from sample submission\n",
    "submission_example = pd.read_csv('conway-s-reverse-game-of-life/sampleSubmission.csv.zip', nrows=1)\n",
    "cols = list(submission_example.columns)\n",
    "id_col = cols[0]\n",
    "target_columns = cols[1:]\n",
    "\n",
    "# Combine training data (if multiple files)\n",
    "df = train_df.copy()\n",
    "\n",
    "def prepare_targets(df, target_columns, problem_subtype):\n",
    "    if problem_subtype in ['multi-label classification']:\n",
    "        mlb = MultiLabelBinarizer()\n",
    "        return mlb.fit_transform(df[target_columns]), mlb.classes_\n",
    "    elif problem_subtype in ['multiclass-classification', 'multiclass classification', 'ordinal-regression']:\n",
    "        # Here we treat each cell state independently; use raw values\n",
    "        return df[target_columns].values, None\n",
    "    else:\n",
    "        return df[target_columns].values, None\n",
    "\n",
    "competition_problem_subtype = 'multiclass-classification'\n",
    "y_train, classes_ = prepare_targets(df, target_columns, competition_problem_subtype)\n",
    "\n",
    "# Feature matrix\n",
    "X = df.drop(columns=[id_col] + target_columns, errors='ignore')\n",
    "\n",
    "# Test features\n",
    "X_test = test_df.drop(columns=[id_col] + target_columns, errors='ignore')\n",
    "test_ids = test_df[id_col]\n",
    "\n",
    "# Feature Engineering: drop all-missing columns\n",
    "drop_cols = X.columns[X.isna().all()].tolist()\n",
    "X.drop(columns=drop_cols, inplace=True)\n",
    "X_test = X_test[X.columns]\n",
    "\n",
    "# Identify numeric vs. categorical\n",
    "numeric_cols = X.select_dtypes(include=['int64', 'float64']).columns.tolist()\n",
    "categorical_cols = X.select_dtypes(include=['object', 'category']).columns.tolist()\n",
    "# Remove high-cardinality categoricals\n",
    "categorical_cols = [c for c in categorical_cols if X[c].nunique() <= 50]\n",
    "\n",
    "# Preprocessing pipelines\n",
    "numeric_transformer = Pipeline([\n",
    "    ('imputer', SimpleImputer(strategy='median')),\n",
    "    ('scaler', StandardScaler())\n",
    "])\n",
    "cat_transformer = Pipeline([\n",
    "    ('imputer', SimpleImputer(strategy='most_frequent')),\n",
    "    ('onehot', OneHotEncoder(handle_unknown='ignore', sparse_output=False))\n",
    "])\n",
    "preprocessor = ColumnTransformer([\n",
    "    ('num', numeric_transformer, numeric_cols),\n",
    "    ('cat', cat_transformer, categorical_cols)\n",
    "])\n",
    "\n",
    "# Fit & transform\n",
    "X_train_proc = preprocessor.fit_transform(X)\n",
    "X_test_proc = preprocessor.transform(X_test)\n",
    "\n",
    "# Model Architecture\n",
    "n_samples, n_features = X_train_proc.shape\n",
    "output_units = len(target_columns)\n",
    "from tensorflow.keras import layers, models\n",
    "model = models.Sequential()\n",
    "\n",
    "if n_samples > 10000 and n_features > 100:\n",
    "    layer_sizes = [min(int(n_features * i), 1024) for i in (2, 1, 0.5, 0.25)]\n",
    "    layer_sizes = [sz for sz in layer_sizes if sz >= 16]\n",
    "    for sz in layer_sizes:\n",
    "        model.add(layers.Dense(sz, activation='relu'))\n",
    "        model.add(layers.BatchNormalization())\n",
    "        model.add(layers.Dropout(0.3))\n",
    "else:\n",
    "    for sz in [min(n_features * 2, 128), min(n_features, 64)]:\n",
    "        model.add(layers.Dense(sz, activation='relu'))\n",
    "        model.add(layers.Dropout(0.3))\n",
    "\n",
    "# Output layer\n",
    "model.add(layers.Dense(output_units, activation='sigmoid'))\n",
    "\n",
    "# Compile\n",
    "model.compile(\n",
    "    optimizer='adam',\n",
    "    loss='binary_crossentropy',\n",
    "    metrics=[BinaryAccuracy(name='cell_acc'), tf.keras.metrics.Precision(), tf.keras.metrics.Recall()]\n",
    ")\n",
    "\n",
    "# Callbacks\n",
    "callbacks = [\n",
    "    EarlyStopping(patience=10, restore_best_weights=True),\n",
    "    ModelCheckpoint('best_model.h5', save_best_only=True)\n",
    "]\n",
    "\n",
    "# Training\n",
    "start_time = time.time()\n",
    "history = model.fit(\n",
    "    X_train_proc, y_train,\n",
    "    validation_split=0.2,\n",
    "    epochs=100,\n",
    "    batch_size=128,\n",
    "    callbacks=callbacks,\n",
    "    verbose=2\n",
    ")\n",
    "duration = time.time() - start_time\n",
    "\n",
    "# Logging results\n",
    "results = {\n",
    "    'training_accuracy': history.history['cell_acc'][-1],\n",
    "    'training_loss': history.history['loss'][-1],\n",
    "    'validation_accuracy': history.history['val_cell_acc'][-1],\n",
    "    'validation_loss': history.history['val_loss'][-1]\n",
    "}\n",
    "with open('results.json', 'w') as f:\n",
    "    json.dump(results, f)\n",
    "\n",
    "# Prediction & Submission\n",
    "raw_preds = model.predict(X_test_proc)\n",
    "final = (raw_preds > 0.5).astype(int)\n",
    "if final.ndim == 1:\n",
    "    final = final.reshape(-1, 1)\n",
    "\n",
    "submission = pd.DataFrame(final, columns=target_columns)\n",
    "submission.insert(0, id_col, test_ids.reset_index(drop=True))\n",
    "submission.to_csv('submission_result.csv', index=False)"
   ]
  },
  {
   "cell_type": "markdown",
   "metadata": {},
   "source": [
    "# Conway's Reverse Game of Life"
   ]
  },
  {
   "cell_type": "markdown",
   "metadata": {},
   "source": [
    "## Keras Tuner - 2 Attempts"
   ]
  },
  {
   "cell_type": "markdown",
   "metadata": {},
   "source": [
    "## Attempt 1 "
   ]
  },
  {
   "cell_type": "code",
   "execution_count": null,
   "metadata": {},
   "outputs": [
    {
     "ename": "NameError",
     "evalue": "name 'X_val_proc' is not defined",
     "output_type": "error",
     "traceback": [
      "\u001b[31m---------------------------------------------------------------------------\u001b[39m",
      "\u001b[31mNameError\u001b[39m                                 Traceback (most recent call last)",
      "\u001b[36mCell\u001b[39m\u001b[36m \u001b[39m\u001b[32mIn[5]\u001b[39m\u001b[32m, line 136\u001b[39m\n\u001b[32m    123\u001b[39m tuner = kt.BayesianOptimization(\n\u001b[32m    124\u001b[39m     MyHyperModel(),\n\u001b[32m    125\u001b[39m     objective=\u001b[33m'\u001b[39m\u001b[33mval_loss\u001b[39m\u001b[33m'\u001b[39m,\n\u001b[32m   (...)\u001b[39m\u001b[32m    130\u001b[39m     project_name=\u001b[33m'\u001b[39m\u001b[33mbayesian_tuner\u001b[39m\u001b[33m'\u001b[39m\n\u001b[32m    131\u001b[39m )\n\u001b[32m    133\u001b[39m \u001b[38;5;28;01mif\u001b[39;00m y_val \u001b[38;5;129;01mis\u001b[39;00m \u001b[38;5;129;01mnot\u001b[39;00m \u001b[38;5;28;01mNone\u001b[39;00m:\n\u001b[32m    134\u001b[39m     tuner.search(\n\u001b[32m    135\u001b[39m         X_train_proc, y_train,\n\u001b[32m--> \u001b[39m\u001b[32m136\u001b[39m         validation_data=(\u001b[43mX_val_proc\u001b[49m, y_val),\n\u001b[32m    137\u001b[39m         batch_size=bs, epochs=\u001b[32m1\u001b[39m,\n\u001b[32m    138\u001b[39m         callbacks=[early_stopping, checkpoint]\n\u001b[32m    139\u001b[39m     )\n\u001b[32m    140\u001b[39m \u001b[38;5;28;01melse\u001b[39;00m:\n\u001b[32m    141\u001b[39m     tuner.search(\n\u001b[32m    142\u001b[39m         X_train_proc, y_train,\n\u001b[32m    143\u001b[39m         validation_split=\u001b[32m0.2\u001b[39m,\n\u001b[32m    144\u001b[39m         batch_size=bs, epochs=\u001b[32m1\u001b[39m,\n\u001b[32m    145\u001b[39m         callbacks=[early_stopping, checkpoint]\n\u001b[32m    146\u001b[39m     )\n",
      "\u001b[31mNameError\u001b[39m: name 'X_val_proc' is not defined"
     ]
    }
   ],
   "source": [
    "# Reproducibility\n",
    "import random\n",
    "import numpy as np\n",
    "import pandas as pd\n",
    "import json\n",
    "import time\n",
    "import tensorflow as tf\n",
    "from sklearn.model_selection import train_test_split\n",
    "from sklearn.impute import SimpleImputer\n",
    "from sklearn.compose import ColumnTransformer\n",
    "from sklearn.preprocessing import StandardScaler, OneHotEncoder, LabelEncoder, MultiLabelBinarizer\n",
    "from sklearn.pipeline import Pipeline\n",
    "from tensorflow.keras.callbacks import EarlyStopping, ModelCheckpoint\n",
    "from tensorflow.keras.metrics import SparseTopKCategoricalAccuracy\n",
    "\n",
    "# Set seeds for reproducibility\n",
    "seed = 42\n",
    "random.seed(seed)\n",
    "np.random.seed(seed)\n",
    "tf.random.set_seed(seed)\n",
    "\n",
    "# Data Loading\n",
    "train_df = pd.read_csv('conway-s-reverse-game-of-life/train.csv.zip')\n",
    "test_df = pd.read_csv('conway-s-reverse-game-of-life/test.csv.zip')\n",
    "\n",
    "# Infer id and target columns from sample submission\n",
    "submission_example = pd.read_csv('conway-s-reverse-game-of-life/sampleSubmission.csv.zip', nrows=1)\n",
    "cols = list(submission_example.columns)\n",
    "id_col = cols[0]\n",
    "target_columns = cols[1:]\n",
    "\n",
    "# Combine training data (if multiple files)\n",
    "df = train_df.copy()\n",
    "\n",
    "def prepare_targets(df, target_columns, problem_subtype):\n",
    "    if problem_subtype in ['multi-label classification']:\n",
    "        mlb = MultiLabelBinarizer()\n",
    "        return mlb.fit_transform(df[target_columns]), mlb.classes_\n",
    "    elif problem_subtype in ['multiclass-classification', 'multiclass classification', 'ordinal-regression']:\n",
    "        # Here we treat each cell state independently; use raw values\n",
    "        return df[target_columns].values, None\n",
    "    else:\n",
    "        return df[target_columns].values, None\n",
    "\n",
    "competition_problem_subtype = 'multiclass-classification'\n",
    "y_train, classes_ = prepare_targets(df, target_columns, competition_problem_subtype)\n",
    "\n",
    "# Feature matrix\n",
    "X = df.drop(columns=[id_col] + target_columns, errors='ignore')\n",
    "\n",
    "# Test features\n",
    "X_test = test_df.drop(columns=[id_col] + target_columns, errors='ignore')\n",
    "test_ids = test_df[id_col]\n",
    "\n",
    "# Feature Engineering: drop all-missing columns\n",
    "drop_cols = X.columns[X.isna().all()].tolist()\n",
    "X.drop(columns=drop_cols, inplace=True)\n",
    "X_test = X_test[X.columns]\n",
    "\n",
    "# Identify numeric vs. categorical\n",
    "numeric_cols = X.select_dtypes(include=['int64', 'float64']).columns.tolist()\n",
    "categorical_cols = X.select_dtypes(include=['object', 'category']).columns.tolist()\n",
    "# Remove high-cardinality categoricals\n",
    "categorical_cols = [c for c in categorical_cols if X[c].nunique() <= 50]\n",
    "\n",
    "# Preprocessing pipelines\n",
    "numeric_transformer = Pipeline([\n",
    "    ('imputer', SimpleImputer(strategy='median')),\n",
    "    ('scaler', StandardScaler())\n",
    "])\n",
    "cat_transformer = Pipeline([\n",
    "    ('imputer', SimpleImputer(strategy='most_frequent')),\n",
    "    ('onehot', OneHotEncoder(handle_unknown='ignore', sparse_output=False))\n",
    "])\n",
    "preprocessor = ColumnTransformer([\n",
    "    ('num', numeric_transformer, numeric_cols),\n",
    "    ('cat', cat_transformer, categorical_cols)\n",
    "])\n",
    "\n",
    "# Fit & transform\n",
    "X_train_proc = preprocessor.fit_transform(X)\n",
    "X_test_proc = preprocessor.transform(X_test)\n",
    "\n",
    "# Model Architecture\n",
    "n_samples, n_features = X_train_proc.shape\n",
    "output_units = len(target_columns)\n",
    "import keras_tuner as kt\n",
    "from tensorflow.keras.layers import Input, Dense, Dropout, BatchNormalization\n",
    "from tensorflow.keras.models import Model\n",
    "from tensorflow.keras.callbacks import EarlyStopping, ModelCheckpoint\n",
    "\n",
    "# Callbacks\n",
    "early_stopping = EarlyStopping(monitor='val_loss', patience=10, restore_best_weights=True)\n",
    "checkpoint = ModelCheckpoint('best_model.h5', monitor='val_loss', save_best_only=True)\n",
    "\n",
    "# Preserve input dim\n",
    "n_features = X_train_proc.shape[1]\n",
    "\n",
    "class MyHyperModel(kt.HyperModel):\n",
    "    def build(self, hp):\n",
    "        layers = hp.Int('layers', 2, 8)\n",
    "        units = hp.Int('units', 64, 1024)\n",
    "        act = hp.Choice('activation', ['relu'])\n",
    "        drop = hp.Float('dropout', 0.0, 0.5)\n",
    "        opt = hp.Choice('optimizer', ['adam'])\n",
    "        lr = hp.Float('learning_rate', 1e-5, 0.01, sampling='log')\n",
    "\n",
    "        inputs = Input(shape=(n_features,))\n",
    "        x = inputs\n",
    "        for _ in range(layers):\n",
    "            x = Dense(units, activation=act)(x)\n",
    "            x = Dropout(drop)(x)\n",
    "        output_units = len(target_columns)\n",
    "        x = Dense(output_units, activation='sigmoid')(x)\n",
    "        model = Model(inputs, x)\n",
    "        model.compile(optimizer=opt, loss='binary_crossentropy', metrics=['accuracy', 'Precision', 'Recall'])\n",
    "        return model\n",
    "\n",
    "# Tuner\n",
    "bs = 64  # Example batch size\n",
    "ep = 100  # Example epochs\n",
    "\n",
    "tuner = kt.BayesianOptimization(\n",
    "    MyHyperModel(),\n",
    "    objective='val_loss',\n",
    "    max_trials=10,\n",
    "    executions_per_trial=1,\n",
    "    seed=42,\n",
    "    overwrite=True,\n",
    "    project_name='bayesian_tuner'\n",
    ")\n",
    "\n",
    "if y_val is not None:\n",
    "    tuner.search(\n",
    "        X_train_proc, y_train,\n",
    "        validation_data=(X_val_proc, y_val),\n",
    "        batch_size=bs, epochs=1,\n",
    "        callbacks=[early_stopping, checkpoint]\n",
    "    )\n",
    "else:\n",
    "    tuner.search(\n",
    "        X_train_proc, y_train,\n",
    "        validation_split=0.2,\n",
    "        batch_size=bs, epochs=1,\n",
    "        callbacks=[early_stopping, checkpoint]\n",
    "    )\n",
    "\n",
    "model = tuner.hypermodel.build(tuner.get_best_hyperparameters(1)[0])\n",
    "\n",
    "# Retrain model with original callbacks and data\n",
    "if y_val is not None:\n",
    "    history = model.fit(\n",
    "        X_train_proc, y_train,\n",
    "        validation_data=(X_val_proc, y_val),\n",
    "        epochs=1, batch_size=bs,\n",
    "        callbacks=[early_stopping, checkpoint],\n",
    "        verbose=2\n",
    "    )\n",
    "else:\n",
    "    history = model.fit(\n",
    "        X_train_proc, y_train,\n",
    "        validation_split=0.2,\n",
    "        epochs=1, batch_size=bs,\n",
    "        callbacks=[early_stopping, checkpoint],\n",
    "        verbose=2\n",
    "    )\n",
    "\n",
    "# Logging results\n",
    "results = {\n",
    "    'training_accuracy': history.history['accuracy'][-1],\n",
    "    'training_loss': history.history['loss'][-1],\n",
    "    'validation_accuracy': history.history['val_accuracy'][-1],\n",
    "    'validation_loss': history.history['val_loss'][-1]\n",
    "}\n",
    "with open('results.json', 'w') as f:\n",
    "    json.dump(results, f)\n",
    "\n",
    "# Prediction & Submission\n",
    "raw_preds = model.predict(X_test_proc)\n",
    "final = (raw_preds > 0.5).astype(int)\n",
    "if final.ndim == 1:\n",
    "    final = final.reshape(-1, 1)\n",
    "\n",
    "submission = pd.DataFrame(final, columns=target_columns)\n",
    "submission.insert(0, id_col, test_ids.reset_index(drop=True))\n",
    "submission.to_csv('submission_result.csv', index=False)"
   ]
  },
  {
   "cell_type": "markdown",
   "metadata": {},
   "source": [
    "## Attempt 2"
   ]
  },
  {
   "cell_type": "code",
   "execution_count": null,
   "metadata": {},
   "outputs": [
    {
     "name": "stdout",
     "output_type": "stream",
     "text": [
      "Trial 10 Complete [00h 06m 24s]\n",
      "val_loss: 0.3264213502407074\n",
      "\n",
      "Best val_loss So Far: 0.31926238536834717\n",
      "Total elapsed time: 00h 47m 08s\n",
      "Epoch 1/100\n"
     ]
    },
    {
     "name": "stderr",
     "output_type": "stream",
     "text": [
      "WARNING:absl:You are saving your model as an HDF5 file via `model.save()` or `keras.saving.save_model(model)`. This file format is considered legacy. We recommend using instead the native Keras format, e.g. `model.save('my_model.keras')` or `keras.saving.save_model(model, 'my_model.keras')`. \n"
     ]
    },
    {
     "name": "stdout",
     "output_type": "stream",
     "text": [
      "625/625 - 5s - 8ms/step - Precision: 0.3847 - Recall: 0.0312 - cell_acc: 0.8522 - loss: 0.3579 - val_Precision: 0.5539 - val_Recall: 0.0470 - val_cell_acc: 0.8561 - val_loss: 0.3294\n",
      "Epoch 2/100\n"
     ]
    },
    {
     "name": "stderr",
     "output_type": "stream",
     "text": [
      "WARNING:absl:You are saving your model as an HDF5 file via `model.save()` or `keras.saving.save_model(model)`. This file format is considered legacy. We recommend using instead the native Keras format, e.g. `model.save('my_model.keras')` or `keras.saving.save_model(model, 'my_model.keras')`. \n"
     ]
    },
    {
     "name": "stdout",
     "output_type": "stream",
     "text": [
      "625/625 - 3s - 5ms/step - Precision: 0.5180 - Recall: 0.0648 - cell_acc: 0.8555 - loss: 0.3330 - val_Precision: 0.5676 - val_Recall: 0.0660 - val_cell_acc: 0.8571 - val_loss: 0.3240\n",
      "Epoch 3/100\n"
     ]
    },
    {
     "name": "stderr",
     "output_type": "stream",
     "text": [
      "WARNING:absl:You are saving your model as an HDF5 file via `model.save()` or `keras.saving.save_model(model)`. This file format is considered legacy. We recommend using instead the native Keras format, e.g. `model.save('my_model.keras')` or `keras.saving.save_model(model, 'my_model.keras')`. \n"
     ]
    },
    {
     "name": "stdout",
     "output_type": "stream",
     "text": [
      "625/625 - 3s - 5ms/step - Precision: 0.5359 - Recall: 0.0742 - cell_acc: 0.8563 - loss: 0.3277 - val_Precision: 0.5782 - val_Recall: 0.0717 - val_cell_acc: 0.8576 - val_loss: 0.3221\n",
      "Epoch 4/100\n"
     ]
    },
    {
     "name": "stderr",
     "output_type": "stream",
     "text": [
      "WARNING:absl:You are saving your model as an HDF5 file via `model.save()` or `keras.saving.save_model(model)`. This file format is considered legacy. We recommend using instead the native Keras format, e.g. `model.save('my_model.keras')` or `keras.saving.save_model(model, 'my_model.keras')`. \n"
     ]
    },
    {
     "name": "stdout",
     "output_type": "stream",
     "text": [
      "625/625 - 3s - 6ms/step - Precision: 0.5478 - Recall: 0.0786 - cell_acc: 0.8569 - loss: 0.3250 - val_Precision: 0.5833 - val_Recall: 0.0754 - val_cell_acc: 0.8579 - val_loss: 0.3209\n",
      "Epoch 5/100\n"
     ]
    },
    {
     "name": "stderr",
     "output_type": "stream",
     "text": [
      "WARNING:absl:You are saving your model as an HDF5 file via `model.save()` or `keras.saving.save_model(model)`. This file format is considered legacy. We recommend using instead the native Keras format, e.g. `model.save('my_model.keras')` or `keras.saving.save_model(model, 'my_model.keras')`. \n"
     ]
    },
    {
     "name": "stdout",
     "output_type": "stream",
     "text": [
      "625/625 - 3s - 6ms/step - Precision: 0.5532 - Recall: 0.0817 - cell_acc: 0.8572 - loss: 0.3232 - val_Precision: 0.5876 - val_Recall: 0.0748 - val_cell_acc: 0.8580 - val_loss: 0.3202\n",
      "Epoch 6/100\n"
     ]
    },
    {
     "name": "stderr",
     "output_type": "stream",
     "text": [
      "WARNING:absl:You are saving your model as an HDF5 file via `model.save()` or `keras.saving.save_model(model)`. This file format is considered legacy. We recommend using instead the native Keras format, e.g. `model.save('my_model.keras')` or `keras.saving.save_model(model, 'my_model.keras')`. \n"
     ]
    },
    {
     "name": "stdout",
     "output_type": "stream",
     "text": [
      "625/625 - 3s - 5ms/step - Precision: 0.5584 - Recall: 0.0853 - cell_acc: 0.8575 - loss: 0.3215 - val_Precision: 0.5870 - val_Recall: 0.0791 - val_cell_acc: 0.8582 - val_loss: 0.3198\n",
      "Epoch 7/100\n"
     ]
    },
    {
     "name": "stderr",
     "output_type": "stream",
     "text": [
      "WARNING:absl:You are saving your model as an HDF5 file via `model.save()` or `keras.saving.save_model(model)`. This file format is considered legacy. We recommend using instead the native Keras format, e.g. `model.save('my_model.keras')` or `keras.saving.save_model(model, 'my_model.keras')`. \n"
     ]
    },
    {
     "name": "stdout",
     "output_type": "stream",
     "text": [
      "625/625 - 3s - 5ms/step - Precision: 0.5625 - Recall: 0.0876 - cell_acc: 0.8577 - loss: 0.3205 - val_Precision: 0.5973 - val_Recall: 0.0734 - val_cell_acc: 0.8583 - val_loss: 0.3194\n",
      "Epoch 8/100\n",
      "625/625 - 3s - 5ms/step - Precision: 0.5632 - Recall: 0.0893 - cell_acc: 0.8578 - loss: 0.3194 - val_Precision: 0.5934 - val_Recall: 0.0815 - val_cell_acc: 0.8585 - val_loss: 0.3195\n",
      "Epoch 9/100\n"
     ]
    },
    {
     "name": "stderr",
     "output_type": "stream",
     "text": [
      "WARNING:absl:You are saving your model as an HDF5 file via `model.save()` or `keras.saving.save_model(model)`. This file format is considered legacy. We recommend using instead the native Keras format, e.g. `model.save('my_model.keras')` or `keras.saving.save_model(model, 'my_model.keras')`. \n"
     ]
    },
    {
     "name": "stdout",
     "output_type": "stream",
     "text": [
      "625/625 - 4s - 6ms/step - Precision: 0.5653 - Recall: 0.0911 - cell_acc: 0.8579 - loss: 0.3187 - val_Precision: 0.6002 - val_Recall: 0.0790 - val_cell_acc: 0.8586 - val_loss: 0.3192\n",
      "Epoch 10/100\n",
      "625/625 - 3s - 5ms/step - Precision: 0.5679 - Recall: 0.0931 - cell_acc: 0.8581 - loss: 0.3179 - val_Precision: 0.6010 - val_Recall: 0.0791 - val_cell_acc: 0.8587 - val_loss: 0.3193\n",
      "Epoch 11/100\n",
      "625/625 - 3s - 6ms/step - Precision: 0.5693 - Recall: 0.0944 - cell_acc: 0.8582 - loss: 0.3172 - val_Precision: 0.6046 - val_Recall: 0.0778 - val_cell_acc: 0.8587 - val_loss: 0.3194\n",
      "Epoch 12/100\n"
     ]
    },
    {
     "name": "stderr",
     "output_type": "stream",
     "text": [
      "WARNING:absl:You are saving your model as an HDF5 file via `model.save()` or `keras.saving.save_model(model)`. This file format is considered legacy. We recommend using instead the native Keras format, e.g. `model.save('my_model.keras')` or `keras.saving.save_model(model, 'my_model.keras')`. \n"
     ]
    },
    {
     "name": "stdout",
     "output_type": "stream",
     "text": [
      "625/625 - 4s - 6ms/step - Precision: 0.5718 - Recall: 0.0959 - cell_acc: 0.8584 - loss: 0.3166 - val_Precision: 0.6045 - val_Recall: 0.0787 - val_cell_acc: 0.8588 - val_loss: 0.3192\n",
      "Epoch 13/100\n",
      "625/625 - 4s - 6ms/step - Precision: 0.5723 - Recall: 0.0965 - cell_acc: 0.8584 - loss: 0.3161 - val_Precision: 0.6044 - val_Recall: 0.0811 - val_cell_acc: 0.8589 - val_loss: 0.3194\n",
      "Epoch 14/100\n",
      "625/625 - 4s - 6ms/step - Precision: 0.5742 - Recall: 0.0975 - cell_acc: 0.8585 - loss: 0.3158 - val_Precision: 0.6021 - val_Recall: 0.0822 - val_cell_acc: 0.8589 - val_loss: 0.3195\n",
      "Epoch 15/100\n",
      "625/625 - 3s - 6ms/step - Precision: 0.5751 - Recall: 0.0988 - cell_acc: 0.8586 - loss: 0.3151 - val_Precision: 0.6087 - val_Recall: 0.0788 - val_cell_acc: 0.8589 - val_loss: 0.3193\n",
      "Epoch 16/100\n",
      "625/625 - 4s - 6ms/step - Precision: 0.5766 - Recall: 0.0990 - cell_acc: 0.8587 - loss: 0.3148 - val_Precision: 0.6052 - val_Recall: 0.0804 - val_cell_acc: 0.8589 - val_loss: 0.3193\n",
      "Epoch 17/100\n",
      "625/625 - 4s - 6ms/step - Precision: 0.5788 - Recall: 0.1001 - cell_acc: 0.8588 - loss: 0.3145 - val_Precision: 0.6107 - val_Recall: 0.0789 - val_cell_acc: 0.8590 - val_loss: 0.3195\n",
      "Epoch 18/100\n",
      "625/625 - 4s - 6ms/step - Precision: 0.5779 - Recall: 0.0998 - cell_acc: 0.8588 - loss: 0.3142 - val_Precision: 0.6057 - val_Recall: 0.0808 - val_cell_acc: 0.8589 - val_loss: 0.3195\n",
      "Epoch 19/100\n",
      "625/625 - 3s - 5ms/step - Precision: 0.5796 - Recall: 0.1007 - cell_acc: 0.8589 - loss: 0.3139 - val_Precision: 0.6104 - val_Recall: 0.0807 - val_cell_acc: 0.8590 - val_loss: 0.3196\n",
      "Epoch 20/100\n",
      "625/625 - 3s - 6ms/step - Precision: 0.5802 - Recall: 0.1009 - cell_acc: 0.8589 - loss: 0.3135 - val_Precision: 0.6078 - val_Recall: 0.0828 - val_cell_acc: 0.8591 - val_loss: 0.3198\n",
      "Epoch 21/100\n",
      "625/625 - 3s - 5ms/step - Precision: 0.5810 - Recall: 0.1017 - cell_acc: 0.8590 - loss: 0.3133 - val_Precision: 0.6119 - val_Recall: 0.0797 - val_cell_acc: 0.8590 - val_loss: 0.3197\n",
      "Epoch 22/100\n",
      "625/625 - 3s - 5ms/step - Precision: 0.5801 - Recall: 0.1015 - cell_acc: 0.8590 - loss: 0.3131 - val_Precision: 0.6134 - val_Recall: 0.0783 - val_cell_acc: 0.8590 - val_loss: 0.3198\n",
      "Training time: 78.06063437461853 seconds\n",
      "\u001b[1m1563/1563\u001b[0m \u001b[32m━━━━━━━━━━━━━━━━━━━━\u001b[0m\u001b[37m\u001b[0m \u001b[1m2s\u001b[0m 1ms/step\n"
     ]
    }
   ],
   "source": [
    "# Reproducibility\n",
    "import random\n",
    "import numpy as np\n",
    "import pandas as pd\n",
    "import json\n",
    "import time\n",
    "import tensorflow as tf\n",
    "from sklearn.model_selection import train_test_split\n",
    "from sklearn.impute import SimpleImputer\n",
    "from sklearn.compose import ColumnTransformer\n",
    "from sklearn.preprocessing import StandardScaler, OneHotEncoder, MultiLabelBinarizer\n",
    "from sklearn.pipeline import Pipeline\n",
    "from tensorflow.keras.callbacks import EarlyStopping, ModelCheckpoint\n",
    "from tensorflow.keras.metrics import SparseTopKCategoricalAccuracy, BinaryAccuracy\n",
    "\n",
    "# Set seeds for reproducibility\n",
    "seed = 42\n",
    "random.seed(seed)\n",
    "np.random.seed(seed)\n",
    "tf.random.set_seed(seed)\n",
    "\n",
    "# Data Loading\n",
    "train_df = pd.read_csv('conway-s-reverse-game-of-life/train.csv.zip')\n",
    "test_df = pd.read_csv('conway-s-reverse-game-of-life/test.csv.zip')\n",
    "\n",
    "# Infer id and target columns from sample submission\n",
    "submission_example = pd.read_csv('conway-s-reverse-game-of-life/sampleSubmission.csv.zip', nrows=1)\n",
    "cols = list(submission_example.columns)\n",
    "id_col = cols[0]\n",
    "target_columns = cols[1:]\n",
    "\n",
    "# Combine training data (if multiple files)\n",
    "df = train_df.copy()\n",
    "\n",
    "def prepare_targets(df, target_columns, problem_subtype):\n",
    "    if problem_subtype in ['multi-label classification']:\n",
    "        mlb = MultiLabelBinarizer()\n",
    "        return mlb.fit_transform(df[target_columns]), mlb.classes_\n",
    "    elif problem_subtype in ['multiclass-classification', 'multiclass classification', 'ordinal-regression']:\n",
    "        # Here we treat each cell state independently; use raw values\n",
    "        return df[target_columns].values, None\n",
    "    else:\n",
    "        return df[target_columns].values, None\n",
    "\n",
    "competition_problem_subtype = 'multiclass-classification'\n",
    "y_train, classes_ = prepare_targets(df, target_columns, competition_problem_subtype)\n",
    "\n",
    "# Feature matrix\n",
    "X = df.drop(columns=[id_col] + target_columns, errors='ignore')\n",
    "\n",
    "# Test features\n",
    "X_test = test_df.drop(columns=[id_col] + target_columns, errors='ignore')\n",
    "test_ids = test_df[id_col]\n",
    "\n",
    "# Feature Engineering: drop all-missing columns\n",
    "drop_cols = X.columns[X.isna().all()].tolist()\n",
    "X.drop(columns=drop_cols, inplace=True)\n",
    "X_test = X_test[X.columns]\n",
    "\n",
    "# Identify numeric vs. categorical\n",
    "numeric_cols = X.select_dtypes(include=['int64', 'float64']).columns.tolist()\n",
    "categorical_cols = X.select_dtypes(include=['object', 'category']).columns.tolist()\n",
    "# Remove high-cardinality categoricals\n",
    "categorical_cols = [c for c in categorical_cols if X[c].nunique() <= 50]\n",
    "\n",
    "# Preprocessing pipelines\n",
    "numeric_transformer = Pipeline([\n",
    "    ('imputer', SimpleImputer(strategy='median')),\n",
    "    ('scaler', StandardScaler())\n",
    "])\n",
    "cat_transformer = Pipeline([\n",
    "    ('imputer', SimpleImputer(strategy='most_frequent')),\n",
    "    ('onehot', OneHotEncoder(handle_unknown='ignore', sparse_output=False))\n",
    "])\n",
    "preprocessor = ColumnTransformer([\n",
    "    ('num', numeric_transformer, numeric_cols),\n",
    "    ('cat', cat_transformer, categorical_cols)\n",
    "])\n",
    "\n",
    "# Fit & transform\n",
    "X_train_proc = preprocessor.fit_transform(X)\n",
    "X_test_proc = preprocessor.transform(X_test)\n",
    "\n",
    "# Split the data for validation\n",
    "X_train_proc, X_val_proc, y_train, y_val = train_test_split(X_train_proc, y_train, test_size=0.2, random_state=seed)\n",
    "\n",
    "# Model Architecture\n",
    "n_samples, n_features = X_train_proc.shape\n",
    "output_units = len(target_columns)\n",
    "import keras_tuner as kt\n",
    "from tensorflow.keras.layers import Input, Dense, Dropout, BatchNormalization\n",
    "from tensorflow.keras.models import Model\n",
    "from tensorflow.keras.callbacks import EarlyStopping, ModelCheckpoint\n",
    "\n",
    "# Callbacks\n",
    "early_stopping = EarlyStopping(monitor='val_loss', patience=10, restore_best_weights=True)\n",
    "checkpoint = ModelCheckpoint('best_model.h5', monitor='val_loss', save_best_only=True)\n",
    "\n",
    "# Preserve input dim\n",
    "n_features = X_train_proc.shape[1]\n",
    "\n",
    "class MyHyperModel(kt.HyperModel):\n",
    "    def build(self, hp):\n",
    "        layers = hp.Int('layers', 2, 8)\n",
    "        units = hp.Int('units', 64, 1024)\n",
    "        act = hp.Choice('activation', ['relu'])\n",
    "        drop = hp.Float('dropout', 0.0, 0.5)\n",
    "        opt = hp.Choice('optimizer', ['adam'])\n",
    "        lr = hp.Float('learning_rate', 1e-5, 0.01, sampling='log')\n",
    "\n",
    "        inputs = Input(shape=(n_features,))\n",
    "        x = inputs\n",
    "        for _ in range(layers):\n",
    "            x = Dense(units, activation=act)(x)\n",
    "            x = Dropout(drop)(x)\n",
    "        output_units = len(target_columns)\n",
    "        x = Dense(output_units, activation='sigmoid')(x)\n",
    "        model = Model(inputs, x)\n",
    "        model.compile(optimizer=opt, loss='binary_crossentropy', metrics=[BinaryAccuracy(name='cell_acc'), 'Precision', 'Recall'])\n",
    "        return model\n",
    "\n",
    "# Tuner\n",
    "bs = 64  # Example batch size\n",
    "ep = 100  # Example epochs\n",
    "\n",
    "tuner = kt.BayesianOptimization(\n",
    "    MyHyperModel(),\n",
    "    objective='val_loss',\n",
    "    max_trials=10,\n",
    "    executions_per_trial=1,\n",
    "    seed=42,\n",
    "    overwrite=False,\n",
    "    project_name='bayesian_tuner'\n",
    ")\n",
    "\n",
    "if y_val is not None:\n",
    "    tuner.search(\n",
    "        X_train_proc, y_train,\n",
    "        validation_data=(X_val_proc, y_val),\n",
    "        batch_size=bs, epochs=ep,\n",
    "        callbacks=[early_stopping, checkpoint]\n",
    "    )\n",
    "else:\n",
    "    tuner.search(\n",
    "        X_train_proc, y_train,\n",
    "        validation_split=0.2,\n",
    "        batch_size=bs, epochs=ep,\n",
    "        callbacks=[early_stopping, checkpoint]\n",
    "    )\n",
    "\n",
    "model = tuner.hypermodel.build(tuner.get_best_hyperparameters(1)[0])\n",
    "\n",
    "# Retrain model with original callbacks and data\n",
    "start_time = time.time()  # Start time for training\n",
    "if y_val is not None:\n",
    "    history = model.fit(\n",
    "        X_train_proc, y_train,\n",
    "        validation_data=(X_val_proc, y_val),\n",
    "        epochs=100, batch_size=bs,\n",
    "        callbacks=[early_stopping, checkpoint],\n",
    "        verbose=2\n",
    "    )\n",
    "else:\n",
    "    history = model.fit(\n",
    "        X_train_proc, y_train,\n",
    "        validation_split=0.2,\n",
    "        epochs=100, batch_size=bs,\n",
    "        callbacks=[early_stopping, checkpoint],\n",
    "        verbose=2\n",
    "    )\n",
    "end_time = time.time()  # End time for training\n",
    "print(f\"Training time: {end_time - start_time} seconds\")\n",
    "\n",
    "# Logging results\n",
    "results = {\n",
    "    'training_accuracy': history.history['cell_acc'][-1],\n",
    "    'training_loss': history.history['loss'][-1],\n",
    "    'validation_accuracy': history.history['val_cell_acc'][-1],\n",
    "    'validation_loss': history.history['val_loss'][-1]\n",
    "}\n",
    "with open('results.json', 'w') as f:\n",
    "    json.dump(results, f)\n",
    "\n",
    "# Prediction & Submission\n",
    "raw_preds = model.predict(X_test_proc)\n",
    "final = (raw_preds > 0.5).astype(int)\n",
    "if final.ndim == 1:\n",
    "    final = final.reshape(-1, 1)\n",
    "\n",
    "submission = pd.DataFrame(final, columns=target_columns)\n",
    "submission.insert(0, id_col, test_ids.reset_index(drop=True))\n",
    "submission.to_csv('submission_result.csv', index=False)"
   ]
  }
 ],
 "metadata": {
  "kernelspec": {
   "display_name": "Python 3",
   "language": "python",
   "name": "python3"
  },
  "language_info": {
   "codemirror_mode": {
    "name": "ipython",
    "version": 3
   },
   "file_extension": ".py",
   "mimetype": "text/x-python",
   "name": "python",
   "nbconvert_exporter": "python",
   "pygments_lexer": "ipython3",
   "version": "3.12.3"
  }
 },
 "nbformat": 4,
 "nbformat_minor": 2
}
