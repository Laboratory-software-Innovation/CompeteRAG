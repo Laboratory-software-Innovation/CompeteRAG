{
 "cells": [
  {
   "cell_type": "markdown",
   "metadata": {},
   "source": [
    "# Poker Rule Induction\n"
   ]
  },
  {
   "cell_type": "markdown",
   "metadata": {},
   "source": [
    "## Keras - 2 Attempts"
   ]
  },
  {
   "cell_type": "markdown",
   "metadata": {},
   "source": [
    "## Attempt 1 "
   ]
  },
  {
   "cell_type": "code",
   "execution_count": 2,
   "metadata": {},
   "outputs": [
    {
     "ename": "KeyError",
     "evalue": "'id'",
     "output_type": "error",
     "traceback": [
      "\u001b[31m---------------------------------------------------------------------------\u001b[39m",
      "\u001b[31mKeyError\u001b[39m                                  Traceback (most recent call last)",
      "\u001b[36mFile \u001b[39m\u001b[32m~/.local/lib/python3.12/site-packages/pandas/core/indexes/base.py:3812\u001b[39m, in \u001b[36mIndex.get_loc\u001b[39m\u001b[34m(self, key)\u001b[39m\n\u001b[32m   3811\u001b[39m \u001b[38;5;28;01mtry\u001b[39;00m:\n\u001b[32m-> \u001b[39m\u001b[32m3812\u001b[39m     \u001b[38;5;28;01mreturn\u001b[39;00m \u001b[38;5;28;43mself\u001b[39;49m\u001b[43m.\u001b[49m\u001b[43m_engine\u001b[49m\u001b[43m.\u001b[49m\u001b[43mget_loc\u001b[49m\u001b[43m(\u001b[49m\u001b[43mcasted_key\u001b[49m\u001b[43m)\u001b[49m\n\u001b[32m   3813\u001b[39m \u001b[38;5;28;01mexcept\u001b[39;00m \u001b[38;5;167;01mKeyError\u001b[39;00m \u001b[38;5;28;01mas\u001b[39;00m err:\n",
      "\u001b[36mFile \u001b[39m\u001b[32mpandas/_libs/index.pyx:167\u001b[39m, in \u001b[36mpandas._libs.index.IndexEngine.get_loc\u001b[39m\u001b[34m()\u001b[39m\n",
      "\u001b[36mFile \u001b[39m\u001b[32mpandas/_libs/index.pyx:196\u001b[39m, in \u001b[36mpandas._libs.index.IndexEngine.get_loc\u001b[39m\u001b[34m()\u001b[39m\n",
      "\u001b[36mFile \u001b[39m\u001b[32mpandas/_libs/hashtable_class_helper.pxi:7088\u001b[39m, in \u001b[36mpandas._libs.hashtable.PyObjectHashTable.get_item\u001b[39m\u001b[34m()\u001b[39m\n",
      "\u001b[36mFile \u001b[39m\u001b[32mpandas/_libs/hashtable_class_helper.pxi:7096\u001b[39m, in \u001b[36mpandas._libs.hashtable.PyObjectHashTable.get_item\u001b[39m\u001b[34m()\u001b[39m\n",
      "\u001b[31mKeyError\u001b[39m: 'id'",
      "\nThe above exception was the direct cause of the following exception:\n",
      "\u001b[31mKeyError\u001b[39m                                  Traceback (most recent call last)",
      "\u001b[36mCell\u001b[39m\u001b[36m \u001b[39m\u001b[32mIn[2]\u001b[39m\u001b[32m, line 40\u001b[39m\n\u001b[32m     38\u001b[39m \u001b[38;5;66;03m# 4. Train/Test Split\u001b[39;00m\n\u001b[32m     39\u001b[39m X = df.drop(columns=target_columns + [id_col], errors=\u001b[33m'\u001b[39m\u001b[33mignore\u001b[39m\u001b[33m'\u001b[39m)\n\u001b[32m---> \u001b[39m\u001b[32m40\u001b[39m train_ids = \u001b[43mdf\u001b[49m\u001b[43m[\u001b[49m\u001b[43mid_col\u001b[49m\u001b[43m]\u001b[49m\n\u001b[32m     41\u001b[39m test_ids = df_test[id_col]\n\u001b[32m     42\u001b[39m X_train = X.copy()\n",
      "\u001b[36mFile \u001b[39m\u001b[32m~/.local/lib/python3.12/site-packages/pandas/core/frame.py:4107\u001b[39m, in \u001b[36mDataFrame.__getitem__\u001b[39m\u001b[34m(self, key)\u001b[39m\n\u001b[32m   4105\u001b[39m \u001b[38;5;28;01mif\u001b[39;00m \u001b[38;5;28mself\u001b[39m.columns.nlevels > \u001b[32m1\u001b[39m:\n\u001b[32m   4106\u001b[39m     \u001b[38;5;28;01mreturn\u001b[39;00m \u001b[38;5;28mself\u001b[39m._getitem_multilevel(key)\n\u001b[32m-> \u001b[39m\u001b[32m4107\u001b[39m indexer = \u001b[38;5;28;43mself\u001b[39;49m\u001b[43m.\u001b[49m\u001b[43mcolumns\u001b[49m\u001b[43m.\u001b[49m\u001b[43mget_loc\u001b[49m\u001b[43m(\u001b[49m\u001b[43mkey\u001b[49m\u001b[43m)\u001b[49m\n\u001b[32m   4108\u001b[39m \u001b[38;5;28;01mif\u001b[39;00m is_integer(indexer):\n\u001b[32m   4109\u001b[39m     indexer = [indexer]\n",
      "\u001b[36mFile \u001b[39m\u001b[32m~/.local/lib/python3.12/site-packages/pandas/core/indexes/base.py:3819\u001b[39m, in \u001b[36mIndex.get_loc\u001b[39m\u001b[34m(self, key)\u001b[39m\n\u001b[32m   3814\u001b[39m     \u001b[38;5;28;01mif\u001b[39;00m \u001b[38;5;28misinstance\u001b[39m(casted_key, \u001b[38;5;28mslice\u001b[39m) \u001b[38;5;129;01mor\u001b[39;00m (\n\u001b[32m   3815\u001b[39m         \u001b[38;5;28misinstance\u001b[39m(casted_key, abc.Iterable)\n\u001b[32m   3816\u001b[39m         \u001b[38;5;129;01mand\u001b[39;00m \u001b[38;5;28many\u001b[39m(\u001b[38;5;28misinstance\u001b[39m(x, \u001b[38;5;28mslice\u001b[39m) \u001b[38;5;28;01mfor\u001b[39;00m x \u001b[38;5;129;01min\u001b[39;00m casted_key)\n\u001b[32m   3817\u001b[39m     ):\n\u001b[32m   3818\u001b[39m         \u001b[38;5;28;01mraise\u001b[39;00m InvalidIndexError(key)\n\u001b[32m-> \u001b[39m\u001b[32m3819\u001b[39m     \u001b[38;5;28;01mraise\u001b[39;00m \u001b[38;5;167;01mKeyError\u001b[39;00m(key) \u001b[38;5;28;01mfrom\u001b[39;00m\u001b[38;5;250m \u001b[39m\u001b[34;01merr\u001b[39;00m\n\u001b[32m   3820\u001b[39m \u001b[38;5;28;01mexcept\u001b[39;00m \u001b[38;5;167;01mTypeError\u001b[39;00m:\n\u001b[32m   3821\u001b[39m     \u001b[38;5;66;03m# If we have a listlike key, _check_indexing_error will raise\u001b[39;00m\n\u001b[32m   3822\u001b[39m     \u001b[38;5;66;03m#  InvalidIndexError. Otherwise we fall through and re-raise\u001b[39;00m\n\u001b[32m   3823\u001b[39m     \u001b[38;5;66;03m#  the TypeError.\u001b[39;00m\n\u001b[32m   3824\u001b[39m     \u001b[38;5;28mself\u001b[39m._check_indexing_error(key)\n",
      "\u001b[31mKeyError\u001b[39m: 'id'"
     ]
    }
   ],
   "source": [
    "\n",
    "import random\n",
    "import os\n",
    "import time\n",
    "import json\n",
    "import numpy as np\n",
    "import pandas as pd\n",
    "from sklearn.model_selection import train_test_split\n",
    "from sklearn.impute import SimpleImputer\n",
    "from sklearn.compose import ColumnTransformer\n",
    "from sklearn.preprocessing import StandardScaler, OneHotEncoder, LabelEncoder\n",
    "from sklearn.pipeline import Pipeline\n",
    "import tensorflow as tf\n",
    "from tensorflow.keras.callbacks import EarlyStopping, ModelCheckpoint\n",
    "from tensorflow.keras.metrics import SparseTopKCategoricalAccuracy\n",
    "\n",
    "# 1. Reproducibility\n",
    "seed = 42\n",
    "random.seed(seed)\n",
    "np.random.seed(seed)\n",
    "os.environ['PYTHONHASHSEED'] = str(seed)\n",
    "tf.random.set_seed(seed)\n",
    "\n",
    "# 2. Data Loading\n",
    "train_df = pd.read_csv('poker-rule-induction/train.csv.zip', compression='zip')\n",
    "df_test = pd.read_csv('poker-rule-induction/test.csv.zip', compression='zip')\n",
    "submission_example = pd.read_csv('poker-rule-induction/sampleSubmission.csv.zip', compression='zip')\n",
    "\n",
    "id_col = submission_example.columns[0]\n",
    "target_columns = submission_example.columns.tolist()[1:]\n",
    "\n",
    "df = pd.concat([train_df], ignore_index=True)\n",
    "\n",
    "# 3. Target Encoding\n",
    "le = LabelEncoder().fit(df[target_columns[0]].astype(str))\n",
    "y_enc = le.transform(df[target_columns[0]].astype(str))\n",
    "num_classes = len(le.classes_)\n",
    "\n",
    "# 4. Train/Test Split\n",
    "X = df.drop(columns=target_columns + [id_col], errors='ignore')\n",
    "train_ids = df[id_col]\n",
    "test_ids = df_test[id_col]\n",
    "X_train = X.copy()\n",
    "y_train = y_enc\n",
    "X_val = df_test.drop(columns=target_columns + [id_col], errors='ignore')\n",
    "y_val = None\n",
    "\n",
    "# 5. Feature Engineering\n",
    "# Drop columns with all missing values\n",
    "X_train = X_train.loc[:, X_train.notnull().any()]\n",
    "X_val = X_val[X_train.columns]\n",
    "\n",
    "# Identify numeric and categorical\n",
    "numeric_cols = X_train.select_dtypes(include=['int64','float64']).columns.tolist()\n",
    "categorical_cols = X_train.select_dtypes(include=['object','category']).columns.tolist()\n",
    "\n",
    "# 6. Preprocessing Pipeline\n",
    "numeric_transformer = Pipeline(steps=[\n",
    "    ('imputer', SimpleImputer(strategy='median')),\n",
    "    ('scaler', StandardScaler())\n",
    "])\n",
    "categorical_transformer = Pipeline(steps=[\n",
    "    ('imputer', SimpleImputer(strategy='most_frequent')),\n",
    "    ('onehot', OneHotEncoder(handle_unknown='ignore', sparse_output=False))\n",
    "])\n",
    "preprocessor = ColumnTransformer(transformers=[\n",
    "    ('num', numeric_transformer, numeric_cols),\n",
    "    ('cat', categorical_transformer, categorical_cols)\n",
    "])\n",
    "\n",
    "X_train_proc = preprocessor.fit_transform(X_train)\n",
    "X_val_proc = preprocessor.transform(X_val)\n",
    "\n",
    "input_dim = X_train_proc.shape[1]\n",
    "\n",
    "# 7. Model Architecture for small feature set\n",
    "from tensorflow.keras import Sequential\n",
    "from tensorflow.keras.layers import Dense, Dropout\n",
    "\n",
    "model = Sequential()\n",
    "model.add(Dense(min(input_dim*2,128), activation='relu', input_shape=(input_dim,)))\n",
    "model.add(Dropout(0.2))\n",
    "model.add(Dense(min(input_dim,64), activation='relu'))\n",
    "model.add(Dropout(0.2))\n",
    "model.add(Dense(num_classes, activation='softmax'))\n",
    "\n",
    "# 8. Compile\n",
    "top_k = min(num_classes,5)\n",
    "model.compile(\n",
    "    optimizer='adam',\n",
    "    loss='sparse_categorical_crossentropy',\n",
    "    metrics=['accuracy', SparseTopKCategoricalAccuracy(k=top_k, name=f'top_{top_k}_accuracy')]\n",
    ")\n",
    "\n",
    "# 9. Callbacks & Training\n",
    "callbacks = [\n",
    "    EarlyStopping(monitor='val_loss', patience=10, restore_best_weights=True),\n",
    "    ModelCheckpoint('model.h5', save_best_only=True, monitor='val_loss')\n",
    "]\n",
    "start_time = time.time()\n",
    "history = model.fit(\n",
    "    X_train_proc, y_train,\n",
    "    validation_split=0.2,\n",
    "    epochs=100,\n",
    "    batch_size=64,\n",
    "    callbacks=callbacks,\n",
    "    verbose=2\n",
    ")\n",
    "duration = time.time() - start_time\n",
    "\n",
    "# 10. Evaluation & Logging\n",
    "results = {\n",
    "    'training_accuracy': history.history['accuracy'][-1],\n",
    "    'training_loss': history.history['loss'][-1],\n",
    "    'validation_accuracy': history.history['val_accuracy'][-1],\n",
    "    'validation_loss': history.history['val_loss'][-1]\n",
    "}\n",
    "with open('results.json', 'w') as f:\n",
    "    json.dump(results, f)\n",
    "\n",
    "# 11. Prediction & Submission\n",
    "raw_preds = model.predict(X_val_proc)\n",
    "idxs = raw_preds.argmax(axis=1)\n",
    "final = le.inverse_transform(idxs)\n",
    "final = final.reshape(-1,1)\n",
    "\n",
    "submission = pd.DataFrame(final, columns=target_columns)\n",
    "submission.insert(0, id_col, test_ids.reset_index(drop=True))\n",
    "submission.to_csv('submission_result.csv', index=False)\n"
   ]
  },
  {
   "cell_type": "markdown",
   "metadata": {},
   "source": [
    "# Attempt 2"
   ]
  },
  {
   "cell_type": "code",
   "execution_count": 3,
   "metadata": {},
   "outputs": [
    {
     "name": "stdout",
     "output_type": "stream",
     "text": [
      "Epoch 1/100\n"
     ]
    },
    {
     "name": "stderr",
     "output_type": "stream",
     "text": [
      "/home/exouser/.local/lib/python3.12/site-packages/keras/src/layers/core/dense.py:93: UserWarning: Do not pass an `input_shape`/`input_dim` argument to a layer. When using Sequential models, prefer using an `Input(shape)` object as the first layer in the model instead.\n",
      "  super().__init__(activity_regularizer=activity_regularizer, **kwargs)\n",
      "2025-07-09 23:03:27.018224: E external/local_xla/xla/stream_executor/cuda/cuda_platform.cc:51] failed call to cuInit: INTERNAL: CUDA error: Failed call to cuInit: CUDA_ERROR_NO_DEVICE: no CUDA-capable device is detected\n",
      "WARNING:absl:You are saving your model as an HDF5 file via `model.save()` or `keras.saving.save_model(model)`. This file format is considered legacy. We recommend using instead the native Keras format, e.g. `model.save('my_model.keras')` or `keras.saving.save_model(model, 'my_model.keras')`. \n"
     ]
    },
    {
     "name": "stdout",
     "output_type": "stream",
     "text": [
      "313/313 - 2s - 5ms/step - accuracy: 0.4576 - loss: 1.3832 - top_5_accuracy: 0.9577 - val_accuracy: 0.5002 - val_loss: 1.0134 - val_top_5_accuracy: 0.9914\n",
      "Epoch 2/100\n"
     ]
    },
    {
     "name": "stderr",
     "output_type": "stream",
     "text": [
      "WARNING:absl:You are saving your model as an HDF5 file via `model.save()` or `keras.saving.save_model(model)`. This file format is considered legacy. We recommend using instead the native Keras format, e.g. `model.save('my_model.keras')` or `keras.saving.save_model(model, 'my_model.keras')`. \n"
     ]
    },
    {
     "name": "stdout",
     "output_type": "stream",
     "text": [
      "313/313 - 1s - 2ms/step - accuracy: 0.4792 - loss: 1.0887 - top_5_accuracy: 0.9911 - val_accuracy: 0.5100 - val_loss: 0.9874 - val_top_5_accuracy: 0.9914\n",
      "Epoch 3/100\n"
     ]
    },
    {
     "name": "stderr",
     "output_type": "stream",
     "text": [
      "WARNING:absl:You are saving your model as an HDF5 file via `model.save()` or `keras.saving.save_model(model)`. This file format is considered legacy. We recommend using instead the native Keras format, e.g. `model.save('my_model.keras')` or `keras.saving.save_model(model, 'my_model.keras')`. \n"
     ]
    },
    {
     "name": "stdout",
     "output_type": "stream",
     "text": [
      "313/313 - 1s - 2ms/step - accuracy: 0.4814 - loss: 1.0453 - top_5_accuracy: 0.9932 - val_accuracy: 0.5156 - val_loss: 0.9817 - val_top_5_accuracy: 0.9928\n",
      "Epoch 4/100\n"
     ]
    },
    {
     "name": "stderr",
     "output_type": "stream",
     "text": [
      "WARNING:absl:You are saving your model as an HDF5 file via `model.save()` or `keras.saving.save_model(model)`. This file format is considered legacy. We recommend using instead the native Keras format, e.g. `model.save('my_model.keras')` or `keras.saving.save_model(model, 'my_model.keras')`. \n"
     ]
    },
    {
     "name": "stdout",
     "output_type": "stream",
     "text": [
      "313/313 - 1s - 2ms/step - accuracy: 0.4828 - loss: 1.0210 - top_5_accuracy: 0.9937 - val_accuracy: 0.5218 - val_loss: 0.9793 - val_top_5_accuracy: 0.9950\n",
      "Epoch 5/100\n"
     ]
    },
    {
     "name": "stderr",
     "output_type": "stream",
     "text": [
      "WARNING:absl:You are saving your model as an HDF5 file via `model.save()` or `keras.saving.save_model(model)`. This file format is considered legacy. We recommend using instead the native Keras format, e.g. `model.save('my_model.keras')` or `keras.saving.save_model(model, 'my_model.keras')`. \n"
     ]
    },
    {
     "name": "stdout",
     "output_type": "stream",
     "text": [
      "313/313 - 1s - 2ms/step - accuracy: 0.4915 - loss: 1.0102 - top_5_accuracy: 0.9953 - val_accuracy: 0.5226 - val_loss: 0.9776 - val_top_5_accuracy: 0.9950\n",
      "Epoch 6/100\n"
     ]
    },
    {
     "name": "stderr",
     "output_type": "stream",
     "text": [
      "WARNING:absl:You are saving your model as an HDF5 file via `model.save()` or `keras.saving.save_model(model)`. This file format is considered legacy. We recommend using instead the native Keras format, e.g. `model.save('my_model.keras')` or `keras.saving.save_model(model, 'my_model.keras')`. \n"
     ]
    },
    {
     "name": "stdout",
     "output_type": "stream",
     "text": [
      "313/313 - 1s - 2ms/step - accuracy: 0.4955 - loss: 0.9998 - top_5_accuracy: 0.9953 - val_accuracy: 0.5318 - val_loss: 0.9757 - val_top_5_accuracy: 0.9950\n",
      "Epoch 7/100\n"
     ]
    },
    {
     "name": "stderr",
     "output_type": "stream",
     "text": [
      "WARNING:absl:You are saving your model as an HDF5 file via `model.save()` or `keras.saving.save_model(model)`. This file format is considered legacy. We recommend using instead the native Keras format, e.g. `model.save('my_model.keras')` or `keras.saving.save_model(model, 'my_model.keras')`. \n"
     ]
    },
    {
     "name": "stdout",
     "output_type": "stream",
     "text": [
      "313/313 - 1s - 2ms/step - accuracy: 0.5047 - loss: 0.9937 - top_5_accuracy: 0.9952 - val_accuracy: 0.5310 - val_loss: 0.9727 - val_top_5_accuracy: 0.9950\n",
      "Epoch 8/100\n"
     ]
    },
    {
     "name": "stderr",
     "output_type": "stream",
     "text": [
      "WARNING:absl:You are saving your model as an HDF5 file via `model.save()` or `keras.saving.save_model(model)`. This file format is considered legacy. We recommend using instead the native Keras format, e.g. `model.save('my_model.keras')` or `keras.saving.save_model(model, 'my_model.keras')`. \n"
     ]
    },
    {
     "name": "stdout",
     "output_type": "stream",
     "text": [
      "313/313 - 1s - 2ms/step - accuracy: 0.5112 - loss: 0.9900 - top_5_accuracy: 0.9959 - val_accuracy: 0.5378 - val_loss: 0.9698 - val_top_5_accuracy: 0.9950\n",
      "Epoch 9/100\n"
     ]
    },
    {
     "name": "stderr",
     "output_type": "stream",
     "text": [
      "WARNING:absl:You are saving your model as an HDF5 file via `model.save()` or `keras.saving.save_model(model)`. This file format is considered legacy. We recommend using instead the native Keras format, e.g. `model.save('my_model.keras')` or `keras.saving.save_model(model, 'my_model.keras')`. \n"
     ]
    },
    {
     "name": "stdout",
     "output_type": "stream",
     "text": [
      "313/313 - 1s - 2ms/step - accuracy: 0.5132 - loss: 0.9856 - top_5_accuracy: 0.9958 - val_accuracy: 0.5388 - val_loss: 0.9673 - val_top_5_accuracy: 0.9950\n",
      "Epoch 10/100\n"
     ]
    },
    {
     "name": "stderr",
     "output_type": "stream",
     "text": [
      "WARNING:absl:You are saving your model as an HDF5 file via `model.save()` or `keras.saving.save_model(model)`. This file format is considered legacy. We recommend using instead the native Keras format, e.g. `model.save('my_model.keras')` or `keras.saving.save_model(model, 'my_model.keras')`. \n"
     ]
    },
    {
     "name": "stdout",
     "output_type": "stream",
     "text": [
      "313/313 - 1s - 2ms/step - accuracy: 0.5137 - loss: 0.9805 - top_5_accuracy: 0.9962 - val_accuracy: 0.5394 - val_loss: 0.9642 - val_top_5_accuracy: 0.9950\n",
      "Epoch 11/100\n"
     ]
    },
    {
     "name": "stderr",
     "output_type": "stream",
     "text": [
      "WARNING:absl:You are saving your model as an HDF5 file via `model.save()` or `keras.saving.save_model(model)`. This file format is considered legacy. We recommend using instead the native Keras format, e.g. `model.save('my_model.keras')` or `keras.saving.save_model(model, 'my_model.keras')`. \n"
     ]
    },
    {
     "name": "stdout",
     "output_type": "stream",
     "text": [
      "313/313 - 1s - 2ms/step - accuracy: 0.5246 - loss: 0.9779 - top_5_accuracy: 0.9961 - val_accuracy: 0.5432 - val_loss: 0.9618 - val_top_5_accuracy: 0.9952\n",
      "Epoch 12/100\n"
     ]
    },
    {
     "name": "stderr",
     "output_type": "stream",
     "text": [
      "WARNING:absl:You are saving your model as an HDF5 file via `model.save()` or `keras.saving.save_model(model)`. This file format is considered legacy. We recommend using instead the native Keras format, e.g. `model.save('my_model.keras')` or `keras.saving.save_model(model, 'my_model.keras')`. \n"
     ]
    },
    {
     "name": "stdout",
     "output_type": "stream",
     "text": [
      "313/313 - 1s - 2ms/step - accuracy: 0.5245 - loss: 0.9752 - top_5_accuracy: 0.9961 - val_accuracy: 0.5420 - val_loss: 0.9599 - val_top_5_accuracy: 0.9958\n",
      "Epoch 13/100\n"
     ]
    },
    {
     "name": "stderr",
     "output_type": "stream",
     "text": [
      "WARNING:absl:You are saving your model as an HDF5 file via `model.save()` or `keras.saving.save_model(model)`. This file format is considered legacy. We recommend using instead the native Keras format, e.g. `model.save('my_model.keras')` or `keras.saving.save_model(model, 'my_model.keras')`. \n"
     ]
    },
    {
     "name": "stdout",
     "output_type": "stream",
     "text": [
      "313/313 - 1s - 2ms/step - accuracy: 0.5244 - loss: 0.9756 - top_5_accuracy: 0.9964 - val_accuracy: 0.5402 - val_loss: 0.9588 - val_top_5_accuracy: 0.9962\n",
      "Epoch 14/100\n"
     ]
    },
    {
     "name": "stderr",
     "output_type": "stream",
     "text": [
      "WARNING:absl:You are saving your model as an HDF5 file via `model.save()` or `keras.saving.save_model(model)`. This file format is considered legacy. We recommend using instead the native Keras format, e.g. `model.save('my_model.keras')` or `keras.saving.save_model(model, 'my_model.keras')`. \n"
     ]
    },
    {
     "name": "stdout",
     "output_type": "stream",
     "text": [
      "313/313 - 1s - 2ms/step - accuracy: 0.5284 - loss: 0.9692 - top_5_accuracy: 0.9960 - val_accuracy: 0.5430 - val_loss: 0.9569 - val_top_5_accuracy: 0.9964\n",
      "Epoch 15/100\n"
     ]
    },
    {
     "name": "stderr",
     "output_type": "stream",
     "text": [
      "WARNING:absl:You are saving your model as an HDF5 file via `model.save()` or `keras.saving.save_model(model)`. This file format is considered legacy. We recommend using instead the native Keras format, e.g. `model.save('my_model.keras')` or `keras.saving.save_model(model, 'my_model.keras')`. \n"
     ]
    },
    {
     "name": "stdout",
     "output_type": "stream",
     "text": [
      "313/313 - 1s - 2ms/step - accuracy: 0.5251 - loss: 0.9716 - top_5_accuracy: 0.9968 - val_accuracy: 0.5470 - val_loss: 0.9554 - val_top_5_accuracy: 0.9962\n",
      "Epoch 16/100\n"
     ]
    },
    {
     "name": "stderr",
     "output_type": "stream",
     "text": [
      "WARNING:absl:You are saving your model as an HDF5 file via `model.save()` or `keras.saving.save_model(model)`. This file format is considered legacy. We recommend using instead the native Keras format, e.g. `model.save('my_model.keras')` or `keras.saving.save_model(model, 'my_model.keras')`. \n"
     ]
    },
    {
     "name": "stdout",
     "output_type": "stream",
     "text": [
      "313/313 - 1s - 2ms/step - accuracy: 0.5286 - loss: 0.9698 - top_5_accuracy: 0.9962 - val_accuracy: 0.5470 - val_loss: 0.9548 - val_top_5_accuracy: 0.9962\n",
      "Epoch 17/100\n"
     ]
    },
    {
     "name": "stderr",
     "output_type": "stream",
     "text": [
      "WARNING:absl:You are saving your model as an HDF5 file via `model.save()` or `keras.saving.save_model(model)`. This file format is considered legacy. We recommend using instead the native Keras format, e.g. `model.save('my_model.keras')` or `keras.saving.save_model(model, 'my_model.keras')`. \n"
     ]
    },
    {
     "name": "stdout",
     "output_type": "stream",
     "text": [
      "313/313 - 1s - 2ms/step - accuracy: 0.5308 - loss: 0.9668 - top_5_accuracy: 0.9961 - val_accuracy: 0.5464 - val_loss: 0.9534 - val_top_5_accuracy: 0.9962\n",
      "Epoch 18/100\n"
     ]
    },
    {
     "name": "stderr",
     "output_type": "stream",
     "text": [
      "WARNING:absl:You are saving your model as an HDF5 file via `model.save()` or `keras.saving.save_model(model)`. This file format is considered legacy. We recommend using instead the native Keras format, e.g. `model.save('my_model.keras')` or `keras.saving.save_model(model, 'my_model.keras')`. \n"
     ]
    },
    {
     "name": "stdout",
     "output_type": "stream",
     "text": [
      "313/313 - 1s - 2ms/step - accuracy: 0.5310 - loss: 0.9660 - top_5_accuracy: 0.9962 - val_accuracy: 0.5456 - val_loss: 0.9525 - val_top_5_accuracy: 0.9962\n",
      "Epoch 19/100\n"
     ]
    },
    {
     "name": "stderr",
     "output_type": "stream",
     "text": [
      "WARNING:absl:You are saving your model as an HDF5 file via `model.save()` or `keras.saving.save_model(model)`. This file format is considered legacy. We recommend using instead the native Keras format, e.g. `model.save('my_model.keras')` or `keras.saving.save_model(model, 'my_model.keras')`. \n"
     ]
    },
    {
     "name": "stdout",
     "output_type": "stream",
     "text": [
      "313/313 - 1s - 2ms/step - accuracy: 0.5323 - loss: 0.9635 - top_5_accuracy: 0.9962 - val_accuracy: 0.5446 - val_loss: 0.9516 - val_top_5_accuracy: 0.9962\n",
      "Epoch 20/100\n"
     ]
    },
    {
     "name": "stderr",
     "output_type": "stream",
     "text": [
      "WARNING:absl:You are saving your model as an HDF5 file via `model.save()` or `keras.saving.save_model(model)`. This file format is considered legacy. We recommend using instead the native Keras format, e.g. `model.save('my_model.keras')` or `keras.saving.save_model(model, 'my_model.keras')`. \n"
     ]
    },
    {
     "name": "stdout",
     "output_type": "stream",
     "text": [
      "313/313 - 1s - 2ms/step - accuracy: 0.5294 - loss: 0.9639 - top_5_accuracy: 0.9967 - val_accuracy: 0.5438 - val_loss: 0.9509 - val_top_5_accuracy: 0.9962\n",
      "Epoch 21/100\n"
     ]
    },
    {
     "name": "stderr",
     "output_type": "stream",
     "text": [
      "WARNING:absl:You are saving your model as an HDF5 file via `model.save()` or `keras.saving.save_model(model)`. This file format is considered legacy. We recommend using instead the native Keras format, e.g. `model.save('my_model.keras')` or `keras.saving.save_model(model, 'my_model.keras')`. \n"
     ]
    },
    {
     "name": "stdout",
     "output_type": "stream",
     "text": [
      "313/313 - 1s - 2ms/step - accuracy: 0.5322 - loss: 0.9635 - top_5_accuracy: 0.9968 - val_accuracy: 0.5468 - val_loss: 0.9507 - val_top_5_accuracy: 0.9962\n",
      "Epoch 22/100\n"
     ]
    },
    {
     "name": "stderr",
     "output_type": "stream",
     "text": [
      "WARNING:absl:You are saving your model as an HDF5 file via `model.save()` or `keras.saving.save_model(model)`. This file format is considered legacy. We recommend using instead the native Keras format, e.g. `model.save('my_model.keras')` or `keras.saving.save_model(model, 'my_model.keras')`. \n"
     ]
    },
    {
     "name": "stdout",
     "output_type": "stream",
     "text": [
      "313/313 - 1s - 2ms/step - accuracy: 0.5302 - loss: 0.9616 - top_5_accuracy: 0.9968 - val_accuracy: 0.5460 - val_loss: 0.9500 - val_top_5_accuracy: 0.9962\n",
      "Epoch 23/100\n",
      "313/313 - 1s - 2ms/step - accuracy: 0.5344 - loss: 0.9626 - top_5_accuracy: 0.9964 - val_accuracy: 0.5492 - val_loss: 0.9501 - val_top_5_accuracy: 0.9962\n",
      "Epoch 24/100\n"
     ]
    },
    {
     "name": "stderr",
     "output_type": "stream",
     "text": [
      "WARNING:absl:You are saving your model as an HDF5 file via `model.save()` or `keras.saving.save_model(model)`. This file format is considered legacy. We recommend using instead the native Keras format, e.g. `model.save('my_model.keras')` or `keras.saving.save_model(model, 'my_model.keras')`. \n"
     ]
    },
    {
     "name": "stdout",
     "output_type": "stream",
     "text": [
      "313/313 - 1s - 2ms/step - accuracy: 0.5371 - loss: 0.9603 - top_5_accuracy: 0.9963 - val_accuracy: 0.5478 - val_loss: 0.9482 - val_top_5_accuracy: 0.9962\n",
      "Epoch 25/100\n",
      "313/313 - 1s - 2ms/step - accuracy: 0.5351 - loss: 0.9599 - top_5_accuracy: 0.9967 - val_accuracy: 0.5494 - val_loss: 0.9485 - val_top_5_accuracy: 0.9962\n",
      "Epoch 26/100\n"
     ]
    },
    {
     "name": "stderr",
     "output_type": "stream",
     "text": [
      "WARNING:absl:You are saving your model as an HDF5 file via `model.save()` or `keras.saving.save_model(model)`. This file format is considered legacy. We recommend using instead the native Keras format, e.g. `model.save('my_model.keras')` or `keras.saving.save_model(model, 'my_model.keras')`. \n"
     ]
    },
    {
     "name": "stdout",
     "output_type": "stream",
     "text": [
      "313/313 - 1s - 2ms/step - accuracy: 0.5325 - loss: 0.9610 - top_5_accuracy: 0.9968 - val_accuracy: 0.5524 - val_loss: 0.9481 - val_top_5_accuracy: 0.9962\n",
      "Epoch 27/100\n"
     ]
    },
    {
     "name": "stderr",
     "output_type": "stream",
     "text": [
      "WARNING:absl:You are saving your model as an HDF5 file via `model.save()` or `keras.saving.save_model(model)`. This file format is considered legacy. We recommend using instead the native Keras format, e.g. `model.save('my_model.keras')` or `keras.saving.save_model(model, 'my_model.keras')`. \n"
     ]
    },
    {
     "name": "stdout",
     "output_type": "stream",
     "text": [
      "313/313 - 1s - 2ms/step - accuracy: 0.5345 - loss: 0.9602 - top_5_accuracy: 0.9964 - val_accuracy: 0.5544 - val_loss: 0.9477 - val_top_5_accuracy: 0.9964\n",
      "Epoch 28/100\n",
      "313/313 - 1s - 2ms/step - accuracy: 0.5333 - loss: 0.9615 - top_5_accuracy: 0.9969 - val_accuracy: 0.5546 - val_loss: 0.9479 - val_top_5_accuracy: 0.9964\n",
      "Epoch 29/100\n"
     ]
    },
    {
     "name": "stderr",
     "output_type": "stream",
     "text": [
      "WARNING:absl:You are saving your model as an HDF5 file via `model.save()` or `keras.saving.save_model(model)`. This file format is considered legacy. We recommend using instead the native Keras format, e.g. `model.save('my_model.keras')` or `keras.saving.save_model(model, 'my_model.keras')`. \n"
     ]
    },
    {
     "name": "stdout",
     "output_type": "stream",
     "text": [
      "313/313 - 1s - 2ms/step - accuracy: 0.5329 - loss: 0.9604 - top_5_accuracy: 0.9970 - val_accuracy: 0.5510 - val_loss: 0.9474 - val_top_5_accuracy: 0.9964\n",
      "Epoch 30/100\n"
     ]
    },
    {
     "name": "stderr",
     "output_type": "stream",
     "text": [
      "WARNING:absl:You are saving your model as an HDF5 file via `model.save()` or `keras.saving.save_model(model)`. This file format is considered legacy. We recommend using instead the native Keras format, e.g. `model.save('my_model.keras')` or `keras.saving.save_model(model, 'my_model.keras')`. \n"
     ]
    },
    {
     "name": "stdout",
     "output_type": "stream",
     "text": [
      "313/313 - 1s - 2ms/step - accuracy: 0.5334 - loss: 0.9578 - top_5_accuracy: 0.9970 - val_accuracy: 0.5522 - val_loss: 0.9472 - val_top_5_accuracy: 0.9964\n",
      "Epoch 31/100\n"
     ]
    },
    {
     "name": "stderr",
     "output_type": "stream",
     "text": [
      "WARNING:absl:You are saving your model as an HDF5 file via `model.save()` or `keras.saving.save_model(model)`. This file format is considered legacy. We recommend using instead the native Keras format, e.g. `model.save('my_model.keras')` or `keras.saving.save_model(model, 'my_model.keras')`. \n"
     ]
    },
    {
     "name": "stdout",
     "output_type": "stream",
     "text": [
      "313/313 - 1s - 2ms/step - accuracy: 0.5368 - loss: 0.9579 - top_5_accuracy: 0.9971 - val_accuracy: 0.5552 - val_loss: 0.9469 - val_top_5_accuracy: 0.9964\n",
      "Epoch 32/100\n",
      "313/313 - 1s - 2ms/step - accuracy: 0.5343 - loss: 0.9593 - top_5_accuracy: 0.9964 - val_accuracy: 0.5530 - val_loss: 0.9479 - val_top_5_accuracy: 0.9966\n",
      "Epoch 33/100\n"
     ]
    },
    {
     "name": "stderr",
     "output_type": "stream",
     "text": [
      "WARNING:absl:You are saving your model as an HDF5 file via `model.save()` or `keras.saving.save_model(model)`. This file format is considered legacy. We recommend using instead the native Keras format, e.g. `model.save('my_model.keras')` or `keras.saving.save_model(model, 'my_model.keras')`. \n"
     ]
    },
    {
     "name": "stdout",
     "output_type": "stream",
     "text": [
      "313/313 - 1s - 2ms/step - accuracy: 0.5393 - loss: 0.9556 - top_5_accuracy: 0.9970 - val_accuracy: 0.5514 - val_loss: 0.9463 - val_top_5_accuracy: 0.9966\n",
      "Epoch 34/100\n",
      "313/313 - 1s - 2ms/step - accuracy: 0.5368 - loss: 0.9565 - top_5_accuracy: 0.9969 - val_accuracy: 0.5520 - val_loss: 0.9468 - val_top_5_accuracy: 0.9966\n",
      "Epoch 35/100\n",
      "313/313 - 1s - 2ms/step - accuracy: 0.5340 - loss: 0.9571 - top_5_accuracy: 0.9970 - val_accuracy: 0.5544 - val_loss: 0.9469 - val_top_5_accuracy: 0.9966\n",
      "Epoch 36/100\n"
     ]
    },
    {
     "name": "stderr",
     "output_type": "stream",
     "text": [
      "WARNING:absl:You are saving your model as an HDF5 file via `model.save()` or `keras.saving.save_model(model)`. This file format is considered legacy. We recommend using instead the native Keras format, e.g. `model.save('my_model.keras')` or `keras.saving.save_model(model, 'my_model.keras')`. \n"
     ]
    },
    {
     "name": "stdout",
     "output_type": "stream",
     "text": [
      "313/313 - 1s - 2ms/step - accuracy: 0.5371 - loss: 0.9559 - top_5_accuracy: 0.9974 - val_accuracy: 0.5514 - val_loss: 0.9461 - val_top_5_accuracy: 0.9968\n",
      "Epoch 37/100\n"
     ]
    },
    {
     "name": "stderr",
     "output_type": "stream",
     "text": [
      "WARNING:absl:You are saving your model as an HDF5 file via `model.save()` or `keras.saving.save_model(model)`. This file format is considered legacy. We recommend using instead the native Keras format, e.g. `model.save('my_model.keras')` or `keras.saving.save_model(model, 'my_model.keras')`. \n"
     ]
    },
    {
     "name": "stdout",
     "output_type": "stream",
     "text": [
      "313/313 - 1s - 2ms/step - accuracy: 0.5368 - loss: 0.9536 - top_5_accuracy: 0.9972 - val_accuracy: 0.5554 - val_loss: 0.9456 - val_top_5_accuracy: 0.9968\n",
      "Epoch 38/100\n"
     ]
    },
    {
     "name": "stderr",
     "output_type": "stream",
     "text": [
      "WARNING:absl:You are saving your model as an HDF5 file via `model.save()` or `keras.saving.save_model(model)`. This file format is considered legacy. We recommend using instead the native Keras format, e.g. `model.save('my_model.keras')` or `keras.saving.save_model(model, 'my_model.keras')`. \n"
     ]
    },
    {
     "name": "stdout",
     "output_type": "stream",
     "text": [
      "313/313 - 1s - 2ms/step - accuracy: 0.5433 - loss: 0.9539 - top_5_accuracy: 0.9973 - val_accuracy: 0.5552 - val_loss: 0.9444 - val_top_5_accuracy: 0.9970\n",
      "Epoch 39/100\n",
      "313/313 - 1s - 2ms/step - accuracy: 0.5405 - loss: 0.9555 - top_5_accuracy: 0.9970 - val_accuracy: 0.5584 - val_loss: 0.9457 - val_top_5_accuracy: 0.9970\n",
      "Epoch 40/100\n",
      "313/313 - 1s - 2ms/step - accuracy: 0.5412 - loss: 0.9557 - top_5_accuracy: 0.9972 - val_accuracy: 0.5558 - val_loss: 0.9448 - val_top_5_accuracy: 0.9970\n",
      "Epoch 41/100\n",
      "313/313 - 1s - 2ms/step - accuracy: 0.5411 - loss: 0.9541 - top_5_accuracy: 0.9970 - val_accuracy: 0.5558 - val_loss: 0.9448 - val_top_5_accuracy: 0.9970\n",
      "Epoch 42/100\n",
      "313/313 - 1s - 2ms/step - accuracy: 0.5394 - loss: 0.9534 - top_5_accuracy: 0.9973 - val_accuracy: 0.5546 - val_loss: 0.9445 - val_top_5_accuracy: 0.9970\n",
      "Epoch 43/100\n"
     ]
    },
    {
     "name": "stderr",
     "output_type": "stream",
     "text": [
      "WARNING:absl:You are saving your model as an HDF5 file via `model.save()` or `keras.saving.save_model(model)`. This file format is considered legacy. We recommend using instead the native Keras format, e.g. `model.save('my_model.keras')` or `keras.saving.save_model(model, 'my_model.keras')`. \n"
     ]
    },
    {
     "name": "stdout",
     "output_type": "stream",
     "text": [
      "313/313 - 1s - 2ms/step - accuracy: 0.5367 - loss: 0.9525 - top_5_accuracy: 0.9972 - val_accuracy: 0.5574 - val_loss: 0.9441 - val_top_5_accuracy: 0.9970\n",
      "Epoch 44/100\n"
     ]
    },
    {
     "name": "stderr",
     "output_type": "stream",
     "text": [
      "WARNING:absl:You are saving your model as an HDF5 file via `model.save()` or `keras.saving.save_model(model)`. This file format is considered legacy. We recommend using instead the native Keras format, e.g. `model.save('my_model.keras')` or `keras.saving.save_model(model, 'my_model.keras')`. \n"
     ]
    },
    {
     "name": "stdout",
     "output_type": "stream",
     "text": [
      "313/313 - 1s - 2ms/step - accuracy: 0.5440 - loss: 0.9511 - top_5_accuracy: 0.9972 - val_accuracy: 0.5558 - val_loss: 0.9431 - val_top_5_accuracy: 0.9970\n",
      "Epoch 45/100\n"
     ]
    },
    {
     "name": "stderr",
     "output_type": "stream",
     "text": [
      "WARNING:absl:You are saving your model as an HDF5 file via `model.save()` or `keras.saving.save_model(model)`. This file format is considered legacy. We recommend using instead the native Keras format, e.g. `model.save('my_model.keras')` or `keras.saving.save_model(model, 'my_model.keras')`. \n"
     ]
    },
    {
     "name": "stdout",
     "output_type": "stream",
     "text": [
      "313/313 - 1s - 2ms/step - accuracy: 0.5420 - loss: 0.9518 - top_5_accuracy: 0.9974 - val_accuracy: 0.5578 - val_loss: 0.9431 - val_top_5_accuracy: 0.9970\n",
      "Epoch 46/100\n"
     ]
    },
    {
     "name": "stderr",
     "output_type": "stream",
     "text": [
      "WARNING:absl:You are saving your model as an HDF5 file via `model.save()` or `keras.saving.save_model(model)`. This file format is considered legacy. We recommend using instead the native Keras format, e.g. `model.save('my_model.keras')` or `keras.saving.save_model(model, 'my_model.keras')`. \n"
     ]
    },
    {
     "name": "stdout",
     "output_type": "stream",
     "text": [
      "313/313 - 1s - 2ms/step - accuracy: 0.5395 - loss: 0.9513 - top_5_accuracy: 0.9974 - val_accuracy: 0.5604 - val_loss: 0.9422 - val_top_5_accuracy: 0.9970\n",
      "Epoch 47/100\n",
      "313/313 - 1s - 2ms/step - accuracy: 0.5461 - loss: 0.9513 - top_5_accuracy: 0.9972 - val_accuracy: 0.5612 - val_loss: 0.9423 - val_top_5_accuracy: 0.9970\n",
      "Epoch 48/100\n",
      "313/313 - 1s - 2ms/step - accuracy: 0.5399 - loss: 0.9531 - top_5_accuracy: 0.9970 - val_accuracy: 0.5610 - val_loss: 0.9429 - val_top_5_accuracy: 0.9970\n",
      "Epoch 49/100\n",
      "313/313 - 1s - 2ms/step - accuracy: 0.5428 - loss: 0.9537 - top_5_accuracy: 0.9971 - val_accuracy: 0.5618 - val_loss: 0.9427 - val_top_5_accuracy: 0.9970\n",
      "Epoch 50/100\n"
     ]
    },
    {
     "name": "stderr",
     "output_type": "stream",
     "text": [
      "WARNING:absl:You are saving your model as an HDF5 file via `model.save()` or `keras.saving.save_model(model)`. This file format is considered legacy. We recommend using instead the native Keras format, e.g. `model.save('my_model.keras')` or `keras.saving.save_model(model, 'my_model.keras')`. \n"
     ]
    },
    {
     "name": "stdout",
     "output_type": "stream",
     "text": [
      "313/313 - 1s - 2ms/step - accuracy: 0.5443 - loss: 0.9484 - top_5_accuracy: 0.9973 - val_accuracy: 0.5636 - val_loss: 0.9415 - val_top_5_accuracy: 0.9970\n",
      "Epoch 51/100\n"
     ]
    },
    {
     "name": "stderr",
     "output_type": "stream",
     "text": [
      "WARNING:absl:You are saving your model as an HDF5 file via `model.save()` or `keras.saving.save_model(model)`. This file format is considered legacy. We recommend using instead the native Keras format, e.g. `model.save('my_model.keras')` or `keras.saving.save_model(model, 'my_model.keras')`. \n"
     ]
    },
    {
     "name": "stdout",
     "output_type": "stream",
     "text": [
      "313/313 - 1s - 2ms/step - accuracy: 0.5436 - loss: 0.9519 - top_5_accuracy: 0.9974 - val_accuracy: 0.5612 - val_loss: 0.9412 - val_top_5_accuracy: 0.9970\n",
      "Epoch 52/100\n"
     ]
    },
    {
     "name": "stderr",
     "output_type": "stream",
     "text": [
      "WARNING:absl:You are saving your model as an HDF5 file via `model.save()` or `keras.saving.save_model(model)`. This file format is considered legacy. We recommend using instead the native Keras format, e.g. `model.save('my_model.keras')` or `keras.saving.save_model(model, 'my_model.keras')`. \n"
     ]
    },
    {
     "name": "stdout",
     "output_type": "stream",
     "text": [
      "313/313 - 1s - 2ms/step - accuracy: 0.5435 - loss: 0.9508 - top_5_accuracy: 0.9973 - val_accuracy: 0.5614 - val_loss: 0.9408 - val_top_5_accuracy: 0.9970\n",
      "Epoch 53/100\n"
     ]
    },
    {
     "name": "stderr",
     "output_type": "stream",
     "text": [
      "WARNING:absl:You are saving your model as an HDF5 file via `model.save()` or `keras.saving.save_model(model)`. This file format is considered legacy. We recommend using instead the native Keras format, e.g. `model.save('my_model.keras')` or `keras.saving.save_model(model, 'my_model.keras')`. \n"
     ]
    },
    {
     "name": "stdout",
     "output_type": "stream",
     "text": [
      "313/313 - 1s - 2ms/step - accuracy: 0.5440 - loss: 0.9521 - top_5_accuracy: 0.9974 - val_accuracy: 0.5626 - val_loss: 0.9405 - val_top_5_accuracy: 0.9970\n",
      "Epoch 54/100\n"
     ]
    },
    {
     "name": "stderr",
     "output_type": "stream",
     "text": [
      "WARNING:absl:You are saving your model as an HDF5 file via `model.save()` or `keras.saving.save_model(model)`. This file format is considered legacy. We recommend using instead the native Keras format, e.g. `model.save('my_model.keras')` or `keras.saving.save_model(model, 'my_model.keras')`. \n"
     ]
    },
    {
     "name": "stdout",
     "output_type": "stream",
     "text": [
      "313/313 - 1s - 2ms/step - accuracy: 0.5421 - loss: 0.9504 - top_5_accuracy: 0.9975 - val_accuracy: 0.5612 - val_loss: 0.9403 - val_top_5_accuracy: 0.9970\n",
      "Epoch 55/100\n"
     ]
    },
    {
     "name": "stderr",
     "output_type": "stream",
     "text": [
      "WARNING:absl:You are saving your model as an HDF5 file via `model.save()` or `keras.saving.save_model(model)`. This file format is considered legacy. We recommend using instead the native Keras format, e.g. `model.save('my_model.keras')` or `keras.saving.save_model(model, 'my_model.keras')`. \n"
     ]
    },
    {
     "name": "stdout",
     "output_type": "stream",
     "text": [
      "313/313 - 1s - 2ms/step - accuracy: 0.5414 - loss: 0.9497 - top_5_accuracy: 0.9975 - val_accuracy: 0.5636 - val_loss: 0.9395 - val_top_5_accuracy: 0.9970\n",
      "Epoch 56/100\n"
     ]
    },
    {
     "name": "stderr",
     "output_type": "stream",
     "text": [
      "WARNING:absl:You are saving your model as an HDF5 file via `model.save()` or `keras.saving.save_model(model)`. This file format is considered legacy. We recommend using instead the native Keras format, e.g. `model.save('my_model.keras')` or `keras.saving.save_model(model, 'my_model.keras')`. \n"
     ]
    },
    {
     "name": "stdout",
     "output_type": "stream",
     "text": [
      "313/313 - 1s - 2ms/step - accuracy: 0.5446 - loss: 0.9479 - top_5_accuracy: 0.9976 - val_accuracy: 0.5668 - val_loss: 0.9389 - val_top_5_accuracy: 0.9970\n",
      "Epoch 57/100\n",
      "313/313 - 1s - 2ms/step - accuracy: 0.5423 - loss: 0.9478 - top_5_accuracy: 0.9974 - val_accuracy: 0.5640 - val_loss: 0.9395 - val_top_5_accuracy: 0.9970\n",
      "Epoch 58/100\n",
      "313/313 - 1s - 2ms/step - accuracy: 0.5422 - loss: 0.9507 - top_5_accuracy: 0.9973 - val_accuracy: 0.5672 - val_loss: 0.9406 - val_top_5_accuracy: 0.9970\n",
      "Epoch 59/100\n",
      "313/313 - 1s - 2ms/step - accuracy: 0.5386 - loss: 0.9505 - top_5_accuracy: 0.9972 - val_accuracy: 0.5652 - val_loss: 0.9398 - val_top_5_accuracy: 0.9970\n",
      "Epoch 60/100\n"
     ]
    },
    {
     "name": "stderr",
     "output_type": "stream",
     "text": [
      "WARNING:absl:You are saving your model as an HDF5 file via `model.save()` or `keras.saving.save_model(model)`. This file format is considered legacy. We recommend using instead the native Keras format, e.g. `model.save('my_model.keras')` or `keras.saving.save_model(model, 'my_model.keras')`. \n"
     ]
    },
    {
     "name": "stdout",
     "output_type": "stream",
     "text": [
      "313/313 - 1s - 2ms/step - accuracy: 0.5495 - loss: 0.9487 - top_5_accuracy: 0.9974 - val_accuracy: 0.5666 - val_loss: 0.9385 - val_top_5_accuracy: 0.9970\n",
      "Epoch 61/100\n",
      "313/313 - 1s - 2ms/step - accuracy: 0.5435 - loss: 0.9499 - top_5_accuracy: 0.9972 - val_accuracy: 0.5670 - val_loss: 0.9391 - val_top_5_accuracy: 0.9970\n",
      "Epoch 62/100\n",
      "313/313 - 1s - 2ms/step - accuracy: 0.5403 - loss: 0.9486 - top_5_accuracy: 0.9972 - val_accuracy: 0.5658 - val_loss: 0.9388 - val_top_5_accuracy: 0.9970\n",
      "Epoch 63/100\n"
     ]
    },
    {
     "name": "stderr",
     "output_type": "stream",
     "text": [
      "WARNING:absl:You are saving your model as an HDF5 file via `model.save()` or `keras.saving.save_model(model)`. This file format is considered legacy. We recommend using instead the native Keras format, e.g. `model.save('my_model.keras')` or `keras.saving.save_model(model, 'my_model.keras')`. \n"
     ]
    },
    {
     "name": "stdout",
     "output_type": "stream",
     "text": [
      "313/313 - 1s - 2ms/step - accuracy: 0.5418 - loss: 0.9476 - top_5_accuracy: 0.9976 - val_accuracy: 0.5656 - val_loss: 0.9381 - val_top_5_accuracy: 0.9970\n",
      "Epoch 64/100\n"
     ]
    },
    {
     "name": "stderr",
     "output_type": "stream",
     "text": [
      "WARNING:absl:You are saving your model as an HDF5 file via `model.save()` or `keras.saving.save_model(model)`. This file format is considered legacy. We recommend using instead the native Keras format, e.g. `model.save('my_model.keras')` or `keras.saving.save_model(model, 'my_model.keras')`. \n"
     ]
    },
    {
     "name": "stdout",
     "output_type": "stream",
     "text": [
      "313/313 - 1s - 2ms/step - accuracy: 0.5463 - loss: 0.9461 - top_5_accuracy: 0.9973 - val_accuracy: 0.5692 - val_loss: 0.9373 - val_top_5_accuracy: 0.9970\n",
      "Epoch 65/100\n",
      "313/313 - 1s - 2ms/step - accuracy: 0.5438 - loss: 0.9474 - top_5_accuracy: 0.9973 - val_accuracy: 0.5666 - val_loss: 0.9378 - val_top_5_accuracy: 0.9970\n",
      "Epoch 66/100\n"
     ]
    },
    {
     "name": "stderr",
     "output_type": "stream",
     "text": [
      "WARNING:absl:You are saving your model as an HDF5 file via `model.save()` or `keras.saving.save_model(model)`. This file format is considered legacy. We recommend using instead the native Keras format, e.g. `model.save('my_model.keras')` or `keras.saving.save_model(model, 'my_model.keras')`. \n"
     ]
    },
    {
     "name": "stdout",
     "output_type": "stream",
     "text": [
      "313/313 - 1s - 2ms/step - accuracy: 0.5470 - loss: 0.9445 - top_5_accuracy: 0.9972 - val_accuracy: 0.5662 - val_loss: 0.9372 - val_top_5_accuracy: 0.9970\n",
      "Epoch 67/100\n",
      "313/313 - 1s - 2ms/step - accuracy: 0.5463 - loss: 0.9474 - top_5_accuracy: 0.9975 - val_accuracy: 0.5636 - val_loss: 0.9376 - val_top_5_accuracy: 0.9970\n",
      "Epoch 68/100\n",
      "313/313 - 1s - 2ms/step - accuracy: 0.5466 - loss: 0.9470 - top_5_accuracy: 0.9974 - val_accuracy: 0.5624 - val_loss: 0.9372 - val_top_5_accuracy: 0.9970\n",
      "Epoch 69/100\n",
      "313/313 - 1s - 2ms/step - accuracy: 0.5463 - loss: 0.9464 - top_5_accuracy: 0.9976 - val_accuracy: 0.5670 - val_loss: 0.9374 - val_top_5_accuracy: 0.9970\n",
      "Epoch 70/100\n",
      "313/313 - 1s - 2ms/step - accuracy: 0.5461 - loss: 0.9477 - top_5_accuracy: 0.9973 - val_accuracy: 0.5666 - val_loss: 0.9374 - val_top_5_accuracy: 0.9970\n",
      "Epoch 71/100\n"
     ]
    },
    {
     "name": "stderr",
     "output_type": "stream",
     "text": [
      "WARNING:absl:You are saving your model as an HDF5 file via `model.save()` or `keras.saving.save_model(model)`. This file format is considered legacy. We recommend using instead the native Keras format, e.g. `model.save('my_model.keras')` or `keras.saving.save_model(model, 'my_model.keras')`. \n"
     ]
    },
    {
     "name": "stdout",
     "output_type": "stream",
     "text": [
      "313/313 - 1s - 2ms/step - accuracy: 0.5446 - loss: 0.9453 - top_5_accuracy: 0.9974 - val_accuracy: 0.5642 - val_loss: 0.9366 - val_top_5_accuracy: 0.9970\n",
      "Epoch 72/100\n",
      "313/313 - 1s - 2ms/step - accuracy: 0.5471 - loss: 0.9451 - top_5_accuracy: 0.9972 - val_accuracy: 0.5656 - val_loss: 0.9366 - val_top_5_accuracy: 0.9970\n",
      "Epoch 73/100\n"
     ]
    },
    {
     "name": "stderr",
     "output_type": "stream",
     "text": [
      "WARNING:absl:You are saving your model as an HDF5 file via `model.save()` or `keras.saving.save_model(model)`. This file format is considered legacy. We recommend using instead the native Keras format, e.g. `model.save('my_model.keras')` or `keras.saving.save_model(model, 'my_model.keras')`. \n"
     ]
    },
    {
     "name": "stdout",
     "output_type": "stream",
     "text": [
      "313/313 - 1s - 2ms/step - accuracy: 0.5467 - loss: 0.9460 - top_5_accuracy: 0.9975 - val_accuracy: 0.5666 - val_loss: 0.9363 - val_top_5_accuracy: 0.9970\n",
      "Epoch 74/100\n",
      "313/313 - 1s - 2ms/step - accuracy: 0.5459 - loss: 0.9458 - top_5_accuracy: 0.9974 - val_accuracy: 0.5680 - val_loss: 0.9368 - val_top_5_accuracy: 0.9970\n",
      "Epoch 75/100\n",
      "313/313 - 1s - 2ms/step - accuracy: 0.5505 - loss: 0.9431 - top_5_accuracy: 0.9976 - val_accuracy: 0.5680 - val_loss: 0.9364 - val_top_5_accuracy: 0.9970\n",
      "Epoch 76/100\n",
      "313/313 - 1s - 2ms/step - accuracy: 0.5445 - loss: 0.9450 - top_5_accuracy: 0.9978 - val_accuracy: 0.5676 - val_loss: 0.9363 - val_top_5_accuracy: 0.9970\n",
      "Epoch 77/100\n",
      "313/313 - 1s - 2ms/step - accuracy: 0.5455 - loss: 0.9470 - top_5_accuracy: 0.9976 - val_accuracy: 0.5658 - val_loss: 0.9365 - val_top_5_accuracy: 0.9970\n",
      "Epoch 78/100\n"
     ]
    },
    {
     "name": "stderr",
     "output_type": "stream",
     "text": [
      "WARNING:absl:You are saving your model as an HDF5 file via `model.save()` or `keras.saving.save_model(model)`. This file format is considered legacy. We recommend using instead the native Keras format, e.g. `model.save('my_model.keras')` or `keras.saving.save_model(model, 'my_model.keras')`. \n"
     ]
    },
    {
     "name": "stdout",
     "output_type": "stream",
     "text": [
      "313/313 - 1s - 2ms/step - accuracy: 0.5458 - loss: 0.9448 - top_5_accuracy: 0.9973 - val_accuracy: 0.5694 - val_loss: 0.9362 - val_top_5_accuracy: 0.9970\n",
      "Epoch 79/100\n"
     ]
    },
    {
     "name": "stderr",
     "output_type": "stream",
     "text": [
      "WARNING:absl:You are saving your model as an HDF5 file via `model.save()` or `keras.saving.save_model(model)`. This file format is considered legacy. We recommend using instead the native Keras format, e.g. `model.save('my_model.keras')` or `keras.saving.save_model(model, 'my_model.keras')`. \n"
     ]
    },
    {
     "name": "stdout",
     "output_type": "stream",
     "text": [
      "313/313 - 1s - 2ms/step - accuracy: 0.5445 - loss: 0.9447 - top_5_accuracy: 0.9975 - val_accuracy: 0.5664 - val_loss: 0.9352 - val_top_5_accuracy: 0.9966\n",
      "Epoch 80/100\n",
      "313/313 - 1s - 2ms/step - accuracy: 0.5457 - loss: 0.9460 - top_5_accuracy: 0.9974 - val_accuracy: 0.5702 - val_loss: 0.9355 - val_top_5_accuracy: 0.9966\n",
      "Epoch 81/100\n",
      "313/313 - 1s - 2ms/step - accuracy: 0.5476 - loss: 0.9463 - top_5_accuracy: 0.9974 - val_accuracy: 0.5692 - val_loss: 0.9353 - val_top_5_accuracy: 0.9966\n",
      "Epoch 82/100\n",
      "313/313 - 1s - 2ms/step - accuracy: 0.5452 - loss: 0.9426 - top_5_accuracy: 0.9974 - val_accuracy: 0.5688 - val_loss: 0.9360 - val_top_5_accuracy: 0.9966\n",
      "Epoch 83/100\n",
      "313/313 - 1s - 2ms/step - accuracy: 0.5441 - loss: 0.9462 - top_5_accuracy: 0.9978 - val_accuracy: 0.5706 - val_loss: 0.9356 - val_top_5_accuracy: 0.9966\n",
      "Epoch 84/100\n",
      "313/313 - 1s - 2ms/step - accuracy: 0.5459 - loss: 0.9467 - top_5_accuracy: 0.9976 - val_accuracy: 0.5684 - val_loss: 0.9357 - val_top_5_accuracy: 0.9966\n",
      "Epoch 85/100\n",
      "313/313 - 1s - 2ms/step - accuracy: 0.5449 - loss: 0.9470 - top_5_accuracy: 0.9975 - val_accuracy: 0.5702 - val_loss: 0.9357 - val_top_5_accuracy: 0.9966\n",
      "Epoch 86/100\n"
     ]
    },
    {
     "name": "stderr",
     "output_type": "stream",
     "text": [
      "WARNING:absl:You are saving your model as an HDF5 file via `model.save()` or `keras.saving.save_model(model)`. This file format is considered legacy. We recommend using instead the native Keras format, e.g. `model.save('my_model.keras')` or `keras.saving.save_model(model, 'my_model.keras')`. \n"
     ]
    },
    {
     "name": "stdout",
     "output_type": "stream",
     "text": [
      "313/313 - 1s - 2ms/step - accuracy: 0.5482 - loss: 0.9436 - top_5_accuracy: 0.9974 - val_accuracy: 0.5710 - val_loss: 0.9352 - val_top_5_accuracy: 0.9968\n",
      "Epoch 87/100\n"
     ]
    },
    {
     "name": "stderr",
     "output_type": "stream",
     "text": [
      "WARNING:absl:You are saving your model as an HDF5 file via `model.save()` or `keras.saving.save_model(model)`. This file format is considered legacy. We recommend using instead the native Keras format, e.g. `model.save('my_model.keras')` or `keras.saving.save_model(model, 'my_model.keras')`. \n"
     ]
    },
    {
     "name": "stdout",
     "output_type": "stream",
     "text": [
      "313/313 - 1s - 2ms/step - accuracy: 0.5444 - loss: 0.9446 - top_5_accuracy: 0.9978 - val_accuracy: 0.5718 - val_loss: 0.9346 - val_top_5_accuracy: 0.9968\n",
      "Epoch 88/100\n",
      "313/313 - 1s - 2ms/step - accuracy: 0.5442 - loss: 0.9453 - top_5_accuracy: 0.9976 - val_accuracy: 0.5702 - val_loss: 0.9349 - val_top_5_accuracy: 0.9968\n",
      "Epoch 89/100\n"
     ]
    },
    {
     "name": "stderr",
     "output_type": "stream",
     "text": [
      "WARNING:absl:You are saving your model as an HDF5 file via `model.save()` or `keras.saving.save_model(model)`. This file format is considered legacy. We recommend using instead the native Keras format, e.g. `model.save('my_model.keras')` or `keras.saving.save_model(model, 'my_model.keras')`. \n"
     ]
    },
    {
     "name": "stdout",
     "output_type": "stream",
     "text": [
      "313/313 - 1s - 2ms/step - accuracy: 0.5471 - loss: 0.9442 - top_5_accuracy: 0.9977 - val_accuracy: 0.5684 - val_loss: 0.9346 - val_top_5_accuracy: 0.9968\n",
      "Epoch 90/100\n",
      "313/313 - 1s - 2ms/step - accuracy: 0.5456 - loss: 0.9442 - top_5_accuracy: 0.9973 - val_accuracy: 0.5690 - val_loss: 0.9354 - val_top_5_accuracy: 0.9968\n",
      "Epoch 91/100\n",
      "313/313 - 1s - 2ms/step - accuracy: 0.5453 - loss: 0.9435 - top_5_accuracy: 0.9978 - val_accuracy: 0.5684 - val_loss: 0.9348 - val_top_5_accuracy: 0.9968\n",
      "Epoch 92/100\n"
     ]
    },
    {
     "name": "stderr",
     "output_type": "stream",
     "text": [
      "WARNING:absl:You are saving your model as an HDF5 file via `model.save()` or `keras.saving.save_model(model)`. This file format is considered legacy. We recommend using instead the native Keras format, e.g. `model.save('my_model.keras')` or `keras.saving.save_model(model, 'my_model.keras')`. \n"
     ]
    },
    {
     "name": "stdout",
     "output_type": "stream",
     "text": [
      "313/313 - 1s - 2ms/step - accuracy: 0.5479 - loss: 0.9423 - top_5_accuracy: 0.9977 - val_accuracy: 0.5682 - val_loss: 0.9342 - val_top_5_accuracy: 0.9966\n",
      "Epoch 93/100\n",
      "313/313 - 1s - 2ms/step - accuracy: 0.5412 - loss: 0.9445 - top_5_accuracy: 0.9976 - val_accuracy: 0.5664 - val_loss: 0.9347 - val_top_5_accuracy: 0.9966\n",
      "Epoch 94/100\n",
      "313/313 - 1s - 2ms/step - accuracy: 0.5475 - loss: 0.9450 - top_5_accuracy: 0.9975 - val_accuracy: 0.5700 - val_loss: 0.9353 - val_top_5_accuracy: 0.9966\n",
      "Epoch 95/100\n",
      "313/313 - 1s - 2ms/step - accuracy: 0.5463 - loss: 0.9424 - top_5_accuracy: 0.9975 - val_accuracy: 0.5706 - val_loss: 0.9347 - val_top_5_accuracy: 0.9966\n",
      "Epoch 96/100\n",
      "313/313 - 1s - 2ms/step - accuracy: 0.5439 - loss: 0.9450 - top_5_accuracy: 0.9976 - val_accuracy: 0.5718 - val_loss: 0.9348 - val_top_5_accuracy: 0.9966\n",
      "Epoch 97/100\n",
      "313/313 - 1s - 2ms/step - accuracy: 0.5426 - loss: 0.9431 - top_5_accuracy: 0.9976 - val_accuracy: 0.5730 - val_loss: 0.9348 - val_top_5_accuracy: 0.9966\n",
      "Epoch 98/100\n",
      "313/313 - 1s - 2ms/step - accuracy: 0.5502 - loss: 0.9432 - top_5_accuracy: 0.9975 - val_accuracy: 0.5734 - val_loss: 0.9348 - val_top_5_accuracy: 0.9966\n",
      "Epoch 99/100\n",
      "313/313 - 1s - 2ms/step - accuracy: 0.5508 - loss: 0.9434 - top_5_accuracy: 0.9977 - val_accuracy: 0.5718 - val_loss: 0.9350 - val_top_5_accuracy: 0.9966\n",
      "Epoch 100/100\n",
      "313/313 - 1s - 2ms/step - accuracy: 0.5429 - loss: 0.9455 - top_5_accuracy: 0.9975 - val_accuracy: 0.5710 - val_loss: 0.9355 - val_top_5_accuracy: 0.9966\n",
      "\u001b[1m31250/31250\u001b[0m \u001b[32m━━━━━━━━━━━━━━━━━━━━\u001b[0m\u001b[37m\u001b[0m \u001b[1m19s\u001b[0m 601us/step\n"
     ]
    }
   ],
   "source": [
    "import random\n",
    "import os\n",
    "import time\n",
    "import json\n",
    "import numpy as np\n",
    "import pandas as pd\n",
    "from sklearn.model_selection import train_test_split\n",
    "from sklearn.impute import SimpleImputer\n",
    "from sklearn.compose import ColumnTransformer\n",
    "from sklearn.preprocessing import StandardScaler, OneHotEncoder, LabelEncoder\n",
    "from sklearn.pipeline import Pipeline\n",
    "import tensorflow as tf\n",
    "from tensorflow.keras.callbacks import EarlyStopping, ModelCheckpoint\n",
    "from tensorflow.keras.metrics import SparseTopKCategoricalAccuracy\n",
    "\n",
    "# 1. Reproducibility\n",
    "seed = 42\n",
    "random.seed(seed)\n",
    "np.random.seed(seed)\n",
    "os.environ['PYTHONHASHSEED'] = str(seed)\n",
    "tf.random.set_seed(seed)\n",
    "\n",
    "# 2. Data Loading\n",
    "train_df = pd.read_csv('poker-rule-induction/train.csv.zip', compression='zip')\n",
    "df_test = pd.read_csv('poker-rule-induction/test.csv.zip', compression='zip')\n",
    "submission_example = pd.read_csv('poker-rule-induction/sampleSubmission.csv.zip', compression='zip')\n",
    "\n",
    "id_col = submission_example.columns[0]\n",
    "target_columns = submission_example.columns.tolist()[1:]\n",
    "\n",
    "df = pd.concat([train_df], ignore_index=True)\n",
    "\n",
    "# 3. Target Encoding\n",
    "le = LabelEncoder().fit(df[target_columns[0]].astype(str))\n",
    "y_enc = le.transform(df[target_columns[0]].astype(str))\n",
    "num_classes = len(le.classes_)\n",
    "\n",
    "# 4. Train/Test Split\n",
    "X = df.drop(columns=target_columns + [id_col], errors='ignore')\n",
    "train_ids = df[id_col] if id_col in df.columns else None  # Fixing the KeyError\n",
    "test_ids = df_test[id_col] if id_col in df_test.columns else None  # Fixing the KeyError\n",
    "X_train = X.copy()\n",
    "y_train = y_enc\n",
    "X_val = df_test.drop(columns=target_columns + [id_col], errors='ignore')\n",
    "y_val = None\n",
    "\n",
    "# 5. Feature Engineering\n",
    "# Drop columns with all missing values\n",
    "X_train = X_train.loc[:, X_train.notnull().any()]\n",
    "X_val = X_val[X_train.columns]\n",
    "\n",
    "# Identify numeric and categorical\n",
    "numeric_cols = X_train.select_dtypes(include=['int64','float64']).columns.tolist()\n",
    "categorical_cols = X_train.select_dtypes(include=['object','category']).columns.tolist()\n",
    "\n",
    "# 6. Preprocessing Pipeline\n",
    "numeric_transformer = Pipeline(steps=[\n",
    "    ('imputer', SimpleImputer(strategy='median')),\n",
    "    ('scaler', StandardScaler())\n",
    "])\n",
    "categorical_transformer = Pipeline(steps=[\n",
    "    ('imputer', SimpleImputer(strategy='most_frequent')),\n",
    "    ('onehot', OneHotEncoder(handle_unknown='ignore', sparse_output=False))\n",
    "])\n",
    "preprocessor = ColumnTransformer(transformers=[\n",
    "    ('num', numeric_transformer, numeric_cols),\n",
    "    ('cat', categorical_transformer, categorical_cols)\n",
    "])\n",
    "\n",
    "X_train_proc = preprocessor.fit_transform(X_train)\n",
    "X_val_proc = preprocessor.transform(X_val)\n",
    "\n",
    "input_dim = X_train_proc.shape[1]\n",
    "\n",
    "# 7. Model Architecture for small feature set\n",
    "from tensorflow.keras import Sequential\n",
    "from tensorflow.keras.layers import Dense, Dropout\n",
    "\n",
    "model = Sequential()\n",
    "model.add(Dense(min(input_dim*2,128), activation='relu', input_shape=(input_dim,)))\n",
    "model.add(Dropout(0.2))\n",
    "model.add(Dense(min(input_dim,64), activation='relu'))\n",
    "model.add(Dropout(0.2))\n",
    "model.add(Dense(num_classes, activation='softmax'))\n",
    "\n",
    "# 8. Compile\n",
    "top_k = min(num_classes,5)\n",
    "model.compile(\n",
    "    optimizer='adam',\n",
    "    loss='sparse_categorical_crossentropy',\n",
    "    metrics=['accuracy', SparseTopKCategoricalAccuracy(k=top_k, name=f'top_{top_k}_accuracy')]\n",
    ")\n",
    "\n",
    "# 9. Callbacks & Training\n",
    "callbacks = [\n",
    "    EarlyStopping(monitor='val_loss', patience=10, restore_best_weights=True),\n",
    "    ModelCheckpoint('model.h5', save_best_only=True, monitor='val_loss')\n",
    "]\n",
    "start_time = time.time()\n",
    "history = model.fit(\n",
    "    X_train_proc, y_train,\n",
    "    validation_split=0.2,\n",
    "    epochs=100,\n",
    "    batch_size=64,\n",
    "    callbacks=callbacks,\n",
    "    verbose=2\n",
    ")\n",
    "duration = time.time() - start_time\n",
    "\n",
    "# 10. Evaluation & Logging\n",
    "results = {\n",
    "    'training_accuracy': history.history['accuracy'][-1],\n",
    "    'training_loss': history.history['loss'][-1],\n",
    "    'validation_accuracy': history.history['val_accuracy'][-1],\n",
    "    'validation_loss': history.history['val_loss'][-1]\n",
    "}\n",
    "with open('results.json', 'w') as f:\n",
    "    json.dump(results, f)\n",
    "\n",
    "# 11. Prediction & Submission\n",
    "raw_preds = model.predict(X_val_proc)\n",
    "idxs = raw_preds.argmax(axis=1)\n",
    "final = le.inverse_transform(idxs)\n",
    "final = final.reshape(-1,1)\n",
    "\n",
    "submission = pd.DataFrame(final, columns=target_columns)\n",
    "submission.insert(0, id_col, test_ids.reset_index(drop=True))\n",
    "submission.to_csv('submission_result.csv', index=False)"
   ]
  },
  {
   "cell_type": "code",
   "execution_count": null,
   "metadata": {},
   "outputs": [],
   "source": [
    "print(duration)"
   ]
  },
  {
   "cell_type": "markdown",
   "metadata": {},
   "source": [
    "## Keras Tuner - 1 Attempt"
   ]
  },
  {
   "cell_type": "markdown",
   "metadata": {},
   "source": [
    "## Attempt 1\n"
   ]
  },
  {
   "cell_type": "code",
   "execution_count": null,
   "metadata": {},
   "outputs": [
    {
     "name": "stdout",
     "output_type": "stream",
     "text": [
      "Trial 10 Complete [00h 01m 17s]\n",
      "val_loss: 0.9246384501457214\n",
      "\n",
      "Best val_loss So Far: 0.9138667583465576\n",
      "Total elapsed time: 00h 13m 54s\n",
      "Epoch 1/100\n"
     ]
    },
    {
     "name": "stderr",
     "output_type": "stream",
     "text": [
      "WARNING:absl:You are saving your model as an HDF5 file via `model.save()` or `keras.saving.save_model(model)`. This file format is considered legacy. We recommend using instead the native Keras format, e.g. `model.save('my_model.keras')` or `keras.saving.save_model(model, 'my_model.keras')`. \n"
     ]
    },
    {
     "name": "stdout",
     "output_type": "stream",
     "text": [
      "626/626 - 9s - 14ms/step - accuracy: 0.5146 - loss: 0.9990 - val_accuracy: 0.5426 - val_loss: 0.9683\n",
      "Epoch 2/100\n"
     ]
    },
    {
     "name": "stderr",
     "output_type": "stream",
     "text": [
      "WARNING:absl:You are saving your model as an HDF5 file via `model.save()` or `keras.saving.save_model(model)`. This file format is considered legacy. We recommend using instead the native Keras format, e.g. `model.save('my_model.keras')` or `keras.saving.save_model(model, 'my_model.keras')`. \n"
     ]
    },
    {
     "name": "stdout",
     "output_type": "stream",
     "text": [
      "626/626 - 2s - 4ms/step - accuracy: 0.5358 - loss: 0.9614 - val_accuracy: 0.5428 - val_loss: 0.9605\n",
      "Epoch 3/100\n"
     ]
    },
    {
     "name": "stderr",
     "output_type": "stream",
     "text": [
      "WARNING:absl:You are saving your model as an HDF5 file via `model.save()` or `keras.saving.save_model(model)`. This file format is considered legacy. We recommend using instead the native Keras format, e.g. `model.save('my_model.keras')` or `keras.saving.save_model(model, 'my_model.keras')`. \n"
     ]
    },
    {
     "name": "stdout",
     "output_type": "stream",
     "text": [
      "626/626 - 2s - 4ms/step - accuracy: 0.5398 - loss: 0.9535 - val_accuracy: 0.5472 - val_loss: 0.9595\n",
      "Epoch 4/100\n"
     ]
    },
    {
     "name": "stderr",
     "output_type": "stream",
     "text": [
      "WARNING:absl:You are saving your model as an HDF5 file via `model.save()` or `keras.saving.save_model(model)`. This file format is considered legacy. We recommend using instead the native Keras format, e.g. `model.save('my_model.keras')` or `keras.saving.save_model(model, 'my_model.keras')`. \n"
     ]
    },
    {
     "name": "stdout",
     "output_type": "stream",
     "text": [
      "626/626 - 2s - 4ms/step - accuracy: 0.5423 - loss: 0.9486 - val_accuracy: 0.5434 - val_loss: 0.9566\n",
      "Epoch 5/100\n"
     ]
    },
    {
     "name": "stderr",
     "output_type": "stream",
     "text": [
      "WARNING:absl:You are saving your model as an HDF5 file via `model.save()` or `keras.saving.save_model(model)`. This file format is considered legacy. We recommend using instead the native Keras format, e.g. `model.save('my_model.keras')` or `keras.saving.save_model(model, 'my_model.keras')`. \n"
     ]
    },
    {
     "name": "stdout",
     "output_type": "stream",
     "text": [
      "626/626 - 2s - 4ms/step - accuracy: 0.5453 - loss: 0.9434 - val_accuracy: 0.5444 - val_loss: 0.9538\n",
      "Epoch 6/100\n"
     ]
    },
    {
     "name": "stderr",
     "output_type": "stream",
     "text": [
      "WARNING:absl:You are saving your model as an HDF5 file via `model.save()` or `keras.saving.save_model(model)`. This file format is considered legacy. We recommend using instead the native Keras format, e.g. `model.save('my_model.keras')` or `keras.saving.save_model(model, 'my_model.keras')`. \n"
     ]
    },
    {
     "name": "stdout",
     "output_type": "stream",
     "text": [
      "626/626 - 2s - 4ms/step - accuracy: 0.5508 - loss: 0.9385 - val_accuracy: 0.5506 - val_loss: 0.9502\n",
      "Epoch 7/100\n"
     ]
    },
    {
     "name": "stderr",
     "output_type": "stream",
     "text": [
      "WARNING:absl:You are saving your model as an HDF5 file via `model.save()` or `keras.saving.save_model(model)`. This file format is considered legacy. We recommend using instead the native Keras format, e.g. `model.save('my_model.keras')` or `keras.saving.save_model(model, 'my_model.keras')`. \n"
     ]
    },
    {
     "name": "stdout",
     "output_type": "stream",
     "text": [
      "626/626 - 2s - 4ms/step - accuracy: 0.5467 - loss: 0.9342 - val_accuracy: 0.5524 - val_loss: 0.9480\n",
      "Epoch 8/100\n"
     ]
    },
    {
     "name": "stderr",
     "output_type": "stream",
     "text": [
      "WARNING:absl:You are saving your model as an HDF5 file via `model.save()` or `keras.saving.save_model(model)`. This file format is considered legacy. We recommend using instead the native Keras format, e.g. `model.save('my_model.keras')` or `keras.saving.save_model(model, 'my_model.keras')`. \n"
     ]
    },
    {
     "name": "stdout",
     "output_type": "stream",
     "text": [
      "626/626 - 2s - 4ms/step - accuracy: 0.5516 - loss: 0.9304 - val_accuracy: 0.5478 - val_loss: 0.9462\n",
      "Epoch 9/100\n"
     ]
    },
    {
     "name": "stderr",
     "output_type": "stream",
     "text": [
      "WARNING:absl:You are saving your model as an HDF5 file via `model.save()` or `keras.saving.save_model(model)`. This file format is considered legacy. We recommend using instead the native Keras format, e.g. `model.save('my_model.keras')` or `keras.saving.save_model(model, 'my_model.keras')`. \n"
     ]
    },
    {
     "name": "stdout",
     "output_type": "stream",
     "text": [
      "626/626 - 2s - 4ms/step - accuracy: 0.5522 - loss: 0.9246 - val_accuracy: 0.5564 - val_loss: 0.9454\n",
      "Epoch 10/100\n"
     ]
    },
    {
     "name": "stderr",
     "output_type": "stream",
     "text": [
      "WARNING:absl:You are saving your model as an HDF5 file via `model.save()` or `keras.saving.save_model(model)`. This file format is considered legacy. We recommend using instead the native Keras format, e.g. `model.save('my_model.keras')` or `keras.saving.save_model(model, 'my_model.keras')`. \n"
     ]
    },
    {
     "name": "stdout",
     "output_type": "stream",
     "text": [
      "626/626 - 2s - 4ms/step - accuracy: 0.5562 - loss: 0.9210 - val_accuracy: 0.5576 - val_loss: 0.9405\n",
      "Epoch 11/100\n",
      "626/626 - 2s - 4ms/step - accuracy: 0.5630 - loss: 0.9128 - val_accuracy: 0.5558 - val_loss: 0.9408\n",
      "Epoch 12/100\n"
     ]
    },
    {
     "name": "stderr",
     "output_type": "stream",
     "text": [
      "WARNING:absl:You are saving your model as an HDF5 file via `model.save()` or `keras.saving.save_model(model)`. This file format is considered legacy. We recommend using instead the native Keras format, e.g. `model.save('my_model.keras')` or `keras.saving.save_model(model, 'my_model.keras')`. \n"
     ]
    },
    {
     "name": "stdout",
     "output_type": "stream",
     "text": [
      "626/626 - 2s - 4ms/step - accuracy: 0.5669 - loss: 0.9076 - val_accuracy: 0.5592 - val_loss: 0.9376\n",
      "Epoch 13/100\n"
     ]
    },
    {
     "name": "stderr",
     "output_type": "stream",
     "text": [
      "WARNING:absl:You are saving your model as an HDF5 file via `model.save()` or `keras.saving.save_model(model)`. This file format is considered legacy. We recommend using instead the native Keras format, e.g. `model.save('my_model.keras')` or `keras.saving.save_model(model, 'my_model.keras')`. \n"
     ]
    },
    {
     "name": "stdout",
     "output_type": "stream",
     "text": [
      "626/626 - 2s - 4ms/step - accuracy: 0.5663 - loss: 0.9046 - val_accuracy: 0.5632 - val_loss: 0.9338\n",
      "Epoch 14/100\n"
     ]
    },
    {
     "name": "stderr",
     "output_type": "stream",
     "text": [
      "WARNING:absl:You are saving your model as an HDF5 file via `model.save()` or `keras.saving.save_model(model)`. This file format is considered legacy. We recommend using instead the native Keras format, e.g. `model.save('my_model.keras')` or `keras.saving.save_model(model, 'my_model.keras')`. \n"
     ]
    },
    {
     "name": "stdout",
     "output_type": "stream",
     "text": [
      "626/626 - 2s - 4ms/step - accuracy: 0.5728 - loss: 0.8960 - val_accuracy: 0.5652 - val_loss: 0.9333\n",
      "Epoch 15/100\n"
     ]
    },
    {
     "name": "stderr",
     "output_type": "stream",
     "text": [
      "WARNING:absl:You are saving your model as an HDF5 file via `model.save()` or `keras.saving.save_model(model)`. This file format is considered legacy. We recommend using instead the native Keras format, e.g. `model.save('my_model.keras')` or `keras.saving.save_model(model, 'my_model.keras')`. \n"
     ]
    },
    {
     "name": "stdout",
     "output_type": "stream",
     "text": [
      "626/626 - 2s - 4ms/step - accuracy: 0.5726 - loss: 0.8924 - val_accuracy: 0.5660 - val_loss: 0.9315\n",
      "Epoch 16/100\n"
     ]
    },
    {
     "name": "stderr",
     "output_type": "stream",
     "text": [
      "WARNING:absl:You are saving your model as an HDF5 file via `model.save()` or `keras.saving.save_model(model)`. This file format is considered legacy. We recommend using instead the native Keras format, e.g. `model.save('my_model.keras')` or `keras.saving.save_model(model, 'my_model.keras')`. \n"
     ]
    },
    {
     "name": "stdout",
     "output_type": "stream",
     "text": [
      "626/626 - 2s - 4ms/step - accuracy: 0.5795 - loss: 0.8847 - val_accuracy: 0.5684 - val_loss: 0.9231\n",
      "Epoch 17/100\n",
      "626/626 - 2s - 4ms/step - accuracy: 0.5847 - loss: 0.8757 - val_accuracy: 0.5770 - val_loss: 0.9272\n",
      "Epoch 18/100\n"
     ]
    },
    {
     "name": "stderr",
     "output_type": "stream",
     "text": [
      "WARNING:absl:You are saving your model as an HDF5 file via `model.save()` or `keras.saving.save_model(model)`. This file format is considered legacy. We recommend using instead the native Keras format, e.g. `model.save('my_model.keras')` or `keras.saving.save_model(model, 'my_model.keras')`. \n"
     ]
    },
    {
     "name": "stdout",
     "output_type": "stream",
     "text": [
      "626/626 - 2s - 4ms/step - accuracy: 0.5893 - loss: 0.8702 - val_accuracy: 0.5764 - val_loss: 0.9191\n",
      "Epoch 19/100\n"
     ]
    },
    {
     "name": "stderr",
     "output_type": "stream",
     "text": [
      "WARNING:absl:You are saving your model as an HDF5 file via `model.save()` or `keras.saving.save_model(model)`. This file format is considered legacy. We recommend using instead the native Keras format, e.g. `model.save('my_model.keras')` or `keras.saving.save_model(model, 'my_model.keras')`. \n"
     ]
    },
    {
     "name": "stdout",
     "output_type": "stream",
     "text": [
      "626/626 - 2s - 4ms/step - accuracy: 0.5946 - loss: 0.8613 - val_accuracy: 0.5812 - val_loss: 0.9170\n",
      "Epoch 20/100\n"
     ]
    },
    {
     "name": "stderr",
     "output_type": "stream",
     "text": [
      "WARNING:absl:You are saving your model as an HDF5 file via `model.save()` or `keras.saving.save_model(model)`. This file format is considered legacy. We recommend using instead the native Keras format, e.g. `model.save('my_model.keras')` or `keras.saving.save_model(model, 'my_model.keras')`. \n"
     ]
    },
    {
     "name": "stdout",
     "output_type": "stream",
     "text": [
      "626/626 - 2s - 4ms/step - accuracy: 0.5997 - loss: 0.8583 - val_accuracy: 0.5812 - val_loss: 0.9120\n",
      "Epoch 21/100\n"
     ]
    },
    {
     "name": "stderr",
     "output_type": "stream",
     "text": [
      "WARNING:absl:You are saving your model as an HDF5 file via `model.save()` or `keras.saving.save_model(model)`. This file format is considered legacy. We recommend using instead the native Keras format, e.g. `model.save('my_model.keras')` or `keras.saving.save_model(model, 'my_model.keras')`. \n"
     ]
    },
    {
     "name": "stdout",
     "output_type": "stream",
     "text": [
      "626/626 - 2s - 4ms/step - accuracy: 0.6050 - loss: 0.8468 - val_accuracy: 0.5852 - val_loss: 0.9066\n",
      "Epoch 22/100\n"
     ]
    },
    {
     "name": "stderr",
     "output_type": "stream",
     "text": [
      "WARNING:absl:You are saving your model as an HDF5 file via `model.save()` or `keras.saving.save_model(model)`. This file format is considered legacy. We recommend using instead the native Keras format, e.g. `model.save('my_model.keras')` or `keras.saving.save_model(model, 'my_model.keras')`. \n"
     ]
    },
    {
     "name": "stdout",
     "output_type": "stream",
     "text": [
      "626/626 - 3s - 4ms/step - accuracy: 0.6039 - loss: 0.8456 - val_accuracy: 0.5880 - val_loss: 0.9061\n",
      "Epoch 23/100\n"
     ]
    },
    {
     "name": "stderr",
     "output_type": "stream",
     "text": [
      "WARNING:absl:You are saving your model as an HDF5 file via `model.save()` or `keras.saving.save_model(model)`. This file format is considered legacy. We recommend using instead the native Keras format, e.g. `model.save('my_model.keras')` or `keras.saving.save_model(model, 'my_model.keras')`. \n"
     ]
    },
    {
     "name": "stdout",
     "output_type": "stream",
     "text": [
      "626/626 - 3s - 4ms/step - accuracy: 0.6086 - loss: 0.8412 - val_accuracy: 0.5900 - val_loss: 0.9020\n",
      "Epoch 24/100\n",
      "626/626 - 2s - 4ms/step - accuracy: 0.6128 - loss: 0.8313 - val_accuracy: 0.5874 - val_loss: 0.9053\n",
      "Epoch 25/100\n"
     ]
    },
    {
     "name": "stderr",
     "output_type": "stream",
     "text": [
      "WARNING:absl:You are saving your model as an HDF5 file via `model.save()` or `keras.saving.save_model(model)`. This file format is considered legacy. We recommend using instead the native Keras format, e.g. `model.save('my_model.keras')` or `keras.saving.save_model(model, 'my_model.keras')`. \n"
     ]
    },
    {
     "name": "stdout",
     "output_type": "stream",
     "text": [
      "626/626 - 2s - 4ms/step - accuracy: 0.6168 - loss: 0.8258 - val_accuracy: 0.5918 - val_loss: 0.8980\n",
      "Epoch 26/100\n"
     ]
    },
    {
     "name": "stderr",
     "output_type": "stream",
     "text": [
      "WARNING:absl:You are saving your model as an HDF5 file via `model.save()` or `keras.saving.save_model(model)`. This file format is considered legacy. We recommend using instead the native Keras format, e.g. `model.save('my_model.keras')` or `keras.saving.save_model(model, 'my_model.keras')`. \n"
     ]
    },
    {
     "name": "stdout",
     "output_type": "stream",
     "text": [
      "626/626 - 2s - 4ms/step - accuracy: 0.6205 - loss: 0.8169 - val_accuracy: 0.5990 - val_loss: 0.8942\n",
      "Epoch 27/100\n"
     ]
    },
    {
     "name": "stderr",
     "output_type": "stream",
     "text": [
      "WARNING:absl:You are saving your model as an HDF5 file via `model.save()` or `keras.saving.save_model(model)`. This file format is considered legacy. We recommend using instead the native Keras format, e.g. `model.save('my_model.keras')` or `keras.saving.save_model(model, 'my_model.keras')`. \n"
     ]
    },
    {
     "name": "stdout",
     "output_type": "stream",
     "text": [
      "626/626 - 2s - 4ms/step - accuracy: 0.6232 - loss: 0.8161 - val_accuracy: 0.5980 - val_loss: 0.8934\n",
      "Epoch 28/100\n"
     ]
    },
    {
     "name": "stderr",
     "output_type": "stream",
     "text": [
      "WARNING:absl:You are saving your model as an HDF5 file via `model.save()` or `keras.saving.save_model(model)`. This file format is considered legacy. We recommend using instead the native Keras format, e.g. `model.save('my_model.keras')` or `keras.saving.save_model(model, 'my_model.keras')`. \n"
     ]
    },
    {
     "name": "stdout",
     "output_type": "stream",
     "text": [
      "626/626 - 2s - 4ms/step - accuracy: 0.6283 - loss: 0.8073 - val_accuracy: 0.6018 - val_loss: 0.8907\n",
      "Epoch 29/100\n"
     ]
    },
    {
     "name": "stderr",
     "output_type": "stream",
     "text": [
      "WARNING:absl:You are saving your model as an HDF5 file via `model.save()` or `keras.saving.save_model(model)`. This file format is considered legacy. We recommend using instead the native Keras format, e.g. `model.save('my_model.keras')` or `keras.saving.save_model(model, 'my_model.keras')`. \n"
     ]
    },
    {
     "name": "stdout",
     "output_type": "stream",
     "text": [
      "626/626 - 2s - 4ms/step - accuracy: 0.6296 - loss: 0.8072 - val_accuracy: 0.6036 - val_loss: 0.8852\n",
      "Epoch 30/100\n",
      "626/626 - 2s - 4ms/step - accuracy: 0.6320 - loss: 0.7918 - val_accuracy: 0.6050 - val_loss: 0.8869\n",
      "Epoch 31/100\n"
     ]
    },
    {
     "name": "stderr",
     "output_type": "stream",
     "text": [
      "WARNING:absl:You are saving your model as an HDF5 file via `model.save()` or `keras.saving.save_model(model)`. This file format is considered legacy. We recommend using instead the native Keras format, e.g. `model.save('my_model.keras')` or `keras.saving.save_model(model, 'my_model.keras')`. \n"
     ]
    },
    {
     "name": "stdout",
     "output_type": "stream",
     "text": [
      "626/626 - 2s - 4ms/step - accuracy: 0.6368 - loss: 0.7888 - val_accuracy: 0.6108 - val_loss: 0.8831\n",
      "Epoch 32/100\n"
     ]
    },
    {
     "name": "stderr",
     "output_type": "stream",
     "text": [
      "WARNING:absl:You are saving your model as an HDF5 file via `model.save()` or `keras.saving.save_model(model)`. This file format is considered legacy. We recommend using instead the native Keras format, e.g. `model.save('my_model.keras')` or `keras.saving.save_model(model, 'my_model.keras')`. \n"
     ]
    },
    {
     "name": "stdout",
     "output_type": "stream",
     "text": [
      "626/626 - 2s - 4ms/step - accuracy: 0.6396 - loss: 0.7801 - val_accuracy: 0.6134 - val_loss: 0.8802\n",
      "Epoch 33/100\n"
     ]
    },
    {
     "name": "stderr",
     "output_type": "stream",
     "text": [
      "WARNING:absl:You are saving your model as an HDF5 file via `model.save()` or `keras.saving.save_model(model)`. This file format is considered legacy. We recommend using instead the native Keras format, e.g. `model.save('my_model.keras')` or `keras.saving.save_model(model, 'my_model.keras')`. \n"
     ]
    },
    {
     "name": "stdout",
     "output_type": "stream",
     "text": [
      "626/626 - 2s - 4ms/step - accuracy: 0.6438 - loss: 0.7759 - val_accuracy: 0.6110 - val_loss: 0.8790\n",
      "Epoch 34/100\n",
      "626/626 - 2s - 4ms/step - accuracy: 0.6444 - loss: 0.7689 - val_accuracy: 0.6142 - val_loss: 0.8802\n",
      "Epoch 35/100\n"
     ]
    },
    {
     "name": "stderr",
     "output_type": "stream",
     "text": [
      "WARNING:absl:You are saving your model as an HDF5 file via `model.save()` or `keras.saving.save_model(model)`. This file format is considered legacy. We recommend using instead the native Keras format, e.g. `model.save('my_model.keras')` or `keras.saving.save_model(model, 'my_model.keras')`. \n"
     ]
    },
    {
     "name": "stdout",
     "output_type": "stream",
     "text": [
      "626/626 - 2s - 4ms/step - accuracy: 0.6475 - loss: 0.7652 - val_accuracy: 0.6176 - val_loss: 0.8719\n",
      "Epoch 36/100\n"
     ]
    },
    {
     "name": "stderr",
     "output_type": "stream",
     "text": [
      "WARNING:absl:You are saving your model as an HDF5 file via `model.save()` or `keras.saving.save_model(model)`. This file format is considered legacy. We recommend using instead the native Keras format, e.g. `model.save('my_model.keras')` or `keras.saving.save_model(model, 'my_model.keras')`. \n"
     ]
    },
    {
     "name": "stdout",
     "output_type": "stream",
     "text": [
      "626/626 - 2s - 4ms/step - accuracy: 0.6521 - loss: 0.7583 - val_accuracy: 0.6236 - val_loss: 0.8702\n",
      "Epoch 37/100\n",
      "626/626 - 2s - 4ms/step - accuracy: 0.6547 - loss: 0.7565 - val_accuracy: 0.6172 - val_loss: 0.8750\n",
      "Epoch 38/100\n"
     ]
    },
    {
     "name": "stderr",
     "output_type": "stream",
     "text": [
      "WARNING:absl:You are saving your model as an HDF5 file via `model.save()` or `keras.saving.save_model(model)`. This file format is considered legacy. We recommend using instead the native Keras format, e.g. `model.save('my_model.keras')` or `keras.saving.save_model(model, 'my_model.keras')`. \n"
     ]
    },
    {
     "name": "stdout",
     "output_type": "stream",
     "text": [
      "626/626 - 3s - 4ms/step - accuracy: 0.6611 - loss: 0.7443 - val_accuracy: 0.6313 - val_loss: 0.8644\n",
      "Epoch 39/100\n"
     ]
    },
    {
     "name": "stderr",
     "output_type": "stream",
     "text": [
      "WARNING:absl:You are saving your model as an HDF5 file via `model.save()` or `keras.saving.save_model(model)`. This file format is considered legacy. We recommend using instead the native Keras format, e.g. `model.save('my_model.keras')` or `keras.saving.save_model(model, 'my_model.keras')`. \n"
     ]
    },
    {
     "name": "stdout",
     "output_type": "stream",
     "text": [
      "626/626 - 3s - 4ms/step - accuracy: 0.6627 - loss: 0.7384 - val_accuracy: 0.6333 - val_loss: 0.8605\n",
      "Epoch 40/100\n"
     ]
    },
    {
     "name": "stderr",
     "output_type": "stream",
     "text": [
      "WARNING:absl:You are saving your model as an HDF5 file via `model.save()` or `keras.saving.save_model(model)`. This file format is considered legacy. We recommend using instead the native Keras format, e.g. `model.save('my_model.keras')` or `keras.saving.save_model(model, 'my_model.keras')`. \n"
     ]
    },
    {
     "name": "stdout",
     "output_type": "stream",
     "text": [
      "626/626 - 3s - 4ms/step - accuracy: 0.6696 - loss: 0.7303 - val_accuracy: 0.6325 - val_loss: 0.8560\n",
      "Epoch 41/100\n",
      "626/626 - 3s - 4ms/step - accuracy: 0.6704 - loss: 0.7291 - val_accuracy: 0.6353 - val_loss: 0.8591\n",
      "Epoch 42/100\n"
     ]
    },
    {
     "name": "stderr",
     "output_type": "stream",
     "text": [
      "WARNING:absl:You are saving your model as an HDF5 file via `model.save()` or `keras.saving.save_model(model)`. This file format is considered legacy. We recommend using instead the native Keras format, e.g. `model.save('my_model.keras')` or `keras.saving.save_model(model, 'my_model.keras')`. \n"
     ]
    },
    {
     "name": "stdout",
     "output_type": "stream",
     "text": [
      "626/626 - 3s - 5ms/step - accuracy: 0.6736 - loss: 0.7185 - val_accuracy: 0.6429 - val_loss: 0.8481\n",
      "Epoch 43/100\n"
     ]
    },
    {
     "name": "stderr",
     "output_type": "stream",
     "text": [
      "WARNING:absl:You are saving your model as an HDF5 file via `model.save()` or `keras.saving.save_model(model)`. This file format is considered legacy. We recommend using instead the native Keras format, e.g. `model.save('my_model.keras')` or `keras.saving.save_model(model, 'my_model.keras')`. \n"
     ]
    },
    {
     "name": "stdout",
     "output_type": "stream",
     "text": [
      "626/626 - 2s - 4ms/step - accuracy: 0.6807 - loss: 0.7104 - val_accuracy: 0.6427 - val_loss: 0.8440\n",
      "Epoch 44/100\n"
     ]
    },
    {
     "name": "stderr",
     "output_type": "stream",
     "text": [
      "WARNING:absl:You are saving your model as an HDF5 file via `model.save()` or `keras.saving.save_model(model)`. This file format is considered legacy. We recommend using instead the native Keras format, e.g. `model.save('my_model.keras')` or `keras.saving.save_model(model, 'my_model.keras')`. \n"
     ]
    },
    {
     "name": "stdout",
     "output_type": "stream",
     "text": [
      "626/626 - 2s - 4ms/step - accuracy: 0.6846 - loss: 0.7056 - val_accuracy: 0.6479 - val_loss: 0.8423\n",
      "Epoch 45/100\n"
     ]
    },
    {
     "name": "stderr",
     "output_type": "stream",
     "text": [
      "WARNING:absl:You are saving your model as an HDF5 file via `model.save()` or `keras.saving.save_model(model)`. This file format is considered legacy. We recommend using instead the native Keras format, e.g. `model.save('my_model.keras')` or `keras.saving.save_model(model, 'my_model.keras')`. \n"
     ]
    },
    {
     "name": "stdout",
     "output_type": "stream",
     "text": [
      "626/626 - 2s - 4ms/step - accuracy: 0.6910 - loss: 0.6925 - val_accuracy: 0.6591 - val_loss: 0.8222\n",
      "Epoch 46/100\n"
     ]
    },
    {
     "name": "stderr",
     "output_type": "stream",
     "text": [
      "WARNING:absl:You are saving your model as an HDF5 file via `model.save()` or `keras.saving.save_model(model)`. This file format is considered legacy. We recommend using instead the native Keras format, e.g. `model.save('my_model.keras')` or `keras.saving.save_model(model, 'my_model.keras')`. \n"
     ]
    },
    {
     "name": "stdout",
     "output_type": "stream",
     "text": [
      "626/626 - 2s - 4ms/step - accuracy: 0.6918 - loss: 0.6866 - val_accuracy: 0.6651 - val_loss: 0.8161\n",
      "Epoch 47/100\n"
     ]
    },
    {
     "name": "stderr",
     "output_type": "stream",
     "text": [
      "WARNING:absl:You are saving your model as an HDF5 file via `model.save()` or `keras.saving.save_model(model)`. This file format is considered legacy. We recommend using instead the native Keras format, e.g. `model.save('my_model.keras')` or `keras.saving.save_model(model, 'my_model.keras')`. \n"
     ]
    },
    {
     "name": "stdout",
     "output_type": "stream",
     "text": [
      "626/626 - 3s - 4ms/step - accuracy: 0.6989 - loss: 0.6778 - val_accuracy: 0.6637 - val_loss: 0.8151\n",
      "Epoch 48/100\n"
     ]
    },
    {
     "name": "stderr",
     "output_type": "stream",
     "text": [
      "WARNING:absl:You are saving your model as an HDF5 file via `model.save()` or `keras.saving.save_model(model)`. This file format is considered legacy. We recommend using instead the native Keras format, e.g. `model.save('my_model.keras')` or `keras.saving.save_model(model, 'my_model.keras')`. \n"
     ]
    },
    {
     "name": "stdout",
     "output_type": "stream",
     "text": [
      "626/626 - 2s - 4ms/step - accuracy: 0.7032 - loss: 0.6715 - val_accuracy: 0.6661 - val_loss: 0.8086\n",
      "Epoch 49/100\n"
     ]
    },
    {
     "name": "stderr",
     "output_type": "stream",
     "text": [
      "WARNING:absl:You are saving your model as an HDF5 file via `model.save()` or `keras.saving.save_model(model)`. This file format is considered legacy. We recommend using instead the native Keras format, e.g. `model.save('my_model.keras')` or `keras.saving.save_model(model, 'my_model.keras')`. \n"
     ]
    },
    {
     "name": "stdout",
     "output_type": "stream",
     "text": [
      "626/626 - 2s - 4ms/step - accuracy: 0.7079 - loss: 0.6679 - val_accuracy: 0.6699 - val_loss: 0.8043\n",
      "Epoch 50/100\n"
     ]
    },
    {
     "name": "stderr",
     "output_type": "stream",
     "text": [
      "WARNING:absl:You are saving your model as an HDF5 file via `model.save()` or `keras.saving.save_model(model)`. This file format is considered legacy. We recommend using instead the native Keras format, e.g. `model.save('my_model.keras')` or `keras.saving.save_model(model, 'my_model.keras')`. \n"
     ]
    },
    {
     "name": "stdout",
     "output_type": "stream",
     "text": [
      "626/626 - 2s - 4ms/step - accuracy: 0.7114 - loss: 0.6578 - val_accuracy: 0.6797 - val_loss: 0.7913\n",
      "Epoch 51/100\n"
     ]
    },
    {
     "name": "stderr",
     "output_type": "stream",
     "text": [
      "WARNING:absl:You are saving your model as an HDF5 file via `model.save()` or `keras.saving.save_model(model)`. This file format is considered legacy. We recommend using instead the native Keras format, e.g. `model.save('my_model.keras')` or `keras.saving.save_model(model, 'my_model.keras')`. \n"
     ]
    },
    {
     "name": "stdout",
     "output_type": "stream",
     "text": [
      "626/626 - 2s - 4ms/step - accuracy: 0.7121 - loss: 0.6534 - val_accuracy: 0.6931 - val_loss: 0.7786\n",
      "Epoch 52/100\n",
      "626/626 - 3s - 4ms/step - accuracy: 0.7184 - loss: 0.6442 - val_accuracy: 0.6819 - val_loss: 0.7913\n",
      "Epoch 53/100\n",
      "626/626 - 2s - 4ms/step - accuracy: 0.7197 - loss: 0.6395 - val_accuracy: 0.6789 - val_loss: 0.7871\n",
      "Epoch 54/100\n"
     ]
    },
    {
     "name": "stderr",
     "output_type": "stream",
     "text": [
      "WARNING:absl:You are saving your model as an HDF5 file via `model.save()` or `keras.saving.save_model(model)`. This file format is considered legacy. We recommend using instead the native Keras format, e.g. `model.save('my_model.keras')` or `keras.saving.save_model(model, 'my_model.keras')`. \n"
     ]
    },
    {
     "name": "stdout",
     "output_type": "stream",
     "text": [
      "626/626 - 3s - 4ms/step - accuracy: 0.7229 - loss: 0.6332 - val_accuracy: 0.6995 - val_loss: 0.7609\n",
      "Epoch 55/100\n"
     ]
    },
    {
     "name": "stderr",
     "output_type": "stream",
     "text": [
      "WARNING:absl:You are saving your model as an HDF5 file via `model.save()` or `keras.saving.save_model(model)`. This file format is considered legacy. We recommend using instead the native Keras format, e.g. `model.save('my_model.keras')` or `keras.saving.save_model(model, 'my_model.keras')`. \n"
     ]
    },
    {
     "name": "stdout",
     "output_type": "stream",
     "text": [
      "626/626 - 3s - 4ms/step - accuracy: 0.7323 - loss: 0.6223 - val_accuracy: 0.7121 - val_loss: 0.7544\n",
      "Epoch 56/100\n"
     ]
    },
    {
     "name": "stderr",
     "output_type": "stream",
     "text": [
      "WARNING:absl:You are saving your model as an HDF5 file via `model.save()` or `keras.saving.save_model(model)`. This file format is considered legacy. We recommend using instead the native Keras format, e.g. `model.save('my_model.keras')` or `keras.saving.save_model(model, 'my_model.keras')`. \n"
     ]
    },
    {
     "name": "stdout",
     "output_type": "stream",
     "text": [
      "626/626 - 3s - 4ms/step - accuracy: 0.7370 - loss: 0.6140 - val_accuracy: 0.7213 - val_loss: 0.7384\n",
      "Epoch 57/100\n",
      "626/626 - 2s - 4ms/step - accuracy: 0.7432 - loss: 0.6070 - val_accuracy: 0.7247 - val_loss: 0.7428\n",
      "Epoch 58/100\n"
     ]
    },
    {
     "name": "stderr",
     "output_type": "stream",
     "text": [
      "WARNING:absl:You are saving your model as an HDF5 file via `model.save()` or `keras.saving.save_model(model)`. This file format is considered legacy. We recommend using instead the native Keras format, e.g. `model.save('my_model.keras')` or `keras.saving.save_model(model, 'my_model.keras')`. \n"
     ]
    },
    {
     "name": "stdout",
     "output_type": "stream",
     "text": [
      "626/626 - 3s - 4ms/step - accuracy: 0.7424 - loss: 0.6069 - val_accuracy: 0.7185 - val_loss: 0.7314\n",
      "Epoch 59/100\n",
      "626/626 - 3s - 4ms/step - accuracy: 0.7478 - loss: 0.5928 - val_accuracy: 0.7171 - val_loss: 0.7344\n",
      "Epoch 60/100\n"
     ]
    },
    {
     "name": "stderr",
     "output_type": "stream",
     "text": [
      "WARNING:absl:You are saving your model as an HDF5 file via `model.save()` or `keras.saving.save_model(model)`. This file format is considered legacy. We recommend using instead the native Keras format, e.g. `model.save('my_model.keras')` or `keras.saving.save_model(model, 'my_model.keras')`. \n"
     ]
    },
    {
     "name": "stdout",
     "output_type": "stream",
     "text": [
      "626/626 - 3s - 4ms/step - accuracy: 0.7550 - loss: 0.5801 - val_accuracy: 0.7255 - val_loss: 0.7266\n",
      "Epoch 61/100\n"
     ]
    },
    {
     "name": "stderr",
     "output_type": "stream",
     "text": [
      "WARNING:absl:You are saving your model as an HDF5 file via `model.save()` or `keras.saving.save_model(model)`. This file format is considered legacy. We recommend using instead the native Keras format, e.g. `model.save('my_model.keras')` or `keras.saving.save_model(model, 'my_model.keras')`. \n"
     ]
    },
    {
     "name": "stdout",
     "output_type": "stream",
     "text": [
      "626/626 - 3s - 4ms/step - accuracy: 0.7563 - loss: 0.5798 - val_accuracy: 0.7387 - val_loss: 0.7087\n",
      "Epoch 62/100\n"
     ]
    },
    {
     "name": "stderr",
     "output_type": "stream",
     "text": [
      "WARNING:absl:You are saving your model as an HDF5 file via `model.save()` or `keras.saving.save_model(model)`. This file format is considered legacy. We recommend using instead the native Keras format, e.g. `model.save('my_model.keras')` or `keras.saving.save_model(model, 'my_model.keras')`. \n"
     ]
    },
    {
     "name": "stdout",
     "output_type": "stream",
     "text": [
      "626/626 - 2s - 4ms/step - accuracy: 0.7544 - loss: 0.5779 - val_accuracy: 0.7385 - val_loss: 0.7035\n",
      "Epoch 63/100\n"
     ]
    },
    {
     "name": "stderr",
     "output_type": "stream",
     "text": [
      "WARNING:absl:You are saving your model as an HDF5 file via `model.save()` or `keras.saving.save_model(model)`. This file format is considered legacy. We recommend using instead the native Keras format, e.g. `model.save('my_model.keras')` or `keras.saving.save_model(model, 'my_model.keras')`. \n"
     ]
    },
    {
     "name": "stdout",
     "output_type": "stream",
     "text": [
      "626/626 - 3s - 4ms/step - accuracy: 0.7643 - loss: 0.5648 - val_accuracy: 0.7445 - val_loss: 0.7004\n",
      "Epoch 64/100\n"
     ]
    },
    {
     "name": "stderr",
     "output_type": "stream",
     "text": [
      "WARNING:absl:You are saving your model as an HDF5 file via `model.save()` or `keras.saving.save_model(model)`. This file format is considered legacy. We recommend using instead the native Keras format, e.g. `model.save('my_model.keras')` or `keras.saving.save_model(model, 'my_model.keras')`. \n"
     ]
    },
    {
     "name": "stdout",
     "output_type": "stream",
     "text": [
      "626/626 - 2s - 4ms/step - accuracy: 0.7649 - loss: 0.5668 - val_accuracy: 0.7405 - val_loss: 0.6943\n",
      "Epoch 65/100\n"
     ]
    },
    {
     "name": "stderr",
     "output_type": "stream",
     "text": [
      "WARNING:absl:You are saving your model as an HDF5 file via `model.save()` or `keras.saving.save_model(model)`. This file format is considered legacy. We recommend using instead the native Keras format, e.g. `model.save('my_model.keras')` or `keras.saving.save_model(model, 'my_model.keras')`. \n"
     ]
    },
    {
     "name": "stdout",
     "output_type": "stream",
     "text": [
      "626/626 - 3s - 4ms/step - accuracy: 0.7756 - loss: 0.5457 - val_accuracy: 0.7561 - val_loss: 0.6905\n",
      "Epoch 66/100\n"
     ]
    },
    {
     "name": "stderr",
     "output_type": "stream",
     "text": [
      "WARNING:absl:You are saving your model as an HDF5 file via `model.save()` or `keras.saving.save_model(model)`. This file format is considered legacy. We recommend using instead the native Keras format, e.g. `model.save('my_model.keras')` or `keras.saving.save_model(model, 'my_model.keras')`. \n"
     ]
    },
    {
     "name": "stdout",
     "output_type": "stream",
     "text": [
      "626/626 - 3s - 4ms/step - accuracy: 0.7704 - loss: 0.5439 - val_accuracy: 0.7643 - val_loss: 0.6578\n",
      "Epoch 67/100\n"
     ]
    },
    {
     "name": "stderr",
     "output_type": "stream",
     "text": [
      "WARNING:absl:You are saving your model as an HDF5 file via `model.save()` or `keras.saving.save_model(model)`. This file format is considered legacy. We recommend using instead the native Keras format, e.g. `model.save('my_model.keras')` or `keras.saving.save_model(model, 'my_model.keras')`. \n"
     ]
    },
    {
     "name": "stdout",
     "output_type": "stream",
     "text": [
      "626/626 - 3s - 4ms/step - accuracy: 0.7755 - loss: 0.5414 - val_accuracy: 0.7709 - val_loss: 0.6528\n",
      "Epoch 68/100\n"
     ]
    },
    {
     "name": "stderr",
     "output_type": "stream",
     "text": [
      "WARNING:absl:You are saving your model as an HDF5 file via `model.save()` or `keras.saving.save_model(model)`. This file format is considered legacy. We recommend using instead the native Keras format, e.g. `model.save('my_model.keras')` or `keras.saving.save_model(model, 'my_model.keras')`. \n"
     ]
    },
    {
     "name": "stdout",
     "output_type": "stream",
     "text": [
      "626/626 - 3s - 4ms/step - accuracy: 0.7815 - loss: 0.5318 - val_accuracy: 0.7801 - val_loss: 0.6426\n",
      "Epoch 69/100\n",
      "626/626 - 3s - 4ms/step - accuracy: 0.7853 - loss: 0.5282 - val_accuracy: 0.7645 - val_loss: 0.6552\n",
      "Epoch 70/100\n"
     ]
    },
    {
     "name": "stderr",
     "output_type": "stream",
     "text": [
      "WARNING:absl:You are saving your model as an HDF5 file via `model.save()` or `keras.saving.save_model(model)`. This file format is considered legacy. We recommend using instead the native Keras format, e.g. `model.save('my_model.keras')` or `keras.saving.save_model(model, 'my_model.keras')`. \n"
     ]
    },
    {
     "name": "stdout",
     "output_type": "stream",
     "text": [
      "626/626 - 3s - 5ms/step - accuracy: 0.7855 - loss: 0.5201 - val_accuracy: 0.7807 - val_loss: 0.6249\n",
      "Epoch 71/100\n"
     ]
    },
    {
     "name": "stderr",
     "output_type": "stream",
     "text": [
      "WARNING:absl:You are saving your model as an HDF5 file via `model.save()` or `keras.saving.save_model(model)`. This file format is considered legacy. We recommend using instead the native Keras format, e.g. `model.save('my_model.keras')` or `keras.saving.save_model(model, 'my_model.keras')`. \n"
     ]
    },
    {
     "name": "stdout",
     "output_type": "stream",
     "text": [
      "626/626 - 3s - 4ms/step - accuracy: 0.7928 - loss: 0.5106 - val_accuracy: 0.7939 - val_loss: 0.6160\n",
      "Epoch 72/100\n",
      "626/626 - 3s - 4ms/step - accuracy: 0.7940 - loss: 0.5055 - val_accuracy: 0.7939 - val_loss: 0.6181\n",
      "Epoch 73/100\n"
     ]
    },
    {
     "name": "stderr",
     "output_type": "stream",
     "text": [
      "WARNING:absl:You are saving your model as an HDF5 file via `model.save()` or `keras.saving.save_model(model)`. This file format is considered legacy. We recommend using instead the native Keras format, e.g. `model.save('my_model.keras')` or `keras.saving.save_model(model, 'my_model.keras')`. \n"
     ]
    },
    {
     "name": "stdout",
     "output_type": "stream",
     "text": [
      "626/626 - 3s - 5ms/step - accuracy: 0.7947 - loss: 0.5088 - val_accuracy: 0.7963 - val_loss: 0.6089\n",
      "Epoch 74/100\n"
     ]
    },
    {
     "name": "stderr",
     "output_type": "stream",
     "text": [
      "WARNING:absl:You are saving your model as an HDF5 file via `model.save()` or `keras.saving.save_model(model)`. This file format is considered legacy. We recommend using instead the native Keras format, e.g. `model.save('my_model.keras')` or `keras.saving.save_model(model, 'my_model.keras')`. \n"
     ]
    },
    {
     "name": "stdout",
     "output_type": "stream",
     "text": [
      "626/626 - 3s - 5ms/step - accuracy: 0.7996 - loss: 0.4991 - val_accuracy: 0.7907 - val_loss: 0.6085\n",
      "Epoch 75/100\n"
     ]
    },
    {
     "name": "stderr",
     "output_type": "stream",
     "text": [
      "WARNING:absl:You are saving your model as an HDF5 file via `model.save()` or `keras.saving.save_model(model)`. This file format is considered legacy. We recommend using instead the native Keras format, e.g. `model.save('my_model.keras')` or `keras.saving.save_model(model, 'my_model.keras')`. \n"
     ]
    },
    {
     "name": "stdout",
     "output_type": "stream",
     "text": [
      "626/626 - 3s - 4ms/step - accuracy: 0.8047 - loss: 0.4882 - val_accuracy: 0.7971 - val_loss: 0.5961\n",
      "Epoch 76/100\n"
     ]
    },
    {
     "name": "stderr",
     "output_type": "stream",
     "text": [
      "WARNING:absl:You are saving your model as an HDF5 file via `model.save()` or `keras.saving.save_model(model)`. This file format is considered legacy. We recommend using instead the native Keras format, e.g. `model.save('my_model.keras')` or `keras.saving.save_model(model, 'my_model.keras')`. \n"
     ]
    },
    {
     "name": "stdout",
     "output_type": "stream",
     "text": [
      "626/626 - 3s - 4ms/step - accuracy: 0.8024 - loss: 0.4905 - val_accuracy: 0.8047 - val_loss: 0.5902\n",
      "Epoch 77/100\n",
      "626/626 - 2s - 4ms/step - accuracy: 0.8117 - loss: 0.4728 - val_accuracy: 0.7989 - val_loss: 0.6055\n",
      "Epoch 78/100\n"
     ]
    },
    {
     "name": "stderr",
     "output_type": "stream",
     "text": [
      "WARNING:absl:You are saving your model as an HDF5 file via `model.save()` or `keras.saving.save_model(model)`. This file format is considered legacy. We recommend using instead the native Keras format, e.g. `model.save('my_model.keras')` or `keras.saving.save_model(model, 'my_model.keras')`. \n"
     ]
    },
    {
     "name": "stdout",
     "output_type": "stream",
     "text": [
      "626/626 - 3s - 4ms/step - accuracy: 0.8144 - loss: 0.4674 - val_accuracy: 0.8203 - val_loss: 0.5554\n",
      "Epoch 79/100\n",
      "626/626 - 3s - 4ms/step - accuracy: 0.8133 - loss: 0.4680 - val_accuracy: 0.8111 - val_loss: 0.5700\n",
      "Epoch 80/100\n"
     ]
    },
    {
     "name": "stderr",
     "output_type": "stream",
     "text": [
      "WARNING:absl:You are saving your model as an HDF5 file via `model.save()` or `keras.saving.save_model(model)`. This file format is considered legacy. We recommend using instead the native Keras format, e.g. `model.save('my_model.keras')` or `keras.saving.save_model(model, 'my_model.keras')`. \n"
     ]
    },
    {
     "name": "stdout",
     "output_type": "stream",
     "text": [
      "626/626 - 3s - 4ms/step - accuracy: 0.8165 - loss: 0.4694 - val_accuracy: 0.8195 - val_loss: 0.5499\n",
      "Epoch 81/100\n",
      "626/626 - 3s - 4ms/step - accuracy: 0.8195 - loss: 0.4585 - val_accuracy: 0.8169 - val_loss: 0.5718\n",
      "Epoch 82/100\n"
     ]
    },
    {
     "name": "stderr",
     "output_type": "stream",
     "text": [
      "WARNING:absl:You are saving your model as an HDF5 file via `model.save()` or `keras.saving.save_model(model)`. This file format is considered legacy. We recommend using instead the native Keras format, e.g. `model.save('my_model.keras')` or `keras.saving.save_model(model, 'my_model.keras')`. \n"
     ]
    },
    {
     "name": "stdout",
     "output_type": "stream",
     "text": [
      "626/626 - 3s - 4ms/step - accuracy: 0.8206 - loss: 0.4548 - val_accuracy: 0.8273 - val_loss: 0.5364\n",
      "Epoch 83/100\n"
     ]
    },
    {
     "name": "stderr",
     "output_type": "stream",
     "text": [
      "WARNING:absl:You are saving your model as an HDF5 file via `model.save()` or `keras.saving.save_model(model)`. This file format is considered legacy. We recommend using instead the native Keras format, e.g. `model.save('my_model.keras')` or `keras.saving.save_model(model, 'my_model.keras')`. \n"
     ]
    },
    {
     "name": "stdout",
     "output_type": "stream",
     "text": [
      "626/626 - 2s - 4ms/step - accuracy: 0.8243 - loss: 0.4474 - val_accuracy: 0.8305 - val_loss: 0.5329\n",
      "Epoch 84/100\n"
     ]
    },
    {
     "name": "stderr",
     "output_type": "stream",
     "text": [
      "WARNING:absl:You are saving your model as an HDF5 file via `model.save()` or `keras.saving.save_model(model)`. This file format is considered legacy. We recommend using instead the native Keras format, e.g. `model.save('my_model.keras')` or `keras.saving.save_model(model, 'my_model.keras')`. \n"
     ]
    },
    {
     "name": "stdout",
     "output_type": "stream",
     "text": [
      "626/626 - 2s - 3ms/step - accuracy: 0.8258 - loss: 0.4418 - val_accuracy: 0.8335 - val_loss: 0.5288\n",
      "Epoch 85/100\n"
     ]
    },
    {
     "name": "stderr",
     "output_type": "stream",
     "text": [
      "WARNING:absl:You are saving your model as an HDF5 file via `model.save()` or `keras.saving.save_model(model)`. This file format is considered legacy. We recommend using instead the native Keras format, e.g. `model.save('my_model.keras')` or `keras.saving.save_model(model, 'my_model.keras')`. \n"
     ]
    },
    {
     "name": "stdout",
     "output_type": "stream",
     "text": [
      "626/626 - 2s - 3ms/step - accuracy: 0.8296 - loss: 0.4413 - val_accuracy: 0.8363 - val_loss: 0.5211\n",
      "Epoch 86/100\n",
      "626/626 - 2s - 3ms/step - accuracy: 0.8289 - loss: 0.4347 - val_accuracy: 0.8359 - val_loss: 0.5333\n",
      "Epoch 87/100\n",
      "626/626 - 2s - 3ms/step - accuracy: 0.8303 - loss: 0.4293 - val_accuracy: 0.8319 - val_loss: 0.5248\n",
      "Epoch 88/100\n"
     ]
    },
    {
     "name": "stderr",
     "output_type": "stream",
     "text": [
      "WARNING:absl:You are saving your model as an HDF5 file via `model.save()` or `keras.saving.save_model(model)`. This file format is considered legacy. We recommend using instead the native Keras format, e.g. `model.save('my_model.keras')` or `keras.saving.save_model(model, 'my_model.keras')`. \n"
     ]
    },
    {
     "name": "stdout",
     "output_type": "stream",
     "text": [
      "626/626 - 2s - 4ms/step - accuracy: 0.8367 - loss: 0.4216 - val_accuracy: 0.8437 - val_loss: 0.5071\n",
      "Epoch 89/100\n"
     ]
    },
    {
     "name": "stderr",
     "output_type": "stream",
     "text": [
      "WARNING:absl:You are saving your model as an HDF5 file via `model.save()` or `keras.saving.save_model(model)`. This file format is considered legacy. We recommend using instead the native Keras format, e.g. `model.save('my_model.keras')` or `keras.saving.save_model(model, 'my_model.keras')`. \n"
     ]
    },
    {
     "name": "stdout",
     "output_type": "stream",
     "text": [
      "626/626 - 2s - 4ms/step - accuracy: 0.8350 - loss: 0.4235 - val_accuracy: 0.8507 - val_loss: 0.4996\n",
      "Epoch 90/100\n",
      "626/626 - 2s - 3ms/step - accuracy: 0.8415 - loss: 0.4152 - val_accuracy: 0.8369 - val_loss: 0.5175\n",
      "Epoch 91/100\n",
      "626/626 - 2s - 3ms/step - accuracy: 0.8398 - loss: 0.4111 - val_accuracy: 0.8465 - val_loss: 0.5070\n",
      "Epoch 92/100\n"
     ]
    },
    {
     "name": "stderr",
     "output_type": "stream",
     "text": [
      "WARNING:absl:You are saving your model as an HDF5 file via `model.save()` or `keras.saving.save_model(model)`. This file format is considered legacy. We recommend using instead the native Keras format, e.g. `model.save('my_model.keras')` or `keras.saving.save_model(model, 'my_model.keras')`. \n"
     ]
    },
    {
     "name": "stdout",
     "output_type": "stream",
     "text": [
      "626/626 - 2s - 3ms/step - accuracy: 0.8467 - loss: 0.3978 - val_accuracy: 0.8525 - val_loss: 0.4971\n",
      "Epoch 93/100\n",
      "626/626 - 2s - 3ms/step - accuracy: 0.8435 - loss: 0.4068 - val_accuracy: 0.8393 - val_loss: 0.5187\n",
      "Epoch 94/100\n"
     ]
    },
    {
     "name": "stderr",
     "output_type": "stream",
     "text": [
      "WARNING:absl:You are saving your model as an HDF5 file via `model.save()` or `keras.saving.save_model(model)`. This file format is considered legacy. We recommend using instead the native Keras format, e.g. `model.save('my_model.keras')` or `keras.saving.save_model(model, 'my_model.keras')`. \n"
     ]
    },
    {
     "name": "stdout",
     "output_type": "stream",
     "text": [
      "626/626 - 2s - 3ms/step - accuracy: 0.8490 - loss: 0.3963 - val_accuracy: 0.8603 - val_loss: 0.4687\n",
      "Epoch 95/100\n",
      "626/626 - 2s - 3ms/step - accuracy: 0.8525 - loss: 0.3877 - val_accuracy: 0.8563 - val_loss: 0.4717\n",
      "Epoch 96/100\n",
      "626/626 - 2s - 4ms/step - accuracy: 0.8555 - loss: 0.3834 - val_accuracy: 0.8581 - val_loss: 0.4725\n",
      "Epoch 97/100\n"
     ]
    },
    {
     "name": "stderr",
     "output_type": "stream",
     "text": [
      "WARNING:absl:You are saving your model as an HDF5 file via `model.save()` or `keras.saving.save_model(model)`. This file format is considered legacy. We recommend using instead the native Keras format, e.g. `model.save('my_model.keras')` or `keras.saving.save_model(model, 'my_model.keras')`. \n"
     ]
    },
    {
     "name": "stdout",
     "output_type": "stream",
     "text": [
      "626/626 - 2s - 4ms/step - accuracy: 0.8552 - loss: 0.3757 - val_accuracy: 0.8657 - val_loss: 0.4618\n",
      "Epoch 98/100\n"
     ]
    },
    {
     "name": "stderr",
     "output_type": "stream",
     "text": [
      "WARNING:absl:You are saving your model as an HDF5 file via `model.save()` or `keras.saving.save_model(model)`. This file format is considered legacy. We recommend using instead the native Keras format, e.g. `model.save('my_model.keras')` or `keras.saving.save_model(model, 'my_model.keras')`. \n"
     ]
    },
    {
     "name": "stdout",
     "output_type": "stream",
     "text": [
      "626/626 - 2s - 3ms/step - accuracy: 0.8567 - loss: 0.3782 - val_accuracy: 0.8687 - val_loss: 0.4531\n",
      "Epoch 99/100\n"
     ]
    },
    {
     "name": "stderr",
     "output_type": "stream",
     "text": [
      "WARNING:absl:You are saving your model as an HDF5 file via `model.save()` or `keras.saving.save_model(model)`. This file format is considered legacy. We recommend using instead the native Keras format, e.g. `model.save('my_model.keras')` or `keras.saving.save_model(model, 'my_model.keras')`. \n"
     ]
    },
    {
     "name": "stdout",
     "output_type": "stream",
     "text": [
      "626/626 - 2s - 3ms/step - accuracy: 0.8598 - loss: 0.3738 - val_accuracy: 0.8749 - val_loss: 0.4393\n",
      "Epoch 100/100\n"
     ]
    },
    {
     "name": "stderr",
     "output_type": "stream",
     "text": [
      "WARNING:absl:You are saving your model as an HDF5 file via `model.save()` or `keras.saving.save_model(model)`. This file format is considered legacy. We recommend using instead the native Keras format, e.g. `model.save('my_model.keras')` or `keras.saving.save_model(model, 'my_model.keras')`. \n"
     ]
    },
    {
     "name": "stdout",
     "output_type": "stream",
     "text": [
      "626/626 - 2s - 4ms/step - accuracy: 0.8638 - loss: 0.3665 - val_accuracy: 0.8766 - val_loss: 0.4343\n",
      "\u001b[1m31250/31250\u001b[0m \u001b[32m━━━━━━━━━━━━━━━━━━━━\u001b[0m\u001b[37m\u001b[0m \u001b[1m40s\u001b[0m 1ms/step\n"
     ]
    }
   ],
   "source": [
    "import random\n",
    "import os\n",
    "import time\n",
    "import json\n",
    "import numpy as np\n",
    "import pandas as pd\n",
    "from sklearn.model_selection import train_test_split\n",
    "from sklearn.impute import SimpleImputer\n",
    "from sklearn.compose import ColumnTransformer\n",
    "from sklearn.preprocessing import StandardScaler, OneHotEncoder, LabelEncoder\n",
    "from sklearn.pipeline import Pipeline\n",
    "import tensorflow as tf\n",
    "from tensorflow.keras.callbacks import EarlyStopping, ModelCheckpoint\n",
    "from tensorflow.keras.metrics import SparseTopKCategoricalAccuracy\n",
    "\n",
    "# 1. Reproducibility\n",
    "seed = 42\n",
    "random.seed(seed)\n",
    "np.random.seed(seed)\n",
    "os.environ['PYTHONHASHSEED'] = str(seed)\n",
    "tf.random.set_seed(seed)\n",
    "\n",
    "# 2. Data Loading\n",
    "train_df = pd.read_csv('train.csv.zip', compression='zip')\n",
    "df_test = pd.read_csv('test.csv.zip', compression='zip')\n",
    "submission_example = pd.read_csv('sampleSubmission.csv.zip', compression='zip')\n",
    "\n",
    "id_col = submission_example.columns[0]\n",
    "target_columns = submission_example.columns.tolist()[1:]\n",
    "\n",
    "df = pd.concat([train_df], ignore_index=True)\n",
    "\n",
    "# 3. Target Encoding\n",
    "le = LabelEncoder().fit(df[target_columns[0]].astype(str))\n",
    "y_enc = le.transform(df[target_columns[0]].astype(str))\n",
    "num_classes = len(le.classes_)\n",
    "\n",
    "# 4. Train/Test Split\n",
    "X = df.drop(columns=target_columns + [id_col], errors='ignore')\n",
    "train_ids = df[id_col] if id_col in df.columns else None  # Fixing the KeyError\n",
    "test_ids = df_test[id_col] if id_col in df_test.columns else None  # Fixing the KeyError\n",
    "X_train = X.copy()\n",
    "y_train = y_enc\n",
    "X_val = df_test.drop(columns=target_columns + [id_col], errors='ignore')\n",
    "y_val = None\n",
    "\n",
    "# 5. Feature Engineering\n",
    "# Drop columns with all missing values\n",
    "X_train = X_train.loc[:, X_train.notnull().any()]\n",
    "X_val = X_val[X_train.columns]\n",
    "\n",
    "# Identify numeric and categorical\n",
    "numeric_cols = X_train.select_dtypes(include=['int64','float64']).columns.tolist()\n",
    "categorical_cols = X_train.select_dtypes(include=['object','category']).columns.tolist()\n",
    "\n",
    "# 6. Preprocessing Pipeline\n",
    "numeric_transformer = Pipeline(steps=[\n",
    "    ('imputer', SimpleImputer(strategy='median')),\n",
    "    ('scaler', StandardScaler())\n",
    "])\n",
    "categorical_transformer = Pipeline(steps=[\n",
    "    ('imputer', SimpleImputer(strategy='most_frequent')),\n",
    "    ('onehot', OneHotEncoder(handle_unknown='ignore', sparse_output=False))\n",
    "])\n",
    "preprocessor = ColumnTransformer(transformers=[\n",
    "    ('num', numeric_transformer, numeric_cols),\n",
    "    ('cat', categorical_transformer, categorical_cols)\n",
    "])\n",
    "\n",
    "X_train_proc = preprocessor.fit_transform(X_train)\n",
    "X_val_proc = preprocessor.transform(X_val)\n",
    "\n",
    "input_dim = X_train_proc.shape[1]\n",
    "\n",
    "# 7. Model Architecture for small feature set\n",
    "import keras_tuner as kt\n",
    "from tensorflow.keras.layers import Input, Dense, Dropout\n",
    "from tensorflow.keras.models import Model\n",
    "from tensorflow.keras.callbacks import EarlyStopping, ModelCheckpoint\n",
    "\n",
    "# Define early stopping and model checkpoint\n",
    "early_stopping = EarlyStopping(monitor='val_loss', patience=10, restore_best_weights=True)\n",
    "checkpoint = ModelCheckpoint('best_model.h5', monitor='val_loss', save_best_only=True)\n",
    "\n",
    "# Input dimension\n",
    "n_features = input_dim\n",
    "\n",
    "# HyperModel\n",
    "class MyHyperModel(kt.HyperModel):\n",
    "    def build(self, hp):\n",
    "        layers = hp.Int('layers', 2, 8)\n",
    "        units = hp.Int('units', 64, 1024)\n",
    "        act = hp.Choice('activation', ['relu'])\n",
    "        drop = hp.Float('dropout', 0.0, 0.5)\n",
    "        opt = hp.Choice('optimizer', ['adam'])\n",
    "        lr = hp.Float('learning_rate', 1e-5, 0.01, sampling='log')\n",
    "\n",
    "        inputs = Input(shape=(n_features,))\n",
    "        x = inputs\n",
    "        for _ in range(layers):\n",
    "            x = Dense(units, activation=act)(x)\n",
    "            x = Dropout(drop)(x)\n",
    "        outputs = Dense(num_classes, activation='softmax')(x)\n",
    "        model = Model(inputs, outputs)\n",
    "        model.compile(optimizer=opt, loss='sparse_categorical_crossentropy', metrics=['accuracy'])\n",
    "        return model\n",
    "\n",
    "# Tuner\n",
    "bs = 32  # batch size\n",
    "ep = 20  # epochs\n",
    "\n",
    "tuner = kt.BayesianOptimization(\n",
    "    MyHyperModel(),\n",
    "    objective='val_loss',\n",
    "    max_trials=10,\n",
    "    executions_per_trial=1,\n",
    "    seed=42,\n",
    "    overwrite=True,\n",
    "    project_name='bayesian_tuner'\n",
    ")\n",
    "\n",
    "tuner.search(\n",
    "    X_train_proc, y_train,\n",
    "    validation_split=0.2,\n",
    "    batch_size=bs, epochs=ep,\n",
    "    callbacks=[early_stopping, checkpoint]\n",
    ")\n",
    "\n",
    "model = tuner.hypermodel.build(\n",
    "    tuner.get_best_hyperparameters(1)[0]\n",
    ")\n",
    "\n",
    "start_time = time.time()  # Start timing\n",
    "\n",
    "\n",
    "# Retrain model with original callbacks and data\n",
    "history = model.fit(\n",
    "    X_train_proc, y_train,\n",
    "    validation_split=0.2,\n",
    "    epochs=100, batch_size=bs,\n",
    "    callbacks=[early_stopping, checkpoint],\n",
    "    verbose=2\n",
    ")\n",
    "\n",
    "duration = time.time() - start_time  # Calculate duration\n",
    "\n",
    "\n",
    "# 10. Evaluation & Logging\n",
    "results = {\n",
    "    'training_accuracy': history.history['accuracy'][-1],\n",
    "    'training_loss': history.history['loss'][-1],\n",
    "    'validation_accuracy': history.history['val_accuracy'][-1],\n",
    "    'validation_loss': history.history['val_loss'][-1]\n",
    "}\n",
    "with open('results.json', 'w') as f:\n",
    "    json.dump(results, f)\n",
    "\n",
    "# 11. Prediction & Submission\n",
    "raw_preds = model.predict(X_val_proc)\n",
    "idxs = raw_preds.argmax(axis=1)\n",
    "final = le.inverse_transform(idxs)\n",
    "final = final.reshape(-1,1)\n",
    "\n",
    "submission = pd.DataFrame(final, columns=target_columns)\n",
    "submission.insert(0, id_col, test_ids.reset_index(drop=True))\n",
    "submission.to_csv('submission_result.csv', index=False)"
   ]
  },
  {
   "cell_type": "code",
   "execution_count": null,
   "metadata": {},
   "outputs": [
    {
     "name": "stdout",
     "output_type": "stream",
     "text": [
      "249.279543\n"
     ]
    }
   ],
   "source": [
    "print(duration)"
   ]
  }
 ],
 "metadata": {
  "kernelspec": {
   "display_name": "Python 3",
   "language": "python",
   "name": "python3"
  },
  "language_info": {
   "codemirror_mode": {
    "name": "ipython",
    "version": 3
   },
   "file_extension": ".py",
   "mimetype": "text/x-python",
   "name": "python",
   "nbconvert_exporter": "python",
   "pygments_lexer": "ipython3",
   "version": "3.12.3"
  }
 },
 "nbformat": 4,
 "nbformat_minor": 2
}
