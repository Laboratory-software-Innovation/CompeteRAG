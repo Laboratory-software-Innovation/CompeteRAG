{
 "cells": [
  {
   "cell_type": "markdown",
   "metadata": {},
   "source": [
    "# Forest Cover Type Prediction"
   ]
  },
  {
   "cell_type": "markdown",
   "metadata": {},
   "source": [
    "## Keras - 1 Attempt"
   ]
  },
  {
   "cell_type": "code",
   "execution_count": null,
   "metadata": {},
   "outputs": [
    {
     "name": "stderr",
     "output_type": "stream",
     "text": [
      "2025-07-09 22:38:03.728633: E external/local_xla/xla/stream_executor/cuda/cuda_fft.cc:467] Unable to register cuFFT factory: Attempting to register factory for plugin cuFFT when one has already been registered\n",
      "WARNING: All log messages before absl::InitializeLog() is called are written to STDERR\n",
      "E0000 00:00:1752100683.747262  925990 cuda_dnn.cc:8579] Unable to register cuDNN factory: Attempting to register factory for plugin cuDNN when one has already been registered\n",
      "E0000 00:00:1752100683.752434  925990 cuda_blas.cc:1407] Unable to register cuBLAS factory: Attempting to register factory for plugin cuBLAS when one has already been registered\n",
      "W0000 00:00:1752100683.766840  925990 computation_placer.cc:177] computation placer already registered. Please check linkage and avoid linking the same target more than once.\n",
      "W0000 00:00:1752100683.766856  925990 computation_placer.cc:177] computation placer already registered. Please check linkage and avoid linking the same target more than once.\n",
      "W0000 00:00:1752100683.766858  925990 computation_placer.cc:177] computation placer already registered. Please check linkage and avoid linking the same target more than once.\n",
      "W0000 00:00:1752100683.766860  925990 computation_placer.cc:177] computation placer already registered. Please check linkage and avoid linking the same target more than once.\n",
      "2025-07-09 22:38:03.771765: I tensorflow/core/platform/cpu_feature_guard.cc:210] This TensorFlow binary is optimized to use available CPU instructions in performance-critical operations.\n",
      "To enable the following instructions: AVX2 FMA, in other operations, rebuild TensorFlow with the appropriate compiler flags.\n"
     ]
    },
    {
     "name": "stdout",
     "output_type": "stream",
     "text": [
      "Epoch 1/100\n"
     ]
    },
    {
     "name": "stderr",
     "output_type": "stream",
     "text": [
      "2025-07-09 22:38:08.442417: E external/local_xla/xla/stream_executor/cuda/cuda_platform.cc:51] failed call to cuInit: INTERNAL: CUDA error: Failed call to cuInit: CUDA_ERROR_NO_DEVICE: no CUDA-capable device is detected\n",
      "WARNING:absl:You are saving your model as an HDF5 file via `model.save()` or `keras.saving.save_model(model)`. This file format is considered legacy. We recommend using instead the native Keras format, e.g. `model.save('my_model.keras')` or `keras.saving.save_model(model, 'my_model.keras')`. \n"
     ]
    },
    {
     "name": "stdout",
     "output_type": "stream",
     "text": [
      "378/378 - 2s - 4ms/step - accuracy: 0.5662 - loss: 1.0788 - top_5_accuracy: 0.9807 - val_accuracy: 0.7068 - val_loss: 0.7557 - val_top_5_accuracy: 0.9998\n",
      "Epoch 2/100\n"
     ]
    },
    {
     "name": "stderr",
     "output_type": "stream",
     "text": [
      "WARNING:absl:You are saving your model as an HDF5 file via `model.save()` or `keras.saving.save_model(model)`. This file format is considered legacy. We recommend using instead the native Keras format, e.g. `model.save('my_model.keras')` or `keras.saving.save_model(model, 'my_model.keras')`. \n"
     ]
    },
    {
     "name": "stdout",
     "output_type": "stream",
     "text": [
      "378/378 - 1s - 3ms/step - accuracy: 0.6587 - loss: 0.8125 - top_5_accuracy: 0.9990 - val_accuracy: 0.7396 - val_loss: 0.6737 - val_top_5_accuracy: 0.9998\n",
      "Epoch 3/100\n"
     ]
    },
    {
     "name": "stderr",
     "output_type": "stream",
     "text": [
      "WARNING:absl:You are saving your model as an HDF5 file via `model.save()` or `keras.saving.save_model(model)`. This file format is considered legacy. We recommend using instead the native Keras format, e.g. `model.save('my_model.keras')` or `keras.saving.save_model(model, 'my_model.keras')`. \n"
     ]
    },
    {
     "name": "stdout",
     "output_type": "stream",
     "text": [
      "378/378 - 1s - 2ms/step - accuracy: 0.6906 - loss: 0.7378 - top_5_accuracy: 0.9993 - val_accuracy: 0.7560 - val_loss: 0.6194 - val_top_5_accuracy: 1.0000\n",
      "Epoch 4/100\n"
     ]
    },
    {
     "name": "stderr",
     "output_type": "stream",
     "text": [
      "WARNING:absl:You are saving your model as an HDF5 file via `model.save()` or `keras.saving.save_model(model)`. This file format is considered legacy. We recommend using instead the native Keras format, e.g. `model.save('my_model.keras')` or `keras.saving.save_model(model, 'my_model.keras')`. \n"
     ]
    },
    {
     "name": "stdout",
     "output_type": "stream",
     "text": [
      "378/378 - 1s - 2ms/step - accuracy: 0.7102 - loss: 0.6862 - top_5_accuracy: 0.9997 - val_accuracy: 0.7576 - val_loss: 0.5871 - val_top_5_accuracy: 1.0000\n",
      "Epoch 5/100\n"
     ]
    },
    {
     "name": "stderr",
     "output_type": "stream",
     "text": [
      "WARNING:absl:You are saving your model as an HDF5 file via `model.save()` or `keras.saving.save_model(model)`. This file format is considered legacy. We recommend using instead the native Keras format, e.g. `model.save('my_model.keras')` or `keras.saving.save_model(model, 'my_model.keras')`. \n"
     ]
    },
    {
     "name": "stdout",
     "output_type": "stream",
     "text": [
      "378/378 - 1s - 2ms/step - accuracy: 0.7225 - loss: 0.6586 - top_5_accuracy: 0.9997 - val_accuracy: 0.7659 - val_loss: 0.5684 - val_top_5_accuracy: 1.0000\n",
      "Epoch 6/100\n"
     ]
    },
    {
     "name": "stderr",
     "output_type": "stream",
     "text": [
      "WARNING:absl:You are saving your model as an HDF5 file via `model.save()` or `keras.saving.save_model(model)`. This file format is considered legacy. We recommend using instead the native Keras format, e.g. `model.save('my_model.keras')` or `keras.saving.save_model(model, 'my_model.keras')`. \n"
     ]
    },
    {
     "name": "stdout",
     "output_type": "stream",
     "text": [
      "378/378 - 1s - 2ms/step - accuracy: 0.7332 - loss: 0.6361 - top_5_accuracy: 0.9999 - val_accuracy: 0.7746 - val_loss: 0.5518 - val_top_5_accuracy: 0.9998\n",
      "Epoch 7/100\n"
     ]
    },
    {
     "name": "stderr",
     "output_type": "stream",
     "text": [
      "WARNING:absl:You are saving your model as an HDF5 file via `model.save()` or `keras.saving.save_model(model)`. This file format is considered legacy. We recommend using instead the native Keras format, e.g. `model.save('my_model.keras')` or `keras.saving.save_model(model, 'my_model.keras')`. \n"
     ]
    },
    {
     "name": "stdout",
     "output_type": "stream",
     "text": [
      "378/378 - 1s - 2ms/step - accuracy: 0.7430 - loss: 0.6147 - top_5_accuracy: 0.9998 - val_accuracy: 0.7806 - val_loss: 0.5352 - val_top_5_accuracy: 0.9998\n",
      "Epoch 8/100\n"
     ]
    },
    {
     "name": "stderr",
     "output_type": "stream",
     "text": [
      "WARNING:absl:You are saving your model as an HDF5 file via `model.save()` or `keras.saving.save_model(model)`. This file format is considered legacy. We recommend using instead the native Keras format, e.g. `model.save('my_model.keras')` or `keras.saving.save_model(model, 'my_model.keras')`. \n"
     ]
    },
    {
     "name": "stdout",
     "output_type": "stream",
     "text": [
      "378/378 - 1s - 2ms/step - accuracy: 0.7483 - loss: 0.6007 - top_5_accuracy: 1.0000 - val_accuracy: 0.7854 - val_loss: 0.5201 - val_top_5_accuracy: 1.0000\n",
      "Epoch 9/100\n"
     ]
    },
    {
     "name": "stderr",
     "output_type": "stream",
     "text": [
      "WARNING:absl:You are saving your model as an HDF5 file via `model.save()` or `keras.saving.save_model(model)`. This file format is considered legacy. We recommend using instead the native Keras format, e.g. `model.save('my_model.keras')` or `keras.saving.save_model(model, 'my_model.keras')`. \n"
     ]
    },
    {
     "name": "stdout",
     "output_type": "stream",
     "text": [
      "378/378 - 1s - 2ms/step - accuracy: 0.7547 - loss: 0.5828 - top_5_accuracy: 1.0000 - val_accuracy: 0.7945 - val_loss: 0.5091 - val_top_5_accuracy: 1.0000\n",
      "Epoch 10/100\n"
     ]
    },
    {
     "name": "stderr",
     "output_type": "stream",
     "text": [
      "WARNING:absl:You are saving your model as an HDF5 file via `model.save()` or `keras.saving.save_model(model)`. This file format is considered legacy. We recommend using instead the native Keras format, e.g. `model.save('my_model.keras')` or `keras.saving.save_model(model, 'my_model.keras')`. \n"
     ]
    },
    {
     "name": "stdout",
     "output_type": "stream",
     "text": [
      "378/378 - 1s - 2ms/step - accuracy: 0.7595 - loss: 0.5733 - top_5_accuracy: 0.9998 - val_accuracy: 0.7983 - val_loss: 0.5018 - val_top_5_accuracy: 1.0000\n",
      "Epoch 11/100\n"
     ]
    },
    {
     "name": "stderr",
     "output_type": "stream",
     "text": [
      "WARNING:absl:You are saving your model as an HDF5 file via `model.save()` or `keras.saving.save_model(model)`. This file format is considered legacy. We recommend using instead the native Keras format, e.g. `model.save('my_model.keras')` or `keras.saving.save_model(model, 'my_model.keras')`. \n"
     ]
    },
    {
     "name": "stdout",
     "output_type": "stream",
     "text": [
      "378/378 - 1s - 2ms/step - accuracy: 0.7678 - loss: 0.5596 - top_5_accuracy: 0.9997 - val_accuracy: 0.8042 - val_loss: 0.4851 - val_top_5_accuracy: 1.0000\n",
      "Epoch 12/100\n"
     ]
    },
    {
     "name": "stderr",
     "output_type": "stream",
     "text": [
      "WARNING:absl:You are saving your model as an HDF5 file via `model.save()` or `keras.saving.save_model(model)`. This file format is considered legacy. We recommend using instead the native Keras format, e.g. `model.save('my_model.keras')` or `keras.saving.save_model(model, 'my_model.keras')`. \n"
     ]
    },
    {
     "name": "stdout",
     "output_type": "stream",
     "text": [
      "378/378 - 1s - 2ms/step - accuracy: 0.7693 - loss: 0.5498 - top_5_accuracy: 0.9999 - val_accuracy: 0.8018 - val_loss: 0.4770 - val_top_5_accuracy: 1.0000\n",
      "Epoch 13/100\n"
     ]
    },
    {
     "name": "stderr",
     "output_type": "stream",
     "text": [
      "WARNING:absl:You are saving your model as an HDF5 file via `model.save()` or `keras.saving.save_model(model)`. This file format is considered legacy. We recommend using instead the native Keras format, e.g. `model.save('my_model.keras')` or `keras.saving.save_model(model, 'my_model.keras')`. \n"
     ]
    },
    {
     "name": "stdout",
     "output_type": "stream",
     "text": [
      "378/378 - 1s - 2ms/step - accuracy: 0.7722 - loss: 0.5423 - top_5_accuracy: 0.9999 - val_accuracy: 0.8059 - val_loss: 0.4713 - val_top_5_accuracy: 1.0000\n",
      "Epoch 14/100\n"
     ]
    },
    {
     "name": "stderr",
     "output_type": "stream",
     "text": [
      "WARNING:absl:You are saving your model as an HDF5 file via `model.save()` or `keras.saving.save_model(model)`. This file format is considered legacy. We recommend using instead the native Keras format, e.g. `model.save('my_model.keras')` or `keras.saving.save_model(model, 'my_model.keras')`. \n"
     ]
    },
    {
     "name": "stdout",
     "output_type": "stream",
     "text": [
      "378/378 - 1s - 2ms/step - accuracy: 0.7747 - loss: 0.5328 - top_5_accuracy: 0.9999 - val_accuracy: 0.8065 - val_loss: 0.4695 - val_top_5_accuracy: 1.0000\n",
      "Epoch 15/100\n"
     ]
    },
    {
     "name": "stderr",
     "output_type": "stream",
     "text": [
      "WARNING:absl:You are saving your model as an HDF5 file via `model.save()` or `keras.saving.save_model(model)`. This file format is considered legacy. We recommend using instead the native Keras format, e.g. `model.save('my_model.keras')` or `keras.saving.save_model(model, 'my_model.keras')`. \n"
     ]
    },
    {
     "name": "stdout",
     "output_type": "stream",
     "text": [
      "378/378 - 1s - 2ms/step - accuracy: 0.7781 - loss: 0.5305 - top_5_accuracy: 0.9998 - val_accuracy: 0.8115 - val_loss: 0.4588 - val_top_5_accuracy: 1.0000\n",
      "Epoch 16/100\n"
     ]
    },
    {
     "name": "stderr",
     "output_type": "stream",
     "text": [
      "WARNING:absl:You are saving your model as an HDF5 file via `model.save()` or `keras.saving.save_model(model)`. This file format is considered legacy. We recommend using instead the native Keras format, e.g. `model.save('my_model.keras')` or `keras.saving.save_model(model, 'my_model.keras')`. \n"
     ]
    },
    {
     "name": "stdout",
     "output_type": "stream",
     "text": [
      "378/378 - 1s - 2ms/step - accuracy: 0.7843 - loss: 0.5166 - top_5_accuracy: 1.0000 - val_accuracy: 0.8170 - val_loss: 0.4546 - val_top_5_accuracy: 1.0000\n",
      "Epoch 17/100\n"
     ]
    },
    {
     "name": "stderr",
     "output_type": "stream",
     "text": [
      "WARNING:absl:You are saving your model as an HDF5 file via `model.save()` or `keras.saving.save_model(model)`. This file format is considered legacy. We recommend using instead the native Keras format, e.g. `model.save('my_model.keras')` or `keras.saving.save_model(model, 'my_model.keras')`. \n"
     ]
    },
    {
     "name": "stdout",
     "output_type": "stream",
     "text": [
      "378/378 - 1s - 2ms/step - accuracy: 0.7868 - loss: 0.5104 - top_5_accuracy: 1.0000 - val_accuracy: 0.8181 - val_loss: 0.4465 - val_top_5_accuracy: 1.0000\n",
      "Epoch 18/100\n"
     ]
    },
    {
     "name": "stderr",
     "output_type": "stream",
     "text": [
      "WARNING:absl:You are saving your model as an HDF5 file via `model.save()` or `keras.saving.save_model(model)`. This file format is considered legacy. We recommend using instead the native Keras format, e.g. `model.save('my_model.keras')` or `keras.saving.save_model(model, 'my_model.keras')`. \n"
     ]
    },
    {
     "name": "stdout",
     "output_type": "stream",
     "text": [
      "378/378 - 1s - 2ms/step - accuracy: 0.7884 - loss: 0.5072 - top_5_accuracy: 1.0000 - val_accuracy: 0.8206 - val_loss: 0.4407 - val_top_5_accuracy: 1.0000\n",
      "Epoch 19/100\n"
     ]
    },
    {
     "name": "stderr",
     "output_type": "stream",
     "text": [
      "WARNING:absl:You are saving your model as an HDF5 file via `model.save()` or `keras.saving.save_model(model)`. This file format is considered legacy. We recommend using instead the native Keras format, e.g. `model.save('my_model.keras')` or `keras.saving.save_model(model, 'my_model.keras')`. \n"
     ]
    },
    {
     "name": "stdout",
     "output_type": "stream",
     "text": [
      "378/378 - 1s - 2ms/step - accuracy: 0.7901 - loss: 0.5012 - top_5_accuracy: 0.9999 - val_accuracy: 0.8201 - val_loss: 0.4382 - val_top_5_accuracy: 1.0000\n",
      "Epoch 20/100\n"
     ]
    },
    {
     "name": "stderr",
     "output_type": "stream",
     "text": [
      "WARNING:absl:You are saving your model as an HDF5 file via `model.save()` or `keras.saving.save_model(model)`. This file format is considered legacy. We recommend using instead the native Keras format, e.g. `model.save('my_model.keras')` or `keras.saving.save_model(model, 'my_model.keras')`. \n"
     ]
    },
    {
     "name": "stdout",
     "output_type": "stream",
     "text": [
      "378/378 - 1s - 2ms/step - accuracy: 0.7937 - loss: 0.4961 - top_5_accuracy: 1.0000 - val_accuracy: 0.8246 - val_loss: 0.4321 - val_top_5_accuracy: 1.0000\n",
      "Epoch 21/100\n"
     ]
    },
    {
     "name": "stderr",
     "output_type": "stream",
     "text": [
      "WARNING:absl:You are saving your model as an HDF5 file via `model.save()` or `keras.saving.save_model(model)`. This file format is considered legacy. We recommend using instead the native Keras format, e.g. `model.save('my_model.keras')` or `keras.saving.save_model(model, 'my_model.keras')`. \n"
     ]
    },
    {
     "name": "stdout",
     "output_type": "stream",
     "text": [
      "378/378 - 1s - 2ms/step - accuracy: 0.7958 - loss: 0.4907 - top_5_accuracy: 1.0000 - val_accuracy: 0.8266 - val_loss: 0.4285 - val_top_5_accuracy: 1.0000\n",
      "Epoch 22/100\n"
     ]
    },
    {
     "name": "stderr",
     "output_type": "stream",
     "text": [
      "WARNING:absl:You are saving your model as an HDF5 file via `model.save()` or `keras.saving.save_model(model)`. This file format is considered legacy. We recommend using instead the native Keras format, e.g. `model.save('my_model.keras')` or `keras.saving.save_model(model, 'my_model.keras')`. \n"
     ]
    },
    {
     "name": "stdout",
     "output_type": "stream",
     "text": [
      "378/378 - 1s - 2ms/step - accuracy: 0.7991 - loss: 0.4850 - top_5_accuracy: 0.9998 - val_accuracy: 0.8290 - val_loss: 0.4207 - val_top_5_accuracy: 1.0000\n",
      "Epoch 23/100\n",
      "378/378 - 1s - 2ms/step - accuracy: 0.7990 - loss: 0.4827 - top_5_accuracy: 1.0000 - val_accuracy: 0.8274 - val_loss: 0.4218 - val_top_5_accuracy: 1.0000\n",
      "Epoch 24/100\n"
     ]
    },
    {
     "name": "stderr",
     "output_type": "stream",
     "text": [
      "WARNING:absl:You are saving your model as an HDF5 file via `model.save()` or `keras.saving.save_model(model)`. This file format is considered legacy. We recommend using instead the native Keras format, e.g. `model.save('my_model.keras')` or `keras.saving.save_model(model, 'my_model.keras')`. \n"
     ]
    },
    {
     "name": "stdout",
     "output_type": "stream",
     "text": [
      "378/378 - 1s - 2ms/step - accuracy: 0.8019 - loss: 0.4766 - top_5_accuracy: 1.0000 - val_accuracy: 0.8315 - val_loss: 0.4153 - val_top_5_accuracy: 1.0000\n",
      "Epoch 25/100\n",
      "378/378 - 1s - 2ms/step - accuracy: 0.8054 - loss: 0.4679 - top_5_accuracy: 1.0000 - val_accuracy: 0.8297 - val_loss: 0.4171 - val_top_5_accuracy: 1.0000\n",
      "Epoch 26/100\n"
     ]
    },
    {
     "name": "stderr",
     "output_type": "stream",
     "text": [
      "WARNING:absl:You are saving your model as an HDF5 file via `model.save()` or `keras.saving.save_model(model)`. This file format is considered legacy. We recommend using instead the native Keras format, e.g. `model.save('my_model.keras')` or `keras.saving.save_model(model, 'my_model.keras')`. \n"
     ]
    },
    {
     "name": "stdout",
     "output_type": "stream",
     "text": [
      "378/378 - 1s - 2ms/step - accuracy: 0.8074 - loss: 0.4635 - top_5_accuracy: 1.0000 - val_accuracy: 0.8333 - val_loss: 0.4025 - val_top_5_accuracy: 1.0000\n",
      "Epoch 27/100\n"
     ]
    },
    {
     "name": "stderr",
     "output_type": "stream",
     "text": [
      "WARNING:absl:You are saving your model as an HDF5 file via `model.save()` or `keras.saving.save_model(model)`. This file format is considered legacy. We recommend using instead the native Keras format, e.g. `model.save('my_model.keras')` or `keras.saving.save_model(model, 'my_model.keras')`. \n"
     ]
    },
    {
     "name": "stdout",
     "output_type": "stream",
     "text": [
      "378/378 - 1s - 2ms/step - accuracy: 0.8117 - loss: 0.4560 - top_5_accuracy: 1.0000 - val_accuracy: 0.8342 - val_loss: 0.4012 - val_top_5_accuracy: 1.0000\n",
      "Epoch 28/100\n"
     ]
    },
    {
     "name": "stderr",
     "output_type": "stream",
     "text": [
      "WARNING:absl:You are saving your model as an HDF5 file via `model.save()` or `keras.saving.save_model(model)`. This file format is considered legacy. We recommend using instead the native Keras format, e.g. `model.save('my_model.keras')` or `keras.saving.save_model(model, 'my_model.keras')`. \n"
     ]
    },
    {
     "name": "stdout",
     "output_type": "stream",
     "text": [
      "378/378 - 1s - 2ms/step - accuracy: 0.8099 - loss: 0.4587 - top_5_accuracy: 1.0000 - val_accuracy: 0.8388 - val_loss: 0.3963 - val_top_5_accuracy: 1.0000\n",
      "Epoch 29/100\n"
     ]
    },
    {
     "name": "stderr",
     "output_type": "stream",
     "text": [
      "WARNING:absl:You are saving your model as an HDF5 file via `model.save()` or `keras.saving.save_model(model)`. This file format is considered legacy. We recommend using instead the native Keras format, e.g. `model.save('my_model.keras')` or `keras.saving.save_model(model, 'my_model.keras')`. \n"
     ]
    },
    {
     "name": "stdout",
     "output_type": "stream",
     "text": [
      "378/378 - 1s - 2ms/step - accuracy: 0.8126 - loss: 0.4566 - top_5_accuracy: 0.9999 - val_accuracy: 0.8413 - val_loss: 0.3951 - val_top_5_accuracy: 1.0000\n",
      "Epoch 30/100\n"
     ]
    },
    {
     "name": "stderr",
     "output_type": "stream",
     "text": [
      "WARNING:absl:You are saving your model as an HDF5 file via `model.save()` or `keras.saving.save_model(model)`. This file format is considered legacy. We recommend using instead the native Keras format, e.g. `model.save('my_model.keras')` or `keras.saving.save_model(model, 'my_model.keras')`. \n"
     ]
    },
    {
     "name": "stdout",
     "output_type": "stream",
     "text": [
      "378/378 - 1s - 2ms/step - accuracy: 0.8102 - loss: 0.4578 - top_5_accuracy: 1.0000 - val_accuracy: 0.8411 - val_loss: 0.3908 - val_top_5_accuracy: 1.0000\n",
      "Epoch 31/100\n"
     ]
    },
    {
     "name": "stderr",
     "output_type": "stream",
     "text": [
      "WARNING:absl:You are saving your model as an HDF5 file via `model.save()` or `keras.saving.save_model(model)`. This file format is considered legacy. We recommend using instead the native Keras format, e.g. `model.save('my_model.keras')` or `keras.saving.save_model(model, 'my_model.keras')`. \n"
     ]
    },
    {
     "name": "stdout",
     "output_type": "stream",
     "text": [
      "378/378 - 1s - 2ms/step - accuracy: 0.8131 - loss: 0.4484 - top_5_accuracy: 1.0000 - val_accuracy: 0.8401 - val_loss: 0.3907 - val_top_5_accuracy: 1.0000\n",
      "Epoch 32/100\n",
      "378/378 - 1s - 2ms/step - accuracy: 0.8127 - loss: 0.4506 - top_5_accuracy: 1.0000 - val_accuracy: 0.8390 - val_loss: 0.3916 - val_top_5_accuracy: 1.0000\n",
      "Epoch 33/100\n"
     ]
    },
    {
     "name": "stderr",
     "output_type": "stream",
     "text": [
      "WARNING:absl:You are saving your model as an HDF5 file via `model.save()` or `keras.saving.save_model(model)`. This file format is considered legacy. We recommend using instead the native Keras format, e.g. `model.save('my_model.keras')` or `keras.saving.save_model(model, 'my_model.keras')`. \n"
     ]
    },
    {
     "name": "stdout",
     "output_type": "stream",
     "text": [
      "378/378 - 1s - 2ms/step - accuracy: 0.8154 - loss: 0.4437 - top_5_accuracy: 1.0000 - val_accuracy: 0.8418 - val_loss: 0.3873 - val_top_5_accuracy: 1.0000\n",
      "Epoch 34/100\n"
     ]
    },
    {
     "name": "stderr",
     "output_type": "stream",
     "text": [
      "WARNING:absl:You are saving your model as an HDF5 file via `model.save()` or `keras.saving.save_model(model)`. This file format is considered legacy. We recommend using instead the native Keras format, e.g. `model.save('my_model.keras')` or `keras.saving.save_model(model, 'my_model.keras')`. \n"
     ]
    },
    {
     "name": "stdout",
     "output_type": "stream",
     "text": [
      "378/378 - 1s - 2ms/step - accuracy: 0.8180 - loss: 0.4397 - top_5_accuracy: 0.9999 - val_accuracy: 0.8426 - val_loss: 0.3867 - val_top_5_accuracy: 1.0000\n",
      "Epoch 35/100\n"
     ]
    },
    {
     "name": "stderr",
     "output_type": "stream",
     "text": [
      "WARNING:absl:You are saving your model as an HDF5 file via `model.save()` or `keras.saving.save_model(model)`. This file format is considered legacy. We recommend using instead the native Keras format, e.g. `model.save('my_model.keras')` or `keras.saving.save_model(model, 'my_model.keras')`. \n"
     ]
    },
    {
     "name": "stdout",
     "output_type": "stream",
     "text": [
      "378/378 - 1s - 2ms/step - accuracy: 0.8179 - loss: 0.4384 - top_5_accuracy: 1.0000 - val_accuracy: 0.8477 - val_loss: 0.3825 - val_top_5_accuracy: 1.0000\n",
      "Epoch 36/100\n"
     ]
    },
    {
     "name": "stderr",
     "output_type": "stream",
     "text": [
      "WARNING:absl:You are saving your model as an HDF5 file via `model.save()` or `keras.saving.save_model(model)`. This file format is considered legacy. We recommend using instead the native Keras format, e.g. `model.save('my_model.keras')` or `keras.saving.save_model(model, 'my_model.keras')`. \n"
     ]
    },
    {
     "name": "stdout",
     "output_type": "stream",
     "text": [
      "378/378 - 1s - 2ms/step - accuracy: 0.8194 - loss: 0.4347 - top_5_accuracy: 0.9999 - val_accuracy: 0.8439 - val_loss: 0.3771 - val_top_5_accuracy: 1.0000\n",
      "Epoch 37/100\n"
     ]
    },
    {
     "name": "stderr",
     "output_type": "stream",
     "text": [
      "WARNING:absl:You are saving your model as an HDF5 file via `model.save()` or `keras.saving.save_model(model)`. This file format is considered legacy. We recommend using instead the native Keras format, e.g. `model.save('my_model.keras')` or `keras.saving.save_model(model, 'my_model.keras')`. \n"
     ]
    },
    {
     "name": "stdout",
     "output_type": "stream",
     "text": [
      "378/378 - 1s - 2ms/step - accuracy: 0.8228 - loss: 0.4323 - top_5_accuracy: 1.0000 - val_accuracy: 0.8459 - val_loss: 0.3759 - val_top_5_accuracy: 1.0000\n",
      "Epoch 38/100\n"
     ]
    },
    {
     "name": "stderr",
     "output_type": "stream",
     "text": [
      "WARNING:absl:You are saving your model as an HDF5 file via `model.save()` or `keras.saving.save_model(model)`. This file format is considered legacy. We recommend using instead the native Keras format, e.g. `model.save('my_model.keras')` or `keras.saving.save_model(model, 'my_model.keras')`. \n"
     ]
    },
    {
     "name": "stdout",
     "output_type": "stream",
     "text": [
      "378/378 - 1s - 2ms/step - accuracy: 0.8209 - loss: 0.4322 - top_5_accuracy: 1.0000 - val_accuracy: 0.8477 - val_loss: 0.3698 - val_top_5_accuracy: 1.0000\n",
      "Epoch 39/100\n",
      "378/378 - 1s - 2ms/step - accuracy: 0.8214 - loss: 0.4276 - top_5_accuracy: 1.0000 - val_accuracy: 0.8444 - val_loss: 0.3714 - val_top_5_accuracy: 1.0000\n",
      "Epoch 40/100\n"
     ]
    },
    {
     "name": "stderr",
     "output_type": "stream",
     "text": [
      "WARNING:absl:You are saving your model as an HDF5 file via `model.save()` or `keras.saving.save_model(model)`. This file format is considered legacy. We recommend using instead the native Keras format, e.g. `model.save('my_model.keras')` or `keras.saving.save_model(model, 'my_model.keras')`. \n"
     ]
    },
    {
     "name": "stdout",
     "output_type": "stream",
     "text": [
      "378/378 - 1s - 2ms/step - accuracy: 0.8233 - loss: 0.4270 - top_5_accuracy: 1.0000 - val_accuracy: 0.8552 - val_loss: 0.3624 - val_top_5_accuracy: 1.0000\n",
      "Epoch 41/100\n",
      "378/378 - 1s - 2ms/step - accuracy: 0.8285 - loss: 0.4231 - top_5_accuracy: 1.0000 - val_accuracy: 0.8472 - val_loss: 0.3676 - val_top_5_accuracy: 1.0000\n",
      "Epoch 42/100\n",
      "378/378 - 1s - 2ms/step - accuracy: 0.8272 - loss: 0.4220 - top_5_accuracy: 0.9999 - val_accuracy: 0.8528 - val_loss: 0.3636 - val_top_5_accuracy: 1.0000\n",
      "Epoch 43/100\n"
     ]
    },
    {
     "name": "stderr",
     "output_type": "stream",
     "text": [
      "WARNING:absl:You are saving your model as an HDF5 file via `model.save()` or `keras.saving.save_model(model)`. This file format is considered legacy. We recommend using instead the native Keras format, e.g. `model.save('my_model.keras')` or `keras.saving.save_model(model, 'my_model.keras')`. \n"
     ]
    },
    {
     "name": "stdout",
     "output_type": "stream",
     "text": [
      "378/378 - 1s - 2ms/step - accuracy: 0.8249 - loss: 0.4216 - top_5_accuracy: 0.9999 - val_accuracy: 0.8523 - val_loss: 0.3618 - val_top_5_accuracy: 1.0000\n",
      "Epoch 44/100\n"
     ]
    },
    {
     "name": "stderr",
     "output_type": "stream",
     "text": [
      "WARNING:absl:You are saving your model as an HDF5 file via `model.save()` or `keras.saving.save_model(model)`. This file format is considered legacy. We recommend using instead the native Keras format, e.g. `model.save('my_model.keras')` or `keras.saving.save_model(model, 'my_model.keras')`. \n"
     ]
    },
    {
     "name": "stdout",
     "output_type": "stream",
     "text": [
      "378/378 - 1s - 2ms/step - accuracy: 0.8304 - loss: 0.4131 - top_5_accuracy: 1.0000 - val_accuracy: 0.8519 - val_loss: 0.3602 - val_top_5_accuracy: 1.0000\n",
      "Epoch 45/100\n"
     ]
    },
    {
     "name": "stderr",
     "output_type": "stream",
     "text": [
      "WARNING:absl:You are saving your model as an HDF5 file via `model.save()` or `keras.saving.save_model(model)`. This file format is considered legacy. We recommend using instead the native Keras format, e.g. `model.save('my_model.keras')` or `keras.saving.save_model(model, 'my_model.keras')`. \n"
     ]
    },
    {
     "name": "stdout",
     "output_type": "stream",
     "text": [
      "378/378 - 1s - 2ms/step - accuracy: 0.8289 - loss: 0.4128 - top_5_accuracy: 1.0000 - val_accuracy: 0.8535 - val_loss: 0.3577 - val_top_5_accuracy: 1.0000\n",
      "Epoch 46/100\n",
      "378/378 - 1s - 2ms/step - accuracy: 0.8295 - loss: 0.4161 - top_5_accuracy: 1.0000 - val_accuracy: 0.8557 - val_loss: 0.3584 - val_top_5_accuracy: 1.0000\n",
      "Epoch 47/100\n"
     ]
    },
    {
     "name": "stderr",
     "output_type": "stream",
     "text": [
      "WARNING:absl:You are saving your model as an HDF5 file via `model.save()` or `keras.saving.save_model(model)`. This file format is considered legacy. We recommend using instead the native Keras format, e.g. `model.save('my_model.keras')` or `keras.saving.save_model(model, 'my_model.keras')`. \n"
     ]
    },
    {
     "name": "stdout",
     "output_type": "stream",
     "text": [
      "378/378 - 1s - 2ms/step - accuracy: 0.8297 - loss: 0.4104 - top_5_accuracy: 1.0000 - val_accuracy: 0.8595 - val_loss: 0.3517 - val_top_5_accuracy: 1.0000\n",
      "Epoch 48/100\n"
     ]
    },
    {
     "name": "stderr",
     "output_type": "stream",
     "text": [
      "WARNING:absl:You are saving your model as an HDF5 file via `model.save()` or `keras.saving.save_model(model)`. This file format is considered legacy. We recommend using instead the native Keras format, e.g. `model.save('my_model.keras')` or `keras.saving.save_model(model, 'my_model.keras')`. \n"
     ]
    },
    {
     "name": "stdout",
     "output_type": "stream",
     "text": [
      "378/378 - 1s - 2ms/step - accuracy: 0.8288 - loss: 0.4108 - top_5_accuracy: 1.0000 - val_accuracy: 0.8580 - val_loss: 0.3504 - val_top_5_accuracy: 1.0000\n",
      "Epoch 49/100\n"
     ]
    },
    {
     "name": "stderr",
     "output_type": "stream",
     "text": [
      "WARNING:absl:You are saving your model as an HDF5 file via `model.save()` or `keras.saving.save_model(model)`. This file format is considered legacy. We recommend using instead the native Keras format, e.g. `model.save('my_model.keras')` or `keras.saving.save_model(model, 'my_model.keras')`. \n"
     ]
    },
    {
     "name": "stdout",
     "output_type": "stream",
     "text": [
      "378/378 - 1s - 2ms/step - accuracy: 0.8313 - loss: 0.4108 - top_5_accuracy: 1.0000 - val_accuracy: 0.8578 - val_loss: 0.3487 - val_top_5_accuracy: 1.0000\n",
      "Epoch 50/100\n"
     ]
    },
    {
     "name": "stderr",
     "output_type": "stream",
     "text": [
      "WARNING:absl:You are saving your model as an HDF5 file via `model.save()` or `keras.saving.save_model(model)`. This file format is considered legacy. We recommend using instead the native Keras format, e.g. `model.save('my_model.keras')` or `keras.saving.save_model(model, 'my_model.keras')`. \n"
     ]
    },
    {
     "name": "stdout",
     "output_type": "stream",
     "text": [
      "378/378 - 1s - 2ms/step - accuracy: 0.8340 - loss: 0.4045 - top_5_accuracy: 1.0000 - val_accuracy: 0.8568 - val_loss: 0.3464 - val_top_5_accuracy: 1.0000\n",
      "Epoch 51/100\n"
     ]
    },
    {
     "name": "stderr",
     "output_type": "stream",
     "text": [
      "WARNING:absl:You are saving your model as an HDF5 file via `model.save()` or `keras.saving.save_model(model)`. This file format is considered legacy. We recommend using instead the native Keras format, e.g. `model.save('my_model.keras')` or `keras.saving.save_model(model, 'my_model.keras')`. \n"
     ]
    },
    {
     "name": "stdout",
     "output_type": "stream",
     "text": [
      "378/378 - 1s - 2ms/step - accuracy: 0.8329 - loss: 0.4059 - top_5_accuracy: 1.0000 - val_accuracy: 0.8586 - val_loss: 0.3447 - val_top_5_accuracy: 1.0000\n",
      "Epoch 52/100\n"
     ]
    },
    {
     "name": "stderr",
     "output_type": "stream",
     "text": [
      "WARNING:absl:You are saving your model as an HDF5 file via `model.save()` or `keras.saving.save_model(model)`. This file format is considered legacy. We recommend using instead the native Keras format, e.g. `model.save('my_model.keras')` or `keras.saving.save_model(model, 'my_model.keras')`. \n"
     ]
    },
    {
     "name": "stdout",
     "output_type": "stream",
     "text": [
      "378/378 - 1s - 2ms/step - accuracy: 0.8338 - loss: 0.4024 - top_5_accuracy: 1.0000 - val_accuracy: 0.8601 - val_loss: 0.3425 - val_top_5_accuracy: 1.0000\n",
      "Epoch 53/100\n"
     ]
    },
    {
     "name": "stderr",
     "output_type": "stream",
     "text": [
      "WARNING:absl:You are saving your model as an HDF5 file via `model.save()` or `keras.saving.save_model(model)`. This file format is considered legacy. We recommend using instead the native Keras format, e.g. `model.save('my_model.keras')` or `keras.saving.save_model(model, 'my_model.keras')`. \n"
     ]
    },
    {
     "name": "stdout",
     "output_type": "stream",
     "text": [
      "378/378 - 1s - 2ms/step - accuracy: 0.8336 - loss: 0.4012 - top_5_accuracy: 1.0000 - val_accuracy: 0.8600 - val_loss: 0.3419 - val_top_5_accuracy: 1.0000\n",
      "Epoch 54/100\n"
     ]
    },
    {
     "name": "stderr",
     "output_type": "stream",
     "text": [
      "WARNING:absl:You are saving your model as an HDF5 file via `model.save()` or `keras.saving.save_model(model)`. This file format is considered legacy. We recommend using instead the native Keras format, e.g. `model.save('my_model.keras')` or `keras.saving.save_model(model, 'my_model.keras')`. \n"
     ]
    },
    {
     "name": "stdout",
     "output_type": "stream",
     "text": [
      "378/378 - 1s - 2ms/step - accuracy: 0.8361 - loss: 0.4003 - top_5_accuracy: 1.0000 - val_accuracy: 0.8608 - val_loss: 0.3402 - val_top_5_accuracy: 1.0000\n",
      "Epoch 55/100\n"
     ]
    },
    {
     "name": "stderr",
     "output_type": "stream",
     "text": [
      "WARNING:absl:You are saving your model as an HDF5 file via `model.save()` or `keras.saving.save_model(model)`. This file format is considered legacy. We recommend using instead the native Keras format, e.g. `model.save('my_model.keras')` or `keras.saving.save_model(model, 'my_model.keras')`. \n"
     ]
    },
    {
     "name": "stdout",
     "output_type": "stream",
     "text": [
      "378/378 - 1s - 2ms/step - accuracy: 0.8351 - loss: 0.4002 - top_5_accuracy: 1.0000 - val_accuracy: 0.8608 - val_loss: 0.3398 - val_top_5_accuracy: 1.0000\n",
      "Epoch 56/100\n"
     ]
    },
    {
     "name": "stderr",
     "output_type": "stream",
     "text": [
      "WARNING:absl:You are saving your model as an HDF5 file via `model.save()` or `keras.saving.save_model(model)`. This file format is considered legacy. We recommend using instead the native Keras format, e.g. `model.save('my_model.keras')` or `keras.saving.save_model(model, 'my_model.keras')`. \n"
     ]
    },
    {
     "name": "stdout",
     "output_type": "stream",
     "text": [
      "378/378 - 1s - 2ms/step - accuracy: 0.8359 - loss: 0.3978 - top_5_accuracy: 1.0000 - val_accuracy: 0.8671 - val_loss: 0.3361 - val_top_5_accuracy: 1.0000\n",
      "Epoch 57/100\n",
      "378/378 - 1s - 2ms/step - accuracy: 0.8378 - loss: 0.3961 - top_5_accuracy: 1.0000 - val_accuracy: 0.8618 - val_loss: 0.3382 - val_top_5_accuracy: 1.0000\n",
      "Epoch 58/100\n",
      "378/378 - 1s - 2ms/step - accuracy: 0.8365 - loss: 0.3920 - top_5_accuracy: 1.0000 - val_accuracy: 0.8623 - val_loss: 0.3375 - val_top_5_accuracy: 1.0000\n",
      "Epoch 59/100\n"
     ]
    },
    {
     "name": "stderr",
     "output_type": "stream",
     "text": [
      "WARNING:absl:You are saving your model as an HDF5 file via `model.save()` or `keras.saving.save_model(model)`. This file format is considered legacy. We recommend using instead the native Keras format, e.g. `model.save('my_model.keras')` or `keras.saving.save_model(model, 'my_model.keras')`. \n"
     ]
    },
    {
     "name": "stdout",
     "output_type": "stream",
     "text": [
      "378/378 - 1s - 2ms/step - accuracy: 0.8347 - loss: 0.3972 - top_5_accuracy: 1.0000 - val_accuracy: 0.8628 - val_loss: 0.3353 - val_top_5_accuracy: 1.0000\n",
      "Epoch 60/100\n",
      "378/378 - 1s - 2ms/step - accuracy: 0.8404 - loss: 0.3897 - top_5_accuracy: 1.0000 - val_accuracy: 0.8591 - val_loss: 0.3397 - val_top_5_accuracy: 1.0000\n",
      "Epoch 61/100\n",
      "378/378 - 1s - 2ms/step - accuracy: 0.8359 - loss: 0.3932 - top_5_accuracy: 1.0000 - val_accuracy: 0.8633 - val_loss: 0.3417 - val_top_5_accuracy: 1.0000\n",
      "Epoch 62/100\n"
     ]
    },
    {
     "name": "stderr",
     "output_type": "stream",
     "text": [
      "WARNING:absl:You are saving your model as an HDF5 file via `model.save()` or `keras.saving.save_model(model)`. This file format is considered legacy. We recommend using instead the native Keras format, e.g. `model.save('my_model.keras')` or `keras.saving.save_model(model, 'my_model.keras')`. \n"
     ]
    },
    {
     "name": "stdout",
     "output_type": "stream",
     "text": [
      "378/378 - 1s - 2ms/step - accuracy: 0.8380 - loss: 0.3918 - top_5_accuracy: 1.0000 - val_accuracy: 0.8618 - val_loss: 0.3348 - val_top_5_accuracy: 1.0000\n",
      "Epoch 63/100\n"
     ]
    },
    {
     "name": "stderr",
     "output_type": "stream",
     "text": [
      "WARNING:absl:You are saving your model as an HDF5 file via `model.save()` or `keras.saving.save_model(model)`. This file format is considered legacy. We recommend using instead the native Keras format, e.g. `model.save('my_model.keras')` or `keras.saving.save_model(model, 'my_model.keras')`. \n"
     ]
    },
    {
     "name": "stdout",
     "output_type": "stream",
     "text": [
      "378/378 - 1s - 2ms/step - accuracy: 0.8405 - loss: 0.3869 - top_5_accuracy: 1.0000 - val_accuracy: 0.8643 - val_loss: 0.3307 - val_top_5_accuracy: 1.0000\n",
      "Epoch 64/100\n"
     ]
    },
    {
     "name": "stderr",
     "output_type": "stream",
     "text": [
      "WARNING:absl:You are saving your model as an HDF5 file via `model.save()` or `keras.saving.save_model(model)`. This file format is considered legacy. We recommend using instead the native Keras format, e.g. `model.save('my_model.keras')` or `keras.saving.save_model(model, 'my_model.keras')`. \n"
     ]
    },
    {
     "name": "stdout",
     "output_type": "stream",
     "text": [
      "378/378 - 1s - 2ms/step - accuracy: 0.8380 - loss: 0.3897 - top_5_accuracy: 1.0000 - val_accuracy: 0.8649 - val_loss: 0.3290 - val_top_5_accuracy: 1.0000\n",
      "Epoch 65/100\n"
     ]
    },
    {
     "name": "stderr",
     "output_type": "stream",
     "text": [
      "WARNING:absl:You are saving your model as an HDF5 file via `model.save()` or `keras.saving.save_model(model)`. This file format is considered legacy. We recommend using instead the native Keras format, e.g. `model.save('my_model.keras')` or `keras.saving.save_model(model, 'my_model.keras')`. \n"
     ]
    },
    {
     "name": "stdout",
     "output_type": "stream",
     "text": [
      "378/378 - 1s - 2ms/step - accuracy: 0.8409 - loss: 0.3859 - top_5_accuracy: 1.0000 - val_accuracy: 0.8664 - val_loss: 0.3271 - val_top_5_accuracy: 1.0000\n",
      "Epoch 66/100\n"
     ]
    },
    {
     "name": "stderr",
     "output_type": "stream",
     "text": [
      "WARNING:absl:You are saving your model as an HDF5 file via `model.save()` or `keras.saving.save_model(model)`. This file format is considered legacy. We recommend using instead the native Keras format, e.g. `model.save('my_model.keras')` or `keras.saving.save_model(model, 'my_model.keras')`. \n"
     ]
    },
    {
     "name": "stdout",
     "output_type": "stream",
     "text": [
      "378/378 - 1s - 2ms/step - accuracy: 0.8393 - loss: 0.3877 - top_5_accuracy: 1.0000 - val_accuracy: 0.8674 - val_loss: 0.3243 - val_top_5_accuracy: 1.0000\n",
      "Epoch 67/100\n",
      "378/378 - 1s - 2ms/step - accuracy: 0.8432 - loss: 0.3798 - top_5_accuracy: 1.0000 - val_accuracy: 0.8656 - val_loss: 0.3273 - val_top_5_accuracy: 1.0000\n",
      "Epoch 68/100\n",
      "378/378 - 1s - 2ms/step - accuracy: 0.8423 - loss: 0.3821 - top_5_accuracy: 1.0000 - val_accuracy: 0.8662 - val_loss: 0.3257 - val_top_5_accuracy: 1.0000\n",
      "Epoch 69/100\n",
      "378/378 - 1s - 2ms/step - accuracy: 0.8428 - loss: 0.3803 - top_5_accuracy: 1.0000 - val_accuracy: 0.8710 - val_loss: 0.3252 - val_top_5_accuracy: 1.0000\n",
      "Epoch 70/100\n"
     ]
    },
    {
     "name": "stderr",
     "output_type": "stream",
     "text": [
      "WARNING:absl:You are saving your model as an HDF5 file via `model.save()` or `keras.saving.save_model(model)`. This file format is considered legacy. We recommend using instead the native Keras format, e.g. `model.save('my_model.keras')` or `keras.saving.save_model(model, 'my_model.keras')`. \n"
     ]
    },
    {
     "name": "stdout",
     "output_type": "stream",
     "text": [
      "378/378 - 1s - 2ms/step - accuracy: 0.8428 - loss: 0.3829 - top_5_accuracy: 1.0000 - val_accuracy: 0.8692 - val_loss: 0.3196 - val_top_5_accuracy: 1.0000\n",
      "Epoch 71/100\n",
      "378/378 - 1s - 2ms/step - accuracy: 0.8419 - loss: 0.3808 - top_5_accuracy: 1.0000 - val_accuracy: 0.8677 - val_loss: 0.3229 - val_top_5_accuracy: 1.0000\n",
      "Epoch 72/100\n"
     ]
    },
    {
     "name": "stderr",
     "output_type": "stream",
     "text": [
      "WARNING:absl:You are saving your model as an HDF5 file via `model.save()` or `keras.saving.save_model(model)`. This file format is considered legacy. We recommend using instead the native Keras format, e.g. `model.save('my_model.keras')` or `keras.saving.save_model(model, 'my_model.keras')`. \n"
     ]
    },
    {
     "name": "stdout",
     "output_type": "stream",
     "text": [
      "378/378 - 1s - 2ms/step - accuracy: 0.8464 - loss: 0.3763 - top_5_accuracy: 1.0000 - val_accuracy: 0.8717 - val_loss: 0.3153 - val_top_5_accuracy: 1.0000\n",
      "Epoch 73/100\n",
      "378/378 - 1s - 2ms/step - accuracy: 0.8423 - loss: 0.3780 - top_5_accuracy: 1.0000 - val_accuracy: 0.8732 - val_loss: 0.3156 - val_top_5_accuracy: 1.0000\n",
      "Epoch 74/100\n",
      "378/378 - 1s - 2ms/step - accuracy: 0.8439 - loss: 0.3756 - top_5_accuracy: 1.0000 - val_accuracy: 0.8710 - val_loss: 0.3186 - val_top_5_accuracy: 1.0000\n",
      "Epoch 75/100\n",
      "378/378 - 1s - 2ms/step - accuracy: 0.8459 - loss: 0.3765 - top_5_accuracy: 1.0000 - val_accuracy: 0.8689 - val_loss: 0.3190 - val_top_5_accuracy: 1.0000\n",
      "Epoch 76/100\n"
     ]
    },
    {
     "name": "stderr",
     "output_type": "stream",
     "text": [
      "WARNING:absl:You are saving your model as an HDF5 file via `model.save()` or `keras.saving.save_model(model)`. This file format is considered legacy. We recommend using instead the native Keras format, e.g. `model.save('my_model.keras')` or `keras.saving.save_model(model, 'my_model.keras')`. \n"
     ]
    },
    {
     "name": "stdout",
     "output_type": "stream",
     "text": [
      "378/378 - 1s - 2ms/step - accuracy: 0.8440 - loss: 0.3797 - top_5_accuracy: 1.0000 - val_accuracy: 0.8738 - val_loss: 0.3132 - val_top_5_accuracy: 1.0000\n",
      "Epoch 77/100\n",
      "378/378 - 1s - 2ms/step - accuracy: 0.8448 - loss: 0.3744 - top_5_accuracy: 1.0000 - val_accuracy: 0.8735 - val_loss: 0.3134 - val_top_5_accuracy: 1.0000\n",
      "Epoch 78/100\n",
      "378/378 - 1s - 2ms/step - accuracy: 0.8471 - loss: 0.3727 - top_5_accuracy: 1.0000 - val_accuracy: 0.8704 - val_loss: 0.3154 - val_top_5_accuracy: 1.0000\n",
      "Epoch 79/100\n"
     ]
    },
    {
     "name": "stderr",
     "output_type": "stream",
     "text": [
      "WARNING:absl:You are saving your model as an HDF5 file via `model.save()` or `keras.saving.save_model(model)`. This file format is considered legacy. We recommend using instead the native Keras format, e.g. `model.save('my_model.keras')` or `keras.saving.save_model(model, 'my_model.keras')`. \n"
     ]
    },
    {
     "name": "stdout",
     "output_type": "stream",
     "text": [
      "378/378 - 1s - 2ms/step - accuracy: 0.8455 - loss: 0.3706 - top_5_accuracy: 1.0000 - val_accuracy: 0.8770 - val_loss: 0.3126 - val_top_5_accuracy: 1.0000\n",
      "Epoch 80/100\n"
     ]
    },
    {
     "name": "stderr",
     "output_type": "stream",
     "text": [
      "WARNING:absl:You are saving your model as an HDF5 file via `model.save()` or `keras.saving.save_model(model)`. This file format is considered legacy. We recommend using instead the native Keras format, e.g. `model.save('my_model.keras')` or `keras.saving.save_model(model, 'my_model.keras')`. \n"
     ]
    },
    {
     "name": "stdout",
     "output_type": "stream",
     "text": [
      "378/378 - 1s - 2ms/step - accuracy: 0.8459 - loss: 0.3686 - top_5_accuracy: 1.0000 - val_accuracy: 0.8719 - val_loss: 0.3114 - val_top_5_accuracy: 1.0000\n",
      "Epoch 81/100\n"
     ]
    },
    {
     "name": "stderr",
     "output_type": "stream",
     "text": [
      "WARNING:absl:You are saving your model as an HDF5 file via `model.save()` or `keras.saving.save_model(model)`. This file format is considered legacy. We recommend using instead the native Keras format, e.g. `model.save('my_model.keras')` or `keras.saving.save_model(model, 'my_model.keras')`. \n"
     ]
    },
    {
     "name": "stdout",
     "output_type": "stream",
     "text": [
      "378/378 - 1s - 2ms/step - accuracy: 0.8439 - loss: 0.3725 - top_5_accuracy: 0.9999 - val_accuracy: 0.8748 - val_loss: 0.3101 - val_top_5_accuracy: 1.0000\n",
      "Epoch 82/100\n"
     ]
    },
    {
     "name": "stderr",
     "output_type": "stream",
     "text": [
      "WARNING:absl:You are saving your model as an HDF5 file via `model.save()` or `keras.saving.save_model(model)`. This file format is considered legacy. We recommend using instead the native Keras format, e.g. `model.save('my_model.keras')` or `keras.saving.save_model(model, 'my_model.keras')`. \n"
     ]
    },
    {
     "name": "stdout",
     "output_type": "stream",
     "text": [
      "378/378 - 1s - 2ms/step - accuracy: 0.8501 - loss: 0.3653 - top_5_accuracy: 0.9999 - val_accuracy: 0.8755 - val_loss: 0.3083 - val_top_5_accuracy: 1.0000\n",
      "Epoch 83/100\n",
      "378/378 - 1s - 2ms/step - accuracy: 0.8463 - loss: 0.3701 - top_5_accuracy: 1.0000 - val_accuracy: 0.8729 - val_loss: 0.3105 - val_top_5_accuracy: 1.0000\n",
      "Epoch 84/100\n"
     ]
    },
    {
     "name": "stderr",
     "output_type": "stream",
     "text": [
      "WARNING:absl:You are saving your model as an HDF5 file via `model.save()` or `keras.saving.save_model(model)`. This file format is considered legacy. We recommend using instead the native Keras format, e.g. `model.save('my_model.keras')` or `keras.saving.save_model(model, 'my_model.keras')`. \n"
     ]
    },
    {
     "name": "stdout",
     "output_type": "stream",
     "text": [
      "378/378 - 1s - 2ms/step - accuracy: 0.8483 - loss: 0.3669 - top_5_accuracy: 0.9999 - val_accuracy: 0.8786 - val_loss: 0.3074 - val_top_5_accuracy: 1.0000\n",
      "Epoch 85/100\n",
      "378/378 - 1s - 2ms/step - accuracy: 0.8476 - loss: 0.3680 - top_5_accuracy: 1.0000 - val_accuracy: 0.8720 - val_loss: 0.3098 - val_top_5_accuracy: 1.0000\n",
      "Epoch 86/100\n"
     ]
    },
    {
     "name": "stderr",
     "output_type": "stream",
     "text": [
      "WARNING:absl:You are saving your model as an HDF5 file via `model.save()` or `keras.saving.save_model(model)`. This file format is considered legacy. We recommend using instead the native Keras format, e.g. `model.save('my_model.keras')` or `keras.saving.save_model(model, 'my_model.keras')`. \n"
     ]
    },
    {
     "name": "stdout",
     "output_type": "stream",
     "text": [
      "378/378 - 1s - 2ms/step - accuracy: 0.8498 - loss: 0.3620 - top_5_accuracy: 1.0000 - val_accuracy: 0.8722 - val_loss: 0.3070 - val_top_5_accuracy: 1.0000\n",
      "Epoch 87/100\n"
     ]
    },
    {
     "name": "stderr",
     "output_type": "stream",
     "text": [
      "WARNING:absl:You are saving your model as an HDF5 file via `model.save()` or `keras.saving.save_model(model)`. This file format is considered legacy. We recommend using instead the native Keras format, e.g. `model.save('my_model.keras')` or `keras.saving.save_model(model, 'my_model.keras')`. \n"
     ]
    },
    {
     "name": "stdout",
     "output_type": "stream",
     "text": [
      "378/378 - 1s - 2ms/step - accuracy: 0.8490 - loss: 0.3658 - top_5_accuracy: 1.0000 - val_accuracy: 0.8714 - val_loss: 0.3040 - val_top_5_accuracy: 1.0000\n",
      "Epoch 88/100\n"
     ]
    },
    {
     "name": "stderr",
     "output_type": "stream",
     "text": [
      "WARNING:absl:You are saving your model as an HDF5 file via `model.save()` or `keras.saving.save_model(model)`. This file format is considered legacy. We recommend using instead the native Keras format, e.g. `model.save('my_model.keras')` or `keras.saving.save_model(model, 'my_model.keras')`. \n"
     ]
    },
    {
     "name": "stdout",
     "output_type": "stream",
     "text": [
      "378/378 - 1s - 2ms/step - accuracy: 0.8539 - loss: 0.3585 - top_5_accuracy: 1.0000 - val_accuracy: 0.8758 - val_loss: 0.3018 - val_top_5_accuracy: 1.0000\n",
      "Epoch 89/100\n",
      "378/378 - 1s - 2ms/step - accuracy: 0.8527 - loss: 0.3622 - top_5_accuracy: 1.0000 - val_accuracy: 0.8757 - val_loss: 0.3043 - val_top_5_accuracy: 1.0000\n",
      "Epoch 90/100\n",
      "378/378 - 1s - 2ms/step - accuracy: 0.8511 - loss: 0.3598 - top_5_accuracy: 0.9999 - val_accuracy: 0.8724 - val_loss: 0.3061 - val_top_5_accuracy: 1.0000\n",
      "Epoch 91/100\n",
      "378/378 - 1s - 2ms/step - accuracy: 0.8532 - loss: 0.3594 - top_5_accuracy: 1.0000 - val_accuracy: 0.8745 - val_loss: 0.3024 - val_top_5_accuracy: 1.0000\n",
      "Epoch 92/100\n",
      "378/378 - 1s - 2ms/step - accuracy: 0.8488 - loss: 0.3610 - top_5_accuracy: 1.0000 - val_accuracy: 0.8733 - val_loss: 0.3034 - val_top_5_accuracy: 1.0000\n",
      "Epoch 93/100\n"
     ]
    },
    {
     "name": "stderr",
     "output_type": "stream",
     "text": [
      "WARNING:absl:You are saving your model as an HDF5 file via `model.save()` or `keras.saving.save_model(model)`. This file format is considered legacy. We recommend using instead the native Keras format, e.g. `model.save('my_model.keras')` or `keras.saving.save_model(model, 'my_model.keras')`. \n"
     ]
    },
    {
     "name": "stdout",
     "output_type": "stream",
     "text": [
      "378/378 - 1s - 2ms/step - accuracy: 0.8532 - loss: 0.3590 - top_5_accuracy: 1.0000 - val_accuracy: 0.8816 - val_loss: 0.2999 - val_top_5_accuracy: 1.0000\n",
      "Epoch 94/100\n"
     ]
    },
    {
     "name": "stderr",
     "output_type": "stream",
     "text": [
      "WARNING:absl:You are saving your model as an HDF5 file via `model.save()` or `keras.saving.save_model(model)`. This file format is considered legacy. We recommend using instead the native Keras format, e.g. `model.save('my_model.keras')` or `keras.saving.save_model(model, 'my_model.keras')`. \n"
     ]
    },
    {
     "name": "stdout",
     "output_type": "stream",
     "text": [
      "378/378 - 1s - 2ms/step - accuracy: 0.8521 - loss: 0.3576 - top_5_accuracy: 1.0000 - val_accuracy: 0.8753 - val_loss: 0.2982 - val_top_5_accuracy: 1.0000\n",
      "Epoch 95/100\n",
      "378/378 - 1s - 2ms/step - accuracy: 0.8497 - loss: 0.3602 - top_5_accuracy: 1.0000 - val_accuracy: 0.8763 - val_loss: 0.3007 - val_top_5_accuracy: 1.0000\n",
      "Epoch 96/100\n"
     ]
    },
    {
     "name": "stderr",
     "output_type": "stream",
     "text": [
      "WARNING:absl:You are saving your model as an HDF5 file via `model.save()` or `keras.saving.save_model(model)`. This file format is considered legacy. We recommend using instead the native Keras format, e.g. `model.save('my_model.keras')` or `keras.saving.save_model(model, 'my_model.keras')`. \n"
     ]
    },
    {
     "name": "stdout",
     "output_type": "stream",
     "text": [
      "378/378 - 1s - 2ms/step - accuracy: 0.8534 - loss: 0.3534 - top_5_accuracy: 1.0000 - val_accuracy: 0.8791 - val_loss: 0.2960 - val_top_5_accuracy: 1.0000\n",
      "Epoch 97/100\n",
      "378/378 - 1s - 2ms/step - accuracy: 0.8492 - loss: 0.3599 - top_5_accuracy: 1.0000 - val_accuracy: 0.8786 - val_loss: 0.2986 - val_top_5_accuracy: 1.0000\n",
      "Epoch 98/100\n"
     ]
    },
    {
     "name": "stderr",
     "output_type": "stream",
     "text": [
      "WARNING:absl:You are saving your model as an HDF5 file via `model.save()` or `keras.saving.save_model(model)`. This file format is considered legacy. We recommend using instead the native Keras format, e.g. `model.save('my_model.keras')` or `keras.saving.save_model(model, 'my_model.keras')`. \n"
     ]
    },
    {
     "name": "stdout",
     "output_type": "stream",
     "text": [
      "378/378 - 1s - 3ms/step - accuracy: 0.8500 - loss: 0.3605 - top_5_accuracy: 1.0000 - val_accuracy: 0.8776 - val_loss: 0.2932 - val_top_5_accuracy: 1.0000\n",
      "Epoch 99/100\n",
      "378/378 - 1s - 2ms/step - accuracy: 0.8552 - loss: 0.3516 - top_5_accuracy: 1.0000 - val_accuracy: 0.8811 - val_loss: 0.2964 - val_top_5_accuracy: 1.0000\n",
      "Epoch 100/100\n"
     ]
    },
    {
     "name": "stderr",
     "output_type": "stream",
     "text": [
      "WARNING:absl:You are saving your model as an HDF5 file via `model.save()` or `keras.saving.save_model(model)`. This file format is considered legacy. We recommend using instead the native Keras format, e.g. `model.save('my_model.keras')` or `keras.saving.save_model(model, 'my_model.keras')`. \n"
     ]
    },
    {
     "name": "stdout",
     "output_type": "stream",
     "text": [
      "378/378 - 1s - 2ms/step - accuracy: 0.8514 - loss: 0.3537 - top_5_accuracy: 1.0000 - val_accuracy: 0.8818 - val_loss: 0.2907 - val_top_5_accuracy: 1.0000\n",
      "\u001b[1m17685/17685\u001b[0m \u001b[32m━━━━━━━━━━━━━━━━━━━━\u001b[0m\u001b[37m\u001b[0m \u001b[1m10s\u001b[0m 589us/step\n"
     ]
    }
   ],
   "source": [
    "\n",
    "# Reproducibility\n",
    "import os\n",
    "import random\n",
    "import time\n",
    "import json\n",
    "import numpy as np\n",
    "import pandas as pd\n",
    "import tensorflow as tf\n",
    "from sklearn.model_selection import train_test_split\n",
    "from sklearn.impute import SimpleImputer\n",
    "from sklearn.compose import ColumnTransformer\n",
    "from sklearn.preprocessing import StandardScaler, OneHotEncoder, LabelEncoder\n",
    "from sklearn.pipeline import Pipeline\n",
    "from tensorflow.keras.callbacks import EarlyStopping, ModelCheckpoint\n",
    "from tensorflow.keras.metrics import SparseTopKCategoricalAccuracy\n",
    "\n",
    "# Set seeds\n",
    "os.environ['PYTHONHASHSEED'] = '42'\n",
    "random.seed(42)\n",
    "np.random.seed(42)\n",
    "tf.random.set_seed(42)\n",
    "\n",
    "# Data loading\n",
    "train_files = ['train.csv.zip', 'train.csv.zip']\n",
    "train_dfs = []\n",
    "for f in train_files:\n",
    "    try:\n",
    "        train_dfs.append(pd.read_csv(f))\n",
    "    except Exception:\n",
    "        pass\n",
    "\n",
    "df_test = None\n",
    "for f in ['test.csv.zip', 'test.csv.zip']:\n",
    "    try:\n",
    "        df_test = pd.read_csv(f)\n",
    "        break\n",
    "    except Exception:\n",
    "        pass\n",
    "\n",
    "df = pd.concat(train_dfs, ignore_index=True)\n",
    "id_col = 'Id'\n",
    "target_columns = ['Cover_Type']\n",
    "\n",
    "# Target encoding\n",
    "le = LabelEncoder().fit(df[target_columns[0]].astype(str))\n",
    "y_enc = le.transform(df[target_columns[0]].astype(str))\n",
    "classes_ = le.classes_\n",
    "\n",
    "# Features\n",
    "X = df.drop(columns=target_columns + [id_col], errors='ignore')\n",
    "\n",
    "if df_test is None:\n",
    "    X_train, X_val, y_train, y_val = train_test_split(\n",
    "        X, y_enc, test_size=0.2, stratify=y_enc, random_state=42\n",
    "    )\n",
    "    X_train = X_train.drop(columns=[id_col], errors='ignore')\n",
    "    X_val = X_val.drop(columns=[id_col], errors='ignore')\n",
    "    test_ids = None\n",
    "else:\n",
    "    X_train = X\n",
    "    y_train = y_enc\n",
    "    test_ids = df_test[id_col]\n",
    "    X_val = df_test.drop(columns=target_columns + [id_col], errors='ignore')\n",
    "    y_val = None\n",
    "\n",
    "# Drop columns with all missing\n",
    "cols_all_missing = X_train.columns[X_train.isna().all()].tolist()\n",
    "X_train = X_train.drop(columns=cols_all_missing)\n",
    "X_val = X_val.drop(columns=cols_all_missing)\n",
    "\n",
    "# Detect columns\n",
    "d_numeric = X_train.select_dtypes(include=['int64', 'float64']).columns.tolist()\n",
    "cat_cols = X_train.select_dtypes(include=['object', 'category']).columns.tolist()\n",
    "cat_cols = [c for c in cat_cols if X_train[c].nunique() <= 50]\n",
    "\n",
    "# Preprocessing pipeline\n",
    "numeric_transformer = Pipeline(steps=[\n",
    "    ('imputer', SimpleImputer(strategy='median')),\n",
    "    ('scaler', StandardScaler())\n",
    "])\n",
    "cat_transformer = Pipeline(steps=[\n",
    "    ('imputer', SimpleImputer(strategy='most_frequent')),\n",
    "    ('onehot', OneHotEncoder(handle_unknown='ignore', sparse_output=False))\n",
    "])\n",
    "preprocessor = ColumnTransformer(transformers=[\n",
    "    ('num', numeric_transformer, d_numeric),\n",
    "    ('cat', cat_transformer, cat_cols)\n",
    "])\n",
    "\n",
    "X_train_proc = preprocessor.fit_transform(X_train)\n",
    "X_val_proc = preprocessor.transform(X_val)\n",
    "\n",
    "# Model architecture\n",
    "n_samples, n_features = X_train_proc.shape\n",
    "layers = []\n",
    "if n_samples < 10000 or n_features < 100:\n",
    "    units1 = min(n_features * 2, 128)\n",
    "    units2 = min(n_features, 64)\n",
    "    dropout_rate = 0.2\n",
    "    layers += [\n",
    "        tf.keras.layers.Dense(int(units1), activation='relu'),\n",
    "        tf.keras.layers.Dropout(dropout_rate),\n",
    "        tf.keras.layers.Dense(int(units2), activation='relu'),\n",
    "        tf.keras.layers.Dropout(dropout_rate)\n",
    "    ]\n",
    "else:\n",
    "    units_list = [min(int(n_features * factor), 1024) for factor in (2, 1, 0.5, 0.25)]\n",
    "    units_list = [u for u in units_list if u >= 16]\n",
    "    for u in units_list:\n",
    "        layers.append(tf.keras.layers.Dense(u, activation='relu'))\n",
    "        layers.append(tf.keras.layers.BatchNormalization())\n",
    "        layers.append(tf.keras.layers.Dropout(0.3))\n",
    "\n",
    "num_classes = len(classes_)\n",
    "top_k = min(num_classes, 5)\n",
    "output_activation = 'softmax'\n",
    "loss = 'sparse_categorical_crossentropy'\n",
    "batch_size = 64\n",
    "metrics = [\n",
    "    'accuracy',\n",
    "    SparseTopKCategoricalAccuracy(k=top_k, name=f'top_{top_k}_accuracy')\n",
    "]\n",
    "\n",
    "inputs = tf.keras.Input(shape=(n_features,))\n",
    "x = inputs\n",
    "for layer in layers:\n",
    "    x = layer(x)\n",
    "outputs = tf.keras.layers.Dense(num_classes, activation=output_activation)(x)\n",
    "model = tf.keras.Model(inputs=inputs, outputs=outputs)\n",
    "model.compile(optimizer='adam', loss=loss, metrics=metrics)\n",
    "\n",
    "# Callbacks & Training\n",
    "callbacks = [\n",
    "    EarlyStopping(monitor='val_loss', patience=10, restore_best_weights=True),\n",
    "    ModelCheckpoint('best_model.h5', save_best_only=True)\n",
    "]\n",
    "start_time = time.time()\n",
    "if y_val is not None:\n",
    "    history = model.fit(\n",
    "        X_train_proc, y_train,\n",
    "        validation_data=(X_val_proc, y_val),\n",
    "        epochs=100, batch_size=batch_size,\n",
    "        callbacks=callbacks, verbose=2\n",
    "    )\n",
    "else:\n",
    "    history = model.fit(\n",
    "        X_train_proc, y_train,\n",
    "        validation_split=0.2,\n",
    "        epochs=100, batch_size=batch_size,\n",
    "        callbacks=callbacks, verbose=2\n",
    "    )\n",
    "duration = time.time() - start_time\n",
    "\n",
    "# Evaluation & Logging\n",
    "results = {\n",
    "    'training_accuracy': history.history['accuracy'][-1],\n",
    "    'training_loss': history.history['loss'][-1],\n",
    "    'validation_accuracy': history.history.get('val_accuracy', [None])[-1],\n",
    "    'validation_loss': history.history.get('val_loss', [None])[-1]\n",
    "}\n",
    "with open('results.json', 'w') as f:\n",
    "    json.dump(results, f)\n",
    "\n",
    "# Prediction & Submission\n",
    "raw_preds = model.predict(X_val_proc)\n",
    "idxs = raw_preds.argmax(axis=1)\n",
    "final = le.inverse_transform(idxs)\n",
    "if final.ndim == 1:\n",
    "    final = final.reshape(-1, 1)\n",
    "submission = pd.DataFrame(final, columns=target_columns)\n",
    "submission.insert(0, id_col, test_ids.reset_index(drop=True))\n",
    "submission.to_csv('submission_result.csv', index=False)\n"
   ]
  },
  {
   "cell_type": "markdown",
   "metadata": {},
   "source": [
    "## Keras Tuner - 1 Attempt"
   ]
  },
  {
   "cell_type": "markdown",
   "metadata": {},
   "source": [
    "## Attempt 1"
   ]
  },
  {
   "cell_type": "code",
   "execution_count": null,
   "metadata": {},
   "outputs": [
    {
     "name": "stdout",
     "output_type": "stream",
     "text": [
      "Trial 10 Complete [00h 01m 23s]\n",
      "val_loss: 0.29901883006095886\n",
      "\n",
      "Best val_loss So Far: 0.24649378657341003\n",
      "Total elapsed time: 00h 14m 26s\n",
      "Epoch 1/100\n"
     ]
    },
    {
     "name": "stderr",
     "output_type": "stream",
     "text": [
      "WARNING:absl:You are saving your model as an HDF5 file via `model.save()` or `keras.saving.save_model(model)`. This file format is considered legacy. We recommend using instead the native Keras format, e.g. `model.save('my_model.keras')` or `keras.saving.save_model(model, 'my_model.keras')`. \n"
     ]
    },
    {
     "name": "stdout",
     "output_type": "stream",
     "text": [
      "756/756 - 11s - 15ms/step - accuracy: 0.6500 - loss: 0.8312 - val_accuracy: 0.7404 - val_loss: 0.6408\n",
      "Epoch 2/100\n"
     ]
    },
    {
     "name": "stderr",
     "output_type": "stream",
     "text": [
      "WARNING:absl:You are saving your model as an HDF5 file via `model.save()` or `keras.saving.save_model(model)`. This file format is considered legacy. We recommend using instead the native Keras format, e.g. `model.save('my_model.keras')` or `keras.saving.save_model(model, 'my_model.keras')`. \n"
     ]
    },
    {
     "name": "stdout",
     "output_type": "stream",
     "text": [
      "756/756 - 4s - 6ms/step - accuracy: 0.7320 - loss: 0.6378 - val_accuracy: 0.7717 - val_loss: 0.5585\n",
      "Epoch 3/100\n"
     ]
    },
    {
     "name": "stderr",
     "output_type": "stream",
     "text": [
      "WARNING:absl:You are saving your model as an HDF5 file via `model.save()` or `keras.saving.save_model(model)`. This file format is considered legacy. We recommend using instead the native Keras format, e.g. `model.save('my_model.keras')` or `keras.saving.save_model(model, 'my_model.keras')`. \n"
     ]
    },
    {
     "name": "stdout",
     "output_type": "stream",
     "text": [
      "756/756 - 4s - 6ms/step - accuracy: 0.7606 - loss: 0.5761 - val_accuracy: 0.7879 - val_loss: 0.5006\n",
      "Epoch 4/100\n"
     ]
    },
    {
     "name": "stderr",
     "output_type": "stream",
     "text": [
      "WARNING:absl:You are saving your model as an HDF5 file via `model.save()` or `keras.saving.save_model(model)`. This file format is considered legacy. We recommend using instead the native Keras format, e.g. `model.save('my_model.keras')` or `keras.saving.save_model(model, 'my_model.keras')`. \n"
     ]
    },
    {
     "name": "stdout",
     "output_type": "stream",
     "text": [
      "756/756 - 5s - 6ms/step - accuracy: 0.7838 - loss: 0.5225 - val_accuracy: 0.8027 - val_loss: 0.4819\n",
      "Epoch 5/100\n"
     ]
    },
    {
     "name": "stderr",
     "output_type": "stream",
     "text": [
      "WARNING:absl:You are saving your model as an HDF5 file via `model.save()` or `keras.saving.save_model(model)`. This file format is considered legacy. We recommend using instead the native Keras format, e.g. `model.save('my_model.keras')` or `keras.saving.save_model(model, 'my_model.keras')`. \n"
     ]
    },
    {
     "name": "stdout",
     "output_type": "stream",
     "text": [
      "756/756 - 4s - 6ms/step - accuracy: 0.8018 - loss: 0.4856 - val_accuracy: 0.8122 - val_loss: 0.4602\n",
      "Epoch 6/100\n"
     ]
    },
    {
     "name": "stderr",
     "output_type": "stream",
     "text": [
      "WARNING:absl:You are saving your model as an HDF5 file via `model.save()` or `keras.saving.save_model(model)`. This file format is considered legacy. We recommend using instead the native Keras format, e.g. `model.save('my_model.keras')` or `keras.saving.save_model(model, 'my_model.keras')`. \n"
     ]
    },
    {
     "name": "stdout",
     "output_type": "stream",
     "text": [
      "756/756 - 5s - 6ms/step - accuracy: 0.8162 - loss: 0.4575 - val_accuracy: 0.8256 - val_loss: 0.4336\n",
      "Epoch 7/100\n"
     ]
    },
    {
     "name": "stderr",
     "output_type": "stream",
     "text": [
      "WARNING:absl:You are saving your model as an HDF5 file via `model.save()` or `keras.saving.save_model(model)`. This file format is considered legacy. We recommend using instead the native Keras format, e.g. `model.save('my_model.keras')` or `keras.saving.save_model(model, 'my_model.keras')`. \n"
     ]
    },
    {
     "name": "stdout",
     "output_type": "stream",
     "text": [
      "756/756 - 4s - 6ms/step - accuracy: 0.8245 - loss: 0.4304 - val_accuracy: 0.8323 - val_loss: 0.4031\n",
      "Epoch 8/100\n"
     ]
    },
    {
     "name": "stderr",
     "output_type": "stream",
     "text": [
      "WARNING:absl:You are saving your model as an HDF5 file via `model.save()` or `keras.saving.save_model(model)`. This file format is considered legacy. We recommend using instead the native Keras format, e.g. `model.save('my_model.keras')` or `keras.saving.save_model(model, 'my_model.keras')`. \n"
     ]
    },
    {
     "name": "stdout",
     "output_type": "stream",
     "text": [
      "756/756 - 4s - 6ms/step - accuracy: 0.8371 - loss: 0.4056 - val_accuracy: 0.8411 - val_loss: 0.3932\n",
      "Epoch 9/100\n"
     ]
    },
    {
     "name": "stderr",
     "output_type": "stream",
     "text": [
      "WARNING:absl:You are saving your model as an HDF5 file via `model.save()` or `keras.saving.save_model(model)`. This file format is considered legacy. We recommend using instead the native Keras format, e.g. `model.save('my_model.keras')` or `keras.saving.save_model(model, 'my_model.keras')`. \n"
     ]
    },
    {
     "name": "stdout",
     "output_type": "stream",
     "text": [
      "756/756 - 4s - 6ms/step - accuracy: 0.8489 - loss: 0.3805 - val_accuracy: 0.8530 - val_loss: 0.3602\n",
      "Epoch 10/100\n"
     ]
    },
    {
     "name": "stderr",
     "output_type": "stream",
     "text": [
      "WARNING:absl:You are saving your model as an HDF5 file via `model.save()` or `keras.saving.save_model(model)`. This file format is considered legacy. We recommend using instead the native Keras format, e.g. `model.save('my_model.keras')` or `keras.saving.save_model(model, 'my_model.keras')`. \n"
     ]
    },
    {
     "name": "stdout",
     "output_type": "stream",
     "text": [
      "756/756 - 4s - 5ms/step - accuracy: 0.8536 - loss: 0.3656 - val_accuracy: 0.8604 - val_loss: 0.3431\n",
      "Epoch 11/100\n",
      "756/756 - 4s - 5ms/step - accuracy: 0.8607 - loss: 0.3454 - val_accuracy: 0.8583 - val_loss: 0.3512\n",
      "Epoch 12/100\n"
     ]
    },
    {
     "name": "stderr",
     "output_type": "stream",
     "text": [
      "WARNING:absl:You are saving your model as an HDF5 file via `model.save()` or `keras.saving.save_model(model)`. This file format is considered legacy. We recommend using instead the native Keras format, e.g. `model.save('my_model.keras')` or `keras.saving.save_model(model, 'my_model.keras')`. \n"
     ]
    },
    {
     "name": "stdout",
     "output_type": "stream",
     "text": [
      "756/756 - 4s - 5ms/step - accuracy: 0.8667 - loss: 0.3353 - val_accuracy: 0.8689 - val_loss: 0.3264\n",
      "Epoch 13/100\n"
     ]
    },
    {
     "name": "stderr",
     "output_type": "stream",
     "text": [
      "WARNING:absl:You are saving your model as an HDF5 file via `model.save()` or `keras.saving.save_model(model)`. This file format is considered legacy. We recommend using instead the native Keras format, e.g. `model.save('my_model.keras')` or `keras.saving.save_model(model, 'my_model.keras')`. \n"
     ]
    },
    {
     "name": "stdout",
     "output_type": "stream",
     "text": [
      "756/756 - 4s - 5ms/step - accuracy: 0.8748 - loss: 0.3154 - val_accuracy: 0.8709 - val_loss: 0.3249\n",
      "Epoch 14/100\n"
     ]
    },
    {
     "name": "stderr",
     "output_type": "stream",
     "text": [
      "WARNING:absl:You are saving your model as an HDF5 file via `model.save()` or `keras.saving.save_model(model)`. This file format is considered legacy. We recommend using instead the native Keras format, e.g. `model.save('my_model.keras')` or `keras.saving.save_model(model, 'my_model.keras')`. \n"
     ]
    },
    {
     "name": "stdout",
     "output_type": "stream",
     "text": [
      "756/756 - 4s - 5ms/step - accuracy: 0.8798 - loss: 0.3080 - val_accuracy: 0.8790 - val_loss: 0.3035\n",
      "Epoch 15/100\n"
     ]
    },
    {
     "name": "stderr",
     "output_type": "stream",
     "text": [
      "WARNING:absl:You are saving your model as an HDF5 file via `model.save()` or `keras.saving.save_model(model)`. This file format is considered legacy. We recommend using instead the native Keras format, e.g. `model.save('my_model.keras')` or `keras.saving.save_model(model, 'my_model.keras')`. \n"
     ]
    },
    {
     "name": "stdout",
     "output_type": "stream",
     "text": [
      "756/756 - 5s - 6ms/step - accuracy: 0.8826 - loss: 0.2953 - val_accuracy: 0.8838 - val_loss: 0.2825\n",
      "Epoch 16/100\n"
     ]
    },
    {
     "name": "stderr",
     "output_type": "stream",
     "text": [
      "WARNING:absl:You are saving your model as an HDF5 file via `model.save()` or `keras.saving.save_model(model)`. This file format is considered legacy. We recommend using instead the native Keras format, e.g. `model.save('my_model.keras')` or `keras.saving.save_model(model, 'my_model.keras')`. \n"
     ]
    },
    {
     "name": "stdout",
     "output_type": "stream",
     "text": [
      "756/756 - 5s - 6ms/step - accuracy: 0.8877 - loss: 0.2811 - val_accuracy: 0.8872 - val_loss: 0.2735\n",
      "Epoch 17/100\n",
      "756/756 - 5s - 7ms/step - accuracy: 0.8883 - loss: 0.2851 - val_accuracy: 0.8856 - val_loss: 0.2820\n",
      "Epoch 18/100\n"
     ]
    },
    {
     "name": "stderr",
     "output_type": "stream",
     "text": [
      "WARNING:absl:You are saving your model as an HDF5 file via `model.save()` or `keras.saving.save_model(model)`. This file format is considered legacy. We recommend using instead the native Keras format, e.g. `model.save('my_model.keras')` or `keras.saving.save_model(model, 'my_model.keras')`. \n"
     ]
    },
    {
     "name": "stdout",
     "output_type": "stream",
     "text": [
      "756/756 - 5s - 6ms/step - accuracy: 0.8934 - loss: 0.2711 - val_accuracy: 0.8925 - val_loss: 0.2634\n",
      "Epoch 19/100\n"
     ]
    },
    {
     "name": "stderr",
     "output_type": "stream",
     "text": [
      "WARNING:absl:You are saving your model as an HDF5 file via `model.save()` or `keras.saving.save_model(model)`. This file format is considered legacy. We recommend using instead the native Keras format, e.g. `model.save('my_model.keras')` or `keras.saving.save_model(model, 'my_model.keras')`. \n"
     ]
    },
    {
     "name": "stdout",
     "output_type": "stream",
     "text": [
      "756/756 - 4s - 6ms/step - accuracy: 0.8996 - loss: 0.2546 - val_accuracy: 0.8980 - val_loss: 0.2507\n",
      "Epoch 20/100\n"
     ]
    },
    {
     "name": "stderr",
     "output_type": "stream",
     "text": [
      "WARNING:absl:You are saving your model as an HDF5 file via `model.save()` or `keras.saving.save_model(model)`. This file format is considered legacy. We recommend using instead the native Keras format, e.g. `model.save('my_model.keras')` or `keras.saving.save_model(model, 'my_model.keras')`. \n"
     ]
    },
    {
     "name": "stdout",
     "output_type": "stream",
     "text": [
      "756/756 - 5s - 6ms/step - accuracy: 0.9028 - loss: 0.2488 - val_accuracy: 0.8983 - val_loss: 0.2505\n",
      "Epoch 21/100\n"
     ]
    },
    {
     "name": "stderr",
     "output_type": "stream",
     "text": [
      "WARNING:absl:You are saving your model as an HDF5 file via `model.save()` or `keras.saving.save_model(model)`. This file format is considered legacy. We recommend using instead the native Keras format, e.g. `model.save('my_model.keras')` or `keras.saving.save_model(model, 'my_model.keras')`. \n"
     ]
    },
    {
     "name": "stdout",
     "output_type": "stream",
     "text": [
      "756/756 - 4s - 6ms/step - accuracy: 0.9048 - loss: 0.2452 - val_accuracy: 0.9038 - val_loss: 0.2448\n",
      "Epoch 22/100\n",
      "756/756 - 4s - 5ms/step - accuracy: 0.9087 - loss: 0.2345 - val_accuracy: 0.9023 - val_loss: 0.2672\n",
      "Epoch 23/100\n"
     ]
    },
    {
     "name": "stderr",
     "output_type": "stream",
     "text": [
      "WARNING:absl:You are saving your model as an HDF5 file via `model.save()` or `keras.saving.save_model(model)`. This file format is considered legacy. We recommend using instead the native Keras format, e.g. `model.save('my_model.keras')` or `keras.saving.save_model(model, 'my_model.keras')`. \n"
     ]
    },
    {
     "name": "stdout",
     "output_type": "stream",
     "text": [
      "756/756 - 4s - 5ms/step - accuracy: 0.9101 - loss: 0.2341 - val_accuracy: 0.9056 - val_loss: 0.2294\n",
      "Epoch 24/100\n"
     ]
    },
    {
     "name": "stderr",
     "output_type": "stream",
     "text": [
      "WARNING:absl:You are saving your model as an HDF5 file via `model.save()` or `keras.saving.save_model(model)`. This file format is considered legacy. We recommend using instead the native Keras format, e.g. `model.save('my_model.keras')` or `keras.saving.save_model(model, 'my_model.keras')`. \n"
     ]
    },
    {
     "name": "stdout",
     "output_type": "stream",
     "text": [
      "756/756 - 4s - 5ms/step - accuracy: 0.9128 - loss: 0.2285 - val_accuracy: 0.9097 - val_loss: 0.2233\n",
      "Epoch 25/100\n"
     ]
    },
    {
     "name": "stderr",
     "output_type": "stream",
     "text": [
      "WARNING:absl:You are saving your model as an HDF5 file via `model.save()` or `keras.saving.save_model(model)`. This file format is considered legacy. We recommend using instead the native Keras format, e.g. `model.save('my_model.keras')` or `keras.saving.save_model(model, 'my_model.keras')`. \n"
     ]
    },
    {
     "name": "stdout",
     "output_type": "stream",
     "text": [
      "756/756 - 4s - 5ms/step - accuracy: 0.9170 - loss: 0.2197 - val_accuracy: 0.9155 - val_loss: 0.2122\n",
      "Epoch 26/100\n"
     ]
    },
    {
     "name": "stderr",
     "output_type": "stream",
     "text": [
      "WARNING:absl:You are saving your model as an HDF5 file via `model.save()` or `keras.saving.save_model(model)`. This file format is considered legacy. We recommend using instead the native Keras format, e.g. `model.save('my_model.keras')` or `keras.saving.save_model(model, 'my_model.keras')`. \n"
     ]
    },
    {
     "name": "stdout",
     "output_type": "stream",
     "text": [
      "756/756 - 3s - 5ms/step - accuracy: 0.9184 - loss: 0.2091 - val_accuracy: 0.9160 - val_loss: 0.2076\n",
      "Epoch 27/100\n",
      "756/756 - 3s - 5ms/step - accuracy: 0.9189 - loss: 0.2094 - val_accuracy: 0.9193 - val_loss: 0.2092\n",
      "Epoch 28/100\n"
     ]
    },
    {
     "name": "stderr",
     "output_type": "stream",
     "text": [
      "WARNING:absl:You are saving your model as an HDF5 file via `model.save()` or `keras.saving.save_model(model)`. This file format is considered legacy. We recommend using instead the native Keras format, e.g. `model.save('my_model.keras')` or `keras.saving.save_model(model, 'my_model.keras')`. \n"
     ]
    },
    {
     "name": "stdout",
     "output_type": "stream",
     "text": [
      "756/756 - 4s - 5ms/step - accuracy: 0.9201 - loss: 0.2070 - val_accuracy: 0.9185 - val_loss: 0.1989\n",
      "Epoch 29/100\n"
     ]
    },
    {
     "name": "stderr",
     "output_type": "stream",
     "text": [
      "WARNING:absl:You are saving your model as an HDF5 file via `model.save()` or `keras.saving.save_model(model)`. This file format is considered legacy. We recommend using instead the native Keras format, e.g. `model.save('my_model.keras')` or `keras.saving.save_model(model, 'my_model.keras')`. \n"
     ]
    },
    {
     "name": "stdout",
     "output_type": "stream",
     "text": [
      "756/756 - 3s - 5ms/step - accuracy: 0.9241 - loss: 0.1948 - val_accuracy: 0.9277 - val_loss: 0.1883\n",
      "Epoch 30/100\n",
      "756/756 - 3s - 5ms/step - accuracy: 0.9225 - loss: 0.2026 - val_accuracy: 0.9153 - val_loss: 0.2039\n",
      "Epoch 31/100\n",
      "756/756 - 4s - 5ms/step - accuracy: 0.9286 - loss: 0.1867 - val_accuracy: 0.9201 - val_loss: 0.2037\n",
      "Epoch 32/100\n",
      "756/756 - 4s - 5ms/step - accuracy: 0.9268 - loss: 0.1865 - val_accuracy: 0.9168 - val_loss: 0.2220\n",
      "Epoch 33/100\n"
     ]
    },
    {
     "name": "stderr",
     "output_type": "stream",
     "text": [
      "WARNING:absl:You are saving your model as an HDF5 file via `model.save()` or `keras.saving.save_model(model)`. This file format is considered legacy. We recommend using instead the native Keras format, e.g. `model.save('my_model.keras')` or `keras.saving.save_model(model, 'my_model.keras')`. \n"
     ]
    },
    {
     "name": "stdout",
     "output_type": "stream",
     "text": [
      "756/756 - 4s - 5ms/step - accuracy: 0.9278 - loss: 0.1896 - val_accuracy: 0.9269 - val_loss: 0.1831\n",
      "Epoch 34/100\n"
     ]
    },
    {
     "name": "stderr",
     "output_type": "stream",
     "text": [
      "WARNING:absl:You are saving your model as an HDF5 file via `model.save()` or `keras.saving.save_model(model)`. This file format is considered legacy. We recommend using instead the native Keras format, e.g. `model.save('my_model.keras')` or `keras.saving.save_model(model, 'my_model.keras')`. \n"
     ]
    },
    {
     "name": "stdout",
     "output_type": "stream",
     "text": [
      "756/756 - 4s - 5ms/step - accuracy: 0.9318 - loss: 0.1795 - val_accuracy: 0.9357 - val_loss: 0.1820\n",
      "Epoch 35/100\n"
     ]
    },
    {
     "name": "stderr",
     "output_type": "stream",
     "text": [
      "WARNING:absl:You are saving your model as an HDF5 file via `model.save()` or `keras.saving.save_model(model)`. This file format is considered legacy. We recommend using instead the native Keras format, e.g. `model.save('my_model.keras')` or `keras.saving.save_model(model, 'my_model.keras')`. \n"
     ]
    },
    {
     "name": "stdout",
     "output_type": "stream",
     "text": [
      "756/756 - 4s - 5ms/step - accuracy: 0.9323 - loss: 0.1811 - val_accuracy: 0.9329 - val_loss: 0.1718\n",
      "Epoch 36/100\n"
     ]
    },
    {
     "name": "stderr",
     "output_type": "stream",
     "text": [
      "WARNING:absl:You are saving your model as an HDF5 file via `model.save()` or `keras.saving.save_model(model)`. This file format is considered legacy. We recommend using instead the native Keras format, e.g. `model.save('my_model.keras')` or `keras.saving.save_model(model, 'my_model.keras')`. \n"
     ]
    },
    {
     "name": "stdout",
     "output_type": "stream",
     "text": [
      "756/756 - 4s - 5ms/step - accuracy: 0.9305 - loss: 0.1811 - val_accuracy: 0.9368 - val_loss: 0.1686\n",
      "Epoch 37/100\n"
     ]
    },
    {
     "name": "stderr",
     "output_type": "stream",
     "text": [
      "WARNING:absl:You are saving your model as an HDF5 file via `model.save()` or `keras.saving.save_model(model)`. This file format is considered legacy. We recommend using instead the native Keras format, e.g. `model.save('my_model.keras')` or `keras.saving.save_model(model, 'my_model.keras')`. \n"
     ]
    },
    {
     "name": "stdout",
     "output_type": "stream",
     "text": [
      "756/756 - 4s - 5ms/step - accuracy: 0.9329 - loss: 0.1752 - val_accuracy: 0.9423 - val_loss: 0.1510\n",
      "Epoch 38/100\n",
      "756/756 - 4s - 5ms/step - accuracy: 0.9355 - loss: 0.1692 - val_accuracy: 0.9382 - val_loss: 0.1650\n",
      "Epoch 39/100\n",
      "756/756 - 4s - 5ms/step - accuracy: 0.9338 - loss: 0.1729 - val_accuracy: 0.9436 - val_loss: 0.1572\n",
      "Epoch 40/100\n",
      "756/756 - 4s - 5ms/step - accuracy: 0.9379 - loss: 0.1651 - val_accuracy: 0.9372 - val_loss: 0.1616\n",
      "Epoch 41/100\n"
     ]
    },
    {
     "name": "stderr",
     "output_type": "stream",
     "text": [
      "WARNING:absl:You are saving your model as an HDF5 file via `model.save()` or `keras.saving.save_model(model)`. This file format is considered legacy. We recommend using instead the native Keras format, e.g. `model.save('my_model.keras')` or `keras.saving.save_model(model, 'my_model.keras')`. \n"
     ]
    },
    {
     "name": "stdout",
     "output_type": "stream",
     "text": [
      "756/756 - 4s - 5ms/step - accuracy: 0.9396 - loss: 0.1608 - val_accuracy: 0.9443 - val_loss: 0.1467\n",
      "Epoch 42/100\n",
      "756/756 - 4s - 5ms/step - accuracy: 0.9354 - loss: 0.1699 - val_accuracy: 0.9428 - val_loss: 0.1493\n",
      "Epoch 43/100\n",
      "756/756 - 5s - 6ms/step - accuracy: 0.9397 - loss: 0.1598 - val_accuracy: 0.9297 - val_loss: 0.1896\n",
      "Epoch 44/100\n",
      "756/756 - 4s - 5ms/step - accuracy: 0.9400 - loss: 0.1609 - val_accuracy: 0.9390 - val_loss: 0.1645\n",
      "Epoch 45/100\n"
     ]
    },
    {
     "name": "stderr",
     "output_type": "stream",
     "text": [
      "WARNING:absl:You are saving your model as an HDF5 file via `model.save()` or `keras.saving.save_model(model)`. This file format is considered legacy. We recommend using instead the native Keras format, e.g. `model.save('my_model.keras')` or `keras.saving.save_model(model, 'my_model.keras')`. \n"
     ]
    },
    {
     "name": "stdout",
     "output_type": "stream",
     "text": [
      "756/756 - 4s - 5ms/step - accuracy: 0.9421 - loss: 0.1592 - val_accuracy: 0.9466 - val_loss: 0.1452\n",
      "Epoch 46/100\n"
     ]
    },
    {
     "name": "stderr",
     "output_type": "stream",
     "text": [
      "WARNING:absl:You are saving your model as an HDF5 file via `model.save()` or `keras.saving.save_model(model)`. This file format is considered legacy. We recommend using instead the native Keras format, e.g. `model.save('my_model.keras')` or `keras.saving.save_model(model, 'my_model.keras')`. \n"
     ]
    },
    {
     "name": "stdout",
     "output_type": "stream",
     "text": [
      "756/756 - 5s - 6ms/step - accuracy: 0.9446 - loss: 0.1455 - val_accuracy: 0.9482 - val_loss: 0.1360\n",
      "Epoch 47/100\n"
     ]
    },
    {
     "name": "stderr",
     "output_type": "stream",
     "text": [
      "WARNING:absl:You are saving your model as an HDF5 file via `model.save()` or `keras.saving.save_model(model)`. This file format is considered legacy. We recommend using instead the native Keras format, e.g. `model.save('my_model.keras')` or `keras.saving.save_model(model, 'my_model.keras')`. \n"
     ]
    },
    {
     "name": "stdout",
     "output_type": "stream",
     "text": [
      "756/756 - 4s - 6ms/step - accuracy: 0.9443 - loss: 0.1523 - val_accuracy: 0.9489 - val_loss: 0.1321\n",
      "Epoch 48/100\n",
      "756/756 - 4s - 6ms/step - accuracy: 0.9421 - loss: 0.1558 - val_accuracy: 0.9387 - val_loss: 0.1746\n",
      "Epoch 49/100\n"
     ]
    },
    {
     "name": "stderr",
     "output_type": "stream",
     "text": [
      "WARNING:absl:You are saving your model as an HDF5 file via `model.save()` or `keras.saving.save_model(model)`. This file format is considered legacy. We recommend using instead the native Keras format, e.g. `model.save('my_model.keras')` or `keras.saving.save_model(model, 'my_model.keras')`. \n"
     ]
    },
    {
     "name": "stdout",
     "output_type": "stream",
     "text": [
      "756/756 - 4s - 5ms/step - accuracy: 0.9430 - loss: 0.1514 - val_accuracy: 0.9502 - val_loss: 0.1313\n",
      "Epoch 50/100\n",
      "756/756 - 4s - 5ms/step - accuracy: 0.9460 - loss: 0.1434 - val_accuracy: 0.9468 - val_loss: 0.1461\n",
      "Epoch 51/100\n",
      "756/756 - 4s - 5ms/step - accuracy: 0.9476 - loss: 0.1425 - val_accuracy: 0.9497 - val_loss: 0.1317\n",
      "Epoch 52/100\n",
      "756/756 - 4s - 5ms/step - accuracy: 0.9479 - loss: 0.1413 - val_accuracy: 0.9506 - val_loss: 0.1314\n",
      "Epoch 53/100\n",
      "756/756 - 5s - 7ms/step - accuracy: 0.9482 - loss: 0.1376 - val_accuracy: 0.9492 - val_loss: 0.1314\n",
      "Epoch 54/100\n"
     ]
    },
    {
     "name": "stderr",
     "output_type": "stream",
     "text": [
      "WARNING:absl:You are saving your model as an HDF5 file via `model.save()` or `keras.saving.save_model(model)`. This file format is considered legacy. We recommend using instead the native Keras format, e.g. `model.save('my_model.keras')` or `keras.saving.save_model(model, 'my_model.keras')`. \n"
     ]
    },
    {
     "name": "stdout",
     "output_type": "stream",
     "text": [
      "756/756 - 4s - 5ms/step - accuracy: 0.9509 - loss: 0.1346 - val_accuracy: 0.9529 - val_loss: 0.1228\n",
      "Epoch 55/100\n",
      "756/756 - 4s - 5ms/step - accuracy: 0.9489 - loss: 0.1378 - val_accuracy: 0.9557 - val_loss: 0.1254\n",
      "Epoch 56/100\n",
      "756/756 - 4s - 5ms/step - accuracy: 0.9494 - loss: 0.1379 - val_accuracy: 0.9525 - val_loss: 0.1257\n",
      "Epoch 57/100\n"
     ]
    },
    {
     "name": "stderr",
     "output_type": "stream",
     "text": [
      "WARNING:absl:You are saving your model as an HDF5 file via `model.save()` or `keras.saving.save_model(model)`. This file format is considered legacy. We recommend using instead the native Keras format, e.g. `model.save('my_model.keras')` or `keras.saving.save_model(model, 'my_model.keras')`. \n"
     ]
    },
    {
     "name": "stdout",
     "output_type": "stream",
     "text": [
      "756/756 - 4s - 5ms/step - accuracy: 0.9495 - loss: 0.1348 - val_accuracy: 0.9511 - val_loss: 0.1227\n",
      "Epoch 58/100\n"
     ]
    },
    {
     "name": "stderr",
     "output_type": "stream",
     "text": [
      "WARNING:absl:You are saving your model as an HDF5 file via `model.save()` or `keras.saving.save_model(model)`. This file format is considered legacy. We recommend using instead the native Keras format, e.g. `model.save('my_model.keras')` or `keras.saving.save_model(model, 'my_model.keras')`. \n"
     ]
    },
    {
     "name": "stdout",
     "output_type": "stream",
     "text": [
      "756/756 - 4s - 5ms/step - accuracy: 0.9504 - loss: 0.1384 - val_accuracy: 0.9554 - val_loss: 0.1223\n",
      "Epoch 59/100\n",
      "756/756 - 4s - 5ms/step - accuracy: 0.9532 - loss: 0.1294 - val_accuracy: 0.9549 - val_loss: 0.1240\n",
      "Epoch 60/100\n",
      "756/756 - 4s - 5ms/step - accuracy: 0.9513 - loss: 0.1315 - val_accuracy: 0.9476 - val_loss: 0.1347\n",
      "Epoch 61/100\n"
     ]
    },
    {
     "name": "stderr",
     "output_type": "stream",
     "text": [
      "WARNING:absl:You are saving your model as an HDF5 file via `model.save()` or `keras.saving.save_model(model)`. This file format is considered legacy. We recommend using instead the native Keras format, e.g. `model.save('my_model.keras')` or `keras.saving.save_model(model, 'my_model.keras')`. \n"
     ]
    },
    {
     "name": "stdout",
     "output_type": "stream",
     "text": [
      "756/756 - 4s - 5ms/step - accuracy: 0.9500 - loss: 0.1374 - val_accuracy: 0.9578 - val_loss: 0.1150\n",
      "Epoch 62/100\n",
      "756/756 - 4s - 5ms/step - accuracy: 0.9529 - loss: 0.1337 - val_accuracy: 0.9567 - val_loss: 0.1158\n",
      "Epoch 63/100\n",
      "756/756 - 4s - 5ms/step - accuracy: 0.9504 - loss: 0.1370 - val_accuracy: 0.9524 - val_loss: 0.1258\n",
      "Epoch 64/100\n"
     ]
    },
    {
     "name": "stderr",
     "output_type": "stream",
     "text": [
      "WARNING:absl:You are saving your model as an HDF5 file via `model.save()` or `keras.saving.save_model(model)`. This file format is considered legacy. We recommend using instead the native Keras format, e.g. `model.save('my_model.keras')` or `keras.saving.save_model(model, 'my_model.keras')`. \n"
     ]
    },
    {
     "name": "stdout",
     "output_type": "stream",
     "text": [
      "756/756 - 4s - 5ms/step - accuracy: 0.9568 - loss: 0.1240 - val_accuracy: 0.9593 - val_loss: 0.1065\n",
      "Epoch 65/100\n",
      "756/756 - 4s - 5ms/step - accuracy: 0.9550 - loss: 0.1223 - val_accuracy: 0.9610 - val_loss: 0.1074\n",
      "Epoch 66/100\n",
      "756/756 - 5s - 6ms/step - accuracy: 0.9536 - loss: 0.1247 - val_accuracy: 0.9588 - val_loss: 0.1143\n",
      "Epoch 67/100\n"
     ]
    },
    {
     "name": "stderr",
     "output_type": "stream",
     "text": [
      "WARNING:absl:You are saving your model as an HDF5 file via `model.save()` or `keras.saving.save_model(model)`. This file format is considered legacy. We recommend using instead the native Keras format, e.g. `model.save('my_model.keras')` or `keras.saving.save_model(model, 'my_model.keras')`. \n"
     ]
    },
    {
     "name": "stdout",
     "output_type": "stream",
     "text": [
      "756/756 - 4s - 6ms/step - accuracy: 0.9568 - loss: 0.1222 - val_accuracy: 0.9606 - val_loss: 0.1053\n",
      "Epoch 68/100\n",
      "756/756 - 4s - 6ms/step - accuracy: 0.9568 - loss: 0.1226 - val_accuracy: 0.9608 - val_loss: 0.1276\n",
      "Epoch 69/100\n"
     ]
    },
    {
     "name": "stderr",
     "output_type": "stream",
     "text": [
      "WARNING:absl:You are saving your model as an HDF5 file via `model.save()` or `keras.saving.save_model(model)`. This file format is considered legacy. We recommend using instead the native Keras format, e.g. `model.save('my_model.keras')` or `keras.saving.save_model(model, 'my_model.keras')`. \n"
     ]
    },
    {
     "name": "stdout",
     "output_type": "stream",
     "text": [
      "756/756 - 4s - 6ms/step - accuracy: 0.9584 - loss: 0.1151 - val_accuracy: 0.9645 - val_loss: 0.0987\n",
      "Epoch 70/100\n",
      "756/756 - 4s - 5ms/step - accuracy: 0.9559 - loss: 0.1195 - val_accuracy: 0.9583 - val_loss: 0.1154\n",
      "Epoch 71/100\n",
      "756/756 - 3s - 5ms/step - accuracy: 0.9575 - loss: 0.1182 - val_accuracy: 0.9592 - val_loss: 0.1104\n",
      "Epoch 72/100\n",
      "756/756 - 4s - 5ms/step - accuracy: 0.9575 - loss: 0.1182 - val_accuracy: 0.9636 - val_loss: 0.1038\n",
      "Epoch 73/100\n",
      "756/756 - 4s - 5ms/step - accuracy: 0.9585 - loss: 0.1173 - val_accuracy: 0.9600 - val_loss: 0.1383\n",
      "Epoch 74/100\n",
      "756/756 - 3s - 5ms/step - accuracy: 0.9558 - loss: 0.1235 - val_accuracy: 0.9631 - val_loss: 0.1084\n",
      "Epoch 75/100\n",
      "756/756 - 4s - 5ms/step - accuracy: 0.9590 - loss: 0.1160 - val_accuracy: 0.9633 - val_loss: 0.1000\n",
      "Epoch 76/100\n",
      "756/756 - 4s - 5ms/step - accuracy: 0.9569 - loss: 0.1256 - val_accuracy: 0.9615 - val_loss: 0.0999\n",
      "Epoch 77/100\n",
      "756/756 - 4s - 5ms/step - accuracy: 0.9599 - loss: 0.1109 - val_accuracy: 0.9582 - val_loss: 0.1050\n",
      "Epoch 78/100\n",
      "756/756 - 4s - 5ms/step - accuracy: 0.9600 - loss: 0.1131 - val_accuracy: 0.9603 - val_loss: 0.1064\n",
      "Epoch 79/100\n"
     ]
    },
    {
     "name": "stderr",
     "output_type": "stream",
     "text": [
      "WARNING:absl:You are saving your model as an HDF5 file via `model.save()` or `keras.saving.save_model(model)`. This file format is considered legacy. We recommend using instead the native Keras format, e.g. `model.save('my_model.keras')` or `keras.saving.save_model(model, 'my_model.keras')`. \n"
     ]
    },
    {
     "name": "stdout",
     "output_type": "stream",
     "text": [
      "756/756 - 4s - 5ms/step - accuracy: 0.9587 - loss: 0.1139 - val_accuracy: 0.9645 - val_loss: 0.0969\n",
      "Epoch 80/100\n"
     ]
    },
    {
     "name": "stderr",
     "output_type": "stream",
     "text": [
      "WARNING:absl:You are saving your model as an HDF5 file via `model.save()` or `keras.saving.save_model(model)`. This file format is considered legacy. We recommend using instead the native Keras format, e.g. `model.save('my_model.keras')` or `keras.saving.save_model(model, 'my_model.keras')`. \n"
     ]
    },
    {
     "name": "stdout",
     "output_type": "stream",
     "text": [
      "756/756 - 4s - 5ms/step - accuracy: 0.9606 - loss: 0.1100 - val_accuracy: 0.9633 - val_loss: 0.0936\n",
      "Epoch 81/100\n",
      "756/756 - 4s - 5ms/step - accuracy: 0.9605 - loss: 0.1103 - val_accuracy: 0.9628 - val_loss: 0.1004\n",
      "Epoch 82/100\n",
      "756/756 - 3s - 5ms/step - accuracy: 0.9576 - loss: 0.1218 - val_accuracy: 0.9613 - val_loss: 0.1161\n",
      "Epoch 83/100\n",
      "756/756 - 3s - 4ms/step - accuracy: 0.9592 - loss: 0.1173 - val_accuracy: 0.9643 - val_loss: 0.0965\n",
      "Epoch 84/100\n"
     ]
    },
    {
     "name": "stderr",
     "output_type": "stream",
     "text": [
      "WARNING:absl:You are saving your model as an HDF5 file via `model.save()` or `keras.saving.save_model(model)`. This file format is considered legacy. We recommend using instead the native Keras format, e.g. `model.save('my_model.keras')` or `keras.saving.save_model(model, 'my_model.keras')`. \n"
     ]
    },
    {
     "name": "stdout",
     "output_type": "stream",
     "text": [
      "756/756 - 4s - 5ms/step - accuracy: 0.9637 - loss: 0.1022 - val_accuracy: 0.9684 - val_loss: 0.0816\n",
      "Epoch 85/100\n",
      "756/756 - 3s - 5ms/step - accuracy: 0.9608 - loss: 0.1104 - val_accuracy: 0.9654 - val_loss: 0.0867\n",
      "Epoch 86/100\n",
      "756/756 - 4s - 5ms/step - accuracy: 0.9631 - loss: 0.1065 - val_accuracy: 0.9702 - val_loss: 0.0834\n",
      "Epoch 87/100\n"
     ]
    },
    {
     "name": "stderr",
     "output_type": "stream",
     "text": [
      "WARNING:absl:You are saving your model as an HDF5 file via `model.save()` or `keras.saving.save_model(model)`. This file format is considered legacy. We recommend using instead the native Keras format, e.g. `model.save('my_model.keras')` or `keras.saving.save_model(model, 'my_model.keras')`. \n"
     ]
    },
    {
     "name": "stdout",
     "output_type": "stream",
     "text": [
      "756/756 - 4s - 5ms/step - accuracy: 0.9641 - loss: 0.1018 - val_accuracy: 0.9696 - val_loss: 0.0811\n",
      "Epoch 88/100\n",
      "756/756 - 4s - 5ms/step - accuracy: 0.9620 - loss: 0.1063 - val_accuracy: 0.9709 - val_loss: 0.0861\n",
      "Epoch 89/100\n",
      "756/756 - 4s - 5ms/step - accuracy: 0.9590 - loss: 0.1251 - val_accuracy: 0.9633 - val_loss: 0.1017\n",
      "Epoch 90/100\n",
      "756/756 - 4s - 5ms/step - accuracy: 0.9602 - loss: 0.1126 - val_accuracy: 0.9658 - val_loss: 0.1002\n",
      "Epoch 91/100\n"
     ]
    },
    {
     "name": "stderr",
     "output_type": "stream",
     "text": [
      "WARNING:absl:You are saving your model as an HDF5 file via `model.save()` or `keras.saving.save_model(model)`. This file format is considered legacy. We recommend using instead the native Keras format, e.g. `model.save('my_model.keras')` or `keras.saving.save_model(model, 'my_model.keras')`. \n"
     ]
    },
    {
     "name": "stdout",
     "output_type": "stream",
     "text": [
      "756/756 - 4s - 5ms/step - accuracy: 0.9630 - loss: 0.1008 - val_accuracy: 0.9683 - val_loss: 0.0767\n",
      "Epoch 92/100\n",
      "756/756 - 4s - 5ms/step - accuracy: 0.9633 - loss: 0.1018 - val_accuracy: 0.9719 - val_loss: 0.0780\n",
      "Epoch 93/100\n",
      "756/756 - 4s - 5ms/step - accuracy: 0.9632 - loss: 0.1024 - val_accuracy: 0.9701 - val_loss: 0.0821\n",
      "Epoch 94/100\n",
      "756/756 - 4s - 5ms/step - accuracy: 0.9630 - loss: 0.1023 - val_accuracy: 0.9732 - val_loss: 0.0810\n",
      "Epoch 95/100\n",
      "756/756 - 4s - 5ms/step - accuracy: 0.9640 - loss: 0.1008 - val_accuracy: 0.9722 - val_loss: 0.0800\n",
      "Epoch 96/100\n",
      "756/756 - 4s - 5ms/step - accuracy: 0.9650 - loss: 0.1034 - val_accuracy: 0.9696 - val_loss: 0.0918\n",
      "Epoch 97/100\n",
      "756/756 - 4s - 6ms/step - accuracy: 0.9659 - loss: 0.0979 - val_accuracy: 0.9732 - val_loss: 0.0797\n",
      "Epoch 98/100\n",
      "756/756 - 4s - 5ms/step - accuracy: 0.9640 - loss: 0.1021 - val_accuracy: 0.9707 - val_loss: 0.0854\n",
      "Epoch 99/100\n",
      "756/756 - 4s - 5ms/step - accuracy: 0.9648 - loss: 0.1029 - val_accuracy: 0.9676 - val_loss: 0.0894\n",
      "Epoch 100/100\n"
     ]
    },
    {
     "name": "stderr",
     "output_type": "stream",
     "text": [
      "WARNING:absl:You are saving your model as an HDF5 file via `model.save()` or `keras.saving.save_model(model)`. This file format is considered legacy. We recommend using instead the native Keras format, e.g. `model.save('my_model.keras')` or `keras.saving.save_model(model, 'my_model.keras')`. \n"
     ]
    },
    {
     "name": "stdout",
     "output_type": "stream",
     "text": [
      "756/756 - 4s - 5ms/step - accuracy: 0.9642 - loss: 0.1049 - val_accuracy: 0.9740 - val_loss: 0.0700\n",
      "\u001b[1m17663/17685\u001b[0m \u001b[32m━━━━━━━━━━━━━━━━━━━\u001b[0m\u001b[37m━\u001b[0m \u001b[1m0s\u001b[0m 2ms/step"
     ]
    },
    {
     "name": "stderr",
     "output_type": "stream",
     "text": [
      "2025-07-17 00:18:55.329320: I external/local_xla/xla/stream_executor/cuda/subprocess_compilation.cc:346] ptxas warning : Registers are spilled to local memory in function 'gemm_fusion_dot_28', 248 bytes spill stores, 248 bytes spill loads\n",
      "\n",
      "2025-07-17 00:18:55.374797: I external/local_xla/xla/stream_executor/cuda/subprocess_compilation.cc:346] ptxas warning : Registers are spilled to local memory in function 'gemm_fusion_dot_28', 260 bytes spill stores, 260 bytes spill loads\n",
      "\n",
      "2025-07-17 00:18:55.416495: I external/local_xla/xla/stream_executor/cuda/subprocess_compilation.cc:346] ptxas warning : Registers are spilled to local memory in function 'gemm_fusion_dot_28', 260 bytes spill stores, 260 bytes spill loads\n",
      "\n",
      "2025-07-17 00:18:55.648591: I external/local_xla/xla/stream_executor/cuda/subprocess_compilation.cc:346] ptxas warning : Registers are spilled to local memory in function 'gemm_fusion_dot_28', 560 bytes spill stores, 560 bytes spill loads\n",
      "\n",
      "2025-07-17 00:18:55.697107: I external/local_xla/xla/stream_executor/cuda/subprocess_compilation.cc:346] ptxas warning : Registers are spilled to local memory in function 'gemm_fusion_dot_28', 852 bytes spill stores, 852 bytes spill loads\n",
      "\n"
     ]
    },
    {
     "name": "stdout",
     "output_type": "stream",
     "text": [
      "\u001b[1m17685/17685\u001b[0m \u001b[32m━━━━━━━━━━━━━━━━━━━━\u001b[0m\u001b[37m\u001b[0m \u001b[1m38s\u001b[0m 2ms/step\n"
     ]
    }
   ],
   "source": [
    "import os\n",
    "import random\n",
    "import time\n",
    "import json\n",
    "import numpy as np\n",
    "import pandas as pd\n",
    "import tensorflow as tf\n",
    "from sklearn.model_selection import train_test_split\n",
    "from sklearn.impute import SimpleImputer\n",
    "from sklearn.compose import ColumnTransformer\n",
    "from sklearn.preprocessing import StandardScaler, OneHotEncoder, LabelEncoder\n",
    "from sklearn.pipeline import Pipeline\n",
    "from tensorflow.keras.callbacks import EarlyStopping, ModelCheckpoint\n",
    "from tensorflow.keras.metrics import SparseTopKCategoricalAccuracy\n",
    "import keras_tuner as kt\n",
    "from tensorflow.keras.layers import Input, Dense, Dropout\n",
    "from tensorflow.keras.models import Model\n",
    "\n",
    "# Set seeds\n",
    "os.environ['PYTHONHASHSEED'] = '42'\n",
    "random.seed(42)\n",
    "np.random.seed(42)\n",
    "tf.random.set_seed(42)\n",
    "\n",
    "# Data loading\n",
    "train_files = ['train.csv.zip', 'train.csv.zip']\n",
    "train_dfs = []\n",
    "for f in train_files:\n",
    "    try:\n",
    "        train_dfs.append(pd.read_csv(f))\n",
    "    except Exception:\n",
    "        pass\n",
    "\n",
    "df_test = None\n",
    "for f in ['test.csv.zip', 'test.csv.zip']:\n",
    "    try:\n",
    "        df_test = pd.read_csv(f)\n",
    "        break\n",
    "    except Exception:\n",
    "        pass\n",
    "\n",
    "df = pd.concat(train_dfs, ignore_index=True)\n",
    "id_col = 'Id'\n",
    "target_columns = ['Cover_Type']\n",
    "\n",
    "# Target encoding\n",
    "le = LabelEncoder().fit(df[target_columns[0]].astype(str))\n",
    "y_enc = le.transform(df[target_columns[0]].astype(str))\n",
    "classes_ = le.classes_\n",
    "\n",
    "# Features\n",
    "X = df.drop(columns=target_columns + [id_col], errors='ignore')\n",
    "\n",
    "if df_test is None:\n",
    "    X_train, X_val, y_train, y_val = train_test_split(\n",
    "        X, y_enc, test_size=0.2, stratify=y_enc, random_state=42\n",
    "    )\n",
    "    X_train = X_train.drop(columns=[id_col], errors='ignore')\n",
    "    X_val = X_val.drop(columns=[id_col], errors='ignore')\n",
    "    test_ids = None\n",
    "else:\n",
    "    X_train = X\n",
    "    y_train = y_enc\n",
    "    test_ids = df_test[id_col]\n",
    "    X_val = df_test.drop(columns=target_columns + [id_col], errors='ignore')\n",
    "    y_val = None\n",
    "\n",
    "# Drop columns with all missing\n",
    "cols_all_missing = X_train.columns[X_train.isna().all()].tolist()\n",
    "X_train = X_train.drop(columns=cols_all_missing)\n",
    "X_val = X_val.drop(columns=cols_all_missing)\n",
    "\n",
    "# Detect columns\n",
    "d_numeric = X_train.select_dtypes(include=['int64', 'float64']).columns.tolist()\n",
    "cat_cols = X_train.select_dtypes(include=['object', 'category']).columns.tolist()\n",
    "cat_cols = [c for c in cat_cols if X_train[c].nunique() <= 50]\n",
    "\n",
    "# Preprocessing pipeline\n",
    "numeric_transformer = Pipeline(steps=[\n",
    "    ('imputer', SimpleImputer(strategy='median')),\n",
    "    ('scaler', StandardScaler())\n",
    "])\n",
    "cat_transformer = Pipeline(steps=[\n",
    "    ('imputer', SimpleImputer(strategy='most_frequent')),\n",
    "    ('onehot', OneHotEncoder(handle_unknown='ignore', sparse_output=False))\n",
    "])\n",
    "preprocessor = ColumnTransformer(transformers=[\n",
    "    ('num', numeric_transformer, d_numeric),\n",
    "    ('cat', cat_transformer, cat_cols)\n",
    "])\n",
    "\n",
    "X_train_proc = preprocessor.fit_transform(X_train)\n",
    "X_val_proc = preprocessor.transform(X_val)\n",
    "\n",
    "# Model architecture\n",
    "n_samples, n_features = X_train_proc.shape\n",
    "num_classes = len(classes_)\n",
    "\n",
    "# Define early stopping and checkpoint\n",
    "early_stopping = EarlyStopping(monitor='val_loss', patience=10, restore_best_weights=True)\n",
    "checkpoint = ModelCheckpoint('best_model.h5', monitor='val_loss', save_best_only=True)\n",
    "\n",
    "class MyHyperModel(kt.HyperModel):\n",
    "    def build(self, hp):\n",
    "        layers = hp.Int('layers', 2, 8)\n",
    "        units = hp.Int('units', 64, 1024)\n",
    "        act = hp.Choice('activation', ['relu'])\n",
    "        drop = hp.Float('dropout', 0.0, 0.5)\n",
    "        opt = hp.Choice('optimizer', ['adam'])\n",
    "        lr = hp.Float('learning_rate', 1e-5, 0.01, sampling='log')\n",
    "\n",
    "        inputs = Input(shape=(n_features,))\n",
    "        x = inputs\n",
    "        for _ in range(layers):\n",
    "            x = Dense(units, activation=act)(x)\n",
    "            x = Dropout(drop)(x)\n",
    "        outputs = Dense(num_classes, activation='softmax')(x)\n",
    "        model = Model(inputs, outputs)\n",
    "        model.compile(optimizer=opt, loss='sparse_categorical_crossentropy', metrics=['accuracy'])\n",
    "        return model\n",
    "\n",
    "# Tuner setup\n",
    "bs = 32  # Example batch size\n",
    "ep = 20  # Example epochs\n",
    "\n",
    "tuner = kt.BayesianOptimization(\n",
    "    MyHyperModel(),\n",
    "    objective='val_loss',\n",
    "    max_trials=10,\n",
    "    executions_per_trial=1,\n",
    "    seed=42,\n",
    "    overwrite=True,\n",
    "    project_name='bayesian_tuner'\n",
    ")\n",
    "\n",
    "if y_val is not None:\n",
    "    tuner.search(\n",
    "        X_train_proc, y_train,\n",
    "        validation_data=(X_val_proc, y_val),\n",
    "        batch_size=bs, epochs=ep,\n",
    "        callbacks=[early_stopping, checkpoint]\n",
    "    )\n",
    "else:\n",
    "    tuner.search(\n",
    "        X_train_proc, y_train,\n",
    "        validation_split=0.2,\n",
    "        batch_size=bs, epochs=ep,\n",
    "        callbacks=[early_stopping, checkpoint]\n",
    "    )\n",
    "\n",
    "model = tuner.hypermodel.build(tuner.get_best_hyperparameters(1)[0])\n",
    "\n",
    "start_time = time.time()  # Start timing\n",
    "\n",
    "# Retrain model with original callbacks and data\n",
    "if y_val is not None:\n",
    "    history = model.fit(\n",
    "        X_train_proc, y_train,\n",
    "        validation_data=(X_val_proc, y_val),\n",
    "        epochs=100, batch_size=bs,\n",
    "        callbacks=[early_stopping, checkpoint],\n",
    "        verbose=2\n",
    "    )\n",
    "else:\n",
    "    history = model.fit(\n",
    "        X_train_proc, y_train,\n",
    "        validation_split=0.2,\n",
    "        epochs=100, batch_size=bs,\n",
    "        callbacks=[early_stopping, checkpoint],\n",
    "        verbose=2\n",
    "    )\n",
    "duration = time.time() - start_time  # Calculate duration\n",
    "\n",
    "# Evaluation & Logging\n",
    "results = {\n",
    "    'training_accuracy': history.history['accuracy'][-1],\n",
    "    'training_loss': history.history['loss'][-1],\n",
    "    'validation_accuracy': history.history.get('val_accuracy', [None])[-1],\n",
    "    'validation_loss': history.history.get('val_loss', [None])[-1]\n",
    "}\n",
    "with open('results.json', 'w') as f:\n",
    "    json.dump(results, f)\n",
    "\n",
    "# Prediction & Submission\n",
    "raw_preds = model.predict(X_val_proc)\n",
    "idxs = raw_preds.argmax(axis=1)\n",
    "final = le.inverse_transform(idxs)\n",
    "if final.ndim == 1:\n",
    "    final = final.reshape(-1, 1)\n",
    "submission = pd.DataFrame(final, columns=target_columns)\n",
    "submission.insert(0, id_col, test_ids.reset_index(drop=True))\n",
    "submission.to_csv('submission_result.csv', index=False)"
   ]
  },
  {
   "cell_type": "code",
   "execution_count": null,
   "metadata": {},
   "outputs": [
    {
     "name": "stdout",
     "output_type": "stream",
     "text": [
      "412.242472\n"
     ]
    }
   ],
   "source": [
    "print(duration)"
   ]
  }
 ],
 "metadata": {
  "kernelspec": {
   "display_name": "Python 3",
   "language": "python",
   "name": "python3"
  },
  "language_info": {
   "codemirror_mode": {
    "name": "ipython",
    "version": 3
   },
   "file_extension": ".py",
   "mimetype": "text/x-python",
   "name": "python",
   "nbconvert_exporter": "python",
   "pygments_lexer": "ipython3",
   "version": "3.12.3"
  }
 },
 "nbformat": 4,
 "nbformat_minor": 2
}
