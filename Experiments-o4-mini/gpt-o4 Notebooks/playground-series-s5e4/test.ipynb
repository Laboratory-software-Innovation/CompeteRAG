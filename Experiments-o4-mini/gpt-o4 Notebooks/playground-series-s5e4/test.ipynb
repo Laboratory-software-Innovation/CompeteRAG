{
 "cells": [
  {
   "cell_type": "markdown",
   "metadata": {},
   "source": [
    "# Predict Podcast Listening Time"
   ]
  },
  {
   "cell_type": "markdown",
   "metadata": {},
   "source": [
    "## Modified the metric from `log1p RMSE` to Raw `RMSE` for both Keras and Keras Tuner"
   ]
  },
  {
   "cell_type": "markdown",
   "metadata": {},
   "source": [
    "## Keras - 1 Attempt"
   ]
  },
  {
   "cell_type": "markdown",
   "metadata": {},
   "source": [
    "## Attempt 1"
   ]
  },
  {
   "cell_type": "code",
   "execution_count": null,
   "metadata": {},
   "outputs": [
    {
     "name": "stderr",
     "output_type": "stream",
     "text": [
      "/home/exouser/.local/lib/python3.12/site-packages/keras/src/layers/core/dense.py:93: UserWarning: Do not pass an `input_shape`/`input_dim` argument to a layer. When using Sequential models, prefer using an `Input(shape)` object as the first layer in the model instead.\n",
      "  super().__init__(activity_regularizer=activity_regularizer, **kwargs)\n"
     ]
    },
    {
    "name": "stdout",
    "output_type": "stream",
    "text": [
        "Epoch 1/100\n"
    ]
    },
    {
    "name": "stderr",
    "output_type": "stream",
    "text": [
        "2025-07-22 04:05:57.880797: W external/local_xla/xla/tsl/framework/cpu_allocator_impl.cc:83] Allocation of 182400000 exceeds 10% of free system memory.\n"
    ]
    },
    {
    "name": "stdout",
    "output_type": "stream",
    "text": [
        "\n",
        "Epoch 1: val_loss improved from inf to 0.18842, saving model to best_model.h5\n"
    ]
    },
    {
    "name": "stderr",
    "output_type": "stream",
    "text": [
        "WARNING:absl:You are saving your model as an HDF5 file via `model.save()` or `keras.saving.save_model(model)`. This file format is considered legacy. We recommend using instead the native Keras format, e.g. `model.save('my_model.keras')` or `keras.saving.save_model(model, 'my_model.keras')`. \n"
    ]
    },
    {
    "name": "stdout",
    "output_type": "stream",
    "text": [
        "18750/18750 - 45s - 2ms/step - loss: 0.2810 - mse_real: 207445041348608.0000 - rmse_real: 105186.5859 - val_loss: 0.1884 - val_mse_real: 185.5134 - val_rmse_real: 13.4039\n",
        "Epoch 2/100\n",
        "\n",
        "Epoch 2: val_loss did not improve from 0.18842\n",
        "18750/18750 - 38s - 2ms/step - loss: 0.1925 - mse_real: 237.6077 - rmse_real: 15.1517 - val_loss: 0.1917 - val_mse_real: 190.9299 - val_rmse_real: 13.5928\n",
        "Epoch 3/100\n",
        "\n",
        "Epoch 3: val_loss improved from 0.18842 to 0.18401, saving model to best_model.h5\n"
    ]
    },
    {
    "name": "stderr",
    "output_type": "stream",
    "text": [
        "WARNING:absl:You are saving your model as an HDF5 file via `model.save()` or `keras.saving.save_model(model)`. This file format is considered legacy. We recommend using instead the native Keras format, e.g. `model.save('my_model.keras')` or `keras.saving.save_model(model, 'my_model.keras')`. \n"
    ]
    },
    {
    "name": "stdout",
    "output_type": "stream",
    "text": [
        "18750/18750 - 37s - 2ms/step - loss: 0.1892 - mse_real: 226.5368 - rmse_real: 14.8050 - val_loss: 0.1840 - val_mse_real: 182.0885 - val_rmse_real: 13.2727\n",
        "Epoch 4/100\n",
        "\n",
        "Epoch 4: val_loss improved from 0.18401 to 0.18187, saving model to best_model.h5\n"
    ]
    },
    {
    "name": "stderr",
    "output_type": "stream",
    "text": [
        "WARNING:absl:You are saving your model as an HDF5 file via `model.save()` or `keras.saving.save_model(model)`. This file format is considered legacy. We recommend using instead the native Keras format, e.g. `model.save('my_model.keras')` or `keras.saving.save_model(model, 'my_model.keras')`. \n"
    ]
    },
    {
    "name": "stdout",
    "output_type": "stream",
    "text": [
        "18750/18750 - 38s - 2ms/step - loss: 0.1874 - mse_real: 222.5278 - rmse_real: 14.6714 - val_loss: 0.1819 - val_mse_real: 182.4790 - val_rmse_real: 13.2790\n",
        "Epoch 5/100\n",
        "\n",
        "Epoch 5: val_loss improved from 0.18187 to 0.17826, saving model to best_model.h5\n"
    ]
    },
    {
    "name": "stderr",
    "output_type": "stream",
    "text": [
        "WARNING:absl:You are saving your model as an HDF5 file via `model.save()` or `keras.saving.save_model(model)`. This file format is considered legacy. We recommend using instead the native Keras format, e.g. `model.save('my_model.keras')` or `keras.saving.save_model(model, 'my_model.keras')`. \n"
    ]
    },
    {
    "name": "stdout",
    "output_type": "stream",
    "text": [
        "18750/18750 - 37s - 2ms/step - loss: 0.1859 - mse_real: 219.8611 - rmse_real: 14.5733 - val_loss: 0.1783 - val_mse_real: 182.0745 - val_rmse_real: 13.2625\n",
        "Epoch 6/100\n",
        "\n",
        "Epoch 6: val_loss improved from 0.17826 to 0.17809, saving model to best_model.h5\n"
    ]
    },
    {
    "name": "stderr",
    "output_type": "stream",
    "text": [
        "WARNING:absl:You are saving your model as an HDF5 file via `model.save()` or `keras.saving.save_model(model)`. This file format is considered legacy. We recommend using instead the native Keras format, e.g. `model.save('my_model.keras')` or `keras.saving.save_model(model, 'my_model.keras')`. \n"
    ]
    },
    {
    "name": "stdout",
    "output_type": "stream",
    "text": [
        "18750/18750 - 39s - 2ms/step - loss: 0.1855 - mse_real: 219.1172 - rmse_real: 14.5467 - val_loss: 0.1781 - val_mse_real: 182.3509 - val_rmse_real: 13.2670\n",
        "Epoch 7/100\n",
        "\n",
        "Epoch 7: val_loss did not improve from 0.17809\n",
        "18750/18750 - 39s - 2ms/step - loss: 0.1854 - mse_real: 218.9178 - rmse_real: 14.5356 - val_loss: 0.1795 - val_mse_real: 181.5161 - val_rmse_real: 13.2391\n",
        "Epoch 8/100\n",
        "\n",
        "Epoch 8: val_loss did not improve from 0.17809\n",
        "18750/18750 - 38s - 2ms/step - loss: 0.1845 - mse_real: 218.5111 - rmse_real: 14.5283 - val_loss: 0.1783 - val_mse_real: 184.2992 - val_rmse_real: 13.3371\n",
        "Epoch 9/100\n",
        "\n",
        "Epoch 9: val_loss improved from 0.17809 to 0.17736, saving model to best_model.h5\n"
    ]
    },
    {
    "name": "stderr",
    "output_type": "stream",
    "text": [
        "WARNING:absl:You are saving your model as an HDF5 file via `model.save()` or `keras.saving.save_model(model)`. This file format is considered legacy. We recommend using instead the native Keras format, e.g. `model.save('my_model.keras')` or `keras.saving.save_model(model, 'my_model.keras')`. \n"
    ]
    },
    {
    "name": "stdout",
    "output_type": "stream",
    "text": [
        "18750/18750 - 37s - 2ms/step - loss: 0.1842 - mse_real: 218.2260 - rmse_real: 14.5202 - val_loss: 0.1774 - val_mse_real: 181.7165 - val_rmse_real: 13.2471\n",
        "Epoch 10/100\n",
        "\n",
        "Epoch 10: val_loss did not improve from 0.17736\n",
        "18750/18750 - 36s - 2ms/step - loss: 0.1845 - mse_real: 219.0357 - rmse_real: 14.5375 - val_loss: 0.1823 - val_mse_real: 181.3862 - val_rmse_real: 13.2346\n",
        "Epoch 11/100\n",
        "\n",
        "Epoch 11: val_loss improved from 0.17736 to 0.17489, saving model to best_model.h5\n"
    ]
    },
    {
    "name": "stderr",
    "output_type": "stream",
    "text": [
        "WARNING:absl:You are saving your model as an HDF5 file via `model.save()` or `keras.saving.save_model(model)`. This file format is considered legacy. We recommend using instead the native Keras format, e.g. `model.save('my_model.keras')` or `keras.saving.save_model(model, 'my_model.keras')`. \n"
    ]
    },
    {
    "name": "stdout",
    "output_type": "stream",
    "text": [
        "18750/18750 - 35s - 2ms/step - loss: 0.1838 - mse_real: 218.8199 - rmse_real: 14.5315 - val_loss: 0.1749 - val_mse_real: 185.1528 - val_rmse_real: 13.3683\n",
        "Epoch 12/100\n",
        "\n",
        "Epoch 12: val_loss did not improve from 0.17489\n",
        "18750/18750 - 36s - 2ms/step - loss: 0.1840 - mse_real: 219.0476 - rmse_real: 14.5373 - val_loss: 0.1783 - val_mse_real: 181.7170 - val_rmse_real: 13.2491\n",
        "Epoch 13/100\n",
        "\n",
        "Epoch 13: val_loss did not improve from 0.17489\n",
        "18750/18750 - 36s - 2ms/step - loss: 0.1838 - mse_real: 218.5746 - rmse_real: 14.5311 - val_loss: 0.1801 - val_mse_real: 181.2279 - val_rmse_real: 13.2323\n",
        "Epoch 14/100\n",
        "\n",
        "Epoch 14: val_loss did not improve from 0.17489\n",
        "18750/18750 - 33s - 2ms/step - loss: 0.1835 - mse_real: 218.8914 - rmse_real: 14.5241 - val_loss: 0.1782 - val_mse_real: 183.3787 - val_rmse_real: 13.3040\n",
        "Epoch 15/100\n",
        "\n",
        "Epoch 15: val_loss improved from 0.17489 to 0.17422, saving model to best_model.h5\n"
    ]
    },
    {
    "name": "stderr",
    "output_type": "stream",
    "text": [
        "WARNING:absl:You are saving your model as an HDF5 file via `model.save()` or `keras.saving.save_model(model)`. This file format is considered legacy. We recommend using instead the native Keras format, e.g. `model.save('my_model.keras')` or `keras.saving.save_model(model, 'my_model.keras')`. \n"
    ]
    },
    {
    "name": "stdout",
    "output_type": "stream",
    "text": [
        "18750/18750 - 29s - 2ms/step - loss: 0.1835 - mse_real: 218.3114 - rmse_real: 14.5215 - val_loss: 0.1742 - val_mse_real: 190.2320 - val_rmse_real: 13.5583\n",
        "Epoch 16/100\n",
        "\n",
        "Epoch 16: val_loss improved from 0.17422 to 0.17187, saving model to best_model.h5\n"
    ]
    },
    {
    "name": "stderr",
    "output_type": "stream",
    "text": [
        "WARNING:absl:You are saving your model as an HDF5 file via `model.save()` or `keras.saving.save_model(model)`. This file format is considered legacy. We recommend using instead the native Keras format, e.g. `model.save('my_model.keras')` or `keras.saving.save_model(model, 'my_model.keras')`. \n"
    ]
    },
    {
    "name": "stdout",
    "output_type": "stream",
    "text": [
        "18750/18750 - 27s - 1ms/step - loss: 0.1834 - mse_real: 218.5743 - rmse_real: 14.5261 - val_loss: 0.1719 - val_mse_real: 182.6947 - val_rmse_real: 13.2785\n",
        "Epoch 17/100\n",
        "\n",
        "Epoch 17: val_loss improved from 0.17187 to 0.17163, saving model to best_model.h5\n"
    ]
    },
    {
    "name": "stderr",
    "output_type": "stream",
    "text": [
        "WARNING:absl:You are saving your model as an HDF5 file via `model.save()` or `keras.saving.save_model(model)`. This file format is considered legacy. We recommend using instead the native Keras format, e.g. `model.save('my_model.keras')` or `keras.saving.save_model(model, 'my_model.keras')`. \n"
    ]
    },
    {
    "name": "stdout",
    "output_type": "stream",
    "text": [
        "18750/18750 - 31s - 2ms/step - loss: 0.1834 - mse_real: 219.1556 - rmse_real: 14.5397 - val_loss: 0.1716 - val_mse_real: 180.4725 - val_rmse_real: 13.1997\n",
        "Epoch 18/100\n",
        "\n",
        "Epoch 18: val_loss did not improve from 0.17163\n",
        "18750/18750 - 31s - 2ms/step - loss: 0.1834 - mse_real: 219.0659 - rmse_real: 14.5426 - val_loss: 0.1742 - val_mse_real: 181.5730 - val_rmse_real: 13.2385\n",
        "Epoch 19/100\n",
        "\n",
        "Epoch 19: val_loss did not improve from 0.17163\n",
        "18750/18750 - 37s - 2ms/step - loss: 0.1827 - mse_real: 218.2859 - rmse_real: 14.5182 - val_loss: 0.1728 - val_mse_real: 185.7664 - val_rmse_real: 13.3941\n",
        "Epoch 20/100\n",
        "\n",
        "Epoch 20: val_loss did not improve from 0.17163\n",
        "18750/18750 - 38s - 2ms/step - loss: 0.1830 - mse_real: 218.9046 - rmse_real: 14.5372 - val_loss: 0.1760 - val_mse_real: 180.9984 - val_rmse_real: 13.2175\n",
        "Epoch 21/100\n",
        "\n",
        "Epoch 21: val_loss improved from 0.17163 to 0.17067, saving model to best_model.h5\n"
    ]
    },
    {
    "name": "stderr",
    "output_type": "stream",
    "text": [
        "WARNING:absl:You are saving your model as an HDF5 file via `model.save()` or `keras.saving.save_model(model)`. This file format is considered legacy. We recommend using instead the native Keras format, e.g. `model.save('my_model.keras')` or `keras.saving.save_model(model, 'my_model.keras')`. \n"
    ]
    },
    {
    "name": "stdout",
    "output_type": "stream",
    "text": [
        "18750/18750 - 38s - 2ms/step - loss: 0.1830 - mse_real: 218.9275 - rmse_real: 14.5325 - val_loss: 0.1707 - val_mse_real: 182.5978 - val_rmse_real: 13.2735\n",
        "Epoch 22/100\n",
        "\n",
        "Epoch 22: val_loss improved from 0.17067 to 0.16936, saving model to best_model.h5\n"
    ]
    },
    {
    "name": "stderr",
    "output_type": "stream",
    "text": [
        "WARNING:absl:You are saving your model as an HDF5 file via `model.save()` or `keras.saving.save_model(model)`. This file format is considered legacy. We recommend using instead the native Keras format, e.g. `model.save('my_model.keras')` or `keras.saving.save_model(model, 'my_model.keras')`. \n"
    ]
    },
    {
    "name": "stdout",
    "output_type": "stream",
    "text": [
        "18750/18750 - 38s - 2ms/step - loss: 0.1835 - mse_real: 219.3958 - rmse_real: 14.5501 - val_loss: 0.1694 - val_mse_real: 181.8522 - val_rmse_real: 13.2472\n",
        "Epoch 23/100\n",
        "\n",
        "Epoch 23: val_loss did not improve from 0.16936\n",
        "18750/18750 - 38s - 2ms/step - loss: 0.1832 - mse_real: 218.8951 - rmse_real: 14.5362 - val_loss: 0.1707 - val_mse_real: 188.1691 - val_rmse_real: 13.4791\n",
        "Epoch 24/100\n",
        "\n",
        "Epoch 24: val_loss did not improve from 0.16936\n",
        "18750/18750 - 34s - 2ms/step - loss: 0.1829 - mse_real: 219.0678 - rmse_real: 14.5448 - val_loss: 0.1724 - val_mse_real: 182.8924 - val_rmse_real: 13.2870\n",
        "Epoch 25/100\n",
        "\n",
        "Epoch 25: val_loss did not improve from 0.16936\n",
        "18750/18750 - 36s - 2ms/step - loss: 0.1831 - mse_real: 220.1538 - rmse_real: 14.5744 - val_loss: 0.1739 - val_mse_real: 183.7322 - val_rmse_real: 13.3203\n",
        "Epoch 26/100\n",
        "\n",
        "Epoch 26: val_loss did not improve from 0.16936\n",
        "18750/18750 - 38s - 2ms/step - loss: 0.1829 - mse_real: 219.3247 - rmse_real: 14.5505 - val_loss: 0.1748 - val_mse_real: 185.4078 - val_rmse_real: 13.3806\n",
        "Epoch 27/100\n",
        "\n",
        "Epoch 27: val_loss did not improve from 0.16936\n",
        "18750/18750 - 38s - 2ms/step - loss: 0.1830 - mse_real: 220.0145 - rmse_real: 14.5758 - val_loss: 0.1754 - val_mse_real: 183.2432 - val_rmse_real: 13.3010\n",
        "Epoch 28/100\n",
        "\n",
        "Epoch 28: val_loss did not improve from 0.16936\n",
        "18750/18750 - 36s - 2ms/step - loss: 0.1832 - mse_real: 220.2106 - rmse_real: 14.5708 - val_loss: 0.1705 - val_mse_real: 182.1706 - val_rmse_real: 13.2587\n",
        "Epoch 29/100\n",
        "\n",
        "Epoch 29: val_loss did not improve from 0.16936\n",
        "18750/18750 - 35s - 2ms/step - loss: 0.1834 - mse_real: 219.9015 - rmse_real: 14.5688 - val_loss: 0.1757 - val_mse_real: 183.3534 - val_rmse_real: 13.3020\n",
        "Epoch 30/100\n",
        "\n",
        "Epoch 30: val_loss did not improve from 0.16936\n",
        "18750/18750 - 35s - 2ms/step - loss: 0.1827 - mse_real: 220.8814 - rmse_real: 14.5667 - val_loss: 0.1705 - val_mse_real: 187.9372 - val_rmse_real: 13.4759\n",
        "Epoch 31/100\n",
        "\n",
        "Epoch 31: val_loss did not improve from 0.16936\n",
        "18750/18750 - 33s - 2ms/step - loss: 0.1826 - mse_real: 219.1829 - rmse_real: 14.5477 - val_loss: 0.1723 - val_mse_real: 187.8177 - val_rmse_real: 13.4717\n",
        "Epoch 32/100\n",
        "\n",
        "Epoch 32: val_loss did not improve from 0.16936\n",
        "18750/18750 - 31s - 2ms/step - loss: 0.1824 - mse_real: 219.2677 - rmse_real: 14.5379 - val_loss: 0.1708 - val_mse_real: 189.3333 - val_rmse_real: 13.5182\n",
        "Epoch 32: early stopping\n",
        "Restoring model weights from the end of the best epoch: 22.\n",
        "\u001b[1m 139/7813\u001b[0m \u001b[37m━━━━━━━━━━━━━━━━━━━━\u001b[0m \u001b[1m5s\u001b[0m 730us/step"
    ]
    },
    {
    "name": "stderr",
    "output_type": "stream",
    "text": [
        "2025-07-22 04:25:03.545477: W external/local_xla/xla/tsl/framework/cpu_allocator_impl.cc:83] Allocation of 76000000 exceeds 10% of free system memory.\n"
    ]
    },
    {
    "name": "stdout",
    "output_type": "stream",
    "text": [
        "\u001b[1m7813/7813\u001b[0m \u001b[32m━━━━━━━━━━━━━━━━━━━━\u001b[0m\u001b[37m\u001b[0m \u001b[1m5s\u001b[0m 626us/step\n"
    ]
    }
    ],
   "source": [
    "\n",
    "# Set seeds for reproducibility\n",
    "import random\n",
    "import numpy as np\n",
    "import pandas as pd\n",
    "import tensorflow as tf\n",
    "import json\n",
    "import time\n",
    "\n",
    "random.seed(42)\n",
    "np.random.seed(42)\n",
    "tf.random.set_seed(42)\n",
    "\n",
    "from sklearn.model_selection import train_test_split\n",
    "from sklearn.impute import SimpleImputer\n",
    "from sklearn.compose import ColumnTransformer\n",
    "from sklearn.preprocessing import StandardScaler, OneHotEncoder, LabelEncoder\n",
    "from sklearn.pipeline import Pipeline\n",
    "from tensorflow.keras.callbacks import EarlyStopping, ModelCheckpoint\n",
    "from tensorflow.keras.metrics import RootMeanSquaredError, MeanAbsoluteError\n",
    "from tensorflow.keras.models import Sequential\n",
    "from tensorflow.keras.layers import Dense, Dropout\n",
    "\n",
    "# Data loading\n",
    "train_df = pd.read_csv('playground-series-s5e4/train.csv')\n",
    "test_df = pd.read_csv('playground-series-s5e4/test.csv')\n",
    "\n",
    "id_col = 'id'\n",
    "target_columns = ['Listening_Time_minutes']\n",
    "competition_problem_subtype = 'continuous-regression'\n",
    "\n",
    "# Prepare target\n",
    "Y = train_df[target_columns].astype(float).values\n",
    "if np.all(Y >= 0):\n",
    "    y_enc = np.log1p(Y)\n",
    "else:\n",
    "    y_enc = Y\n",
    "\n",
    "X = train_df.drop(columns=target_columns + [id_col], errors='ignore')\n",
    "\n",
    "# Assign train and validation sets (test split provided)\n",
    "X_train = X.copy()\n",
    "y_train = y_enc\n",
    "train_ids = train_df[id_col]\n",
    "\n",
    "X_val = test_df.drop(columns=target_columns + [id_col], errors='ignore')\n",
    "test_ids = test_df[id_col]\n",
    "y_val = None\n",
    "\n",
    "# Feature engineering: drop all-missing columns\n",
    "all_missing = X_train.columns[X_train.isna().all()].tolist()\n",
    "X_train.drop(columns=all_missing, inplace=True)\n",
    "X_val.drop(columns=all_missing, inplace=True)\n",
    "\n",
    "# Identify categorical columns and drop high-cardinality ones\n",
    "cat_cols = X_train.select_dtypes(include=['object', 'category']).columns.tolist()\n",
    "high_card = [c for c in cat_cols if X_train[c].nunique() > 50]\n",
    "X_train.drop(columns=high_card, inplace=True)\n",
    "X_val.drop(columns=high_card, inplace=True)\n",
    "cat_cols = [c for c in cat_cols if c not in high_card]\n",
    "num_cols = X_train.select_dtypes(include=['int64', 'float64']).columns.tolist()\n",
    "\n",
    "# Preprocessing pipelines\n",
    "num_pipeline = Pipeline([\n",
    "    ('imputer', SimpleImputer(strategy='median')),\n",
    "    ('scaler', StandardScaler())\n",
    "])\n",
    "cat_pipeline = Pipeline([\n",
    "    ('imputer', SimpleImputer(strategy='most_frequent')),\n",
    "    ('onehot', OneHotEncoder(handle_unknown='ignore', sparse_output=False))\n",
    "])\n",
    "preprocessor = ColumnTransformer([\n",
    "    ('num', num_pipeline, num_cols),\n",
    "    ('cat', cat_pipeline, cat_cols)\n",
    "])\n",
    "\n",
    "# Fit and transform data\n",
    "X_train_proc = preprocessor.fit_transform(X_train)\n",
    "X_val_proc = preprocessor.transform(X_val)\n",
    "\n",
    "# Model architecture selection\n",
    "dataset_size, feature_count = X_train_proc.shape\n",
    "if dataset_size < 10000 or feature_count < 100:\n",
    "    layer_sizes = [min(feature_count * 2, 128), min(feature_count, 64)]\n",
    "    dropout_rate = 0.3\n",
    "    use_batchnorm = False\n",
    "else:\n",
    "    raw_sizes = [feature_count * i for i in (2, 1, 0.5, 0.25)]\n",
    "    layer_sizes = [int(s) for s in raw_sizes if s >= 16]\n",
    "    dropout_rate = 0.4\n",
    "    use_batchnorm = True\n",
    "\n",
    "model = Sequential()\n",
    "for idx, size in enumerate(layer_sizes):\n",
    "    if idx == 0:\n",
    "        model.add(Dense(size, activation='relu', input_shape=(feature_count,)))\n",
    "    else:\n",
    "        model.add(Dense(size, activation='relu'))\n",
    "    model.add(Dropout(dropout_rate))\n",
    "    if use_batchnorm:\n",
    "        from tensorflow.keras.layers import BatchNormalization\n",
    "        model.add(BatchNormalization())\n",
    "\n",
    "# Output layer for regression\n",
    "model.add(Dense(1, activation='linear'))\n",
    "\n",
    "def mse_real(y_true_log, y_pred_log):\n",
    "    y_true = tf.math.expm1(y_true_log)\n",
    "    y_pred = tf.math.expm1(y_pred_log)\n",
    "    return tf.reduce_mean(tf.square(y_true - y_pred))\n",
    "mse_real.__name__ = 'mse_real'      \n",
    "\n",
    "def rmse_real(y_true_log, y_pred_log):\n",
    "    y_true = tf.math.expm1(y_true_log)\n",
    "    y_pred = tf.math.expm1(y_pred_log)\n",
    "    return tf.sqrt(tf.reduce_mean(tf.square(y_true - y_pred)))\n",
    "rmse_real.__name__ = 'rmse_real'\n",
    "\n",
    "# Compile\n",
    "model.compile(\n",
    "    optimizer='adam',\n",
    "    loss='mean_squared_error',\n",
    "    metrics=[rmse_real,\n",
    "             mse_real]\n",
    ")\n",
    "\n",
    "# Callbacks\n",
    "early_stop = EarlyStopping(monitor='val_loss', patience=10, restore_best_weights=True, verbose=1)\n",
    "checkpoint = ModelCheckpoint('best_model.h5', monitor='val_loss', save_best_only=True, verbose=1)\n",
    "\n",
    "# Training\n",
    "start_time = time.time()\n",
    "history = model.fit(\n",
    "    X_train_proc, y_train,\n",
    "    validation_split=0.2,\n",
    "    epochs=100,\n",
    "    batch_size=32,\n",
    "    callbacks=[early_stop, checkpoint],\n",
    "    verbose=2\n",
    ")\n",
    "training_duration = time.time() - start_time\n",
    "\n",
    "# Logging results\n",
    "results = {\n",
    "    'training_loss': history.history['mse_real'][-1],\n",
    "    'validation_loss': history.history['val_mse_real'][-1],\n",
    "    'training_RMSE': history.history['rmse_real'][-1],\n",
    "    'validation_RMSE': history.history['val_rmse_real'][-1]\n",
    "}\n",
    "with open('Keras/results.json', 'w') as f:\n",
    "    json.dump(results, f)\n",
    "\n",
    "# Prediction on test set\n",
    "raw_preds = model.predict(X_val_proc)\n",
    "final_preds = raw_preds\n",
    "if np.all(final_preds >= 0):\n",
    "    final_preds = np.expm1(np.clip(final_preds, a_min=None, a_max=20))\n",
    "final_preds = final_preds.reshape(-1, 1)\n",
    "\n",
    "# Prepare submission\n",
    "submission = pd.DataFrame(final_preds, columns=target_columns)\n",
    "submission.insert(0, id_col, test_ids.reset_index(drop=True))\n",
    "submission.to_csv('Keras/submission_result.csv', index=False)\n"
   ]
  },
  {
   "cell_type": "markdown",
   "metadata": {},
   "source": [
    "## Keras Tuner - 1 Attempt"
   ]
  },
  {
   "cell_type": "markdown",
   "metadata": {},
   "source": [
    "## Attempt 1\n"
   ]
  },
  {
   "cell_type": "code",
   "execution_count": null,
   "metadata": {},
   "outputs": [
    {
     "name": "stdout",
     "output_type": "stream",
     "text": [
      "Trial 10 Complete [00h 11m 52s]\n",
      "val_loss: 0.16736340522766113\n",
      "\n",
      "Best val_loss So Far: 0.16674523055553436\n",
      "Total elapsed time: 02h 04m 20s\n",
      "Epoch 1/100\n"
     ]
    },
    {
     "name": "stdout",
     "output_type": "stream",
     "text": [
      "9375/9375 - 116s - 12ms/step - loss: 0.2959 - mse_real: 322.7877 - rmse_real: 17.0280 - val_loss: 0.1785 - val_mse_real: 196.0715 - val_rmse_real: 13.8873\n",
      "Epoch 2/100\n"
     ]
    },
    {
     "name": "stderr",
     "output_type": "stream",
     "text": [
      "WARNING:absl:You are saving your model as an HDF5 file via `model.save()` or `keras.saving.save_model(model)`. This file format is considered legacy. We recommend using instead the native Keras format, e.g. `model.save('my_model.keras')` or `keras.saving.save_model(model, 'my_model.keras')`. \n"
     ]
    },
    {
     "name": "stdout",
     "output_type": "stream",
     "text": [
      "9375/9375 - 133s - 14ms/step - loss: 0.2008 - mse_real: 244.4143 - rmse_real: 15.3926 - val_loss: 0.1706 - val_mse_real: 195.1746 - val_rmse_real: 13.8445\n",
      "Epoch 3/100\n",
      "9375/9375 - 125s - 13ms/step - loss: 0.1924 - mse_real: 237.5933 - rmse_real: 15.1860 - val_loss: 0.1791 - val_mse_real: 209.2784 - val_rmse_real: 14.3411\n",
      "Epoch 4/100\n",
      "9375/9375 - 131s - 14ms/step - loss: 0.1856 - mse_real: 233.3987 - rmse_real: 15.0595 - val_loss: 0.1734 - val_mse_real: 193.2887 - val_rmse_real: 13.7707\n",
      "Epoch 5/100\n",
      "9375/9375 - 126s - 13ms/step - loss: 0.1820 - mse_real: 229.8193 - rmse_real: 14.9472 - val_loss: 0.1728 - val_mse_real: 181.3948 - val_rmse_real: 13.3373\n",
      "Epoch 6/100\n",
      "9375/9375 - 125s - 13ms/step - loss: 0.1797 - mse_real: 226.7112 - rmse_real: 14.8476 - val_loss: 0.1712 - val_mse_real: 184.1029 - val_rmse_real: 13.4352\n",
      "Epoch 7/100\n"
     ]
    },
    {
     "name": "stderr",
     "output_type": "stream",
     "text": [
      "WARNING:absl:You are saving your model as an HDF5 file via `model.save()` or `keras.saving.save_model(model)`. This file format is considered legacy. We recommend using instead the native Keras format, e.g. `model.save('my_model.keras')` or `keras.saving.save_model(model, 'my_model.keras')`. \n"
     ]
    },
    {
     "name": "stdout",
     "output_type": "stream",
     "text": [
      "9375/9375 - 121s - 13ms/step - loss: 0.1774 - mse_real: 223.5650 - rmse_real: 14.7450 - val_loss: 0.1677 - val_mse_real: 181.1964 - val_rmse_real: 13.3317\n",
      "Epoch 8/100\n"
     ]
    },
    {
     "name": "stderr",
     "output_type": "stream",
     "text": [
      "WARNING:absl:You are saving your model as an HDF5 file via `model.save()` or `keras.saving.save_model(model)`. This file format is considered legacy. We recommend using instead the native Keras format, e.g. `model.save('my_model.keras')` or `keras.saving.save_model(model, 'my_model.keras')`. \n"
     ]
    },
    {
     "name": "stdout",
     "output_type": "stream",
     "text": [
      "9375/9375 - 100s - 11ms/step - loss: 0.1755 - mse_real: 220.9261 - rmse_real: 14.6598 - val_loss: 0.1673 - val_mse_real: 181.4811 - val_rmse_real: 13.3426\n",
      "Epoch 9/100\n",
      "9375/9375 - 101s - 11ms/step - loss: 0.1736 - mse_real: 218.7231 - rmse_real: 14.5896 - val_loss: 0.1688 - val_mse_real: 182.1864 - val_rmse_real: 13.3693\n",
      "Epoch 10/100\n",
      "9375/9375 - 103s - 11ms/step - loss: 0.1716 - mse_real: 216.5070 - rmse_real: 14.5167 - val_loss: 0.1710 - val_mse_real: 185.7262 - val_rmse_real: 13.4912\n",
      "Epoch 11/100\n",
      "9375/9375 - 100s - 11ms/step - loss: 0.1698 - mse_real: 214.6200 - rmse_real: 14.4535 - val_loss: 0.1720 - val_mse_real: 184.6041 - val_rmse_real: 13.4509\n",
      "Epoch 12/100\n",
      "9375/9375 - 98s - 10ms/step - loss: 0.1678 - mse_real: 212.7063 - rmse_real: 14.3903 - val_loss: 0.1714 - val_mse_real: 183.8074 - val_rmse_real: 13.4231\n",
      "Epoch 13/100\n",
      "9375/9375 - 98s - 10ms/step - loss: 0.1658 - mse_real: 210.8697 - rmse_real: 14.3278 - val_loss: 0.1739 - val_mse_real: 185.0168 - val_rmse_real: 13.4638\n",
      "Epoch 14/100\n",
      "9375/9375 - 103s - 11ms/step - loss: 0.1639 - mse_real: 209.0787 - rmse_real: 14.2658 - val_loss: 0.1739 - val_mse_real: 185.1560 - val_rmse_real: 13.4653\n",
      "Epoch 15/100\n",
      "9375/9375 - 108s - 12ms/step - loss: 0.1620 - mse_real: 207.5852 - rmse_real: 14.2157 - val_loss: 0.1752 - val_mse_real: 184.2551 - val_rmse_real: 13.4360\n",
      "Epoch 16/100\n",
      "9375/9375 - 92s - 10ms/step - loss: 0.1597 - mse_real: 205.6256 - rmse_real: 14.1493 - val_loss: 0.1735 - val_mse_real: 185.7202 - val_rmse_real: 13.4866\n",
      "Epoch 17/100\n",
      "9375/9375 - 89s - 10ms/step - loss: 0.1575 - mse_real: 204.1882 - rmse_real: 14.1006 - val_loss: 0.1719 - val_mse_real: 187.7170 - val_rmse_real: 13.5619\n",
      "Epoch 18/100\n",
      "9375/9375 - 84s - 9ms/step - loss: 0.1556 - mse_real: 203.0922 - rmse_real: 14.0636 - val_loss: 0.1760 - val_mse_real: 189.3130 - val_rmse_real: 13.6111\n",
      "Epoch 1/100\n",
      "\n",
      "Epoch 1: val_loss improved from inf to 0.16835, saving model to best_model.h5\n"
     ]
    },
    {
     "name": "stderr",
     "output_type": "stream",
     "text": [
      "WARNING:absl:You are saving your model as an HDF5 file via `model.save()` or `keras.saving.save_model(model)`. This file format is considered legacy. We recommend using instead the native Keras format, e.g. `model.save('my_model.keras')` or `keras.saving.save_model(model, 'my_model.keras')`. \n"
     ]
    },
    {
     "name": "stdout",
     "output_type": "stream",
     "text": [
      "18750/18750 - 133s - 7ms/step - loss: 0.1904 - mse_real: 247.6974 - rmse_real: 15.3408 - val_loss: 0.1684 - val_mse_real: 182.9453 - val_rmse_real: 13.2702\n",
      "Epoch 2/100\n",
      "\n",
      "Epoch 2: val_loss improved from 0.16835 to 0.16819, saving model to best_model.h5\n"
     ]
    },
    {
     "name": "stderr",
     "output_type": "stream",
     "text": [
      "WARNING:absl:You are saving your model as an HDF5 file via `model.save()` or `keras.saving.save_model(model)`. This file format is considered legacy. We recommend using instead the native Keras format, e.g. `model.save('my_model.keras')` or `keras.saving.save_model(model, 'my_model.keras')`. \n"
     ]
    },
    {
     "name": "stdout",
     "output_type": "stream",
     "text": [
      "18750/18750 - 133s - 7ms/step - loss: 0.1871 - mse_real: 243.1248 - rmse_real: 15.2032 - val_loss: 0.1682 - val_mse_real: 181.7146 - val_rmse_real: 13.2276\n",
      "Epoch 3/100\n",
      "\n",
      "Epoch 3: val_loss did not improve from 0.16819\n",
      "18750/18750 - 140s - 7ms/step - loss: 0.1844 - mse_real: 239.7473 - rmse_real: 15.0963 - val_loss: 0.1684 - val_mse_real: 183.5396 - val_rmse_real: 13.2857\n",
      "Epoch 4/100\n",
      "\n",
      "Epoch 4: val_loss did not improve from 0.16819\n",
      "18750/18750 - 137s - 7ms/step - loss: 0.1820 - mse_real: 237.2122 - rmse_real: 15.0155 - val_loss: 0.1690 - val_mse_real: 183.3835 - val_rmse_real: 13.2811\n",
      "Epoch 5/100\n",
      "\n",
      "Epoch 5: val_loss did not improve from 0.16819\n",
      "18750/18750 - 138s - 7ms/step - loss: 0.1802 - mse_real: 235.8288 - rmse_real: 14.9694 - val_loss: 0.1701 - val_mse_real: 186.0477 - val_rmse_real: 13.3792\n",
      "Epoch 6/100\n",
      "\n",
      "Epoch 6: val_loss did not improve from 0.16819\n",
      "18750/18750 - 142s - 8ms/step - loss: 0.1786 - mse_real: 234.1857 - rmse_real: 14.9176 - val_loss: 0.1701 - val_mse_real: 186.3042 - val_rmse_real: 13.3892\n",
      "Epoch 7/100\n",
      "\n",
      "Epoch 7: val_loss did not improve from 0.16819\n",
      "18750/18750 - 143s - 8ms/step - loss: 0.1768 - mse_real: 232.7483 - rmse_real: 14.8707 - val_loss: 0.1735 - val_mse_real: 188.3975 - val_rmse_real: 13.4575\n",
      "Epoch 8/100\n",
      "\n",
      "Epoch 8: val_loss did not improve from 0.16819\n",
      "18750/18750 - 137s - 7ms/step - loss: 0.1749 - mse_real: 231.3478 - rmse_real: 14.8266 - val_loss: 0.1733 - val_mse_real: 187.7965 - val_rmse_real: 13.4278\n",
      "Epoch 9/100\n",
      "\n",
      "Epoch 9: val_loss did not improve from 0.16819\n",
      "18750/18750 - 138s - 7ms/step - loss: 0.1732 - mse_real: 230.2882 - rmse_real: 14.7929 - val_loss: 0.1792 - val_mse_real: 186.2556 - val_rmse_real: 13.3755\n",
      "Epoch 10/100\n",
      "\n",
      "Epoch 10: val_loss did not improve from 0.16819\n",
      "18750/18750 - 140s - 7ms/step - loss: 0.1714 - mse_real: 228.8629 - rmse_real: 14.7461 - val_loss: 0.2220 - val_mse_real: 184.2058 - val_rmse_real: 13.3122\n",
      "Epoch 11/100\n",
      "\n",
      "Epoch 11: val_loss did not improve from 0.16819\n",
      "18750/18750 - 141s - 8ms/step - loss: 0.1699 - mse_real: 228.0744 - rmse_real: 14.7212 - val_loss: 0.1769 - val_mse_real: 186.2191 - val_rmse_real: 13.3703\n",
      "Epoch 12/100\n",
      "\n",
      "Epoch 12: val_loss did not improve from 0.16819\n",
      "18750/18750 - 141s - 8ms/step - loss: 0.1677 - mse_real: 226.4802 - rmse_real: 14.6699 - val_loss: 0.1764 - val_mse_real: 186.5852 - val_rmse_real: 13.3910\n",
      "Epoch 12: early stopping\n",
      "Restoring model weights from the end of the best epoch: 2.\n",
      "\u001b[1m7813/7813\u001b[0m \u001b[32m━━━━━━━━━━━━━━━━━━━━\u001b[0m\u001b[37m\u001b[0m \u001b[1m15s\u001b[0m 2ms/step\n"
     ]
    }
   ],
   "source": [
    "import random\n",
    "import numpy as np\n",
    "import pandas as pd\n",
    "import tensorflow as tf\n",
    "import json\n",
    "import time\n",
    "\n",
    "random.seed(42)\n",
    "np.random.seed(42)\n",
    "tf.random.set_seed(42)\n",
    "\n",
    "from sklearn.model_selection import train_test_split\n",
    "from sklearn.impute import SimpleImputer\n",
    "from sklearn.compose import ColumnTransformer\n",
    "from sklearn.preprocessing import StandardScaler, OneHotEncoder, LabelEncoder\n",
    "from sklearn.pipeline import Pipeline\n",
    "from tensorflow.keras.callbacks import EarlyStopping, ModelCheckpoint\n",
    "from tensorflow.keras.metrics import RootMeanSquaredError, MeanAbsoluteError\n",
    "from tensorflow.keras.models import Sequential\n",
    "from tensorflow.keras.layers import Dense, Dropout\n",
    "\n",
    "# Data loading\n",
    "train_df = pd.read_csv('playground-series-s5e4/train.csv')\n",
    "test_df = pd.read_csv('playground-series-s5e4/test.csv')\n",
    "\n",
    "id_col = 'id'\n",
    "target_columns = ['Listening_Time_minutes']\n",
    "competition_problem_subtype = 'continuous-regression'\n",
    "\n",
    "# Prepare target\n",
    "Y = train_df[target_columns].astype(float).values\n",
    "if np.all(Y >= 0):\n",
    "    y_enc = np.log1p(Y)\n",
    "else:\n",
    "    y_enc = Y\n",
    "\n",
    "X = train_df.drop(columns=target_columns + [id_col], errors='ignore')\n",
    "\n",
    "# Assign train and validation sets (test split provided)\n",
    "X_train = X.copy()\n",
    "y_train = y_enc\n",
    "train_ids = train_df[id_col]\n",
    "\n",
    "X_val = test_df.drop(columns=target_columns + [id_col], errors='ignore')\n",
    "test_ids = test_df[id_col]\n",
    "y_val = None\n",
    "\n",
    "# Feature engineering: drop all-missing columns\n",
    "all_missing = X_train.columns[X_train.isna().all()].tolist()\n",
    "X_train.drop(columns=all_missing, inplace=True)\n",
    "X_val.drop(columns=all_missing, inplace=True)\n",
    "\n",
    "# Identify categorical columns and drop high-cardinality ones\n",
    "cat_cols = X_train.select_dtypes(include=['object', 'category']).columns.tolist()\n",
    "high_card = [c for c in cat_cols if X_train[c].nunique() > 50]\n",
    "X_train.drop(columns=high_card, inplace=True)\n",
    "X_val.drop(columns=high_card, inplace=True)\n",
    "cat_cols = [c for c in cat_cols if c not in high_card]\n",
    "num_cols = X_train.select_dtypes(include=['int64', 'float64']).columns.tolist()\n",
    "\n",
    "# Preprocessing pipelines\n",
    "num_pipeline = Pipeline([\n",
    "    ('imputer', SimpleImputer(strategy='median')),\n",
    "    ('scaler', StandardScaler())\n",
    "])\n",
    "cat_pipeline = Pipeline([\n",
    "    ('imputer', SimpleImputer(strategy='most_frequent')),\n",
    "    ('onehot', OneHotEncoder(handle_unknown='ignore', sparse_output=False))\n",
    "])\n",
    "preprocessor = ColumnTransformer([\n",
    "    ('num', num_pipeline, num_cols),\n",
    "    ('cat', cat_pipeline, cat_cols)\n",
    "])\n",
    "\n",
    "# Fit and transform data\n",
    "X_train_proc = preprocessor.fit_transform(X_train)\n",
    "X_val_proc = preprocessor.transform(X_val)\n",
    "\n",
    "# Model architecture selection\n",
    "dataset_size, feature_count = X_train_proc.shape\n",
    "if dataset_size < 10000 or feature_count < 100:\n",
    "    layer_sizes = [min(feature_count * 2, 128), min(feature_count, 64)]\n",
    "    dropout_rate = 0.3\n",
    "    use_batchnorm = False\n",
    "else:\n",
    "    raw_sizes = [feature_count * i for i in (2, 1, 0.5, 0.25)]\n",
    "    layer_sizes = [int(s) for s in raw_sizes if s >= 16]\n",
    "    dropout_rate = 0.4\n",
    "    use_batchnorm = True\n",
    "\n",
    "import keras_tuner as kt\n",
    "from tensorflow.keras.layers import Input, Dense, Dropout, BatchNormalization\n",
    "from tensorflow.keras.models import Sequential\n",
    "from tensorflow.keras.callbacks import EarlyStopping, ModelCheckpoint\n",
    "from tensorflow.keras.metrics import RootMeanSquaredError, MeanAbsoluteError\n",
    "\n",
    "# Define early stopping and model checkpoint\n",
    "early_stopping = EarlyStopping(monitor='val_loss', patience=10, restore_best_weights=True)\n",
    "checkpoint = ModelCheckpoint('best_model.h5', monitor='val_loss', save_best_only=True)\n",
    "\n",
    "# Input dimension\n",
    "n_features = feature_count\n",
    "\n",
    "def mse_real(y_true_log, y_pred_log):\n",
    "    y_true = tf.math.expm1(y_true_log)\n",
    "    y_pred = tf.math.expm1(y_pred_log)\n",
    "    return tf.reduce_mean(tf.square(y_true - y_pred))\n",
    "mse_real.__name__ = 'mse_real'      \n",
    "\n",
    "def rmse_real(y_true_log, y_pred_log):\n",
    "    y_true = tf.math.expm1(y_true_log)\n",
    "    y_pred = tf.math.expm1(y_pred_log)\n",
    "    return tf.sqrt(tf.reduce_mean(tf.square(y_true - y_pred)))\n",
    "rmse_real.__name__ = 'rmse_real'\n",
    "\n",
    "\n",
    "\n",
    "# HyperModel\n",
    "class MyHyperModel(kt.HyperModel):\n",
    "    def build(self, hp):\n",
    "        layers = hp.Int('layers', 2, 8)\n",
    "        units = hp.Int('units', 64, 1024, step=64)\n",
    "        drop = hp.Float('dropout', 0.0, 0.5, step=0.1)\n",
    "        opt = hp.Choice('optimizer', ['adam'])\n",
    "        lr = hp.Float('learning_rate', 1e-5, 0.01, sampling='log')\n",
    "\n",
    "        model = Sequential()\n",
    "        for idx in range(layers):\n",
    "            if idx == 0:\n",
    "                model.add(Dense(units, activation='relu', input_shape=(n_features,)))\n",
    "            else:\n",
    "                model.add(Dense(units, activation='relu'))\n",
    "            model.add(Dropout(drop))\n",
    "            model.add(BatchNormalization())\n",
    "        model.add(Dense(1, activation='linear'))  # Output layer for regression\n",
    "        model.compile(optimizer=opt, loss='mean_squared_error', metrics=[rmse_real, mse_real])\n",
    "        return model\n",
    "\n",
    "# Tuner\n",
    "bs = 64  # batch size\n",
    "ep = 100  # epochs\n",
    "\n",
    "tuner = kt.BayesianOptimization(\n",
    "    MyHyperModel(),\n",
    "    objective='val_loss',\n",
    "    max_trials=10,\n",
    "    executions_per_trial=1,\n",
    "    seed=42,\n",
    "    overwrite=False,\n",
    "    project_name='bayesian_tuner'\n",
    ")\n",
    "\n",
    "tuner.search(\n",
    "    X_train_proc, y_train,\n",
    "    validation_split=0.2,\n",
    "    batch_size=bs, epochs=ep,\n",
    "    callbacks=[early_stopping, checkpoint]\n",
    ")\n",
    "\n",
    "model = tuner.hypermodel.build(tuner.get_best_hyperparameters(1)[0])\n",
    "\n",
    "# Retrain model with original callbacks and data\n",
    "history = model.fit(\n",
    "    X_train_proc, y_train,\n",
    "    validation_split=0.2,\n",
    "    epochs=100, batch_size=bs,\n",
    "    callbacks=[early_stopping, checkpoint],\n",
    "    verbose=2\n",
    ")\n",
    "\n",
    "# Callbacks\n",
    "early_stop = EarlyStopping(monitor='val_loss', patience=10, restore_best_weights=True, verbose=1)\n",
    "checkpoint = ModelCheckpoint('best_model.h5', monitor='val_loss', save_best_only=True, verbose=1)\n",
    "\n",
    "# Training\n",
    "start_time = time.time()\n",
    "history = model.fit(\n",
    "    X_train_proc, y_train,\n",
    "    validation_split=0.2,\n",
    "    epochs=100,\n",
    "    batch_size=32,\n",
    "    callbacks=[early_stop, checkpoint],\n",
    "    verbose=2\n",
    ")\n",
    "training_duration = time.time() - start_time\n",
    "\n",
    "# Logging results\n",
    "results = {\n",
    "    'training_loss': history.history['mse_real'][-1],\n",
    "    'validation_loss': history.history['val_mse_real'][-1],\n",
    "    'training_RMSE': history.history['rmse_real'][-1],\n",
    "    'validation_RMSE': history.history['val_rmse_real'][-1]\n",
    "}\n",
    "with open('results.json', 'w') as f:\n",
    "    json.dump(results, f)\n",
    "\n",
    "# Prediction on test set\n",
    "raw_preds = model.predict(X_val_proc)\n",
    "final_preds = raw_preds\n",
    "if np.all(final_preds >= 0):\n",
    "    final_preds = np.expm1(np.clip(final_preds, a_min=None, a_max=20))\n",
    "final_preds = final_preds.reshape(-1, 1)\n",
    "\n",
    "# Prepare submission\n",
    "submission = pd.DataFrame(final_preds, columns=target_columns)\n",
    "submission.insert(0, id_col, test_ids.reset_index(drop=True))\n",
    "submission.to_csv('submission_result.csv', index=False)"
   ]
  },
  {
   "cell_type": "code",
   "execution_count": null,
   "metadata": {},
   "outputs": [
    {
     "name": "stdout",
     "output_type": "stream",
     "text": [
      "1468.453455\n"
     ]
    }
   ],
   "source": [
    "print(training_duration)"
   ]
  }
 ],
 "metadata": {
  "kernelspec": {
   "display_name": "Python 3",
   "language": "python",
   "name": "python3"
  },
  "language_info": {
   "codemirror_mode": {
    "name": "ipython",
    "version": 3
   },
   "file_extension": ".py",
   "mimetype": "text/x-python",
   "name": "python",
   "nbconvert_exporter": "python",
   "pygments_lexer": "ipython3",
   "version": "3.12.3"
  }
 },
 "nbformat": 4,
 "nbformat_minor": 2
}
