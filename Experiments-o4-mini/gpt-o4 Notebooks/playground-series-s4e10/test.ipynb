{
 "cells": [
  {
   "cell_type": "markdown",
   "metadata": {},
   "source": [
    "# Loan Approval Prediction"
   ]
  },
  {
   "cell_type": "markdown",
   "metadata": {},
   "source": [
    "## Keras - 2 Attempts"
   ]
  },
  {
   "cell_type": "markdown",
   "metadata": {},
   "source": [
    "## Attempt 1"
   ]
  },
  {
   "cell_type": "code",
   "execution_count": 2,
   "metadata": {},
   "outputs": [
    {
     "name": "stderr",
     "output_type": "stream",
     "text": [
      "I0000 00:00:1752150252.513595 1676548 gpu_device.cc:2019] Created device /job:localhost/replica:0/task:0/device:GPU:0 with 38353 MB memory:  -> device: 0, name: NVIDIA A100-SXM4-40GB, pci bus id: 0000:04:00.0, compute capability: 8.0\n"
     ]
    },
    {
     "name": "stdout",
     "output_type": "stream",
     "text": [
      "Epoch 1/100\n"
     ]
    },
    {
     "name": "stderr",
     "output_type": "stream",
     "text": [
      "WARNING: All log messages before absl::InitializeLog() is called are written to STDERR\n",
      "I0000 00:00:1752150254.949959 1676716 service.cc:152] XLA service 0x7b914c00ab40 initialized for platform CUDA (this does not guarantee that XLA will be used). Devices:\n",
      "I0000 00:00:1752150254.949984 1676716 service.cc:160]   StreamExecutor device (0): NVIDIA A100-SXM4-40GB, Compute Capability 8.0\n",
      "2025-07-10 12:24:15.002702: I tensorflow/compiler/mlir/tensorflow/utils/dump_mlir_util.cc:269] disabling MLIR crash reproducer, set env var `MLIR_CRASH_REPRODUCER_DIRECTORY` to enable.\n",
      "I0000 00:00:1752150255.188838 1676716 cuda_dnn.cc:529] Loaded cuDNN version 90501\n",
      "I0000 00:00:1752150256.512027 1676716 device_compiler.h:188] Compiled cluster using XLA!  This line is logged at most once for the lifetime of the process.\n",
      "WARNING:absl:You are saving your model as an HDF5 file via `model.save()` or `keras.saving.save_model(model)`. This file format is considered legacy. We recommend using instead the native Keras format, e.g. `model.save('my_model.keras')` or `keras.saving.save_model(model, 'my_model.keras')`. \n"
     ]
    },
    {
     "name": "stdout",
     "output_type": "stream",
     "text": [
      "367/367 - 9s - 23ms/step - accuracy: 0.8905 - auc: 0.8591 - loss: 0.2903 - val_accuracy: 0.9246 - val_auc: 0.9185 - val_loss: 0.2104\n",
      "Epoch 2/100\n"
     ]
    },
    {
     "name": "stderr",
     "output_type": "stream",
     "text": [
      "WARNING:absl:You are saving your model as an HDF5 file via `model.save()` or `keras.saving.save_model(model)`. This file format is considered legacy. We recommend using instead the native Keras format, e.g. `model.save('my_model.keras')` or `keras.saving.save_model(model, 'my_model.keras')`. \n"
     ]
    },
    {
     "name": "stdout",
     "output_type": "stream",
     "text": [
      "367/367 - 2s - 4ms/step - accuracy: 0.9221 - auc: 0.9082 - loss: 0.2238 - val_accuracy: 0.9345 - val_auc: 0.9265 - val_loss: 0.1943\n",
      "Epoch 3/100\n"
     ]
    },
    {
     "name": "stderr",
     "output_type": "stream",
     "text": [
      "WARNING:absl:You are saving your model as an HDF5 file via `model.save()` or `keras.saving.save_model(model)`. This file format is considered legacy. We recommend using instead the native Keras format, e.g. `model.save('my_model.keras')` or `keras.saving.save_model(model, 'my_model.keras')`. \n"
     ]
    },
    {
     "name": "stdout",
     "output_type": "stream",
     "text": [
      "367/367 - 1s - 4ms/step - accuracy: 0.9301 - auc: 0.9137 - loss: 0.2118 - val_accuracy: 0.9389 - val_auc: 0.9295 - val_loss: 0.1866\n",
      "Epoch 4/100\n"
     ]
    },
    {
     "name": "stderr",
     "output_type": "stream",
     "text": [
      "WARNING:absl:You are saving your model as an HDF5 file via `model.save()` or `keras.saving.save_model(model)`. This file format is considered legacy. We recommend using instead the native Keras format, e.g. `model.save('my_model.keras')` or `keras.saving.save_model(model, 'my_model.keras')`. \n"
     ]
    },
    {
     "name": "stdout",
     "output_type": "stream",
     "text": [
      "367/367 - 2s - 4ms/step - accuracy: 0.9351 - auc: 0.9175 - loss: 0.2045 - val_accuracy: 0.9421 - val_auc: 0.9307 - val_loss: 0.1822\n",
      "Epoch 5/100\n"
     ]
    },
    {
     "name": "stderr",
     "output_type": "stream",
     "text": [
      "WARNING:absl:You are saving your model as an HDF5 file via `model.save()` or `keras.saving.save_model(model)`. This file format is considered legacy. We recommend using instead the native Keras format, e.g. `model.save('my_model.keras')` or `keras.saving.save_model(model, 'my_model.keras')`. \n"
     ]
    },
    {
     "name": "stdout",
     "output_type": "stream",
     "text": [
      "367/367 - 1s - 4ms/step - accuracy: 0.9346 - auc: 0.9178 - loss: 0.2024 - val_accuracy: 0.9430 - val_auc: 0.9311 - val_loss: 0.1807\n",
      "Epoch 6/100\n"
     ]
    },
    {
     "name": "stderr",
     "output_type": "stream",
     "text": [
      "WARNING:absl:You are saving your model as an HDF5 file via `model.save()` or `keras.saving.save_model(model)`. This file format is considered legacy. We recommend using instead the native Keras format, e.g. `model.save('my_model.keras')` or `keras.saving.save_model(model, 'my_model.keras')`. \n"
     ]
    },
    {
     "name": "stdout",
     "output_type": "stream",
     "text": [
      "367/367 - 1s - 4ms/step - accuracy: 0.9375 - auc: 0.9214 - loss: 0.1977 - val_accuracy: 0.9430 - val_auc: 0.9317 - val_loss: 0.1788\n",
      "Epoch 7/100\n"
     ]
    },
    {
     "name": "stderr",
     "output_type": "stream",
     "text": [
      "WARNING:absl:You are saving your model as an HDF5 file via `model.save()` or `keras.saving.save_model(model)`. This file format is considered legacy. We recommend using instead the native Keras format, e.g. `model.save('my_model.keras')` or `keras.saving.save_model(model, 'my_model.keras')`. \n"
     ]
    },
    {
     "name": "stdout",
     "output_type": "stream",
     "text": [
      "367/367 - 1s - 4ms/step - accuracy: 0.9393 - auc: 0.9223 - loss: 0.1951 - val_accuracy: 0.9441 - val_auc: 0.9319 - val_loss: 0.1778\n",
      "Epoch 8/100\n"
     ]
    },
    {
     "name": "stderr",
     "output_type": "stream",
     "text": [
      "WARNING:absl:You are saving your model as an HDF5 file via `model.save()` or `keras.saving.save_model(model)`. This file format is considered legacy. We recommend using instead the native Keras format, e.g. `model.save('my_model.keras')` or `keras.saving.save_model(model, 'my_model.keras')`. \n"
     ]
    },
    {
     "name": "stdout",
     "output_type": "stream",
     "text": [
      "367/367 - 1s - 4ms/step - accuracy: 0.9401 - auc: 0.9236 - loss: 0.1929 - val_accuracy: 0.9448 - val_auc: 0.9323 - val_loss: 0.1767\n",
      "Epoch 9/100\n"
     ]
    },
    {
     "name": "stderr",
     "output_type": "stream",
     "text": [
      "WARNING:absl:You are saving your model as an HDF5 file via `model.save()` or `keras.saving.save_model(model)`. This file format is considered legacy. We recommend using instead the native Keras format, e.g. `model.save('my_model.keras')` or `keras.saving.save_model(model, 'my_model.keras')`. \n"
     ]
    },
    {
     "name": "stdout",
     "output_type": "stream",
     "text": [
      "367/367 - 1s - 4ms/step - accuracy: 0.9407 - auc: 0.9231 - loss: 0.1920 - val_accuracy: 0.9451 - val_auc: 0.9327 - val_loss: 0.1758\n",
      "Epoch 10/100\n"
     ]
    },
    {
     "name": "stderr",
     "output_type": "stream",
     "text": [
      "WARNING:absl:You are saving your model as an HDF5 file via `model.save()` or `keras.saving.save_model(model)`. This file format is considered legacy. We recommend using instead the native Keras format, e.g. `model.save('my_model.keras')` or `keras.saving.save_model(model, 'my_model.keras')`. \n"
     ]
    },
    {
     "name": "stdout",
     "output_type": "stream",
     "text": [
      "367/367 - 1s - 4ms/step - accuracy: 0.9416 - auc: 0.9238 - loss: 0.1899 - val_accuracy: 0.9459 - val_auc: 0.9331 - val_loss: 0.1745\n",
      "Epoch 11/100\n",
      "367/367 - 1s - 4ms/step - accuracy: 0.9418 - auc: 0.9235 - loss: 0.1908 - val_accuracy: 0.9465 - val_auc: 0.9328 - val_loss: 0.1748\n",
      "Epoch 12/100\n"
     ]
    },
    {
     "name": "stderr",
     "output_type": "stream",
     "text": [
      "WARNING:absl:You are saving your model as an HDF5 file via `model.save()` or `keras.saving.save_model(model)`. This file format is considered legacy. We recommend using instead the native Keras format, e.g. `model.save('my_model.keras')` or `keras.saving.save_model(model, 'my_model.keras')`. \n"
     ]
    },
    {
     "name": "stdout",
     "output_type": "stream",
     "text": [
      "367/367 - 1s - 4ms/step - accuracy: 0.9429 - auc: 0.9238 - loss: 0.1893 - val_accuracy: 0.9464 - val_auc: 0.9330 - val_loss: 0.1744\n",
      "Epoch 13/100\n"
     ]
    },
    {
     "name": "stderr",
     "output_type": "stream",
     "text": [
      "WARNING:absl:You are saving your model as an HDF5 file via `model.save()` or `keras.saving.save_model(model)`. This file format is considered legacy. We recommend using instead the native Keras format, e.g. `model.save('my_model.keras')` or `keras.saving.save_model(model, 'my_model.keras')`. \n"
     ]
    },
    {
     "name": "stdout",
     "output_type": "stream",
     "text": [
      "367/367 - 1s - 4ms/step - accuracy: 0.9435 - auc: 0.9255 - loss: 0.1870 - val_accuracy: 0.9462 - val_auc: 0.9332 - val_loss: 0.1737\n",
      "Epoch 14/100\n"
     ]
    },
    {
     "name": "stderr",
     "output_type": "stream",
     "text": [
      "WARNING:absl:You are saving your model as an HDF5 file via `model.save()` or `keras.saving.save_model(model)`. This file format is considered legacy. We recommend using instead the native Keras format, e.g. `model.save('my_model.keras')` or `keras.saving.save_model(model, 'my_model.keras')`. \n"
     ]
    },
    {
     "name": "stdout",
     "output_type": "stream",
     "text": [
      "367/367 - 1s - 4ms/step - accuracy: 0.9437 - auc: 0.9261 - loss: 0.1865 - val_accuracy: 0.9477 - val_auc: 0.9331 - val_loss: 0.1730\n",
      "Epoch 15/100\n",
      "367/367 - 1s - 3ms/step - accuracy: 0.9437 - auc: 0.9258 - loss: 0.1862 - val_accuracy: 0.9475 - val_auc: 0.9328 - val_loss: 0.1734\n",
      "Epoch 16/100\n"
     ]
    },
    {
     "name": "stderr",
     "output_type": "stream",
     "text": [
      "WARNING:absl:You are saving your model as an HDF5 file via `model.save()` or `keras.saving.save_model(model)`. This file format is considered legacy. We recommend using instead the native Keras format, e.g. `model.save('my_model.keras')` or `keras.saving.save_model(model, 'my_model.keras')`. \n"
     ]
    },
    {
     "name": "stdout",
     "output_type": "stream",
     "text": [
      "367/367 - 1s - 4ms/step - accuracy: 0.9442 - auc: 0.9261 - loss: 0.1851 - val_accuracy: 0.9477 - val_auc: 0.9334 - val_loss: 0.1726\n",
      "Epoch 17/100\n",
      "367/367 - 1s - 4ms/step - accuracy: 0.9447 - auc: 0.9259 - loss: 0.1846 - val_accuracy: 0.9471 - val_auc: 0.9331 - val_loss: 0.1727\n",
      "Epoch 18/100\n",
      "367/367 - 1s - 4ms/step - accuracy: 0.9440 - auc: 0.9266 - loss: 0.1844 - val_accuracy: 0.9479 - val_auc: 0.9332 - val_loss: 0.1729\n",
      "Epoch 19/100\n"
     ]
    },
    {
     "name": "stderr",
     "output_type": "stream",
     "text": [
      "WARNING:absl:You are saving your model as an HDF5 file via `model.save()` or `keras.saving.save_model(model)`. This file format is considered legacy. We recommend using instead the native Keras format, e.g. `model.save('my_model.keras')` or `keras.saving.save_model(model, 'my_model.keras')`. \n"
     ]
    },
    {
     "name": "stdout",
     "output_type": "stream",
     "text": [
      "367/367 - 1s - 4ms/step - accuracy: 0.9446 - auc: 0.9273 - loss: 0.1834 - val_accuracy: 0.9480 - val_auc: 0.9333 - val_loss: 0.1718\n",
      "Epoch 20/100\n"
     ]
    },
    {
     "name": "stderr",
     "output_type": "stream",
     "text": [
      "WARNING:absl:You are saving your model as an HDF5 file via `model.save()` or `keras.saving.save_model(model)`. This file format is considered legacy. We recommend using instead the native Keras format, e.g. `model.save('my_model.keras')` or `keras.saving.save_model(model, 'my_model.keras')`. \n"
     ]
    },
    {
     "name": "stdout",
     "output_type": "stream",
     "text": [
      "367/367 - 1s - 4ms/step - accuracy: 0.9454 - auc: 0.9274 - loss: 0.1836 - val_accuracy: 0.9488 - val_auc: 0.9334 - val_loss: 0.1715\n",
      "Epoch 21/100\n"
     ]
    },
    {
     "name": "stderr",
     "output_type": "stream",
     "text": [
      "WARNING:absl:You are saving your model as an HDF5 file via `model.save()` or `keras.saving.save_model(model)`. This file format is considered legacy. We recommend using instead the native Keras format, e.g. `model.save('my_model.keras')` or `keras.saving.save_model(model, 'my_model.keras')`. \n"
     ]
    },
    {
     "name": "stdout",
     "output_type": "stream",
     "text": [
      "367/367 - 1s - 4ms/step - accuracy: 0.9458 - auc: 0.9278 - loss: 0.1817 - val_accuracy: 0.9488 - val_auc: 0.9337 - val_loss: 0.1715\n",
      "Epoch 22/100\n"
     ]
    },
    {
     "name": "stderr",
     "output_type": "stream",
     "text": [
      "WARNING:absl:You are saving your model as an HDF5 file via `model.save()` or `keras.saving.save_model(model)`. This file format is considered legacy. We recommend using instead the native Keras format, e.g. `model.save('my_model.keras')` or `keras.saving.save_model(model, 'my_model.keras')`. \n"
     ]
    },
    {
     "name": "stdout",
     "output_type": "stream",
     "text": [
      "367/367 - 1s - 4ms/step - accuracy: 0.9457 - auc: 0.9268 - loss: 0.1829 - val_accuracy: 0.9488 - val_auc: 0.9336 - val_loss: 0.1714\n",
      "Epoch 23/100\n"
     ]
    },
    {
     "name": "stderr",
     "output_type": "stream",
     "text": [
      "WARNING:absl:You are saving your model as an HDF5 file via `model.save()` or `keras.saving.save_model(model)`. This file format is considered legacy. We recommend using instead the native Keras format, e.g. `model.save('my_model.keras')` or `keras.saving.save_model(model, 'my_model.keras')`. \n"
     ]
    },
    {
     "name": "stdout",
     "output_type": "stream",
     "text": [
      "367/367 - 1s - 4ms/step - accuracy: 0.9456 - auc: 0.9263 - loss: 0.1826 - val_accuracy: 0.9492 - val_auc: 0.9336 - val_loss: 0.1710\n",
      "Epoch 24/100\n"
     ]
    },
    {
     "name": "stderr",
     "output_type": "stream",
     "text": [
      "WARNING:absl:You are saving your model as an HDF5 file via `model.save()` or `keras.saving.save_model(model)`. This file format is considered legacy. We recommend using instead the native Keras format, e.g. `model.save('my_model.keras')` or `keras.saving.save_model(model, 'my_model.keras')`. \n"
     ]
    },
    {
     "name": "stdout",
     "output_type": "stream",
     "text": [
      "367/367 - 1s - 4ms/step - accuracy: 0.9463 - auc: 0.9276 - loss: 0.1810 - val_accuracy: 0.9494 - val_auc: 0.9339 - val_loss: 0.1707\n",
      "Epoch 25/100\n"
     ]
    },
    {
     "name": "stderr",
     "output_type": "stream",
     "text": [
      "WARNING:absl:You are saving your model as an HDF5 file via `model.save()` or `keras.saving.save_model(model)`. This file format is considered legacy. We recommend using instead the native Keras format, e.g. `model.save('my_model.keras')` or `keras.saving.save_model(model, 'my_model.keras')`. \n"
     ]
    },
    {
     "name": "stdout",
     "output_type": "stream",
     "text": [
      "367/367 - 1s - 4ms/step - accuracy: 0.9466 - auc: 0.9275 - loss: 0.1817 - val_accuracy: 0.9493 - val_auc: 0.9337 - val_loss: 0.1702\n",
      "Epoch 26/100\n"
     ]
    },
    {
     "name": "stderr",
     "output_type": "stream",
     "text": [
      "WARNING:absl:You are saving your model as an HDF5 file via `model.save()` or `keras.saving.save_model(model)`. This file format is considered legacy. We recommend using instead the native Keras format, e.g. `model.save('my_model.keras')` or `keras.saving.save_model(model, 'my_model.keras')`. \n"
     ]
    },
    {
     "name": "stdout",
     "output_type": "stream",
     "text": [
      "367/367 - 1s - 4ms/step - accuracy: 0.9461 - auc: 0.9284 - loss: 0.1806 - val_accuracy: 0.9497 - val_auc: 0.9342 - val_loss: 0.1700\n",
      "Epoch 27/100\n",
      "367/367 - 1s - 4ms/step - accuracy: 0.9460 - auc: 0.9271 - loss: 0.1811 - val_accuracy: 0.9500 - val_auc: 0.9343 - val_loss: 0.1701\n",
      "Epoch 28/100\n",
      "367/367 - 1s - 3ms/step - accuracy: 0.9460 - auc: 0.9286 - loss: 0.1804 - val_accuracy: 0.9488 - val_auc: 0.9342 - val_loss: 0.1702\n",
      "Epoch 29/100\n"
     ]
    },
    {
     "name": "stderr",
     "output_type": "stream",
     "text": [
      "WARNING:absl:You are saving your model as an HDF5 file via `model.save()` or `keras.saving.save_model(model)`. This file format is considered legacy. We recommend using instead the native Keras format, e.g. `model.save('my_model.keras')` or `keras.saving.save_model(model, 'my_model.keras')`. \n"
     ]
    },
    {
     "name": "stdout",
     "output_type": "stream",
     "text": [
      "367/367 - 1s - 3ms/step - accuracy: 0.9462 - auc: 0.9274 - loss: 0.1810 - val_accuracy: 0.9504 - val_auc: 0.9343 - val_loss: 0.1697\n",
      "Epoch 30/100\n",
      "367/367 - 1s - 4ms/step - accuracy: 0.9466 - auc: 0.9292 - loss: 0.1803 - val_accuracy: 0.9489 - val_auc: 0.9346 - val_loss: 0.1698\n",
      "Epoch 31/100\n",
      "367/367 - 1s - 3ms/step - accuracy: 0.9466 - auc: 0.9295 - loss: 0.1785 - val_accuracy: 0.9499 - val_auc: 0.9346 - val_loss: 0.1697\n",
      "Epoch 32/100\n"
     ]
    },
    {
     "name": "stderr",
     "output_type": "stream",
     "text": [
      "WARNING:absl:You are saving your model as an HDF5 file via `model.save()` or `keras.saving.save_model(model)`. This file format is considered legacy. We recommend using instead the native Keras format, e.g. `model.save('my_model.keras')` or `keras.saving.save_model(model, 'my_model.keras')`. \n"
     ]
    },
    {
     "name": "stdout",
     "output_type": "stream",
     "text": [
      "367/367 - 1s - 4ms/step - accuracy: 0.9478 - auc: 0.9287 - loss: 0.1789 - val_accuracy: 0.9504 - val_auc: 0.9343 - val_loss: 0.1693\n",
      "Epoch 33/100\n",
      "367/367 - 1s - 3ms/step - accuracy: 0.9465 - auc: 0.9293 - loss: 0.1789 - val_accuracy: 0.9499 - val_auc: 0.9344 - val_loss: 0.1695\n",
      "Epoch 34/100\n"
     ]
    },
    {
     "name": "stderr",
     "output_type": "stream",
     "text": [
      "WARNING:absl:You are saving your model as an HDF5 file via `model.save()` or `keras.saving.save_model(model)`. This file format is considered legacy. We recommend using instead the native Keras format, e.g. `model.save('my_model.keras')` or `keras.saving.save_model(model, 'my_model.keras')`. \n"
     ]
    },
    {
     "name": "stdout",
     "output_type": "stream",
     "text": [
      "367/367 - 1s - 4ms/step - accuracy: 0.9478 - auc: 0.9287 - loss: 0.1779 - val_accuracy: 0.9503 - val_auc: 0.9346 - val_loss: 0.1692\n",
      "Epoch 35/100\n",
      "367/367 - 1s - 4ms/step - accuracy: 0.9473 - auc: 0.9283 - loss: 0.1778 - val_accuracy: 0.9491 - val_auc: 0.9341 - val_loss: 0.1695\n",
      "Epoch 36/100\n",
      "367/367 - 1s - 4ms/step - accuracy: 0.9476 - auc: 0.9285 - loss: 0.1786 - val_accuracy: 0.9497 - val_auc: 0.9347 - val_loss: 0.1694\n",
      "Epoch 37/100\n"
     ]
    },
    {
     "name": "stderr",
     "output_type": "stream",
     "text": [
      "WARNING:absl:You are saving your model as an HDF5 file via `model.save()` or `keras.saving.save_model(model)`. This file format is considered legacy. We recommend using instead the native Keras format, e.g. `model.save('my_model.keras')` or `keras.saving.save_model(model, 'my_model.keras')`. \n"
     ]
    },
    {
     "name": "stdout",
     "output_type": "stream",
     "text": [
      "367/367 - 1s - 4ms/step - accuracy: 0.9472 - auc: 0.9285 - loss: 0.1790 - val_accuracy: 0.9503 - val_auc: 0.9347 - val_loss: 0.1686\n",
      "Epoch 38/100\n",
      "367/367 - 1s - 4ms/step - accuracy: 0.9473 - auc: 0.9285 - loss: 0.1786 - val_accuracy: 0.9504 - val_auc: 0.9341 - val_loss: 0.1693\n",
      "Epoch 39/100\n",
      "367/367 - 2s - 4ms/step - accuracy: 0.9469 - auc: 0.9292 - loss: 0.1781 - val_accuracy: 0.9502 - val_auc: 0.9347 - val_loss: 0.1688\n",
      "Epoch 40/100\n"
     ]
    },
    {
     "name": "stderr",
     "output_type": "stream",
     "text": [
      "WARNING:absl:You are saving your model as an HDF5 file via `model.save()` or `keras.saving.save_model(model)`. This file format is considered legacy. We recommend using instead the native Keras format, e.g. `model.save('my_model.keras')` or `keras.saving.save_model(model, 'my_model.keras')`. \n"
     ]
    },
    {
     "name": "stdout",
     "output_type": "stream",
     "text": [
      "367/367 - 1s - 4ms/step - accuracy: 0.9478 - auc: 0.9293 - loss: 0.1766 - val_accuracy: 0.9508 - val_auc: 0.9348 - val_loss: 0.1681\n",
      "Epoch 41/100\n",
      "367/367 - 1s - 4ms/step - accuracy: 0.9473 - auc: 0.9297 - loss: 0.1768 - val_accuracy: 0.9493 - val_auc: 0.9340 - val_loss: 0.1698\n",
      "Epoch 42/100\n"
     ]
    },
    {
     "name": "stderr",
     "output_type": "stream",
     "text": [
      "WARNING:absl:You are saving your model as an HDF5 file via `model.save()` or `keras.saving.save_model(model)`. This file format is considered legacy. We recommend using instead the native Keras format, e.g. `model.save('my_model.keras')` or `keras.saving.save_model(model, 'my_model.keras')`. \n"
     ]
    },
    {
     "name": "stdout",
     "output_type": "stream",
     "text": [
      "367/367 - 1s - 4ms/step - accuracy: 0.9474 - auc: 0.9293 - loss: 0.1772 - val_accuracy: 0.9515 - val_auc: 0.9349 - val_loss: 0.1678\n",
      "Epoch 43/100\n"
     ]
    },
    {
     "name": "stderr",
     "output_type": "stream",
     "text": [
      "WARNING:absl:You are saving your model as an HDF5 file via `model.save()` or `keras.saving.save_model(model)`. This file format is considered legacy. We recommend using instead the native Keras format, e.g. `model.save('my_model.keras')` or `keras.saving.save_model(model, 'my_model.keras')`. \n"
     ]
    },
    {
     "name": "stdout",
     "output_type": "stream",
     "text": [
      "367/367 - 1s - 4ms/step - accuracy: 0.9472 - auc: 0.9306 - loss: 0.1767 - val_accuracy: 0.9512 - val_auc: 0.9352 - val_loss: 0.1677\n",
      "Epoch 44/100\n",
      "367/367 - 2s - 4ms/step - accuracy: 0.9475 - auc: 0.9292 - loss: 0.1765 - val_accuracy: 0.9515 - val_auc: 0.9347 - val_loss: 0.1681\n",
      "Epoch 45/100\n",
      "367/367 - 1s - 4ms/step - accuracy: 0.9481 - auc: 0.9296 - loss: 0.1768 - val_accuracy: 0.9510 - val_auc: 0.9345 - val_loss: 0.1682\n",
      "Epoch 46/100\n",
      "367/367 - 1s - 4ms/step - accuracy: 0.9480 - auc: 0.9303 - loss: 0.1760 - val_accuracy: 0.9510 - val_auc: 0.9343 - val_loss: 0.1681\n",
      "Epoch 47/100\n",
      "367/367 - 1s - 4ms/step - accuracy: 0.9484 - auc: 0.9315 - loss: 0.1754 - val_accuracy: 0.9513 - val_auc: 0.9345 - val_loss: 0.1681\n",
      "Epoch 48/100\n",
      "367/367 - 1s - 4ms/step - accuracy: 0.9476 - auc: 0.9309 - loss: 0.1756 - val_accuracy: 0.9512 - val_auc: 0.9348 - val_loss: 0.1681\n",
      "Epoch 49/100\n",
      "367/367 - 1s - 4ms/step - accuracy: 0.9477 - auc: 0.9291 - loss: 0.1766 - val_accuracy: 0.9511 - val_auc: 0.9341 - val_loss: 0.1681\n",
      "Epoch 50/100\n",
      "367/367 - 1s - 4ms/step - accuracy: 0.9479 - auc: 0.9300 - loss: 0.1761 - val_accuracy: 0.9505 - val_auc: 0.9346 - val_loss: 0.1683\n",
      "Epoch 51/100\n"
     ]
    },
    {
     "name": "stderr",
     "output_type": "stream",
     "text": [
      "WARNING:absl:You are saving your model as an HDF5 file via `model.save()` or `keras.saving.save_model(model)`. This file format is considered legacy. We recommend using instead the native Keras format, e.g. `model.save('my_model.keras')` or `keras.saving.save_model(model, 'my_model.keras')`. \n"
     ]
    },
    {
     "name": "stdout",
     "output_type": "stream",
     "text": [
      "367/367 - 1s - 4ms/step - accuracy: 0.9482 - auc: 0.9290 - loss: 0.1761 - val_accuracy: 0.9517 - val_auc: 0.9349 - val_loss: 0.1673\n",
      "Epoch 52/100\n"
     ]
    },
    {
     "name": "stderr",
     "output_type": "stream",
     "text": [
      "WARNING:absl:You are saving your model as an HDF5 file via `model.save()` or `keras.saving.save_model(model)`. This file format is considered legacy. We recommend using instead the native Keras format, e.g. `model.save('my_model.keras')` or `keras.saving.save_model(model, 'my_model.keras')`. \n"
     ]
    },
    {
     "name": "stdout",
     "output_type": "stream",
     "text": [
      "367/367 - 2s - 4ms/step - accuracy: 0.9479 - auc: 0.9297 - loss: 0.1763 - val_accuracy: 0.9515 - val_auc: 0.9352 - val_loss: 0.1671\n",
      "Epoch 53/100\n",
      "367/367 - 1s - 4ms/step - accuracy: 0.9485 - auc: 0.9309 - loss: 0.1745 - val_accuracy: 0.9512 - val_auc: 0.9356 - val_loss: 0.1671\n",
      "Epoch 54/100\n",
      "367/367 - 2s - 4ms/step - accuracy: 0.9477 - auc: 0.9301 - loss: 0.1756 - val_accuracy: 0.9516 - val_auc: 0.9349 - val_loss: 0.1675\n",
      "Epoch 55/100\n",
      "367/367 - 2s - 4ms/step - accuracy: 0.9486 - auc: 0.9305 - loss: 0.1753 - val_accuracy: 0.9513 - val_auc: 0.9353 - val_loss: 0.1672\n",
      "Epoch 56/100\n",
      "367/367 - 1s - 4ms/step - accuracy: 0.9484 - auc: 0.9302 - loss: 0.1755 - val_accuracy: 0.9507 - val_auc: 0.9348 - val_loss: 0.1675\n",
      "Epoch 57/100\n",
      "367/367 - 1s - 4ms/step - accuracy: 0.9480 - auc: 0.9314 - loss: 0.1751 - val_accuracy: 0.9513 - val_auc: 0.9344 - val_loss: 0.1679\n",
      "Epoch 58/100\n",
      "367/367 - 1s - 4ms/step - accuracy: 0.9483 - auc: 0.9312 - loss: 0.1748 - val_accuracy: 0.9515 - val_auc: 0.9350 - val_loss: 0.1675\n",
      "Epoch 59/100\n",
      "367/367 - 1s - 4ms/step - accuracy: 0.9488 - auc: 0.9312 - loss: 0.1745 - val_accuracy: 0.9513 - val_auc: 0.9344 - val_loss: 0.1674\n",
      "Epoch 60/100\n",
      "367/367 - 2s - 4ms/step - accuracy: 0.9493 - auc: 0.9312 - loss: 0.1742 - val_accuracy: 0.9513 - val_auc: 0.9345 - val_loss: 0.1677\n",
      "Epoch 61/100\n"
     ]
    },
    {
     "name": "stderr",
     "output_type": "stream",
     "text": [
      "WARNING:absl:You are saving your model as an HDF5 file via `model.save()` or `keras.saving.save_model(model)`. This file format is considered legacy. We recommend using instead the native Keras format, e.g. `model.save('my_model.keras')` or `keras.saving.save_model(model, 'my_model.keras')`. \n"
     ]
    },
    {
     "name": "stdout",
     "output_type": "stream",
     "text": [
      "367/367 - 1s - 4ms/step - accuracy: 0.9485 - auc: 0.9303 - loss: 0.1756 - val_accuracy: 0.9512 - val_auc: 0.9347 - val_loss: 0.1670\n",
      "Epoch 62/100\n",
      "367/367 - 1s - 4ms/step - accuracy: 0.9494 - auc: 0.9314 - loss: 0.1731 - val_accuracy: 0.9508 - val_auc: 0.9353 - val_loss: 0.1671\n",
      "Epoch 63/100\n"
     ]
    },
    {
     "name": "stderr",
     "output_type": "stream",
     "text": [
      "WARNING:absl:You are saving your model as an HDF5 file via `model.save()` or `keras.saving.save_model(model)`. This file format is considered legacy. We recommend using instead the native Keras format, e.g. `model.save('my_model.keras')` or `keras.saving.save_model(model, 'my_model.keras')`. \n"
     ]
    },
    {
     "name": "stdout",
     "output_type": "stream",
     "text": [
      "367/367 - 2s - 4ms/step - accuracy: 0.9487 - auc: 0.9319 - loss: 0.1733 - val_accuracy: 0.9515 - val_auc: 0.9351 - val_loss: 0.1665\n",
      "Epoch 64/100\n",
      "367/367 - 1s - 4ms/step - accuracy: 0.9492 - auc: 0.9322 - loss: 0.1736 - val_accuracy: 0.9512 - val_auc: 0.9348 - val_loss: 0.1668\n",
      "Epoch 65/100\n",
      "367/367 - 1s - 4ms/step - accuracy: 0.9486 - auc: 0.9319 - loss: 0.1732 - val_accuracy: 0.9500 - val_auc: 0.9350 - val_loss: 0.1676\n",
      "Epoch 66/100\n",
      "367/367 - 1s - 4ms/step - accuracy: 0.9491 - auc: 0.9313 - loss: 0.1738 - val_accuracy: 0.9510 - val_auc: 0.9343 - val_loss: 0.1676\n",
      "Epoch 67/100\n",
      "367/367 - 2s - 4ms/step - accuracy: 0.9492 - auc: 0.9319 - loss: 0.1731 - val_accuracy: 0.9516 - val_auc: 0.9353 - val_loss: 0.1670\n",
      "Epoch 68/100\n",
      "367/367 - 1s - 4ms/step - accuracy: 0.9488 - auc: 0.9311 - loss: 0.1742 - val_accuracy: 0.9518 - val_auc: 0.9343 - val_loss: 0.1672\n",
      "Epoch 69/100\n",
      "367/367 - 2s - 4ms/step - accuracy: 0.9488 - auc: 0.9315 - loss: 0.1733 - val_accuracy: 0.9514 - val_auc: 0.9347 - val_loss: 0.1666\n",
      "Epoch 70/100\n",
      "367/367 - 2s - 4ms/step - accuracy: 0.9494 - auc: 0.9312 - loss: 0.1741 - val_accuracy: 0.9518 - val_auc: 0.9351 - val_loss: 0.1672\n",
      "Epoch 71/100\n"
     ]
    },
    {
     "name": "stderr",
     "output_type": "stream",
     "text": [
      "WARNING:absl:You are saving your model as an HDF5 file via `model.save()` or `keras.saving.save_model(model)`. This file format is considered legacy. We recommend using instead the native Keras format, e.g. `model.save('my_model.keras')` or `keras.saving.save_model(model, 'my_model.keras')`. \n"
     ]
    },
    {
     "name": "stdout",
     "output_type": "stream",
     "text": [
      "367/367 - 2s - 4ms/step - accuracy: 0.9496 - auc: 0.9318 - loss: 0.1725 - val_accuracy: 0.9518 - val_auc: 0.9351 - val_loss: 0.1664\n",
      "Epoch 72/100\n",
      "367/367 - 1s - 4ms/step - accuracy: 0.9490 - auc: 0.9315 - loss: 0.1733 - val_accuracy: 0.9509 - val_auc: 0.9355 - val_loss: 0.1671\n",
      "Epoch 73/100\n",
      "367/367 - 2s - 4ms/step - accuracy: 0.9488 - auc: 0.9320 - loss: 0.1734 - val_accuracy: 0.9511 - val_auc: 0.9347 - val_loss: 0.1675\n",
      "Epoch 74/100\n",
      "367/367 - 1s - 4ms/step - accuracy: 0.9493 - auc: 0.9335 - loss: 0.1710 - val_accuracy: 0.9512 - val_auc: 0.9353 - val_loss: 0.1673\n",
      "Epoch 75/100\n",
      "367/367 - 1s - 4ms/step - accuracy: 0.9492 - auc: 0.9313 - loss: 0.1728 - val_accuracy: 0.9512 - val_auc: 0.9354 - val_loss: 0.1665\n",
      "Epoch 76/100\n",
      "367/367 - 2s - 4ms/step - accuracy: 0.9490 - auc: 0.9317 - loss: 0.1734 - val_accuracy: 0.9511 - val_auc: 0.9353 - val_loss: 0.1669\n",
      "Epoch 77/100\n",
      "367/367 - 1s - 4ms/step - accuracy: 0.9494 - auc: 0.9320 - loss: 0.1727 - val_accuracy: 0.9513 - val_auc: 0.9349 - val_loss: 0.1669\n",
      "Epoch 78/100\n",
      "367/367 - 1s - 4ms/step - accuracy: 0.9492 - auc: 0.9330 - loss: 0.1719 - val_accuracy: 0.9511 - val_auc: 0.9349 - val_loss: 0.1667\n",
      "Epoch 79/100\n",
      "367/367 - 2s - 4ms/step - accuracy: 0.9495 - auc: 0.9330 - loss: 0.1720 - val_accuracy: 0.9512 - val_auc: 0.9350 - val_loss: 0.1667\n",
      "Epoch 80/100\n",
      "367/367 - 1s - 4ms/step - accuracy: 0.9501 - auc: 0.9312 - loss: 0.1724 - val_accuracy: 0.9509 - val_auc: 0.9348 - val_loss: 0.1674\n",
      "Epoch 81/100\n"
     ]
    },
    {
     "name": "stderr",
     "output_type": "stream",
     "text": [
      "WARNING:absl:You are saving your model as an HDF5 file via `model.save()` or `keras.saving.save_model(model)`. This file format is considered legacy. We recommend using instead the native Keras format, e.g. `model.save('my_model.keras')` or `keras.saving.save_model(model, 'my_model.keras')`. \n"
     ]
    },
    {
     "name": "stdout",
     "output_type": "stream",
     "text": [
      "367/367 - 2s - 4ms/step - accuracy: 0.9492 - auc: 0.9326 - loss: 0.1726 - val_accuracy: 0.9516 - val_auc: 0.9344 - val_loss: 0.1663\n",
      "Epoch 82/100\n",
      "367/367 - 1s - 4ms/step - accuracy: 0.9502 - auc: 0.9318 - loss: 0.1724 - val_accuracy: 0.9516 - val_auc: 0.9344 - val_loss: 0.1668\n",
      "Epoch 83/100\n",
      "367/367 - 1s - 4ms/step - accuracy: 0.9493 - auc: 0.9321 - loss: 0.1726 - val_accuracy: 0.9507 - val_auc: 0.9336 - val_loss: 0.1675\n",
      "Epoch 84/100\n",
      "367/367 - 1s - 4ms/step - accuracy: 0.9496 - auc: 0.9333 - loss: 0.1710 - val_accuracy: 0.9509 - val_auc: 0.9343 - val_loss: 0.1673\n",
      "Epoch 85/100\n",
      "367/367 - 1s - 4ms/step - accuracy: 0.9494 - auc: 0.9330 - loss: 0.1716 - val_accuracy: 0.9512 - val_auc: 0.9347 - val_loss: 0.1667\n",
      "Epoch 86/100\n",
      "367/367 - 1s - 3ms/step - accuracy: 0.9489 - auc: 0.9334 - loss: 0.1716 - val_accuracy: 0.9518 - val_auc: 0.9343 - val_loss: 0.1669\n",
      "Epoch 87/100\n",
      "367/367 - 1s - 3ms/step - accuracy: 0.9492 - auc: 0.9338 - loss: 0.1715 - val_accuracy: 0.9514 - val_auc: 0.9344 - val_loss: 0.1668\n",
      "Epoch 88/100\n",
      "367/367 - 1s - 4ms/step - accuracy: 0.9503 - auc: 0.9313 - loss: 0.1723 - val_accuracy: 0.9519 - val_auc: 0.9337 - val_loss: 0.1671\n",
      "Epoch 89/100\n",
      "367/367 - 1s - 4ms/step - accuracy: 0.9496 - auc: 0.9340 - loss: 0.1709 - val_accuracy: 0.9511 - val_auc: 0.9337 - val_loss: 0.1672\n",
      "Epoch 90/100\n",
      "367/367 - 1s - 4ms/step - accuracy: 0.9495 - auc: 0.9330 - loss: 0.1704 - val_accuracy: 0.9516 - val_auc: 0.9337 - val_loss: 0.1672\n",
      "Epoch 91/100\n",
      "367/367 - 1s - 4ms/step - accuracy: 0.9499 - auc: 0.9329 - loss: 0.1720 - val_accuracy: 0.9519 - val_auc: 0.9342 - val_loss: 0.1668\n",
      "\u001b[1m1222/1222\u001b[0m \u001b[32m━━━━━━━━━━━━━━━━━━━━\u001b[0m\u001b[37m\u001b[0m \u001b[1m3s\u001b[0m 2ms/step\n"
     ]
    }
   ],
   "source": [
    "# 1. Reproducibility\n",
    "import random\n",
    "random.seed(42)\n",
    "import numpy as np\n",
    "np.random.seed(42)\n",
    "import tensorflow as tf\n",
    "tf.random.set_seed(42)\n",
    "\n",
    "# 2. Imports\n",
    "import pandas as pd\n",
    "from sklearn.model_selection import train_test_split\n",
    "from sklearn.impute import SimpleImputer\n",
    "from sklearn.compose import ColumnTransformer\n",
    "from sklearn.preprocessing import StandardScaler, OneHotEncoder, LabelEncoder\n",
    "from sklearn.pipeline import Pipeline\n",
    "from tensorflow.keras.callbacks import EarlyStopping, ModelCheckpoint\n",
    "import json, time\n",
    "\n",
    "# 3. Data Loading & Target Encoding\n",
    "# Load datasets\n",
    "train_df = pd.read_csv('train.csv')\n",
    "test_df = pd.read_csv('test.csv')\n",
    "submission_template = pd.read_csv('sample_submission.csv')\n",
    "\n",
    "# Infer id_col and target_columns from sample submission\n",
    "cols = submission_template.columns.tolist()\n",
    "id_col = cols[0]\n",
    "target_col = cols[1]\n",
    "\n",
    "# Label encode target (binary classification)\n",
    "le = LabelEncoder().fit(train_df[target_col].astype(str))\n",
    "y_train = le.transform(train_df[target_col].astype(str)).astype(int)\n",
    "\n",
    "# Prepare feature matrices\n",
    "drop_cols = [id_col, target_col]\n",
    "X = train_df.drop(columns=drop_cols, errors='ignore')\n",
    "X_test = test_df.drop(columns=drop_cols, errors='ignore')\n",
    "test_ids = test_df[id_col]\n",
    "\n",
    "# 4. Feature Engineering: drop all-missing, high-cardinality categorical\n",
    "# Drop columns with all missing\n",
    "X = X.dropna(axis=1, how='all')\n",
    "X_test = X_test[X.columns]\n",
    "# Identify categorical and drop if cardinality >50\n",
    "cat_cols = X.select_dtypes(include=['object', 'category', 'bool']).columns.tolist()\n",
    "high_card = [c for c in cat_cols if X[c].nunique() > 50]\n",
    "X = X.drop(columns=high_card)\n",
    "X_test = X_test.drop(columns=high_card)\n",
    "\n",
    "# 5. Preprocessing Pipeline\n",
    "d_numeric = X.select_dtypes(include=['int64', 'float64']).columns.tolist()\n",
    "cat_features = X.select_dtypes(include=['object', 'category', 'bool']).columns.tolist()\n",
    "\n",
    "numeric_transformer = Pipeline(steps=[\n",
    "    ('imputer', SimpleImputer(strategy='median')),\n",
    "    ('scaler', StandardScaler())\n",
    "])\n",
    "categorical_transformer = Pipeline(steps=[\n",
    "    ('imputer', SimpleImputer(strategy='most_frequent')),\n",
    "    ('onehot', OneHotEncoder(sparse_output=False, handle_unknown='ignore'))\n",
    "])\n",
    "preprocessor = ColumnTransformer(transformers=[\n",
    "    ('num', numeric_transformer, d_numeric),\n",
    "    ('cat', categorical_transformer, cat_features)\n",
    "])\n",
    "\n",
    "# Fit & transform\n",
    "X_train_proc = preprocessor.fit_transform(X)\n",
    "X_test_proc = preprocessor.transform(X_test)\n",
    "\n",
    "# 6. Model Architecture for small dataset (n_features <100)\n",
    "n_features = X_train_proc.shape[1]\n",
    "inputs = tf.keras.Input(shape=(n_features,))\n",
    "x = tf.keras.layers.Dense(min(n_features*2, 128), activation='relu')(inputs)\n",
    "x = tf.keras.layers.Dropout(0.2)(x)\n",
    "x = tf.keras.layers.Dense(min(n_features, 64), activation='relu')(x)\n",
    "x = tf.keras.layers.Dropout(0.2)(x)\n",
    "outputs = tf.keras.layers.Dense(1, activation='sigmoid')(x)\n",
    "model = tf.keras.Model(inputs=inputs, outputs=outputs)\n",
    "\n",
    "# 7. Compile model\n",
    "model.compile(\n",
    "    optimizer=tf.keras.optimizers.Adam(),\n",
    "    loss='binary_crossentropy',\n",
    "    metrics=['accuracy', tf.keras.metrics.AUC(name='auc')]\n",
    ")\n",
    "\n",
    "# 8. Callbacks & Training\n",
    "callbacks = [\n",
    "    EarlyStopping(monitor='val_loss', patience=10, restore_best_weights=True),\n",
    "    ModelCheckpoint('best_model.h5', monitor='val_loss', save_best_only=True)\n",
    "]\n",
    "start_time = time.time()\n",
    "history = model.fit(\n",
    "    X_train_proc, y_train,\n",
    "    validation_split=0.2,\n",
    "    epochs=100,\n",
    "    batch_size=128,\n",
    "    callbacks=callbacks,\n",
    "    verbose=2\n",
    ")\n",
    "duration = time.time() - start_time\n",
    "\n",
    "# 9. Evaluation & Logging\n",
    "results = {\n",
    "    'training_accuracy': history.history['accuracy'][-1],\n",
    "    'training_loss': history.history['loss'][-1],\n",
    "    'validation_accuracy': history.history['val_accuracy'][-1],\n",
    "    'validation_loss': history.history['val_loss'][-1]\n",
    "}\n",
    "with open('results.json', 'w') as f:\n",
    "    json.dump(results, f)\n",
    "\n",
    "# 10. Prediction & Submission\n",
    "raw_preds = model.predict(X_test_proc)\n",
    "probs = raw_preds.flatten()\n",
    "final = (probs > 0.5).astype(int)\n",
    "submission = pd.DataFrame({id_col: test_ids.reset_index(drop=True), target_col: final})\n",
    "submission.to_csv('submission_result.csv', index=False)"
   ]
  },
  {
   "cell_type": "code",
   "execution_count": 3,
   "metadata": {},
   "outputs": [
    {
     "name": "stdout",
     "output_type": "stream",
     "text": [
      "137.25703406333923\n"
     ]
    }
   ],
   "source": [
    "print(duration)"
   ]
  },
  {
   "cell_type": "markdown",
   "metadata": {},
   "source": [
    "## Keras Tuner - 3 Attempt"
   ]
  },
  {
   "cell_type": "markdown",
   "metadata": {},
   "source": [
    "## Attempt 1"
   ]
  },
  {
   "cell_type": "code",
   "execution_count": 1,
   "metadata": {},
   "outputs": [
    {
     "name": "stdout",
     "output_type": "stream",
     "text": [
      "Trial 1 Complete [00h 00m 00s]\n",
      "\n",
      "Best val_loss So Far: None\n",
      "Total elapsed time: 00h 00m 01s\n",
      "\n",
      "Search: Running Trial #2\n",
      "\n",
      "Value             |Best Value So Far |Hyperparameter\n",
      "8                 |6                 |layers\n",
      "128               |64                |units\n",
      "relu              |relu              |activation\n",
      "0                 |0.1               |dropout\n",
      "adam              |adam              |optimizer\n",
      "4.705e-05         |0.00011364        |learning_rate\n",
      "\n"
     ]
    },
    {
     "name": "stderr",
     "output_type": "stream",
     "text": [
      "Traceback (most recent call last):\n",
      "  File \"/home/exouser/.local/lib/python3.12/site-packages/keras_tuner/src/engine/base_tuner.py\", line 274, in _try_run_and_update_trial\n",
      "    self._run_and_update_trial(trial, *fit_args, **fit_kwargs)\n",
      "  File \"/home/exouser/.local/lib/python3.12/site-packages/keras_tuner/src/engine/base_tuner.py\", line 239, in _run_and_update_trial\n",
      "    results = self.run_trial(trial, *fit_args, **fit_kwargs)\n",
      "              ^^^^^^^^^^^^^^^^^^^^^^^^^^^^^^^^^^^^^^^^^^^^^^\n",
      "  File \"/home/exouser/.local/lib/python3.12/site-packages/keras_tuner/src/engine/tuner.py\", line 314, in run_trial\n",
      "    obj_value = self._build_and_fit_model(trial, *args, **copied_kwargs)\n",
      "                ^^^^^^^^^^^^^^^^^^^^^^^^^^^^^^^^^^^^^^^^^^^^^^^^^^^^^^^^\n",
      "  File \"/home/exouser/.local/lib/python3.12/site-packages/keras_tuner/src/engine/tuner.py\", line 233, in _build_and_fit_model\n",
      "    results = self.hypermodel.fit(hp, model, *args, **kwargs)\n",
      "              ^^^^^^^^^^^^^^^^^^^^^^^^^^^^^^^^^^^^^^^^^^^^^^^\n",
      "  File \"/home/exouser/.local/lib/python3.12/site-packages/keras_tuner/src/engine/hypermodel.py\", line 149, in fit\n",
      "    return model.fit(*args, **kwargs)\n",
      "           ^^^^^^^^^^^^^^^^^^^^^^^^^^\n",
      "  File \"/home/exouser/.local/lib/python3.12/site-packages/keras/src/utils/traceback_utils.py\", line 122, in error_handler\n",
      "    raise e.with_traceback(filtered_tb) from None\n",
      "  File \"/home/exouser/.local/lib/python3.12/site-packages/keras/src/trainers/data_adapters/data_adapter_utils.py\", line 115, in check_data_cardinality\n",
      "    raise ValueError(msg)\n",
      "ValueError: Data cardinality is ambiguous. Make sure all arrays contain the same number of samples.'x' sizes: 58645\n",
      "'y' sizes: 46916\n",
      "\n"
     ]
    },
    {
     "ename": "RuntimeError",
     "evalue": "Number of consecutive failures exceeded the limit of 3.\nTraceback (most recent call last):\n  File \"/home/exouser/.local/lib/python3.12/site-packages/keras_tuner/src/engine/base_tuner.py\", line 274, in _try_run_and_update_trial\n    self._run_and_update_trial(trial, *fit_args, **fit_kwargs)\n  File \"/home/exouser/.local/lib/python3.12/site-packages/keras_tuner/src/engine/base_tuner.py\", line 239, in _run_and_update_trial\n    results = self.run_trial(trial, *fit_args, **fit_kwargs)\n              ^^^^^^^^^^^^^^^^^^^^^^^^^^^^^^^^^^^^^^^^^^^^^^\n  File \"/home/exouser/.local/lib/python3.12/site-packages/keras_tuner/src/engine/tuner.py\", line 314, in run_trial\n    obj_value = self._build_and_fit_model(trial, *args, **copied_kwargs)\n                ^^^^^^^^^^^^^^^^^^^^^^^^^^^^^^^^^^^^^^^^^^^^^^^^^^^^^^^^\n  File \"/home/exouser/.local/lib/python3.12/site-packages/keras_tuner/src/engine/tuner.py\", line 233, in _build_and_fit_model\n    results = self.hypermodel.fit(hp, model, *args, **kwargs)\n              ^^^^^^^^^^^^^^^^^^^^^^^^^^^^^^^^^^^^^^^^^^^^^^^\n  File \"/home/exouser/.local/lib/python3.12/site-packages/keras_tuner/src/engine/hypermodel.py\", line 149, in fit\n    return model.fit(*args, **kwargs)\n           ^^^^^^^^^^^^^^^^^^^^^^^^^^\n  File \"/home/exouser/.local/lib/python3.12/site-packages/keras/src/utils/traceback_utils.py\", line 122, in error_handler\n    raise e.with_traceback(filtered_tb) from None\n  File \"/home/exouser/.local/lib/python3.12/site-packages/keras/src/trainers/data_adapters/data_adapter_utils.py\", line 115, in check_data_cardinality\n    raise ValueError(msg)\nValueError: Data cardinality is ambiguous. Make sure all arrays contain the same number of samples.'x' sizes: 58645\n'y' sizes: 46916\n\n",
     "output_type": "error",
     "traceback": [
      "\u001b[31m---------------------------------------------------------------------------\u001b[39m",
      "\u001b[31mRuntimeError\u001b[39m                              Traceback (most recent call last)",
      "\u001b[36mCell\u001b[39m\u001b[36m \u001b[39m\u001b[32mIn[1]\u001b[39m\u001b[32m, line 118\u001b[39m\n\u001b[32m    106\u001b[39m ep = \u001b[32m20\u001b[39m  \u001b[38;5;66;03m# Example epochs\u001b[39;00m\n\u001b[32m    108\u001b[39m tuner = kt.BayesianOptimization(\n\u001b[32m    109\u001b[39m     MyHyperModel(),\n\u001b[32m    110\u001b[39m     objective=\u001b[33m'\u001b[39m\u001b[33mval_loss\u001b[39m\u001b[33m'\u001b[39m,\n\u001b[32m   (...)\u001b[39m\u001b[32m    115\u001b[39m     project_name=\u001b[33m'\u001b[39m\u001b[33mbayesian_tuner\u001b[39m\u001b[33m'\u001b[39m\n\u001b[32m    116\u001b[39m )\n\u001b[32m--> \u001b[39m\u001b[32m118\u001b[39m \u001b[43mtuner\u001b[49m\u001b[43m.\u001b[49m\u001b[43msearch\u001b[49m\u001b[43m(\u001b[49m\n\u001b[32m    119\u001b[39m \u001b[43m    \u001b[49m\u001b[43mX_train_proc\u001b[49m\u001b[43m,\u001b[49m\u001b[43m \u001b[49m\u001b[43my_train\u001b[49m\u001b[43m,\u001b[49m\n\u001b[32m    120\u001b[39m \u001b[43m    \u001b[49m\u001b[43mvalidation_data\u001b[49m\u001b[43m=\u001b[49m\u001b[43m(\u001b[49m\u001b[43mX_val\u001b[49m\u001b[43m,\u001b[49m\u001b[43m \u001b[49m\u001b[43my_val\u001b[49m\u001b[43m)\u001b[49m\u001b[43m,\u001b[49m\n\u001b[32m    121\u001b[39m \u001b[43m    \u001b[49m\u001b[43mbatch_size\u001b[49m\u001b[43m=\u001b[49m\u001b[43mbs\u001b[49m\u001b[43m,\u001b[49m\u001b[43m \u001b[49m\u001b[43mepochs\u001b[49m\u001b[43m=\u001b[49m\u001b[43mep\u001b[49m\u001b[43m,\u001b[49m\n\u001b[32m    122\u001b[39m \u001b[43m    \u001b[49m\u001b[43mcallbacks\u001b[49m\u001b[43m=\u001b[49m\u001b[43m[\u001b[49m\u001b[43mearly_stopping\u001b[49m\u001b[43m,\u001b[49m\u001b[43m \u001b[49m\u001b[43mcheckpoint\u001b[49m\u001b[43m]\u001b[49m\n\u001b[32m    123\u001b[39m \u001b[43m)\u001b[49m\n\u001b[32m    125\u001b[39m model = tuner.hypermodel.build(tuner.get_best_hyperparameters(\u001b[32m1\u001b[39m)[\u001b[32m0\u001b[39m])\n\u001b[32m    127\u001b[39m start_time = time.time()\n",
      "\u001b[36mFile \u001b[39m\u001b[32m~/.local/lib/python3.12/site-packages/keras_tuner/src/engine/base_tuner.py:235\u001b[39m, in \u001b[36mBaseTuner.search\u001b[39m\u001b[34m(self, *fit_args, **fit_kwargs)\u001b[39m\n\u001b[32m    233\u001b[39m     \u001b[38;5;28mself\u001b[39m.on_trial_begin(trial)\n\u001b[32m    234\u001b[39m     \u001b[38;5;28mself\u001b[39m._try_run_and_update_trial(trial, *fit_args, **fit_kwargs)\n\u001b[32m--> \u001b[39m\u001b[32m235\u001b[39m     \u001b[38;5;28;43mself\u001b[39;49m\u001b[43m.\u001b[49m\u001b[43mon_trial_end\u001b[49m\u001b[43m(\u001b[49m\u001b[43mtrial\u001b[49m\u001b[43m)\u001b[49m\n\u001b[32m    236\u001b[39m \u001b[38;5;28mself\u001b[39m.on_search_end()\n",
      "\u001b[36mFile \u001b[39m\u001b[32m~/.local/lib/python3.12/site-packages/keras_tuner/src/engine/base_tuner.py:339\u001b[39m, in \u001b[36mBaseTuner.on_trial_end\u001b[39m\u001b[34m(self, trial)\u001b[39m\n\u001b[32m    333\u001b[39m \u001b[38;5;28;01mdef\u001b[39;00m \u001b[34mon_trial_end\u001b[39m(\u001b[38;5;28mself\u001b[39m, trial):\n\u001b[32m    334\u001b[39m \u001b[38;5;250m    \u001b[39m\u001b[33;03m\"\"\"Called at the end of a trial.\u001b[39;00m\n\u001b[32m    335\u001b[39m \n\u001b[32m    336\u001b[39m \u001b[33;03m    Args:\u001b[39;00m\n\u001b[32m    337\u001b[39m \u001b[33;03m        trial: A `Trial` instance.\u001b[39;00m\n\u001b[32m    338\u001b[39m \u001b[33;03m    \"\"\"\u001b[39;00m\n\u001b[32m--> \u001b[39m\u001b[32m339\u001b[39m     \u001b[38;5;28;43mself\u001b[39;49m\u001b[43m.\u001b[49m\u001b[43moracle\u001b[49m\u001b[43m.\u001b[49m\u001b[43mend_trial\u001b[49m\u001b[43m(\u001b[49m\u001b[43mtrial\u001b[49m\u001b[43m)\u001b[49m\n\u001b[32m    340\u001b[39m     \u001b[38;5;28mself\u001b[39m.save()\n",
      "\u001b[36mFile \u001b[39m\u001b[32m~/.local/lib/python3.12/site-packages/keras_tuner/src/engine/oracle.py:108\u001b[39m, in \u001b[36msynchronized.<locals>.wrapped_func\u001b[39m\u001b[34m(*args, **kwargs)\u001b[39m\n\u001b[32m    106\u001b[39m     LOCKS[oracle].acquire()\n\u001b[32m    107\u001b[39m     THREADS[oracle] = thread_name\n\u001b[32m--> \u001b[39m\u001b[32m108\u001b[39m ret_val = \u001b[43mfunc\u001b[49m\u001b[43m(\u001b[49m\u001b[43m*\u001b[49m\u001b[43margs\u001b[49m\u001b[43m,\u001b[49m\u001b[43m \u001b[49m\u001b[43m*\u001b[49m\u001b[43m*\u001b[49m\u001b[43mkwargs\u001b[49m\u001b[43m)\u001b[49m\n\u001b[32m    109\u001b[39m \u001b[38;5;28;01mif\u001b[39;00m need_acquire:\n\u001b[32m    110\u001b[39m     THREADS[oracle] = \u001b[38;5;28;01mNone\u001b[39;00m\n",
      "\u001b[36mFile \u001b[39m\u001b[32m~/.local/lib/python3.12/site-packages/keras_tuner/src/engine/oracle.py:588\u001b[39m, in \u001b[36mOracle.end_trial\u001b[39m\u001b[34m(self, trial)\u001b[39m\n\u001b[32m    586\u001b[39m \u001b[38;5;28;01mif\u001b[39;00m \u001b[38;5;129;01mnot\u001b[39;00m \u001b[38;5;28mself\u001b[39m._retry(trial):\n\u001b[32m    587\u001b[39m     \u001b[38;5;28mself\u001b[39m.end_order.append(trial.trial_id)\n\u001b[32m--> \u001b[39m\u001b[32m588\u001b[39m     \u001b[38;5;28;43mself\u001b[39;49m\u001b[43m.\u001b[49m\u001b[43m_check_consecutive_failures\u001b[49m\u001b[43m(\u001b[49m\u001b[43m)\u001b[49m\n\u001b[32m    590\u001b[39m \u001b[38;5;28mself\u001b[39m._save_trial(trial)\n\u001b[32m    591\u001b[39m \u001b[38;5;28mself\u001b[39m.save()\n",
      "\u001b[36mFile \u001b[39m\u001b[32m~/.local/lib/python3.12/site-packages/keras_tuner/src/engine/oracle.py:545\u001b[39m, in \u001b[36mOracle._check_consecutive_failures\u001b[39m\u001b[34m(self)\u001b[39m\n\u001b[32m    543\u001b[39m     consecutive_failures = \u001b[32m0\u001b[39m\n\u001b[32m    544\u001b[39m \u001b[38;5;28;01mif\u001b[39;00m consecutive_failures == \u001b[38;5;28mself\u001b[39m.max_consecutive_failed_trials:\n\u001b[32m--> \u001b[39m\u001b[32m545\u001b[39m     \u001b[38;5;28;01mraise\u001b[39;00m \u001b[38;5;167;01mRuntimeError\u001b[39;00m(\n\u001b[32m    546\u001b[39m         \u001b[33m\"\u001b[39m\u001b[33mNumber of consecutive failures exceeded the limit \u001b[39m\u001b[33m\"\u001b[39m\n\u001b[32m    547\u001b[39m         \u001b[33mf\u001b[39m\u001b[33m\"\u001b[39m\u001b[33mof \u001b[39m\u001b[38;5;132;01m{\u001b[39;00m\u001b[38;5;28mself\u001b[39m.max_consecutive_failed_trials\u001b[38;5;132;01m}\u001b[39;00m\u001b[33m.\u001b[39m\u001b[38;5;130;01m\\n\u001b[39;00m\u001b[33m\"\u001b[39m\n\u001b[32m    548\u001b[39m         + (trial.message \u001b[38;5;129;01mor\u001b[39;00m \u001b[33m\"\u001b[39m\u001b[33m\"\u001b[39m)\n\u001b[32m    549\u001b[39m     )\n",
      "\u001b[31mRuntimeError\u001b[39m: Number of consecutive failures exceeded the limit of 3.\nTraceback (most recent call last):\n  File \"/home/exouser/.local/lib/python3.12/site-packages/keras_tuner/src/engine/base_tuner.py\", line 274, in _try_run_and_update_trial\n    self._run_and_update_trial(trial, *fit_args, **fit_kwargs)\n  File \"/home/exouser/.local/lib/python3.12/site-packages/keras_tuner/src/engine/base_tuner.py\", line 239, in _run_and_update_trial\n    results = self.run_trial(trial, *fit_args, **fit_kwargs)\n              ^^^^^^^^^^^^^^^^^^^^^^^^^^^^^^^^^^^^^^^^^^^^^^\n  File \"/home/exouser/.local/lib/python3.12/site-packages/keras_tuner/src/engine/tuner.py\", line 314, in run_trial\n    obj_value = self._build_and_fit_model(trial, *args, **copied_kwargs)\n                ^^^^^^^^^^^^^^^^^^^^^^^^^^^^^^^^^^^^^^^^^^^^^^^^^^^^^^^^\n  File \"/home/exouser/.local/lib/python3.12/site-packages/keras_tuner/src/engine/tuner.py\", line 233, in _build_and_fit_model\n    results = self.hypermodel.fit(hp, model, *args, **kwargs)\n              ^^^^^^^^^^^^^^^^^^^^^^^^^^^^^^^^^^^^^^^^^^^^^^^\n  File \"/home/exouser/.local/lib/python3.12/site-packages/keras_tuner/src/engine/hypermodel.py\", line 149, in fit\n    return model.fit(*args, **kwargs)\n           ^^^^^^^^^^^^^^^^^^^^^^^^^^\n  File \"/home/exouser/.local/lib/python3.12/site-packages/keras/src/utils/traceback_utils.py\", line 122, in error_handler\n    raise e.with_traceback(filtered_tb) from None\n  File \"/home/exouser/.local/lib/python3.12/site-packages/keras/src/trainers/data_adapters/data_adapter_utils.py\", line 115, in check_data_cardinality\n    raise ValueError(msg)\nValueError: Data cardinality is ambiguous. Make sure all arrays contain the same number of samples.'x' sizes: 58645\n'y' sizes: 46916\n\n"
     ]
    }
   ],
   "source": [
    "# 1. Reproducibility\n",
    "import random\n",
    "random.seed(42)\n",
    "import numpy as np\n",
    "np.random.seed(42)\n",
    "import tensorflow as tf\n",
    "tf.random.set_seed(42)\n",
    "\n",
    "# 2. Imports\n",
    "import pandas as pd\n",
    "from sklearn.model_selection import train_test_split\n",
    "from sklearn.impute import SimpleImputer\n",
    "from sklearn.compose import ColumnTransformer\n",
    "from sklearn.preprocessing import StandardScaler, OneHotEncoder, LabelEncoder\n",
    "from sklearn.pipeline import Pipeline\n",
    "from tensorflow.keras.callbacks import EarlyStopping, ModelCheckpoint\n",
    "import json, time\n",
    "import keras_tuner as kt\n",
    "from tensorflow.keras.layers import Input, Dense, Dropout\n",
    "from tensorflow.keras.models import Model\n",
    "\n",
    "# 3. Data Loading & Target Encoding\n",
    "# Load datasets\n",
    "train_df = pd.read_csv('train.csv')\n",
    "test_df = pd.read_csv('test.csv')\n",
    "submission_template = pd.read_csv('sample_submission.csv')\n",
    "\n",
    "# Infer id_col and target_columns from sample submission\n",
    "cols = submission_template.columns.tolist()\n",
    "id_col = cols[0]\n",
    "target_col = cols[1]\n",
    "\n",
    "# Label encode target (binary classification)\n",
    "le = LabelEncoder().fit(train_df[target_col].astype(str))\n",
    "y_train = le.transform(train_df[target_col].astype(str)).astype(int)\n",
    "\n",
    "# Prepare feature matrices\n",
    "drop_cols = [id_col, target_col]\n",
    "X = train_df.drop(columns=drop_cols, errors='ignore')\n",
    "X_test = test_df.drop(columns=drop_cols, errors='ignore')\n",
    "test_ids = test_df[id_col]\n",
    "\n",
    "# 4. Feature Engineering: drop all-missing, high-cardinality categorical\n",
    "# Drop columns with all missing\n",
    "X = X.dropna(axis=1, how='all')\n",
    "X_test = X_test[X.columns]\n",
    "# Identify categorical and drop if cardinality >50\n",
    "cat_cols = X.select_dtypes(include=['object', 'category', 'bool']).columns.tolist()\n",
    "high_card = [c for c in cat_cols if X[c].nunique() > 50]\n",
    "X = X.drop(columns=high_card)\n",
    "X_test = X_test.drop(columns=high_card)\n",
    "\n",
    "# 5. Preprocessing Pipeline\n",
    "d_numeric = X.select_dtypes(include=['int64', 'float64']).columns.tolist()\n",
    "cat_features = X.select_dtypes(include=['object', 'category', 'bool']).columns.tolist()\n",
    "\n",
    "numeric_transformer = Pipeline(steps=[\n",
    "    ('imputer', SimpleImputer(strategy='median')),\n",
    "    ('scaler', StandardScaler())\n",
    "])\n",
    "categorical_transformer = Pipeline(steps=[\n",
    "    ('imputer', SimpleImputer(strategy='most_frequent')),\n",
    "    ('onehot', OneHotEncoder(sparse_output=False, handle_unknown='ignore'))\n",
    "])\n",
    "preprocessor = ColumnTransformer(transformers=[\n",
    "    ('num', numeric_transformer, d_numeric),\n",
    "    ('cat', categorical_transformer, cat_features)\n",
    "])\n",
    "\n",
    "# Fit & transform\n",
    "X_train_proc = preprocessor.fit_transform(X)\n",
    "X_test_proc = preprocessor.transform(X_test)\n",
    "\n",
    "# Split the data for validation\n",
    "X_train, X_val, y_train, y_val = train_test_split(X_train_proc, y_train, test_size=0.2, random_state=42)\n",
    "\n",
    "# 6. Model Architecture for small dataset (n_features <100)\n",
    "n_features = X_train_proc.shape[1]\n",
    "\n",
    "# Keras-Tuner Model Definition\n",
    "# Callbacks\n",
    "early_stopping = EarlyStopping(monitor='val_loss', patience=10, restore_best_weights=True)\n",
    "checkpoint = ModelCheckpoint('best_model.h5', monitor='val_loss', save_best_only=True)\n",
    "\n",
    "class MyHyperModel(kt.HyperModel):\n",
    "    def build(self, hp):\n",
    "        layers = hp.Int('layers', 2, 8)\n",
    "        units = hp.Int('units', 64, 1024, step=64)\n",
    "        act = hp.Choice('activation', ['relu'])\n",
    "        drop = hp.Float('dropout', 0.0, 0.5, step=0.1)\n",
    "        opt = hp.Choice('optimizer', ['adam'])\n",
    "        lr = hp.Float('learning_rate', 1e-5, 0.01, sampling='log')\n",
    "\n",
    "        inputs = Input(shape=(n_features,))\n",
    "        x = inputs\n",
    "        for _ in range(layers):\n",
    "            x = Dense(units, activation=act)(x)\n",
    "            x = Dropout(drop)(x)\n",
    "        outputs = Dense(1, activation='sigmoid')(x)\n",
    "        model = Model(inputs, outputs)\n",
    "        model.compile(optimizer=opt, loss='binary_crossentropy', metrics=['accuracy'])\n",
    "        return model\n",
    "\n",
    "# Tuner\n",
    "bs = 32  # Example batch size\n",
    "ep = 20  # Example epochs\n",
    "\n",
    "tuner = kt.BayesianOptimization(\n",
    "    MyHyperModel(),\n",
    "    objective='val_loss',\n",
    "    max_trials=10,\n",
    "    executions_per_trial=1,\n",
    "    seed=42,\n",
    "    overwrite=True,\n",
    "    project_name='bayesian_tuner'\n",
    ")\n",
    "\n",
    "tuner.search(\n",
    "    X_train_proc, y_train,\n",
    "    validation_data=(X_val, y_val),\n",
    "    batch_size=bs, epochs=ep,\n",
    "    callbacks=[early_stopping, checkpoint]\n",
    ")\n",
    "\n",
    "model = tuner.hypermodel.build(tuner.get_best_hyperparameters(1)[0])\n",
    "\n",
    "start_time = time.time()\n",
    "history = model.fit(\n",
    "    X_train, y_train,  # Fixed the input data to match the training labels\n",
    "    validation_data=(X_val, y_val),\n",
    "    epochs=100, batch_size=bs,\n",
    "    callbacks=[early_stopping, checkpoint],\n",
    "    verbose=2\n",
    ")\n",
    "end_time = time.time()\n",
    "\n",
    "# 9. Evaluation & Logging\n",
    "results = {\n",
    "    'training_accuracy': history.history['accuracy'][-1],\n",
    "    'training_loss': history.history['loss'][-1],\n",
    "    'validation_accuracy': history.history['val_accuracy'][-1],\n",
    "    'validation_loss': history.history['val_loss'][-1]\n",
    "}\n",
    "with open('results.json', 'w') as f:\n",
    "    json.dump(results, f)\n",
    "\n",
    "# 10. Prediction & Submission\n",
    "raw_preds = model.predict(X_test_proc)\n",
    "probs = raw_preds.flatten()\n",
    "final = (probs > 0.5).astype(int)\n",
    "submission = pd.DataFrame({id_col: test_ids.reset_index(drop=True), target_col: final})\n",
    "submission.to_csv('submission_result.csv', index=False)"
   ]
  },
  {
   "cell_type": "markdown",
   "metadata": {},
   "source": [
    "## Attempt 2 - Nothing changed\n"
   ]
  },
  {
   "cell_type": "code",
   "execution_count": null,
   "metadata": {},
   "outputs": [
    {
     "name": "stdout",
     "output_type": "stream",
     "text": [
      "Trial 1 Complete [00h 00m 00s]\n",
      "\n",
      "Best val_loss So Far: None\n",
      "Total elapsed time: 00h 00m 01s\n",
      "\n",
      "Search: Running Trial #2\n",
      "\n",
      "Value             |Best Value So Far |Hyperparameter\n",
      "8                 |6                 |layers\n",
      "128               |64                |units\n",
      "relu              |relu              |activation\n",
      "0                 |0.1               |dropout\n",
      "adam              |adam              |optimizer\n",
      "4.705e-05         |0.00011364        |learning_rate\n",
      "\n"
     ]
    },
    {
     "name": "stderr",
     "output_type": "stream",
     "text": [
      "Traceback (most recent call last):\n",
      "  File \"/home/exouser/.local/lib/python3.12/site-packages/keras_tuner/src/engine/base_tuner.py\", line 274, in _try_run_and_update_trial\n",
      "    self._run_and_update_trial(trial, *fit_args, **fit_kwargs)\n",
      "  File \"/home/exouser/.local/lib/python3.12/site-packages/keras_tuner/src/engine/base_tuner.py\", line 239, in _run_and_update_trial\n",
      "    results = self.run_trial(trial, *fit_args, **fit_kwargs)\n",
      "              ^^^^^^^^^^^^^^^^^^^^^^^^^^^^^^^^^^^^^^^^^^^^^^\n",
      "  File \"/home/exouser/.local/lib/python3.12/site-packages/keras_tuner/src/engine/tuner.py\", line 314, in run_trial\n",
      "    obj_value = self._build_and_fit_model(trial, *args, **copied_kwargs)\n",
      "                ^^^^^^^^^^^^^^^^^^^^^^^^^^^^^^^^^^^^^^^^^^^^^^^^^^^^^^^^\n",
      "  File \"/home/exouser/.local/lib/python3.12/site-packages/keras_tuner/src/engine/tuner.py\", line 233, in _build_and_fit_model\n",
      "    results = self.hypermodel.fit(hp, model, *args, **kwargs)\n",
      "              ^^^^^^^^^^^^^^^^^^^^^^^^^^^^^^^^^^^^^^^^^^^^^^^\n",
      "  File \"/home/exouser/.local/lib/python3.12/site-packages/keras_tuner/src/engine/hypermodel.py\", line 149, in fit\n",
      "    return model.fit(*args, **kwargs)\n",
      "           ^^^^^^^^^^^^^^^^^^^^^^^^^^\n",
      "  File \"/home/exouser/.local/lib/python3.12/site-packages/keras/src/utils/traceback_utils.py\", line 122, in error_handler\n",
      "    raise e.with_traceback(filtered_tb) from None\n",
      "  File \"/home/exouser/.local/lib/python3.12/site-packages/keras/src/trainers/data_adapters/data_adapter_utils.py\", line 115, in check_data_cardinality\n",
      "    raise ValueError(msg)\n",
      "ValueError: Data cardinality is ambiguous. Make sure all arrays contain the same number of samples.'x' sizes: 58645\n",
      "'y' sizes: 46916\n",
      "\n"
     ]
    },
    {
     "ename": "RuntimeError",
     "evalue": "Number of consecutive failures exceeded the limit of 3.\nTraceback (most recent call last):\n  File \"/home/exouser/.local/lib/python3.12/site-packages/keras_tuner/src/engine/base_tuner.py\", line 274, in _try_run_and_update_trial\n    self._run_and_update_trial(trial, *fit_args, **fit_kwargs)\n  File \"/home/exouser/.local/lib/python3.12/site-packages/keras_tuner/src/engine/base_tuner.py\", line 239, in _run_and_update_trial\n    results = self.run_trial(trial, *fit_args, **fit_kwargs)\n              ^^^^^^^^^^^^^^^^^^^^^^^^^^^^^^^^^^^^^^^^^^^^^^\n  File \"/home/exouser/.local/lib/python3.12/site-packages/keras_tuner/src/engine/tuner.py\", line 314, in run_trial\n    obj_value = self._build_and_fit_model(trial, *args, **copied_kwargs)\n                ^^^^^^^^^^^^^^^^^^^^^^^^^^^^^^^^^^^^^^^^^^^^^^^^^^^^^^^^\n  File \"/home/exouser/.local/lib/python3.12/site-packages/keras_tuner/src/engine/tuner.py\", line 233, in _build_and_fit_model\n    results = self.hypermodel.fit(hp, model, *args, **kwargs)\n              ^^^^^^^^^^^^^^^^^^^^^^^^^^^^^^^^^^^^^^^^^^^^^^^\n  File \"/home/exouser/.local/lib/python3.12/site-packages/keras_tuner/src/engine/hypermodel.py\", line 149, in fit\n    return model.fit(*args, **kwargs)\n           ^^^^^^^^^^^^^^^^^^^^^^^^^^\n  File \"/home/exouser/.local/lib/python3.12/site-packages/keras/src/utils/traceback_utils.py\", line 122, in error_handler\n    raise e.with_traceback(filtered_tb) from None\n  File \"/home/exouser/.local/lib/python3.12/site-packages/keras/src/trainers/data_adapters/data_adapter_utils.py\", line 115, in check_data_cardinality\n    raise ValueError(msg)\nValueError: Data cardinality is ambiguous. Make sure all arrays contain the same number of samples.'x' sizes: 58645\n'y' sizes: 46916\n\n",
     "output_type": "error",
     "traceback": [
      "\u001b[31m---------------------------------------------------------------------------\u001b[39m",
      "\u001b[31mRuntimeError\u001b[39m                              Traceback (most recent call last)",
      "\u001b[36mCell\u001b[39m\u001b[36m \u001b[39m\u001b[32mIn[1]\u001b[39m\u001b[32m, line 118\u001b[39m\n\u001b[32m    106\u001b[39m ep = \u001b[32m20\u001b[39m  \u001b[38;5;66;03m# Example epochs\u001b[39;00m\n\u001b[32m    108\u001b[39m tuner = kt.BayesianOptimization(\n\u001b[32m    109\u001b[39m     MyHyperModel(),\n\u001b[32m    110\u001b[39m     objective=\u001b[33m'\u001b[39m\u001b[33mval_loss\u001b[39m\u001b[33m'\u001b[39m,\n\u001b[32m   (...)\u001b[39m\u001b[32m    115\u001b[39m     project_name=\u001b[33m'\u001b[39m\u001b[33mbayesian_tuner\u001b[39m\u001b[33m'\u001b[39m\n\u001b[32m    116\u001b[39m )\n\u001b[32m--> \u001b[39m\u001b[32m118\u001b[39m \u001b[43mtuner\u001b[49m\u001b[43m.\u001b[49m\u001b[43msearch\u001b[49m\u001b[43m(\u001b[49m\n\u001b[32m    119\u001b[39m \u001b[43m    \u001b[49m\u001b[43mX_train_proc\u001b[49m\u001b[43m,\u001b[49m\u001b[43m \u001b[49m\u001b[43my_train\u001b[49m\u001b[43m,\u001b[49m\n\u001b[32m    120\u001b[39m \u001b[43m    \u001b[49m\u001b[43mvalidation_data\u001b[49m\u001b[43m=\u001b[49m\u001b[43m(\u001b[49m\u001b[43mX_val\u001b[49m\u001b[43m,\u001b[49m\u001b[43m \u001b[49m\u001b[43my_val\u001b[49m\u001b[43m)\u001b[49m\u001b[43m,\u001b[49m\n\u001b[32m    121\u001b[39m \u001b[43m    \u001b[49m\u001b[43mbatch_size\u001b[49m\u001b[43m=\u001b[49m\u001b[43mbs\u001b[49m\u001b[43m,\u001b[49m\u001b[43m \u001b[49m\u001b[43mepochs\u001b[49m\u001b[43m=\u001b[49m\u001b[43mep\u001b[49m\u001b[43m,\u001b[49m\n\u001b[32m    122\u001b[39m \u001b[43m    \u001b[49m\u001b[43mcallbacks\u001b[49m\u001b[43m=\u001b[49m\u001b[43m[\u001b[49m\u001b[43mearly_stopping\u001b[49m\u001b[43m,\u001b[49m\u001b[43m \u001b[49m\u001b[43mcheckpoint\u001b[49m\u001b[43m]\u001b[49m\n\u001b[32m    123\u001b[39m \u001b[43m)\u001b[49m\n\u001b[32m    125\u001b[39m model = tuner.hypermodel.build(tuner.get_best_hyperparameters(\u001b[32m1\u001b[39m)[\u001b[32m0\u001b[39m])\n\u001b[32m    127\u001b[39m start_time = time.time()\n",
      "\u001b[36mFile \u001b[39m\u001b[32m~/.local/lib/python3.12/site-packages/keras_tuner/src/engine/base_tuner.py:235\u001b[39m, in \u001b[36mBaseTuner.search\u001b[39m\u001b[34m(self, *fit_args, **fit_kwargs)\u001b[39m\n\u001b[32m    233\u001b[39m     \u001b[38;5;28mself\u001b[39m.on_trial_begin(trial)\n\u001b[32m    234\u001b[39m     \u001b[38;5;28mself\u001b[39m._try_run_and_update_trial(trial, *fit_args, **fit_kwargs)\n\u001b[32m--> \u001b[39m\u001b[32m235\u001b[39m     \u001b[38;5;28;43mself\u001b[39;49m\u001b[43m.\u001b[49m\u001b[43mon_trial_end\u001b[49m\u001b[43m(\u001b[49m\u001b[43mtrial\u001b[49m\u001b[43m)\u001b[49m\n\u001b[32m    236\u001b[39m \u001b[38;5;28mself\u001b[39m.on_search_end()\n",
      "\u001b[36mFile \u001b[39m\u001b[32m~/.local/lib/python3.12/site-packages/keras_tuner/src/engine/base_tuner.py:339\u001b[39m, in \u001b[36mBaseTuner.on_trial_end\u001b[39m\u001b[34m(self, trial)\u001b[39m\n\u001b[32m    333\u001b[39m \u001b[38;5;28;01mdef\u001b[39;00m \u001b[34mon_trial_end\u001b[39m(\u001b[38;5;28mself\u001b[39m, trial):\n\u001b[32m    334\u001b[39m \u001b[38;5;250m    \u001b[39m\u001b[33;03m\"\"\"Called at the end of a trial.\u001b[39;00m\n\u001b[32m    335\u001b[39m \n\u001b[32m    336\u001b[39m \u001b[33;03m    Args:\u001b[39;00m\n\u001b[32m    337\u001b[39m \u001b[33;03m        trial: A `Trial` instance.\u001b[39;00m\n\u001b[32m    338\u001b[39m \u001b[33;03m    \"\"\"\u001b[39;00m\n\u001b[32m--> \u001b[39m\u001b[32m339\u001b[39m     \u001b[38;5;28;43mself\u001b[39;49m\u001b[43m.\u001b[49m\u001b[43moracle\u001b[49m\u001b[43m.\u001b[49m\u001b[43mend_trial\u001b[49m\u001b[43m(\u001b[49m\u001b[43mtrial\u001b[49m\u001b[43m)\u001b[49m\n\u001b[32m    340\u001b[39m     \u001b[38;5;28mself\u001b[39m.save()\n",
      "\u001b[36mFile \u001b[39m\u001b[32m~/.local/lib/python3.12/site-packages/keras_tuner/src/engine/oracle.py:108\u001b[39m, in \u001b[36msynchronized.<locals>.wrapped_func\u001b[39m\u001b[34m(*args, **kwargs)\u001b[39m\n\u001b[32m    106\u001b[39m     LOCKS[oracle].acquire()\n\u001b[32m    107\u001b[39m     THREADS[oracle] = thread_name\n\u001b[32m--> \u001b[39m\u001b[32m108\u001b[39m ret_val = \u001b[43mfunc\u001b[49m\u001b[43m(\u001b[49m\u001b[43m*\u001b[49m\u001b[43margs\u001b[49m\u001b[43m,\u001b[49m\u001b[43m \u001b[49m\u001b[43m*\u001b[49m\u001b[43m*\u001b[49m\u001b[43mkwargs\u001b[49m\u001b[43m)\u001b[49m\n\u001b[32m    109\u001b[39m \u001b[38;5;28;01mif\u001b[39;00m need_acquire:\n\u001b[32m    110\u001b[39m     THREADS[oracle] = \u001b[38;5;28;01mNone\u001b[39;00m\n",
      "\u001b[36mFile \u001b[39m\u001b[32m~/.local/lib/python3.12/site-packages/keras_tuner/src/engine/oracle.py:588\u001b[39m, in \u001b[36mOracle.end_trial\u001b[39m\u001b[34m(self, trial)\u001b[39m\n\u001b[32m    586\u001b[39m \u001b[38;5;28;01mif\u001b[39;00m \u001b[38;5;129;01mnot\u001b[39;00m \u001b[38;5;28mself\u001b[39m._retry(trial):\n\u001b[32m    587\u001b[39m     \u001b[38;5;28mself\u001b[39m.end_order.append(trial.trial_id)\n\u001b[32m--> \u001b[39m\u001b[32m588\u001b[39m     \u001b[38;5;28;43mself\u001b[39;49m\u001b[43m.\u001b[49m\u001b[43m_check_consecutive_failures\u001b[49m\u001b[43m(\u001b[49m\u001b[43m)\u001b[49m\n\u001b[32m    590\u001b[39m \u001b[38;5;28mself\u001b[39m._save_trial(trial)\n\u001b[32m    591\u001b[39m \u001b[38;5;28mself\u001b[39m.save()\n",
      "\u001b[36mFile \u001b[39m\u001b[32m~/.local/lib/python3.12/site-packages/keras_tuner/src/engine/oracle.py:545\u001b[39m, in \u001b[36mOracle._check_consecutive_failures\u001b[39m\u001b[34m(self)\u001b[39m\n\u001b[32m    543\u001b[39m     consecutive_failures = \u001b[32m0\u001b[39m\n\u001b[32m    544\u001b[39m \u001b[38;5;28;01mif\u001b[39;00m consecutive_failures == \u001b[38;5;28mself\u001b[39m.max_consecutive_failed_trials:\n\u001b[32m--> \u001b[39m\u001b[32m545\u001b[39m     \u001b[38;5;28;01mraise\u001b[39;00m \u001b[38;5;167;01mRuntimeError\u001b[39;00m(\n\u001b[32m    546\u001b[39m         \u001b[33m\"\u001b[39m\u001b[33mNumber of consecutive failures exceeded the limit \u001b[39m\u001b[33m\"\u001b[39m\n\u001b[32m    547\u001b[39m         \u001b[33mf\u001b[39m\u001b[33m\"\u001b[39m\u001b[33mof \u001b[39m\u001b[38;5;132;01m{\u001b[39;00m\u001b[38;5;28mself\u001b[39m.max_consecutive_failed_trials\u001b[38;5;132;01m}\u001b[39;00m\u001b[33m.\u001b[39m\u001b[38;5;130;01m\\n\u001b[39;00m\u001b[33m\"\u001b[39m\n\u001b[32m    548\u001b[39m         + (trial.message \u001b[38;5;129;01mor\u001b[39;00m \u001b[33m\"\u001b[39m\u001b[33m\"\u001b[39m)\n\u001b[32m    549\u001b[39m     )\n",
      "\u001b[31mRuntimeError\u001b[39m: Number of consecutive failures exceeded the limit of 3.\nTraceback (most recent call last):\n  File \"/home/exouser/.local/lib/python3.12/site-packages/keras_tuner/src/engine/base_tuner.py\", line 274, in _try_run_and_update_trial\n    self._run_and_update_trial(trial, *fit_args, **fit_kwargs)\n  File \"/home/exouser/.local/lib/python3.12/site-packages/keras_tuner/src/engine/base_tuner.py\", line 239, in _run_and_update_trial\n    results = self.run_trial(trial, *fit_args, **fit_kwargs)\n              ^^^^^^^^^^^^^^^^^^^^^^^^^^^^^^^^^^^^^^^^^^^^^^\n  File \"/home/exouser/.local/lib/python3.12/site-packages/keras_tuner/src/engine/tuner.py\", line 314, in run_trial\n    obj_value = self._build_and_fit_model(trial, *args, **copied_kwargs)\n                ^^^^^^^^^^^^^^^^^^^^^^^^^^^^^^^^^^^^^^^^^^^^^^^^^^^^^^^^\n  File \"/home/exouser/.local/lib/python3.12/site-packages/keras_tuner/src/engine/tuner.py\", line 233, in _build_and_fit_model\n    results = self.hypermodel.fit(hp, model, *args, **kwargs)\n              ^^^^^^^^^^^^^^^^^^^^^^^^^^^^^^^^^^^^^^^^^^^^^^^\n  File \"/home/exouser/.local/lib/python3.12/site-packages/keras_tuner/src/engine/hypermodel.py\", line 149, in fit\n    return model.fit(*args, **kwargs)\n           ^^^^^^^^^^^^^^^^^^^^^^^^^^\n  File \"/home/exouser/.local/lib/python3.12/site-packages/keras/src/utils/traceback_utils.py\", line 122, in error_handler\n    raise e.with_traceback(filtered_tb) from None\n  File \"/home/exouser/.local/lib/python3.12/site-packages/keras/src/trainers/data_adapters/data_adapter_utils.py\", line 115, in check_data_cardinality\n    raise ValueError(msg)\nValueError: Data cardinality is ambiguous. Make sure all arrays contain the same number of samples.'x' sizes: 58645\n'y' sizes: 46916\n\n"
     ]
    }
   ],
   "source": [
    "# 1. Reproducibility\n",
    "import random\n",
    "random.seed(42)\n",
    "import numpy as np\n",
    "np.random.seed(42)\n",
    "import tensorflow as tf\n",
    "tf.random.set_seed(42)\n",
    "\n",
    "# 2. Imports\n",
    "import pandas as pd\n",
    "from sklearn.model_selection import train_test_split\n",
    "from sklearn.impute import SimpleImputer\n",
    "from sklearn.compose import ColumnTransformer\n",
    "from sklearn.preprocessing import StandardScaler, OneHotEncoder, LabelEncoder\n",
    "from sklearn.pipeline import Pipeline\n",
    "from tensorflow.keras.callbacks import EarlyStopping, ModelCheckpoint\n",
    "import json, time\n",
    "import keras_tuner as kt\n",
    "from tensorflow.keras.layers import Input, Dense, Dropout\n",
    "from tensorflow.keras.models import Model\n",
    "\n",
    "# 3. Data Loading & Target Encoding\n",
    "# Load datasets\n",
    "train_df = pd.read_csv('train.csv')\n",
    "test_df = pd.read_csv('test.csv')\n",
    "submission_template = pd.read_csv('sample_submission.csv')\n",
    "\n",
    "# Infer id_col and target_columns from sample submission\n",
    "cols = submission_template.columns.tolist()\n",
    "id_col = cols[0]\n",
    "target_col = cols[1]\n",
    "\n",
    "# Label encode target (binary classification)\n",
    "le = LabelEncoder().fit(train_df[target_col].astype(str))\n",
    "y_train = le.transform(train_df[target_col].astype(str)).astype(int)\n",
    "\n",
    "# Prepare feature matrices\n",
    "drop_cols = [id_col, target_col]\n",
    "X = train_df.drop(columns=drop_cols, errors='ignore')\n",
    "X_test = test_df.drop(columns=drop_cols, errors='ignore')\n",
    "test_ids = test_df[id_col]\n",
    "\n",
    "# 4. Feature Engineering: drop all-missing, high-cardinality categorical\n",
    "# Drop columns with all missing\n",
    "X = X.dropna(axis=1, how='all')\n",
    "X_test = X_test[X.columns]\n",
    "# Identify categorical and drop if cardinality >50\n",
    "cat_cols = X.select_dtypes(include=['object', 'category', 'bool']).columns.tolist()\n",
    "high_card = [c for c in cat_cols if X[c].nunique() > 50]\n",
    "X = X.drop(columns=high_card)\n",
    "X_test = X_test.drop(columns=high_card)\n",
    "\n",
    "# 5. Preprocessing Pipeline\n",
    "d_numeric = X.select_dtypes(include=['int64', 'float64']).columns.tolist()\n",
    "cat_features = X.select_dtypes(include=['object', 'category', 'bool']).columns.tolist()\n",
    "\n",
    "numeric_transformer = Pipeline(steps=[\n",
    "    ('imputer', SimpleImputer(strategy='median')),\n",
    "    ('scaler', StandardScaler())\n",
    "])\n",
    "categorical_transformer = Pipeline(steps=[\n",
    "    ('imputer', SimpleImputer(strategy='most_frequent')),\n",
    "    ('onehot', OneHotEncoder(sparse_output=False, handle_unknown='ignore'))\n",
    "])\n",
    "preprocessor = ColumnTransformer(transformers=[\n",
    "    ('num', numeric_transformer, d_numeric),\n",
    "    ('cat', categorical_transformer, cat_features)\n",
    "])\n",
    "\n",
    "# Fit & transform\n",
    "X_train_proc = preprocessor.fit_transform(X)\n",
    "X_test_proc = preprocessor.transform(X_test)\n",
    "\n",
    "# Split the data for validation\n",
    "X_train, X_val, y_train, y_val = train_test_split(X_train_proc, y_train, test_size=0.2, random_state=42)\n",
    "\n",
    "# 6. Model Architecture for small dataset (n_features <100)\n",
    "n_features = X_train_proc.shape[1]\n",
    "\n",
    "# Keras-Tuner Model Definition\n",
    "# Callbacks\n",
    "early_stopping = EarlyStopping(monitor='val_loss', patience=10, restore_best_weights=True)\n",
    "checkpoint = ModelCheckpoint('best_model.h5', monitor='val_loss', save_best_only=True)\n",
    "\n",
    "class MyHyperModel(kt.HyperModel):\n",
    "    def build(self, hp):\n",
    "        layers = hp.Int('layers', 2, 8)\n",
    "        units = hp.Int('units', 64, 1024, step=64)\n",
    "        act = hp.Choice('activation', ['relu'])\n",
    "        drop = hp.Float('dropout', 0.0, 0.5, step=0.1)\n",
    "        opt = hp.Choice('optimizer', ['adam'])\n",
    "        lr = hp.Float('learning_rate', 1e-5, 0.01, sampling='log')\n",
    "\n",
    "        inputs = Input(shape=(n_features,))\n",
    "        x = inputs\n",
    "        for _ in range(layers):\n",
    "            x = Dense(units, activation=act)(x)\n",
    "            x = Dropout(drop)(x)\n",
    "        outputs = Dense(1, activation='sigmoid')(x)\n",
    "        model = Model(inputs, outputs)\n",
    "        model.compile(optimizer=opt, loss='binary_crossentropy', metrics=['accuracy'])\n",
    "        return model\n",
    "\n",
    "# Tuner\n",
    "bs = 32  # Example batch size\n",
    "ep = 20  # Example epochs\n",
    "\n",
    "tuner = kt.BayesianOptimization(\n",
    "    MyHyperModel(),\n",
    "    objective='val_loss',\n",
    "    max_trials=10,\n",
    "    executions_per_trial=1,\n",
    "    seed=42,\n",
    "    overwrite=True,\n",
    "    project_name='bayesian_tuner'\n",
    ")\n",
    "\n",
    "tuner.search(\n",
    "    X_train_proc, y_train,\n",
    "    validation_data=(X_val, y_val),\n",
    "    batch_size=bs, epochs=ep,\n",
    "    callbacks=[early_stopping, checkpoint]\n",
    ")\n",
    "\n",
    "model = tuner.hypermodel.build(tuner.get_best_hyperparameters(1)[0])\n",
    "\n",
    "start_time = time.time()\n",
    "history = model.fit(\n",
    "    X_train, y_train,  # Fixed the input data to match the training labels\n",
    "    validation_data=(X_val, y_val),\n",
    "    epochs=100, batch_size=bs,\n",
    "    callbacks=[early_stopping, checkpoint],\n",
    "    verbose=2\n",
    ")\n",
    "end_time = time.time()\n",
    "\n",
    "# 9. Evaluation & Logging\n",
    "results = {\n",
    "    'training_accuracy': history.history['accuracy'][-1],\n",
    "    'training_loss': history.history['loss'][-1],\n",
    "    'validation_accuracy': history.history['val_accuracy'][-1],\n",
    "    'validation_loss': history.history['val_loss'][-1]\n",
    "}\n",
    "with open('results.json', 'w') as f:\n",
    "    json.dump(results, f)\n",
    "\n",
    "# 10. Prediction & Submission\n",
    "raw_preds = model.predict(X_test_proc)\n",
    "probs = raw_preds.flatten()\n",
    "final = (probs > 0.5).astype(int)\n",
    "submission = pd.DataFrame({id_col: test_ids.reset_index(drop=True), target_col: final})\n",
    "submission.to_csv('submission_result.csv', index=False)"
   ]
  },
  {
   "cell_type": "markdown",
   "metadata": {},
   "source": [
    "# Attempt 3 - Hint Given: `change X_train_proc to X_train`"
   ]
  },
  {
   "cell_type": "code",
   "execution_count": 2,
   "metadata": {},
   "outputs": [
    {
     "name": "stdout",
     "output_type": "stream",
     "text": [
      "Trial 10 Complete [00h 02m 12s]\n",
      "val_loss: 0.17434372007846832\n",
      "\n",
      "Best val_loss So Far: 0.17095834016799927\n",
      "Total elapsed time: 00h 22m 30s\n",
      "Epoch 1/100\n"
     ]
    },
    {
     "name": "stderr",
     "output_type": "stream",
     "text": [
      "WARNING:absl:You are saving your model as an HDF5 file via `model.save()` or `keras.saving.save_model(model)`. This file format is considered legacy. We recommend using instead the native Keras format, e.g. `model.save('my_model.keras')` or `keras.saving.save_model(model, 'my_model.keras')`. \n"
     ]
    },
    {
     "name": "stdout",
     "output_type": "stream",
     "text": [
      "1467/1467 - 12s - 8ms/step - accuracy: 0.9132 - loss: 0.2477 - val_accuracy: 0.9390 - val_loss: 0.1897\n",
      "Epoch 2/100\n"
     ]
    },
    {
     "name": "stderr",
     "output_type": "stream",
     "text": [
      "WARNING:absl:You are saving your model as an HDF5 file via `model.save()` or `keras.saving.save_model(model)`. This file format is considered legacy. We recommend using instead the native Keras format, e.g. `model.save('my_model.keras')` or `keras.saving.save_model(model, 'my_model.keras')`. \n"
     ]
    },
    {
     "name": "stdout",
     "output_type": "stream",
     "text": [
      "1467/1467 - 6s - 4ms/step - accuracy: 0.9337 - loss: 0.2107 - val_accuracy: 0.9447 - val_loss: 0.1804\n",
      "Epoch 3/100\n"
     ]
    },
    {
     "name": "stderr",
     "output_type": "stream",
     "text": [
      "WARNING:absl:You are saving your model as an HDF5 file via `model.save()` or `keras.saving.save_model(model)`. This file format is considered legacy. We recommend using instead the native Keras format, e.g. `model.save('my_model.keras')` or `keras.saving.save_model(model, 'my_model.keras')`. \n"
     ]
    },
    {
     "name": "stdout",
     "output_type": "stream",
     "text": [
      "1467/1467 - 6s - 4ms/step - accuracy: 0.9372 - loss: 0.2016 - val_accuracy: 0.9458 - val_loss: 0.1770\n",
      "Epoch 4/100\n"
     ]
    },
    {
     "name": "stderr",
     "output_type": "stream",
     "text": [
      "WARNING:absl:You are saving your model as an HDF5 file via `model.save()` or `keras.saving.save_model(model)`. This file format is considered legacy. We recommend using instead the native Keras format, e.g. `model.save('my_model.keras')` or `keras.saving.save_model(model, 'my_model.keras')`. \n"
     ]
    },
    {
     "name": "stdout",
     "output_type": "stream",
     "text": [
      "1467/1467 - 6s - 4ms/step - accuracy: 0.9397 - loss: 0.1966 - val_accuracy: 0.9462 - val_loss: 0.1758\n",
      "Epoch 5/100\n"
     ]
    },
    {
     "name": "stderr",
     "output_type": "stream",
     "text": [
      "WARNING:absl:You are saving your model as an HDF5 file via `model.save()` or `keras.saving.save_model(model)`. This file format is considered legacy. We recommend using instead the native Keras format, e.g. `model.save('my_model.keras')` or `keras.saving.save_model(model, 'my_model.keras')`. \n"
     ]
    },
    {
     "name": "stdout",
     "output_type": "stream",
     "text": [
      "1467/1467 - 6s - 4ms/step - accuracy: 0.9407 - loss: 0.1937 - val_accuracy: 0.9465 - val_loss: 0.1757\n",
      "Epoch 6/100\n"
     ]
    },
    {
     "name": "stderr",
     "output_type": "stream",
     "text": [
      "WARNING:absl:You are saving your model as an HDF5 file via `model.save()` or `keras.saving.save_model(model)`. This file format is considered legacy. We recommend using instead the native Keras format, e.g. `model.save('my_model.keras')` or `keras.saving.save_model(model, 'my_model.keras')`. \n"
     ]
    },
    {
     "name": "stdout",
     "output_type": "stream",
     "text": [
      "1467/1467 - 6s - 4ms/step - accuracy: 0.9412 - loss: 0.1926 - val_accuracy: 0.9476 - val_loss: 0.1735\n",
      "Epoch 7/100\n"
     ]
    },
    {
     "name": "stderr",
     "output_type": "stream",
     "text": [
      "WARNING:absl:You are saving your model as an HDF5 file via `model.save()` or `keras.saving.save_model(model)`. This file format is considered legacy. We recommend using instead the native Keras format, e.g. `model.save('my_model.keras')` or `keras.saving.save_model(model, 'my_model.keras')`. \n"
     ]
    },
    {
     "name": "stdout",
     "output_type": "stream",
     "text": [
      "1467/1467 - 6s - 4ms/step - accuracy: 0.9430 - loss: 0.1909 - val_accuracy: 0.9486 - val_loss: 0.1723\n",
      "Epoch 8/100\n",
      "1467/1467 - 6s - 4ms/step - accuracy: 0.9426 - loss: 0.1899 - val_accuracy: 0.9465 - val_loss: 0.1750\n",
      "Epoch 9/100\n"
     ]
    },
    {
     "name": "stderr",
     "output_type": "stream",
     "text": [
      "WARNING:absl:You are saving your model as an HDF5 file via `model.save()` or `keras.saving.save_model(model)`. This file format is considered legacy. We recommend using instead the native Keras format, e.g. `model.save('my_model.keras')` or `keras.saving.save_model(model, 'my_model.keras')`. \n"
     ]
    },
    {
     "name": "stdout",
     "output_type": "stream",
     "text": [
      "1467/1467 - 5s - 4ms/step - accuracy: 0.9436 - loss: 0.1879 - val_accuracy: 0.9488 - val_loss: 0.1716\n",
      "Epoch 10/100\n",
      "1467/1467 - 5s - 4ms/step - accuracy: 0.9439 - loss: 0.1870 - val_accuracy: 0.9477 - val_loss: 0.1724\n",
      "Epoch 11/100\n",
      "1467/1467 - 5s - 4ms/step - accuracy: 0.9443 - loss: 0.1868 - val_accuracy: 0.9490 - val_loss: 0.1716\n",
      "Epoch 12/100\n",
      "1467/1467 - 5s - 4ms/step - accuracy: 0.9449 - loss: 0.1847 - val_accuracy: 0.9475 - val_loss: 0.1741\n",
      "Epoch 13/100\n"
     ]
    },
    {
     "name": "stderr",
     "output_type": "stream",
     "text": [
      "WARNING:absl:You are saving your model as an HDF5 file via `model.save()` or `keras.saving.save_model(model)`. This file format is considered legacy. We recommend using instead the native Keras format, e.g. `model.save('my_model.keras')` or `keras.saving.save_model(model, 'my_model.keras')`. \n"
     ]
    },
    {
     "name": "stdout",
     "output_type": "stream",
     "text": [
      "1467/1467 - 6s - 4ms/step - accuracy: 0.9443 - loss: 0.1864 - val_accuracy: 0.9497 - val_loss: 0.1710\n",
      "Epoch 14/100\n",
      "1467/1467 - 5s - 4ms/step - accuracy: 0.9448 - loss: 0.1856 - val_accuracy: 0.9483 - val_loss: 0.1722\n",
      "Epoch 15/100\n",
      "1467/1467 - 5s - 3ms/step - accuracy: 0.9454 - loss: 0.1838 - val_accuracy: 0.9491 - val_loss: 0.1711\n",
      "Epoch 16/100\n",
      "1467/1467 - 5s - 4ms/step - accuracy: 0.9457 - loss: 0.1827 - val_accuracy: 0.9497 - val_loss: 0.1720\n",
      "Epoch 17/100\n",
      "1467/1467 - 7s - 5ms/step - accuracy: 0.9460 - loss: 0.1823 - val_accuracy: 0.9485 - val_loss: 0.1726\n",
      "Epoch 18/100\n",
      "1467/1467 - 6s - 4ms/step - accuracy: 0.9454 - loss: 0.1831 - val_accuracy: 0.9488 - val_loss: 0.1723\n",
      "Epoch 19/100\n",
      "1467/1467 - 6s - 4ms/step - accuracy: 0.9459 - loss: 0.1822 - val_accuracy: 0.9492 - val_loss: 0.1731\n",
      "Epoch 20/100\n",
      "1467/1467 - 6s - 4ms/step - accuracy: 0.9458 - loss: 0.1824 - val_accuracy: 0.9499 - val_loss: 0.1713\n",
      "Epoch 21/100\n",
      "1467/1467 - 5s - 4ms/step - accuracy: 0.9464 - loss: 0.1817 - val_accuracy: 0.9494 - val_loss: 0.1715\n",
      "Epoch 22/100\n",
      "1467/1467 - 5s - 4ms/step - accuracy: 0.9461 - loss: 0.1812 - val_accuracy: 0.9494 - val_loss: 0.1714\n",
      "Epoch 23/100\n",
      "1467/1467 - 5s - 4ms/step - accuracy: 0.9466 - loss: 0.1811 - val_accuracy: 0.9492 - val_loss: 0.1717\n",
      "\u001b[1m1194/1222\u001b[0m \u001b[32m━━━━━━━━━━━━━━━━━━━\u001b[0m\u001b[37m━\u001b[0m \u001b[1m0s\u001b[0m 2ms/step"
     ]
    },
    {
     "name": "stderr",
     "output_type": "stream",
     "text": [
      "2025-07-17 16:45:18.089385: I external/local_xla/xla/stream_executor/cuda/subprocess_compilation.cc:346] ptxas warning : Registers are spilled to local memory in function 'gemm_fusion_dot_18', 4 bytes spill stores, 4 bytes spill loads\n",
      "\n",
      "2025-07-17 16:45:18.129666: I external/local_xla/xla/stream_executor/cuda/subprocess_compilation.cc:346] ptxas warning : Registers are spilled to local memory in function 'gemm_fusion_dot_18', 60 bytes spill stores, 60 bytes spill loads\n",
      "\n",
      "2025-07-17 16:45:18.299965: I external/local_xla/xla/stream_executor/cuda/subprocess_compilation.cc:346] ptxas warning : Registers are spilled to local memory in function 'gemm_fusion_dot_18', 176 bytes spill stores, 176 bytes spill loads\n",
      "\n",
      "2025-07-17 16:45:18.309911: I external/local_xla/xla/stream_executor/cuda/subprocess_compilation.cc:346] ptxas warning : Registers are spilled to local memory in function 'gemm_fusion_dot_18', 136 bytes spill stores, 136 bytes spill loads\n",
      "\n",
      "2025-07-17 16:45:18.409240: I external/local_xla/xla/stream_executor/cuda/subprocess_compilation.cc:346] ptxas warning : Registers are spilled to local memory in function 'gemm_fusion_dot_18', 24 bytes spill stores, 24 bytes spill loads\n",
      "\n",
      "2025-07-17 16:45:18.458824: I external/local_xla/xla/stream_executor/cuda/subprocess_compilation.cc:346] ptxas warning : Registers are spilled to local memory in function 'gemm_fusion_dot_18', 932 bytes spill stores, 932 bytes spill loads\n",
      "\n",
      "2025-07-17 16:45:18.575753: I external/local_xla/xla/stream_executor/cuda/subprocess_compilation.cc:346] ptxas warning : Registers are spilled to local memory in function 'gemm_fusion_dot_18', 1100 bytes spill stores, 1100 bytes spill loads\n",
      "\n"
     ]
    },
    {
     "name": "stdout",
     "output_type": "stream",
     "text": [
      "\u001b[1m1222/1222\u001b[0m \u001b[32m━━━━━━━━━━━━━━━━━━━━\u001b[0m\u001b[37m\u001b[0m \u001b[1m5s\u001b[0m 3ms/step\n"
     ]
    }
   ],
   "source": [
    "# 1. Reproducibility\n",
    "import random\n",
    "random.seed(42)\n",
    "import numpy as np\n",
    "np.random.seed(42)\n",
    "import tensorflow as tf\n",
    "tf.random.set_seed(42)\n",
    "\n",
    "# 2. Imports\n",
    "import pandas as pd\n",
    "from sklearn.model_selection import train_test_split\n",
    "from sklearn.impute import SimpleImputer\n",
    "from sklearn.compose import ColumnTransformer\n",
    "from sklearn.preprocessing import StandardScaler, OneHotEncoder, LabelEncoder\n",
    "from sklearn.pipeline import Pipeline\n",
    "from tensorflow.keras.callbacks import EarlyStopping, ModelCheckpoint\n",
    "import json, time\n",
    "import keras_tuner as kt\n",
    "from tensorflow.keras.layers import Input, Dense, Dropout\n",
    "from tensorflow.keras.models import Model\n",
    "\n",
    "# 3. Data Loading & Target Encoding\n",
    "# Load datasets\n",
    "train_df = pd.read_csv('train.csv')\n",
    "test_df = pd.read_csv('test.csv')\n",
    "submission_template = pd.read_csv('sample_submission.csv')\n",
    "\n",
    "# Infer id_col and target_columns from sample submission\n",
    "cols = submission_template.columns.tolist()\n",
    "id_col = cols[0]\n",
    "target_col = cols[1]\n",
    "\n",
    "# Label encode target (binary classification)\n",
    "le = LabelEncoder().fit(train_df[target_col].astype(str))\n",
    "y_train = le.transform(train_df[target_col].astype(str)).astype(int)\n",
    "\n",
    "# Prepare feature matrices\n",
    "drop_cols = [id_col, target_col]\n",
    "X = train_df.drop(columns=drop_cols, errors='ignore')\n",
    "X_test = test_df.drop(columns=drop_cols, errors='ignore')\n",
    "test_ids = test_df[id_col]\n",
    "\n",
    "# 4. Feature Engineering: drop all-missing, high-cardinality categorical\n",
    "# Drop columns with all missing\n",
    "X = X.dropna(axis=1, how='all')\n",
    "X_test = X_test[X.columns]\n",
    "# Identify categorical and drop if cardinality >50\n",
    "cat_cols = X.select_dtypes(include=['object', 'category', 'bool']).columns.tolist()\n",
    "high_card = [c for c in cat_cols if X[c].nunique() > 50]\n",
    "X = X.drop(columns=high_card)\n",
    "X_test = X_test.drop(columns=high_card)\n",
    "\n",
    "# 5. Preprocessing Pipeline\n",
    "d_numeric = X.select_dtypes(include=['int64', 'float64']).columns.tolist()\n",
    "cat_features = X.select_dtypes(include=['object', 'category', 'bool']).columns.tolist()\n",
    "\n",
    "numeric_transformer = Pipeline(steps=[\n",
    "    ('imputer', SimpleImputer(strategy='median')),\n",
    "    ('scaler', StandardScaler())\n",
    "])\n",
    "categorical_transformer = Pipeline(steps=[\n",
    "    ('imputer', SimpleImputer(strategy='most_frequent')),\n",
    "    ('onehot', OneHotEncoder(sparse_output=False, handle_unknown='ignore'))\n",
    "])\n",
    "preprocessor = ColumnTransformer(transformers=[\n",
    "    ('num', numeric_transformer, d_numeric),\n",
    "    ('cat', categorical_transformer, cat_features)\n",
    "])\n",
    "\n",
    "# Fit & transform\n",
    "X_train_proc = preprocessor.fit_transform(X)\n",
    "X_test_proc = preprocessor.transform(X_test)\n",
    "\n",
    "# 6. Model Architecture for small dataset (n_features <100)\n",
    "n_features = X_train_proc.shape[1]\n",
    "\n",
    "# Keras-Tuner Model Definition\n",
    "# Define early stopping and model checkpoint\n",
    "early_stopping = EarlyStopping(monitor='val_loss', patience=10, restore_best_weights=True)\n",
    "checkpoint = ModelCheckpoint('best_model.h5', monitor='val_loss', save_best_only=True)\n",
    "\n",
    "class MyHyperModel(kt.HyperModel):\n",
    "    def build(self, hp):\n",
    "        layers = hp.Int('layers', 2, 8)\n",
    "        units = hp.Int('units', 64, 1024)\n",
    "        act = hp.Choice('activation', ['relu'])\n",
    "        drop = hp.Float('dropout', 0.0, 0.5)\n",
    "        opt = hp.Choice('optimizer', ['adam'])\n",
    "        lr = hp.Float('learning_rate', 1e-5, 0.01, sampling='log')\n",
    "\n",
    "        inputs = Input(shape=(n_features,))\n",
    "        x = inputs\n",
    "        for _ in range(layers):\n",
    "            x = Dense(units, activation=act)(x)\n",
    "            x = Dropout(drop)(x)\n",
    "        outputs = Dense(1, activation='sigmoid')(x)\n",
    "        model = Model(inputs, outputs)\n",
    "        model.compile(optimizer=opt, loss='binary_crossentropy', metrics=['accuracy'])\n",
    "        return model\n",
    "\n",
    "# Initialize the tuner\n",
    "bs = 32  # batch size\n",
    "ep = 20  # epochs\n",
    "\n",
    "# Split the data for validation\n",
    "X_train, X_val, y_train, y_val = train_test_split(X_train_proc, y_train, test_size=0.2, random_state=42)\n",
    "\n",
    "# Search for the best hyperparameters\n",
    "tuner = kt.BayesianOptimization(\n",
    "    MyHyperModel(),\n",
    "    objective='val_loss',\n",
    "    max_trials=10,\n",
    "    executions_per_trial=1,\n",
    "    seed=42,\n",
    "    overwrite=True,\n",
    "    project_name='bayesian_tuner'\n",
    ")\n",
    "\n",
    "tuner.search(\n",
    "    X_train, y_train,\n",
    "    validation_data=(X_val, y_val),\n",
    "    batch_size=bs, epochs=ep,\n",
    "    callbacks=[early_stopping, checkpoint]\n",
    ")\n",
    "\n",
    "# Build the best model\n",
    "model = tuner.hypermodel.build(tuner.get_best_hyperparameters(1)[0])\n",
    "\n",
    "# Retrain the model with original callbacks and data\n",
    "start_time = time.time()\n",
    "history = model.fit(\n",
    "    X_train, y_train,  # Changed X_train_proc to X_train\n",
    "    validation_data=(X_val, y_val),\n",
    "    epochs=100, batch_size=bs,\n",
    "    callbacks=[early_stopping, checkpoint],\n",
    "    verbose=2\n",
    ")\n",
    "duration = time.time() - start_time\n",
    "\n",
    "# 9. Evaluation & Logging\n",
    "results = {\n",
    "    'training_accuracy': history.history['accuracy'][-1],\n",
    "    'training_loss': history.history['loss'][-1],\n",
    "    'validation_accuracy': history.history['val_accuracy'][-1],\n",
    "    'validation_loss': history.history['val_loss'][-1]\n",
    "}\n",
    "with open('results.json', 'w') as f:\n",
    "    json.dump(results, f)\n",
    "\n",
    "# 10. Prediction & Submission\n",
    "raw_preds = model.predict(X_test_proc)\n",
    "probs = raw_preds.flatten()\n",
    "final = (probs > 0.5).astype(int)\n",
    "submission = pd.DataFrame({id_col: test_ids.reset_index(drop=True), target_col: final})\n",
    "submission.to_csv('submission_result.csv', index=False)"
   ]
  },
  {
   "cell_type": "code",
   "execution_count": null,
   "metadata": {},
   "outputs": [
    {
     "name": "stdout",
     "output_type": "stream",
     "text": [
      "138.574481\n"
     ]
    }
   ],
   "source": [
    "print(duration)"
   ]
  }
 ],
 "metadata": {
  "kernelspec": {
   "display_name": "Python 3",
   "language": "python",
   "name": "python3"
  },
  "language_info": {
   "codemirror_mode": {
    "name": "ipython",
    "version": 3
   },
   "file_extension": ".py",
   "mimetype": "text/x-python",
   "name": "python",
   "nbconvert_exporter": "python",
   "pygments_lexer": "ipython3",
   "version": "3.12.3"
  }
 },
 "nbformat": 4,
 "nbformat_minor": 2
}
