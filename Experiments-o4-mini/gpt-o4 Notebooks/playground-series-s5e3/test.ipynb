{
 "cells": [
  {
   "cell_type": "markdown",
   "metadata": {},
   "source": [
    "# Binary Prediction with a Rainfall Dataset\n"
   ]
  },
  {
   "cell_type": "markdown",
   "metadata": {},
   "source": [
    "## Keras - 1 Attempt"
   ]
  },
  {
   "cell_type": "markdown",
   "metadata": {},
   "source": [
    "## Attempt 1"
   ]
  },
  {
   "cell_type": "code",
   "execution_count": null,
   "metadata": {},
   "outputs": [
    {
     "name": "stderr",
     "output_type": "stream",
     "text": [
      "2025-07-09 21:22:03.749045: E external/local_xla/xla/stream_executor/cuda/cuda_fft.cc:467] Unable to register cuFFT factory: Attempting to register factory for plugin cuFFT when one has already been registered\n",
      "WARNING: All log messages before absl::InitializeLog() is called are written to STDERR\n",
      "E0000 00:00:1752096123.768278  898713 cuda_dnn.cc:8579] Unable to register cuDNN factory: Attempting to register factory for plugin cuDNN when one has already been registered\n",
      "E0000 00:00:1752096123.774108  898713 cuda_blas.cc:1407] Unable to register cuBLAS factory: Attempting to register factory for plugin cuBLAS when one has already been registered\n",
      "W0000 00:00:1752096123.790124  898713 computation_placer.cc:177] computation placer already registered. Please check linkage and avoid linking the same target more than once.\n",
      "W0000 00:00:1752096123.790139  898713 computation_placer.cc:177] computation placer already registered. Please check linkage and avoid linking the same target more than once.\n",
      "W0000 00:00:1752096123.790142  898713 computation_placer.cc:177] computation placer already registered. Please check linkage and avoid linking the same target more than once.\n",
      "W0000 00:00:1752096123.790143  898713 computation_placer.cc:177] computation placer already registered. Please check linkage and avoid linking the same target more than once.\n",
      "2025-07-09 21:22:03.795785: I tensorflow/core/platform/cpu_feature_guard.cc:210] This TensorFlow binary is optimized to use available CPU instructions in performance-critical operations.\n",
      "To enable the following instructions: AVX2 FMA, in other operations, rebuild TensorFlow with the appropriate compiler flags.\n"
     ]
    },
    {
     "name": "stdout",
     "output_type": "stream",
     "text": [
      "Epoch 1/100\n"
     ]
    },
    {
     "name": "stderr",
     "output_type": "stream",
     "text": [
      "2025-07-09 21:22:06.458931: E external/local_xla/xla/stream_executor/cuda/cuda_platform.cc:51] failed call to cuInit: INTERNAL: CUDA error: Failed call to cuInit: CUDA_ERROR_NO_DEVICE: no CUDA-capable device is detected\n",
      "WARNING:absl:You are saving your model as an HDF5 file via `model.save()` or `keras.saving.save_model(model)`. This file format is considered legacy. We recommend using instead the native Keras format, e.g. `model.save('my_model.keras')` or `keras.saving.save_model(model, 'my_model.keras')`. \n"
     ]
    },
    {
     "name": "stdout",
     "output_type": "stream",
     "text": [
      "28/28 - 1s - 49ms/step - accuracy: 0.3801 - auc: 0.5648 - loss: 0.9037 - val_accuracy: 0.5091 - val_auc: 0.6990 - val_loss: 0.6978\n",
      "Epoch 2/100\n"
     ]
    },
    {
     "name": "stderr",
     "output_type": "stream",
     "text": [
      "WARNING:absl:You are saving your model as an HDF5 file via `model.save()` or `keras.saving.save_model(model)`. This file format is considered legacy. We recommend using instead the native Keras format, e.g. `model.save('my_model.keras')` or `keras.saving.save_model(model, 'my_model.keras')`. \n"
     ]
    },
    {
     "name": "stdout",
     "output_type": "stream",
     "text": [
      "28/28 - 0s - 5ms/step - accuracy: 0.6273 - auc: 0.6608 - loss: 0.6338 - val_accuracy: 0.7991 - val_auc: 0.8037 - val_loss: 0.5232\n",
      "Epoch 3/100\n"
     ]
    },
    {
     "name": "stderr",
     "output_type": "stream",
     "text": [
      "WARNING:absl:You are saving your model as an HDF5 file via `model.save()` or `keras.saving.save_model(model)`. This file format is considered legacy. We recommend using instead the native Keras format, e.g. `model.save('my_model.keras')` or `keras.saving.save_model(model, 'my_model.keras')`. \n"
     ]
    },
    {
     "name": "stdout",
     "output_type": "stream",
     "text": [
      "28/28 - 0s - 4ms/step - accuracy: 0.7494 - auc: 0.7300 - loss: 0.5317 - val_accuracy: 0.8219 - val_auc: 0.8343 - val_loss: 0.4509\n",
      "Epoch 4/100\n"
     ]
    },
    {
     "name": "stderr",
     "output_type": "stream",
     "text": [
      "WARNING:absl:You are saving your model as an HDF5 file via `model.save()` or `keras.saving.save_model(model)`. This file format is considered legacy. We recommend using instead the native Keras format, e.g. `model.save('my_model.keras')` or `keras.saving.save_model(model, 'my_model.keras')`. \n"
     ]
    },
    {
     "name": "stdout",
     "output_type": "stream",
     "text": [
      "28/28 - 0s - 4ms/step - accuracy: 0.7820 - auc: 0.7775 - loss: 0.4802 - val_accuracy: 0.8311 - val_auc: 0.8533 - val_loss: 0.4111\n",
      "Epoch 5/100\n"
     ]
    },
    {
     "name": "stderr",
     "output_type": "stream",
     "text": [
      "WARNING:absl:You are saving your model as an HDF5 file via `model.save()` or `keras.saving.save_model(model)`. This file format is considered legacy. We recommend using instead the native Keras format, e.g. `model.save('my_model.keras')` or `keras.saving.save_model(model, 'my_model.keras')`. \n"
     ]
    },
    {
     "name": "stdout",
     "output_type": "stream",
     "text": [
      "28/28 - 0s - 4ms/step - accuracy: 0.7997 - auc: 0.8074 - loss: 0.4492 - val_accuracy: 0.8356 - val_auc: 0.8616 - val_loss: 0.3897\n",
      "Epoch 6/100\n"
     ]
    },
    {
     "name": "stderr",
     "output_type": "stream",
     "text": [
      "WARNING:absl:You are saving your model as an HDF5 file via `model.save()` or `keras.saving.save_model(model)`. This file format is considered legacy. We recommend using instead the native Keras format, e.g. `model.save('my_model.keras')` or `keras.saving.save_model(model, 'my_model.keras')`. \n"
     ]
    },
    {
     "name": "stdout",
     "output_type": "stream",
     "text": [
      "28/28 - 0s - 4ms/step - accuracy: 0.8151 - auc: 0.8359 - loss: 0.4196 - val_accuracy: 0.8425 - val_auc: 0.8645 - val_loss: 0.3770\n",
      "Epoch 7/100\n"
     ]
    },
    {
     "name": "stderr",
     "output_type": "stream",
     "text": [
      "WARNING:absl:You are saving your model as an HDF5 file via `model.save()` or `keras.saving.save_model(model)`. This file format is considered legacy. We recommend using instead the native Keras format, e.g. `model.save('my_model.keras')` or `keras.saving.save_model(model, 'my_model.keras')`. \n"
     ]
    },
    {
     "name": "stdout",
     "output_type": "stream",
     "text": [
      "28/28 - 0s - 5ms/step - accuracy: 0.8356 - auc: 0.8313 - loss: 0.4231 - val_accuracy: 0.8584 - val_auc: 0.8677 - val_loss: 0.3701\n",
      "Epoch 8/100\n"
     ]
    },
    {
     "name": "stderr",
     "output_type": "stream",
     "text": [
      "WARNING:absl:You are saving your model as an HDF5 file via `model.save()` or `keras.saving.save_model(model)`. This file format is considered legacy. We recommend using instead the native Keras format, e.g. `model.save('my_model.keras')` or `keras.saving.save_model(model, 'my_model.keras')`. \n"
     ]
    },
    {
     "name": "stdout",
     "output_type": "stream",
     "text": [
      "28/28 - 0s - 4ms/step - accuracy: 0.8253 - auc: 0.8503 - loss: 0.4022 - val_accuracy: 0.8653 - val_auc: 0.8704 - val_loss: 0.3659\n",
      "Epoch 9/100\n"
     ]
    },
    {
     "name": "stderr",
     "output_type": "stream",
     "text": [
      "WARNING:absl:You are saving your model as an HDF5 file via `model.save()` or `keras.saving.save_model(model)`. This file format is considered legacy. We recommend using instead the native Keras format, e.g. `model.save('my_model.keras')` or `keras.saving.save_model(model, 'my_model.keras')`. \n"
     ]
    },
    {
     "name": "stdout",
     "output_type": "stream",
     "text": [
      "28/28 - 0s - 4ms/step - accuracy: 0.8311 - auc: 0.8494 - loss: 0.3994 - val_accuracy: 0.8676 - val_auc: 0.8718 - val_loss: 0.3631\n",
      "Epoch 10/100\n"
     ]
    },
    {
     "name": "stderr",
     "output_type": "stream",
     "text": [
      "WARNING:absl:You are saving your model as an HDF5 file via `model.save()` or `keras.saving.save_model(model)`. This file format is considered legacy. We recommend using instead the native Keras format, e.g. `model.save('my_model.keras')` or `keras.saving.save_model(model, 'my_model.keras')`. \n"
     ]
    },
    {
     "name": "stdout",
     "output_type": "stream",
     "text": [
      "28/28 - 0s - 4ms/step - accuracy: 0.8350 - auc: 0.8513 - loss: 0.4016 - val_accuracy: 0.8676 - val_auc: 0.8733 - val_loss: 0.3610\n",
      "Epoch 11/100\n"
     ]
    },
    {
     "name": "stderr",
     "output_type": "stream",
     "text": [
      "WARNING:absl:You are saving your model as an HDF5 file via `model.save()` or `keras.saving.save_model(model)`. This file format is considered legacy. We recommend using instead the native Keras format, e.g. `model.save('my_model.keras')` or `keras.saving.save_model(model, 'my_model.keras')`. \n"
     ]
    },
    {
     "name": "stdout",
     "output_type": "stream",
     "text": [
      "28/28 - 0s - 4ms/step - accuracy: 0.8413 - auc: 0.8580 - loss: 0.3930 - val_accuracy: 0.8721 - val_auc: 0.8750 - val_loss: 0.3597\n",
      "Epoch 12/100\n"
     ]
    },
    {
     "name": "stderr",
     "output_type": "stream",
     "text": [
      "WARNING:absl:You are saving your model as an HDF5 file via `model.save()` or `keras.saving.save_model(model)`. This file format is considered legacy. We recommend using instead the native Keras format, e.g. `model.save('my_model.keras')` or `keras.saving.save_model(model, 'my_model.keras')`. \n"
     ]
    },
    {
     "name": "stdout",
     "output_type": "stream",
     "text": [
      "28/28 - 0s - 4ms/step - accuracy: 0.8447 - auc: 0.8567 - loss: 0.3977 - val_accuracy: 0.8676 - val_auc: 0.8751 - val_loss: 0.3587\n",
      "Epoch 13/100\n"
     ]
    },
    {
     "name": "stderr",
     "output_type": "stream",
     "text": [
      "WARNING:absl:You are saving your model as an HDF5 file via `model.save()` or `keras.saving.save_model(model)`. This file format is considered legacy. We recommend using instead the native Keras format, e.g. `model.save('my_model.keras')` or `keras.saving.save_model(model, 'my_model.keras')`. \n"
     ]
    },
    {
     "name": "stdout",
     "output_type": "stream",
     "text": [
      "28/28 - 0s - 5ms/step - accuracy: 0.8567 - auc: 0.8671 - loss: 0.3753 - val_accuracy: 0.8676 - val_auc: 0.8751 - val_loss: 0.3579\n",
      "Epoch 14/100\n",
      "28/28 - 0s - 4ms/step - accuracy: 0.8385 - auc: 0.8648 - loss: 0.3814 - val_accuracy: 0.8653 - val_auc: 0.8744 - val_loss: 0.3583\n",
      "Epoch 15/100\n"
     ]
    },
    {
     "name": "stderr",
     "output_type": "stream",
     "text": [
      "WARNING:absl:You are saving your model as an HDF5 file via `model.save()` or `keras.saving.save_model(model)`. This file format is considered legacy. We recommend using instead the native Keras format, e.g. `model.save('my_model.keras')` or `keras.saving.save_model(model, 'my_model.keras')`. \n"
     ]
    },
    {
     "name": "stdout",
     "output_type": "stream",
     "text": [
      "28/28 - 0s - 4ms/step - accuracy: 0.8482 - auc: 0.8690 - loss: 0.3757 - val_accuracy: 0.8653 - val_auc: 0.8753 - val_loss: 0.3576\n",
      "Epoch 16/100\n"
     ]
    },
    {
     "name": "stderr",
     "output_type": "stream",
     "text": [
      "WARNING:absl:You are saving your model as an HDF5 file via `model.save()` or `keras.saving.save_model(model)`. This file format is considered legacy. We recommend using instead the native Keras format, e.g. `model.save('my_model.keras')` or `keras.saving.save_model(model, 'my_model.keras')`. \n"
     ]
    },
    {
     "name": "stdout",
     "output_type": "stream",
     "text": [
      "28/28 - 0s - 4ms/step - accuracy: 0.8493 - auc: 0.8658 - loss: 0.3802 - val_accuracy: 0.8676 - val_auc: 0.8748 - val_loss: 0.3568\n",
      "Epoch 17/100\n"
     ]
    },
    {
     "name": "stderr",
     "output_type": "stream",
     "text": [
      "WARNING:absl:You are saving your model as an HDF5 file via `model.save()` or `keras.saving.save_model(model)`. This file format is considered legacy. We recommend using instead the native Keras format, e.g. `model.save('my_model.keras')` or `keras.saving.save_model(model, 'my_model.keras')`. \n"
     ]
    },
    {
     "name": "stdout",
     "output_type": "stream",
     "text": [
      "28/28 - 0s - 4ms/step - accuracy: 0.8573 - auc: 0.8773 - loss: 0.3613 - val_accuracy: 0.8676 - val_auc: 0.8756 - val_loss: 0.3560\n",
      "Epoch 18/100\n"
     ]
    },
    {
     "name": "stderr",
     "output_type": "stream",
     "text": [
      "WARNING:absl:You are saving your model as an HDF5 file via `model.save()` or `keras.saving.save_model(model)`. This file format is considered legacy. We recommend using instead the native Keras format, e.g. `model.save('my_model.keras')` or `keras.saving.save_model(model, 'my_model.keras')`. \n"
     ]
    },
    {
     "name": "stdout",
     "output_type": "stream",
     "text": [
      "28/28 - 0s - 4ms/step - accuracy: 0.8482 - auc: 0.8706 - loss: 0.3731 - val_accuracy: 0.8676 - val_auc: 0.8761 - val_loss: 0.3554\n",
      "Epoch 19/100\n"
     ]
    },
    {
     "name": "stderr",
     "output_type": "stream",
     "text": [
      "WARNING:absl:You are saving your model as an HDF5 file via `model.save()` or `keras.saving.save_model(model)`. This file format is considered legacy. We recommend using instead the native Keras format, e.g. `model.save('my_model.keras')` or `keras.saving.save_model(model, 'my_model.keras')`. \n"
     ]
    },
    {
     "name": "stdout",
     "output_type": "stream",
     "text": [
      "28/28 - 0s - 4ms/step - accuracy: 0.8505 - auc: 0.8750 - loss: 0.3644 - val_accuracy: 0.8676 - val_auc: 0.8758 - val_loss: 0.3553\n",
      "Epoch 20/100\n"
     ]
    },
    {
     "name": "stderr",
     "output_type": "stream",
     "text": [
      "WARNING:absl:You are saving your model as an HDF5 file via `model.save()` or `keras.saving.save_model(model)`. This file format is considered legacy. We recommend using instead the native Keras format, e.g. `model.save('my_model.keras')` or `keras.saving.save_model(model, 'my_model.keras')`. \n"
     ]
    },
    {
     "name": "stdout",
     "output_type": "stream",
     "text": [
      "28/28 - 0s - 4ms/step - accuracy: 0.8539 - auc: 0.8735 - loss: 0.3705 - val_accuracy: 0.8699 - val_auc: 0.8768 - val_loss: 0.3549\n",
      "Epoch 21/100\n"
     ]
    },
    {
     "name": "stderr",
     "output_type": "stream",
     "text": [
      "WARNING:absl:You are saving your model as an HDF5 file via `model.save()` or `keras.saving.save_model(model)`. This file format is considered legacy. We recommend using instead the native Keras format, e.g. `model.save('my_model.keras')` or `keras.saving.save_model(model, 'my_model.keras')`. \n"
     ]
    },
    {
     "name": "stdout",
     "output_type": "stream",
     "text": [
      "28/28 - 0s - 4ms/step - accuracy: 0.8602 - auc: 0.8802 - loss: 0.3609 - val_accuracy: 0.8699 - val_auc: 0.8767 - val_loss: 0.3541\n",
      "Epoch 22/100\n"
     ]
    },
    {
     "name": "stderr",
     "output_type": "stream",
     "text": [
      "WARNING:absl:You are saving your model as an HDF5 file via `model.save()` or `keras.saving.save_model(model)`. This file format is considered legacy. We recommend using instead the native Keras format, e.g. `model.save('my_model.keras')` or `keras.saving.save_model(model, 'my_model.keras')`. \n"
     ]
    },
    {
     "name": "stdout",
     "output_type": "stream",
     "text": [
      "28/28 - 0s - 4ms/step - accuracy: 0.8573 - auc: 0.8890 - loss: 0.3484 - val_accuracy: 0.8699 - val_auc: 0.8775 - val_loss: 0.3536\n",
      "Epoch 23/100\n",
      "28/28 - 0s - 4ms/step - accuracy: 0.8596 - auc: 0.8843 - loss: 0.3539 - val_accuracy: 0.8676 - val_auc: 0.8774 - val_loss: 0.3543\n",
      "Epoch 24/100\n"
     ]
    },
    {
     "name": "stderr",
     "output_type": "stream",
     "text": [
      "WARNING:absl:You are saving your model as an HDF5 file via `model.save()` or `keras.saving.save_model(model)`. This file format is considered legacy. We recommend using instead the native Keras format, e.g. `model.save('my_model.keras')` or `keras.saving.save_model(model, 'my_model.keras')`. \n"
     ]
    },
    {
     "name": "stdout",
     "output_type": "stream",
     "text": [
      "28/28 - 0s - 4ms/step - accuracy: 0.8470 - auc: 0.8641 - loss: 0.3785 - val_accuracy: 0.8699 - val_auc: 0.8773 - val_loss: 0.3533\n",
      "Epoch 25/100\n"
     ]
    },
    {
     "name": "stderr",
     "output_type": "stream",
     "text": [
      "WARNING:absl:You are saving your model as an HDF5 file via `model.save()` or `keras.saving.save_model(model)`. This file format is considered legacy. We recommend using instead the native Keras format, e.g. `model.save('my_model.keras')` or `keras.saving.save_model(model, 'my_model.keras')`. \n"
     ]
    },
    {
     "name": "stdout",
     "output_type": "stream",
     "text": [
      "28/28 - 0s - 4ms/step - accuracy: 0.8647 - auc: 0.8827 - loss: 0.3564 - val_accuracy: 0.8699 - val_auc: 0.8775 - val_loss: 0.3529\n",
      "Epoch 26/100\n"
     ]
    },
    {
     "name": "stderr",
     "output_type": "stream",
     "text": [
      "WARNING:absl:You are saving your model as an HDF5 file via `model.save()` or `keras.saving.save_model(model)`. This file format is considered legacy. We recommend using instead the native Keras format, e.g. `model.save('my_model.keras')` or `keras.saving.save_model(model, 'my_model.keras')`. \n"
     ]
    },
    {
     "name": "stdout",
     "output_type": "stream",
     "text": [
      "28/28 - 0s - 4ms/step - accuracy: 0.8533 - auc: 0.8760 - loss: 0.3637 - val_accuracy: 0.8699 - val_auc: 0.8780 - val_loss: 0.3527\n",
      "Epoch 27/100\n",
      "28/28 - 0s - 4ms/step - accuracy: 0.8533 - auc: 0.8852 - loss: 0.3524 - val_accuracy: 0.8699 - val_auc: 0.8780 - val_loss: 0.3528\n",
      "Epoch 28/100\n"
     ]
    },
    {
     "name": "stderr",
     "output_type": "stream",
     "text": [
      "WARNING:absl:You are saving your model as an HDF5 file via `model.save()` or `keras.saving.save_model(model)`. This file format is considered legacy. We recommend using instead the native Keras format, e.g. `model.save('my_model.keras')` or `keras.saving.save_model(model, 'my_model.keras')`. \n"
     ]
    },
    {
     "name": "stdout",
     "output_type": "stream",
     "text": [
      "28/28 - 0s - 4ms/step - accuracy: 0.8647 - auc: 0.8801 - loss: 0.3626 - val_accuracy: 0.8699 - val_auc: 0.8774 - val_loss: 0.3520\n",
      "Epoch 29/100\n",
      "28/28 - 0s - 4ms/step - accuracy: 0.8630 - auc: 0.8875 - loss: 0.3479 - val_accuracy: 0.8699 - val_auc: 0.8781 - val_loss: 0.3524\n",
      "Epoch 30/100\n",
      "28/28 - 0s - 4ms/step - accuracy: 0.8550 - auc: 0.8800 - loss: 0.3619 - val_accuracy: 0.8699 - val_auc: 0.8785 - val_loss: 0.3529\n",
      "Epoch 31/100\n",
      "28/28 - 0s - 4ms/step - accuracy: 0.8647 - auc: 0.8903 - loss: 0.3468 - val_accuracy: 0.8699 - val_auc: 0.8779 - val_loss: 0.3526\n",
      "Epoch 32/100\n",
      "28/28 - 0s - 4ms/step - accuracy: 0.8619 - auc: 0.8810 - loss: 0.3577 - val_accuracy: 0.8699 - val_auc: 0.8778 - val_loss: 0.3523\n",
      "Epoch 33/100\n"
     ]
    },
    {
     "name": "stderr",
     "output_type": "stream",
     "text": [
      "WARNING:absl:You are saving your model as an HDF5 file via `model.save()` or `keras.saving.save_model(model)`. This file format is considered legacy. We recommend using instead the native Keras format, e.g. `model.save('my_model.keras')` or `keras.saving.save_model(model, 'my_model.keras')`. \n"
     ]
    },
    {
     "name": "stdout",
     "output_type": "stream",
     "text": [
      "28/28 - 0s - 4ms/step - accuracy: 0.8647 - auc: 0.8832 - loss: 0.3542 - val_accuracy: 0.8699 - val_auc: 0.8779 - val_loss: 0.3513\n",
      "Epoch 34/100\n",
      "28/28 - 0s - 4ms/step - accuracy: 0.8545 - auc: 0.8795 - loss: 0.3588 - val_accuracy: 0.8699 - val_auc: 0.8775 - val_loss: 0.3513\n",
      "Epoch 35/100\n"
     ]
    },
    {
     "name": "stderr",
     "output_type": "stream",
     "text": [
      "WARNING:absl:You are saving your model as an HDF5 file via `model.save()` or `keras.saving.save_model(model)`. This file format is considered legacy. We recommend using instead the native Keras format, e.g. `model.save('my_model.keras')` or `keras.saving.save_model(model, 'my_model.keras')`. \n"
     ]
    },
    {
     "name": "stdout",
     "output_type": "stream",
     "text": [
      "28/28 - 0s - 4ms/step - accuracy: 0.8647 - auc: 0.8856 - loss: 0.3493 - val_accuracy: 0.8699 - val_auc: 0.8786 - val_loss: 0.3509\n",
      "Epoch 36/100\n",
      "28/28 - 0s - 4ms/step - accuracy: 0.8584 - auc: 0.8858 - loss: 0.3482 - val_accuracy: 0.8699 - val_auc: 0.8788 - val_loss: 0.3512\n",
      "Epoch 37/100\n",
      "28/28 - 0s - 4ms/step - accuracy: 0.8636 - auc: 0.8818 - loss: 0.3560 - val_accuracy: 0.8699 - val_auc: 0.8793 - val_loss: 0.3509\n",
      "Epoch 38/100\n",
      "28/28 - 0s - 4ms/step - accuracy: 0.8596 - auc: 0.8837 - loss: 0.3558 - val_accuracy: 0.8699 - val_auc: 0.8785 - val_loss: 0.3511\n",
      "Epoch 39/100\n"
     ]
    },
    {
     "name": "stderr",
     "output_type": "stream",
     "text": [
      "WARNING:absl:You are saving your model as an HDF5 file via `model.save()` or `keras.saving.save_model(model)`. This file format is considered legacy. We recommend using instead the native Keras format, e.g. `model.save('my_model.keras')` or `keras.saving.save_model(model, 'my_model.keras')`. \n"
     ]
    },
    {
     "name": "stdout",
     "output_type": "stream",
     "text": [
      "28/28 - 0s - 4ms/step - accuracy: 0.8647 - auc: 0.8805 - loss: 0.3551 - val_accuracy: 0.8676 - val_auc: 0.8789 - val_loss: 0.3501\n",
      "Epoch 40/100\n",
      "28/28 - 0s - 4ms/step - accuracy: 0.8624 - auc: 0.8827 - loss: 0.3555 - val_accuracy: 0.8653 - val_auc: 0.8789 - val_loss: 0.3505\n",
      "Epoch 41/100\n",
      "28/28 - 0s - 4ms/step - accuracy: 0.8579 - auc: 0.8865 - loss: 0.3502 - val_accuracy: 0.8676 - val_auc: 0.8786 - val_loss: 0.3506\n",
      "Epoch 42/100\n",
      "28/28 - 0s - 5ms/step - accuracy: 0.8647 - auc: 0.8868 - loss: 0.3478 - val_accuracy: 0.8676 - val_auc: 0.8788 - val_loss: 0.3507\n",
      "Epoch 43/100\n",
      "28/28 - 0s - 4ms/step - accuracy: 0.8676 - auc: 0.8965 - loss: 0.3359 - val_accuracy: 0.8676 - val_auc: 0.8788 - val_loss: 0.3513\n",
      "Epoch 44/100\n",
      "28/28 - 0s - 4ms/step - accuracy: 0.8653 - auc: 0.8889 - loss: 0.3459 - val_accuracy: 0.8676 - val_auc: 0.8789 - val_loss: 0.3508\n",
      "Epoch 45/100\n",
      "28/28 - 0s - 4ms/step - accuracy: 0.8659 - auc: 0.8824 - loss: 0.3551 - val_accuracy: 0.8676 - val_auc: 0.8794 - val_loss: 0.3507\n",
      "Epoch 46/100\n"
     ]
    },
    {
     "name": "stderr",
     "output_type": "stream",
     "text": [
      "WARNING:absl:You are saving your model as an HDF5 file via `model.save()` or `keras.saving.save_model(model)`. This file format is considered legacy. We recommend using instead the native Keras format, e.g. `model.save('my_model.keras')` or `keras.saving.save_model(model, 'my_model.keras')`. \n"
     ]
    },
    {
     "name": "stdout",
     "output_type": "stream",
     "text": [
      "28/28 - 0s - 4ms/step - accuracy: 0.8613 - auc: 0.8799 - loss: 0.3607 - val_accuracy: 0.8699 - val_auc: 0.8793 - val_loss: 0.3499\n",
      "Epoch 47/100\n"
     ]
    },
    {
     "name": "stderr",
     "output_type": "stream",
     "text": [
      "WARNING:absl:You are saving your model as an HDF5 file via `model.save()` or `keras.saving.save_model(model)`. This file format is considered legacy. We recommend using instead the native Keras format, e.g. `model.save('my_model.keras')` or `keras.saving.save_model(model, 'my_model.keras')`. \n"
     ]
    },
    {
     "name": "stdout",
     "output_type": "stream",
     "text": [
      "28/28 - 0s - 4ms/step - accuracy: 0.8704 - auc: 0.8895 - loss: 0.3420 - val_accuracy: 0.8676 - val_auc: 0.8791 - val_loss: 0.3495\n",
      "Epoch 48/100\n",
      "28/28 - 0s - 4ms/step - accuracy: 0.8607 - auc: 0.8813 - loss: 0.3551 - val_accuracy: 0.8676 - val_auc: 0.8795 - val_loss: 0.3496\n",
      "Epoch 49/100\n"
     ]
    },
    {
     "name": "stderr",
     "output_type": "stream",
     "text": [
      "WARNING:absl:You are saving your model as an HDF5 file via `model.save()` or `keras.saving.save_model(model)`. This file format is considered legacy. We recommend using instead the native Keras format, e.g. `model.save('my_model.keras')` or `keras.saving.save_model(model, 'my_model.keras')`. \n"
     ]
    },
    {
     "name": "stdout",
     "output_type": "stream",
     "text": [
      "28/28 - 0s - 4ms/step - accuracy: 0.8636 - auc: 0.8883 - loss: 0.3473 - val_accuracy: 0.8676 - val_auc: 0.8794 - val_loss: 0.3493\n",
      "Epoch 50/100\n",
      "28/28 - 0s - 4ms/step - accuracy: 0.8636 - auc: 0.8895 - loss: 0.3430 - val_accuracy: 0.8676 - val_auc: 0.8790 - val_loss: 0.3497\n",
      "Epoch 51/100\n",
      "28/28 - 0s - 4ms/step - accuracy: 0.8704 - auc: 0.8894 - loss: 0.3446 - val_accuracy: 0.8676 - val_auc: 0.8800 - val_loss: 0.3500\n",
      "Epoch 52/100\n"
     ]
    },
    {
     "name": "stderr",
     "output_type": "stream",
     "text": [
      "WARNING:absl:You are saving your model as an HDF5 file via `model.save()` or `keras.saving.save_model(model)`. This file format is considered legacy. We recommend using instead the native Keras format, e.g. `model.save('my_model.keras')` or `keras.saving.save_model(model, 'my_model.keras')`. \n"
     ]
    },
    {
     "name": "stdout",
     "output_type": "stream",
     "text": [
      "28/28 - 0s - 4ms/step - accuracy: 0.8664 - auc: 0.8823 - loss: 0.3532 - val_accuracy: 0.8699 - val_auc: 0.8797 - val_loss: 0.3490\n",
      "Epoch 53/100\n",
      "28/28 - 0s - 4ms/step - accuracy: 0.8630 - auc: 0.8857 - loss: 0.3491 - val_accuracy: 0.8676 - val_auc: 0.8793 - val_loss: 0.3501\n",
      "Epoch 54/100\n",
      "28/28 - 0s - 4ms/step - accuracy: 0.8642 - auc: 0.8882 - loss: 0.3482 - val_accuracy: 0.8676 - val_auc: 0.8791 - val_loss: 0.3506\n",
      "Epoch 55/100\n",
      "28/28 - 0s - 4ms/step - accuracy: 0.8710 - auc: 0.8926 - loss: 0.3393 - val_accuracy: 0.8676 - val_auc: 0.8793 - val_loss: 0.3497\n",
      "Epoch 56/100\n",
      "28/28 - 0s - 4ms/step - accuracy: 0.8636 - auc: 0.8885 - loss: 0.3461 - val_accuracy: 0.8676 - val_auc: 0.8789 - val_loss: 0.3503\n",
      "Epoch 57/100\n",
      "28/28 - 0s - 4ms/step - accuracy: 0.8676 - auc: 0.8882 - loss: 0.3437 - val_accuracy: 0.8653 - val_auc: 0.8790 - val_loss: 0.3513\n",
      "Epoch 58/100\n",
      "28/28 - 0s - 4ms/step - accuracy: 0.8642 - auc: 0.8916 - loss: 0.3428 - val_accuracy: 0.8630 - val_auc: 0.8780 - val_loss: 0.3515\n",
      "Epoch 59/100\n",
      "28/28 - 0s - 4ms/step - accuracy: 0.8716 - auc: 0.8969 - loss: 0.3357 - val_accuracy: 0.8630 - val_auc: 0.8783 - val_loss: 0.3514\n",
      "Epoch 60/100\n",
      "28/28 - 0s - 4ms/step - accuracy: 0.8642 - auc: 0.8939 - loss: 0.3374 - val_accuracy: 0.8630 - val_auc: 0.8780 - val_loss: 0.3518\n",
      "Epoch 61/100\n",
      "28/28 - 0s - 4ms/step - accuracy: 0.8682 - auc: 0.8891 - loss: 0.3412 - val_accuracy: 0.8630 - val_auc: 0.8779 - val_loss: 0.3511\n",
      "Epoch 62/100\n",
      "28/28 - 0s - 4ms/step - accuracy: 0.8767 - auc: 0.8953 - loss: 0.3344 - val_accuracy: 0.8630 - val_auc: 0.8782 - val_loss: 0.3517\n",
      "\u001b[1m23/23\u001b[0m \u001b[32m━━━━━━━━━━━━━━━━━━━━\u001b[0m\u001b[37m\u001b[0m \u001b[1m0s\u001b[0m 2ms/step \n",
      "Notebook run complete.\n"
     ]
    }
   ],
   "source": [
    "# Reproducible binary classification notebook for rainfall prediction\n",
    "import os, random, time, json\n",
    "import numpy as np\n",
    "import pandas as pd\n",
    "import tensorflow as tf\n",
    "from sklearn.model_selection import train_test_split\n",
    "from sklearn.impute import SimpleImputer\n",
    "from sklearn.compose import ColumnTransformer\n",
    "from sklearn.preprocessing import StandardScaler, OneHotEncoder, LabelEncoder\n",
    "from sklearn.pipeline import Pipeline\n",
    "from tensorflow.keras.callbacks import EarlyStopping, ModelCheckpoint\n",
    "\n",
    "# 1. Set seeds for reproducibility\n",
    "seed = 42\n",
    "random.seed(seed)\n",
    "np.random.seed(seed)\n",
    "tf.random.set_seed(seed)\n",
    "\n",
    "# 2. Load sample submission to infer id_col and target_columns\n",
    "submission_example = pd.read_csv('sample_submission.csv')\n",
    "id_col = submission_example.columns[0]\n",
    "target_columns = submission_example.columns[1:].tolist()\n",
    "\n",
    "# 3. Load train and test datasets\n",
    "train_df = pd.read_csv('train.csv')\n",
    "df_test = pd.read_csv('test.csv')\n",
    "\n",
    "# 4. Prepare target encoding\n",
    "col = target_columns[0]\n",
    "le = LabelEncoder().fit(train_df[col].astype(str))\n",
    "y_enc = le.transform(train_df[col].astype(str)).astype(int)\n",
    "\n",
    "# 5. Drop id and target from features\n",
    "X = train_df.drop(columns=[id_col] + target_columns, errors='ignore')\n",
    "id_train = train_df[id_col]\n",
    "id_test = df_test[id_col]\n",
    "X_test = df_test.drop(columns=[id_col] + target_columns, errors='ignore')\n",
    "\n",
    "# 6. Split train & validation\n",
    "X_train, X_val, y_train, y_val = train_test_split(\n",
    "    X, y_enc,\n",
    "    test_size=0.2,\n",
    "    stratify=y_enc,\n",
    "    random_state=seed\n",
    ")\n",
    "\n",
    "# 7. Drop columns with all missing values\n",
    "all_missing = X_train.columns[X_train.isna().all()].tolist()\n",
    "X_train.drop(columns=all_missing, inplace=True)\n",
    "X_val = X_val[X_train.columns]\n",
    "X_test = X_test[X_train.columns]\n",
    "\n",
    "# 8. Identify numeric and categorical features\n",
    "numeric_cols = X_train.select_dtypes(include=['number']).columns.tolist()\n",
    "cat_cols = X_train.select_dtypes(include=['object','category']).columns.tolist()\n",
    "# remove high-cardinality cats\n",
    "cat_cols = [c for c in cat_cols if X_train[c].nunique() < 50]\n",
    "\n",
    "# 9. Build preprocessing pipeline\n",
    "numeric_transformer = Pipeline([\n",
    "    ('imputer', SimpleImputer(strategy='median')),\n",
    "    ('scaler', StandardScaler())\n",
    "])\n",
    "cat_transformer = Pipeline([\n",
    "    ('imputer', SimpleImputer(strategy='most_frequent')),\n",
    "    ('onehot', OneHotEncoder(handle_unknown='ignore', sparse_output=False))\n",
    "])\n",
    "preprocessor = ColumnTransformer([\n",
    "    ('num', numeric_transformer, numeric_cols),\n",
    "    ('cat', cat_transformer, cat_cols)\n",
    "])\n",
    "# Fit and transform\n",
    "X_train_proc = preprocessor.fit_transform(X_train)\n",
    "X_val_proc = preprocessor.transform(X_val)\n",
    "X_test_proc = preprocessor.transform(X_test)\n",
    "\n",
    "# 10. Define model architecture based on data size\n",
    "n_samples, n_features = X_train_proc.shape\n",
    "if n_samples < 10000 or n_features < 100:\n",
    "    # smaller dataset: two layers, dropout\n",
    "    units1 = min(n_features * 2, 128)\n",
    "    units2 = min(n_features, 64)\n",
    "    model = tf.keras.Sequential([\n",
    "        tf.keras.layers.Input(shape=(n_features,)),\n",
    "        tf.keras.layers.Dense(units1, activation='relu'),\n",
    "        tf.keras.layers.Dropout(0.3),\n",
    "        tf.keras.layers.Dense(units2, activation='relu'),\n",
    "        tf.keras.layers.Dropout(0.3),\n",
    "        tf.keras.layers.Dense(1, activation='sigmoid')\n",
    "    ])\n",
    "else:\n",
    "    # larger dataset: deeper network\n",
    "    sizes = [min(int(n_features * i), 1024) for i in (2,1,0.5,0.25)]\n",
    "    sizes = [s for s in sizes if s >= 16]\n",
    "    inputs = tf.keras.Input(shape=(n_features,))\n",
    "    x = inputs\n",
    "    for s in sizes:\n",
    "        x = tf.keras.layers.Dense(s, activation='relu')(x)\n",
    "        x = tf.keras.layers.BatchNormalization()(x)\n",
    "        x = tf.keras.layers.Dropout(0.4)(x)\n",
    "    outputs = tf.keras.layers.Dense(1, activation='sigmoid')(x)\n",
    "    model = tf.keras.Model(inputs, outputs)\n",
    "\n",
    "# 11. Compile model\n",
    "model.compile(\n",
    "    optimizer=tf.keras.optimizers.Adam(),\n",
    "    loss='binary_crossentropy',\n",
    "    metrics=['accuracy', tf.keras.metrics.AUC()]\n",
    ")\n",
    "\n",
    "# 12. Callbacks\n",
    "callbacks = [\n",
    "    EarlyStopping(monitor='val_loss', patience=10, restore_best_weights=True),\n",
    "    ModelCheckpoint('best_model.h5', monitor='val_loss', save_best_only=True)\n",
    "]\n",
    "\n",
    "# 13. Training\n",
    "start_time = time.time()\n",
    "history = model.fit(\n",
    "    X_train_proc, y_train,\n",
    "    validation_data=(X_val_proc, y_val),\n",
    "    epochs=100,\n",
    "    batch_size=64,\n",
    "    callbacks=callbacks,\n",
    "    verbose=2\n",
    ")\n",
    "duration = time.time() - start_time\n",
    "\n",
    "# 14. Save results\n",
    "results = {\n",
    "    'training_accuracy': history.history['accuracy'][-1],\n",
    "    'training_loss': history.history['loss'][-1],\n",
    "    'validation_accuracy': history.history['val_accuracy'][-1],\n",
    "    'validation_loss': history.history['val_loss'][-1]\n",
    "}\n",
    "with open('results.json', 'w') as f:\n",
    "    json.dump(results, f)\n",
    "\n",
    "# 15. Prediction & submission\n",
    "raw_preds = model.predict(X_test_proc)\n",
    "probs = raw_preds.flatten()\n",
    "pred_labels = (probs > 0.5).astype(int)\n",
    "submission = pd.DataFrame({id_col: id_test.values, target_columns[0]: probs})\n",
    "# output probabilistic prediction for rainfall\n",
    "submission.to_csv('submission_result.csv', index=False)\n",
    "print('Notebook run complete.')"
   ]
  },
  {
   "cell_type": "markdown",
   "metadata": {},
   "source": [
    "## Keras Tuner - 1 Attempt"
   ]
  },
  {
   "cell_type": "markdown",
   "metadata": {},
   "source": [
    "# Attempt 1 "
   ]
  },
  {
   "cell_type": "code",
   "execution_count": null,
   "metadata": {},
   "outputs": [
    {
     "name": "stdout",
     "output_type": "stream",
     "text": [
      "Trial 10 Complete [00h 00m 20s]\n",
      "val_loss: 0.3696853220462799\n",
      "\n",
      "Best val_loss So Far: 0.3444618880748749\n",
      "Total elapsed time: 00h 03m 36s\n",
      "Epoch 1/100\n"
     ]
    },
    {
     "name": "stderr",
     "output_type": "stream",
     "text": [
      "WARNING:absl:You are saving your model as an HDF5 file via `model.save()` or `keras.saving.save_model(model)`. This file format is considered legacy. We recommend using instead the native Keras format, e.g. `model.save('my_model.keras')` or `keras.saving.save_model(model, 'my_model.keras')`. \n"
     ]
    },
    {
     "name": "stdout",
     "output_type": "stream",
     "text": [
      "55/55 - 14s - 251ms/step - accuracy: 0.6901 - loss: 0.6443 - val_accuracy: 0.7534 - val_loss: 0.5476\n",
      "Epoch 2/100\n"
     ]
    },
    {
     "name": "stderr",
     "output_type": "stream",
     "text": [
      "WARNING:absl:You are saving your model as an HDF5 file via `model.save()` or `keras.saving.save_model(model)`. This file format is considered legacy. We recommend using instead the native Keras format, e.g. `model.save('my_model.keras')` or `keras.saving.save_model(model, 'my_model.keras')`. \n"
     ]
    },
    {
     "name": "stdout",
     "output_type": "stream",
     "text": [
      "55/55 - 1s - 11ms/step - accuracy: 0.8151 - loss: 0.4624 - val_accuracy: 0.7740 - val_loss: 0.5195\n",
      "Epoch 3/100\n"
     ]
    },
    {
     "name": "stderr",
     "output_type": "stream",
     "text": [
      "WARNING:absl:You are saving your model as an HDF5 file via `model.save()` or `keras.saving.save_model(model)`. This file format is considered legacy. We recommend using instead the native Keras format, e.g. `model.save('my_model.keras')` or `keras.saving.save_model(model, 'my_model.keras')`. \n"
     ]
    },
    {
     "name": "stdout",
     "output_type": "stream",
     "text": [
      "55/55 - 1s - 12ms/step - accuracy: 0.8293 - loss: 0.4433 - val_accuracy: 0.8379 - val_loss: 0.4864\n",
      "Epoch 4/100\n"
     ]
    },
    {
     "name": "stderr",
     "output_type": "stream",
     "text": [
      "WARNING:absl:You are saving your model as an HDF5 file via `model.save()` or `keras.saving.save_model(model)`. This file format is considered legacy. We recommend using instead the native Keras format, e.g. `model.save('my_model.keras')` or `keras.saving.save_model(model, 'my_model.keras')`. \n"
     ]
    },
    {
     "name": "stdout",
     "output_type": "stream",
     "text": [
      "55/55 - 1s - 12ms/step - accuracy: 0.8408 - loss: 0.4054 - val_accuracy: 0.8082 - val_loss: 0.4044\n",
      "Epoch 5/100\n"
     ]
    },
    {
     "name": "stderr",
     "output_type": "stream",
     "text": [
      "WARNING:absl:You are saving your model as an HDF5 file via `model.save()` or `keras.saving.save_model(model)`. This file format is considered legacy. We recommend using instead the native Keras format, e.g. `model.save('my_model.keras')` or `keras.saving.save_model(model, 'my_model.keras')`. \n"
     ]
    },
    {
     "name": "stdout",
     "output_type": "stream",
     "text": [
      "55/55 - 1s - 12ms/step - accuracy: 0.8311 - loss: 0.4087 - val_accuracy: 0.8425 - val_loss: 0.3843\n",
      "Epoch 6/100\n"
     ]
    },
    {
     "name": "stderr",
     "output_type": "stream",
     "text": [
      "WARNING:absl:You are saving your model as an HDF5 file via `model.save()` or `keras.saving.save_model(model)`. This file format is considered legacy. We recommend using instead the native Keras format, e.g. `model.save('my_model.keras')` or `keras.saving.save_model(model, 'my_model.keras')`. \n"
     ]
    },
    {
     "name": "stdout",
     "output_type": "stream",
     "text": [
      "55/55 - 1s - 12ms/step - accuracy: 0.8356 - loss: 0.4105 - val_accuracy: 0.8767 - val_loss: 0.3728\n",
      "Epoch 7/100\n"
     ]
    },
    {
     "name": "stderr",
     "output_type": "stream",
     "text": [
      "WARNING:absl:You are saving your model as an HDF5 file via `model.save()` or `keras.saving.save_model(model)`. This file format is considered legacy. We recommend using instead the native Keras format, e.g. `model.save('my_model.keras')` or `keras.saving.save_model(model, 'my_model.keras')`. \n"
     ]
    },
    {
     "name": "stdout",
     "output_type": "stream",
     "text": [
      "55/55 - 1s - 12ms/step - accuracy: 0.8465 - loss: 0.3666 - val_accuracy: 0.8607 - val_loss: 0.3632\n",
      "Epoch 8/100\n",
      "55/55 - 1s - 9ms/step - accuracy: 0.8482 - loss: 0.3764 - val_accuracy: 0.8699 - val_loss: 0.3681\n",
      "Epoch 9/100\n"
     ]
    },
    {
     "name": "stderr",
     "output_type": "stream",
     "text": [
      "WARNING:absl:You are saving your model as an HDF5 file via `model.save()` or `keras.saving.save_model(model)`. This file format is considered legacy. We recommend using instead the native Keras format, e.g. `model.save('my_model.keras')` or `keras.saving.save_model(model, 'my_model.keras')`. \n"
     ]
    },
    {
     "name": "stdout",
     "output_type": "stream",
     "text": [
      "55/55 - 1s - 11ms/step - accuracy: 0.8493 - loss: 0.3618 - val_accuracy: 0.8767 - val_loss: 0.3485\n",
      "Epoch 10/100\n",
      "55/55 - 1s - 9ms/step - accuracy: 0.8579 - loss: 0.3610 - val_accuracy: 0.8721 - val_loss: 0.3546\n",
      "Epoch 11/100\n",
      "55/55 - 0s - 9ms/step - accuracy: 0.8602 - loss: 0.3553 - val_accuracy: 0.8539 - val_loss: 0.3696\n",
      "Epoch 12/100\n",
      "55/55 - 0s - 8ms/step - accuracy: 0.8659 - loss: 0.3601 - val_accuracy: 0.8630 - val_loss: 0.3762\n",
      "Epoch 13/100\n",
      "55/55 - 1s - 9ms/step - accuracy: 0.8647 - loss: 0.3472 - val_accuracy: 0.8607 - val_loss: 0.3722\n",
      "Epoch 14/100\n",
      "55/55 - 0s - 9ms/step - accuracy: 0.8516 - loss: 0.3633 - val_accuracy: 0.8744 - val_loss: 0.3686\n",
      "Epoch 15/100\n",
      "55/55 - 1s - 9ms/step - accuracy: 0.8579 - loss: 0.3347 - val_accuracy: 0.8699 - val_loss: 0.3673\n",
      "Epoch 16/100\n",
      "55/55 - 0s - 8ms/step - accuracy: 0.8556 - loss: 0.3462 - val_accuracy: 0.8584 - val_loss: 0.3697\n",
      "Epoch 17/100\n",
      "55/55 - 0s - 9ms/step - accuracy: 0.8659 - loss: 0.3423 - val_accuracy: 0.8630 - val_loss: 0.3747\n",
      "Epoch 18/100\n",
      "55/55 - 0s - 8ms/step - accuracy: 0.8659 - loss: 0.3382 - val_accuracy: 0.8493 - val_loss: 0.3774\n",
      "Epoch 19/100\n",
      "55/55 - 0s - 8ms/step - accuracy: 0.8636 - loss: 0.3408 - val_accuracy: 0.8539 - val_loss: 0.3735\n",
      "\u001b[1m23/23\u001b[0m \u001b[32m━━━━━━━━━━━━━━━━━━━━\u001b[0m\u001b[37m\u001b[0m \u001b[1m1s\u001b[0m 25ms/step \n",
      "Notebook run complete.\n"
     ]
    }
   ],
   "source": [
    "import os, random, time, json\n",
    "import numpy as np\n",
    "import pandas as pd\n",
    "import tensorflow as tf\n",
    "from sklearn.model_selection import train_test_split\n",
    "from sklearn.impute import SimpleImputer\n",
    "from sklearn.compose import ColumnTransformer\n",
    "from sklearn.preprocessing import StandardScaler, OneHotEncoder, LabelEncoder\n",
    "from sklearn.pipeline import Pipeline\n",
    "from tensorflow.keras.callbacks import EarlyStopping, ModelCheckpoint\n",
    "import keras_tuner as kt\n",
    "from tensorflow.keras.layers import Input, Dense, Dropout, BatchNormalization\n",
    "from tensorflow.keras.models import Model\n",
    "\n",
    "# 1. Set seeds for reproducibility\n",
    "seed = 42\n",
    "random.seed(seed)\n",
    "np.random.seed(seed)\n",
    "tf.random.set_seed(seed)\n",
    "\n",
    "# 2. Load sample submission to infer id_col and target_columns\n",
    "submission_example = pd.read_csv('sample_submission.csv')\n",
    "id_col = submission_example.columns[0]\n",
    "target_columns = submission_example.columns[1:].tolist()\n",
    "\n",
    "# 3. Load train and test datasets\n",
    "train_df = pd.read_csv('train.csv')\n",
    "df_test = pd.read_csv('test.csv')\n",
    "\n",
    "# 4. Prepare target encoding\n",
    "col = target_columns[0]\n",
    "le = LabelEncoder().fit(train_df[col].astype(str))\n",
    "y_enc = le.transform(train_df[col].astype(str)).astype(int)\n",
    "\n",
    "# 5. Drop id and target from features\n",
    "X = train_df.drop(columns=[id_col] + target_columns, errors='ignore')\n",
    "id_train = train_df[id_col]\n",
    "id_test = df_test[id_col]\n",
    "X_test = df_test.drop(columns=[id_col] + target_columns, errors='ignore')\n",
    "\n",
    "# 6. Split train & validation\n",
    "X_train, X_val, y_train, y_val = train_test_split(\n",
    "    X, y_enc,\n",
    "    test_size=0.2,\n",
    "    stratify=y_enc,\n",
    "    random_state=seed\n",
    ")\n",
    "\n",
    "# 7. Drop columns with all missing values\n",
    "all_missing = X_train.columns[X_train.isna().all()].tolist()\n",
    "X_train.drop(columns=all_missing, inplace=True)\n",
    "X_val = X_val[X_train.columns]\n",
    "X_test = X_test[X_train.columns]\n",
    "\n",
    "# 8. Identify numeric and categorical features\n",
    "numeric_cols = X_train.select_dtypes(include=['number']).columns.tolist()\n",
    "cat_cols = X_train.select_dtypes(include=['object','category']).columns.tolist()\n",
    "# remove high-cardinality cats\n",
    "cat_cols = [c for c in cat_cols if X_train[c].nunique() < 50]\n",
    "\n",
    "# 9. Build preprocessing pipeline\n",
    "numeric_transformer = Pipeline([\n",
    "    ('imputer', SimpleImputer(strategy='median')),\n",
    "    ('scaler', StandardScaler())\n",
    "])\n",
    "cat_transformer = Pipeline([\n",
    "    ('imputer', SimpleImputer(strategy='most_frequent')),\n",
    "    ('onehot', OneHotEncoder(handle_unknown='ignore', sparse_output=False))\n",
    "])\n",
    "preprocessor = ColumnTransformer([\n",
    "    ('num', numeric_transformer, numeric_cols),\n",
    "    ('cat', cat_transformer, cat_cols)\n",
    "])\n",
    "# Fit and transform\n",
    "X_train_proc = preprocessor.fit_transform(X_train)\n",
    "X_val_proc = preprocessor.transform(X_val)\n",
    "X_test_proc = preprocessor.transform(X_test)\n",
    "\n",
    "# 10. Define model architecture using Keras Tuner\n",
    "early_stopping = EarlyStopping(monitor='val_loss', patience=10, restore_best_weights=True)\n",
    "checkpoint = ModelCheckpoint('best_model.h5', monitor='val_loss', save_best_only=True)\n",
    "\n",
    "n_features = X_train_proc.shape[1]\n",
    "\n",
    "class MyHyperModel(kt.HyperModel):\n",
    "    def build(self, hp):\n",
    "        layers = hp.Int('layers', 2, 8)\n",
    "        units = hp.Int('units', 64, 1024, 64)\n",
    "        act = hp.Choice('activation', ['relu'])\n",
    "        drop = hp.Float('dropout', 0.0, 0.5)\n",
    "        opt = hp.Choice('optimizer', ['adam'])\n",
    "        lr = hp.Float('learning_rate', 1e-5, 0.01, sampling='log')\n",
    "\n",
    "        inputs = Input(shape=(n_features,))\n",
    "        x = inputs\n",
    "        for _ in range(layers):\n",
    "            x = Dense(units, activation=act)(x)\n",
    "            x = BatchNormalization()(x)\n",
    "            x = Dropout(drop)(x)\n",
    "        outputs = Dense(1, activation='sigmoid')(x)\n",
    "        model = Model(inputs, outputs)\n",
    "        model.compile(optimizer=opt, loss='binary_crossentropy', metrics=['accuracy'])\n",
    "        return model\n",
    "\n",
    "# Initialize the Bayesian tuner\n",
    "bs = 32  # batch size\n",
    "ep = 20   # epochs\n",
    "\n",
    "tuner = kt.BayesianOptimization(\n",
    "    MyHyperModel(),\n",
    "    objective='val_loss',\n",
    "    max_trials=10,\n",
    "    executions_per_trial=1,\n",
    "    seed=42,\n",
    "    overwrite=True,\n",
    "    project_name='bayesian_tuner'\n",
    ")\n",
    "\n",
    "if y_val is not None:\n",
    "    tuner.search(\n",
    "        X_train_proc, y_train,\n",
    "        validation_data=(X_val_proc, y_val),\n",
    "        batch_size=bs, epochs=ep,\n",
    "        callbacks=[early_stopping, checkpoint]\n",
    "    )\n",
    "else:\n",
    "    tuner.search(\n",
    "        X_train_proc, y_train,\n",
    "        validation_split=0.2,\n",
    "        batch_size=bs, epochs=ep,\n",
    "        callbacks=[early_stopping, checkpoint]\n",
    "    )\n",
    "\n",
    "model = tuner.hypermodel.build(tuner.get_best_hyperparameters(1)[0])\n",
    "\n",
    "start_time = time.time()  # Start timing\n",
    "\n",
    "# Retrain the model with the original callbacks and data\n",
    "if y_val is not None:\n",
    "    history = model.fit(\n",
    "        X_train_proc, y_train,\n",
    "        validation_data=(X_val_proc, y_val),\n",
    "        epochs=100, batch_size=bs,\n",
    "        callbacks=[early_stopping, checkpoint],\n",
    "        verbose=2\n",
    "    )\n",
    "else:\n",
    "    history = model.fit(\n",
    "        X_train_proc, y_train,\n",
    "        validation_split=0.2,\n",
    "        epochs=100, batch_size=bs,\n",
    "        callbacks=[early_stopping, checkpoint],\n",
    "        verbose=2\n",
    "    )\n",
    "duration = time.time() - start_time  # Calculate duration\n",
    "\n",
    "\n",
    "# 13. Save results\n",
    "results = {\n",
    "    'training_accuracy': history.history['accuracy'][-1],\n",
    "    'training_loss': history.history['loss'][-1],\n",
    "    'validation_accuracy': history.history['val_accuracy'][-1],\n",
    "    'validation_loss': history.history['val_loss'][-1]\n",
    "}\n",
    "with open('results.json', 'w') as f:\n",
    "    json.dump(results, f)\n",
    "\n",
    "# 14. Prediction & submission\n",
    "raw_preds = model.predict(X_test_proc)\n",
    "probs = raw_preds.flatten()\n",
    "pred_labels = (probs > 0.5).astype(int)\n",
    "submission = pd.DataFrame({id_col: id_test.values, target_columns[0]: probs})\n",
    "# output probabilistic prediction for rainfall\n",
    "submission.to_csv('submission_result.csv', index=False)\n",
    "print('Notebook run complete.')"
   ]
  },
  {
   "cell_type": "code",
   "execution_count": 1,
   "metadata": {},
   "outputs": [
    {
     "name": "stdout",
     "output_type": "stream",
     "text": [
      "26.242344\n"
     ]
    }
   ],
   "source": [
    "print(duration)"
   ]
  }
 ],
 "metadata": {
  "kernelspec": {
   "display_name": "Python 3",
   "language": "python",
   "name": "python3"
  },
  "language_info": {
   "codemirror_mode": {
    "name": "ipython",
    "version": 3
   },
   "file_extension": ".py",
   "mimetype": "text/x-python",
   "name": "python",
   "nbconvert_exporter": "python",
   "pygments_lexer": "ipython3",
   "version": "3.12.3"
  }
 },
 "nbformat": 4,
 "nbformat_minor": 2
}
