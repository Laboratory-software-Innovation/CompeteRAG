{
 "cells": [
  {
   "cell_type": "markdown",
   "metadata": {},
   "source": [
    "# Tabular Playground Series - Aug 2021\n"
   ]
  },
  {
   "cell_type": "markdown",
   "metadata": {},
   "source": [
    "## Modified the metric from `log1p RMSE` to Raw `RMSE` for both Keras and Keras Tuner"
   ]
  },
  {
   "cell_type": "markdown",
   "metadata": {},
   "source": [
    "## Keras - 1 Attempt"
   ]
  },
  {
   "cell_type": "markdown",
   "metadata": {},
   "source": [
    "## Attempt 1"
   ]
  },
  {
   "cell_type": "code",
   "execution_count": null,
   "metadata": {},
   "outputs": [
    {
     "name": "stderr",
     "output_type": "stream",
     "text": [
      "2025-07-09 22:23:16.805563: E external/local_xla/xla/stream_executor/cuda/cuda_fft.cc:467] Unable to register cuFFT factory: Attempting to register factory for plugin cuFFT when one has already been registered\n",
      "WARNING: All log messages before absl::InitializeLog() is called are written to STDERR\n",
      "E0000 00:00:1752099796.829364  922662 cuda_dnn.cc:8579] Unable to register cuDNN factory: Attempting to register factory for plugin cuDNN when one has already been registered\n",
      "E0000 00:00:1752099796.836460  922662 cuda_blas.cc:1407] Unable to register cuBLAS factory: Attempting to register factory for plugin cuBLAS when one has already been registered\n",
      "W0000 00:00:1752099796.857670  922662 computation_placer.cc:177] computation placer already registered. Please check linkage and avoid linking the same target more than once.\n",
      "W0000 00:00:1752099796.857697  922662 computation_placer.cc:177] computation placer already registered. Please check linkage and avoid linking the same target more than once.\n",
      "W0000 00:00:1752099796.857699  922662 computation_placer.cc:177] computation placer already registered. Please check linkage and avoid linking the same target more than once.\n",
      "W0000 00:00:1752099796.857702  922662 computation_placer.cc:177] computation placer already registered. Please check linkage and avoid linking the same target more than once.\n",
      "2025-07-09 22:23:16.865304: I tensorflow/core/platform/cpu_feature_guard.cc:210] This TensorFlow binary is optimized to use available CPU instructions in performance-critical operations.\n",
      "To enable the following instructions: AVX2 FMA, in other operations, rebuild TensorFlow with the appropriate compiler flags.\n",
      "2025-07-09 22:23:33.533514: E external/local_xla/xla/stream_executor/cuda/cuda_platform.cc:51] failed call to cuInit: INTERNAL: CUDA error: Failed call to cuInit: CUDA_ERROR_NO_DEVICE: no CUDA-capable device is detected\n"
     ]
    },
    {
     "name": "stdout",
     "output_type": "stream",
     "text": [
      "Epoch 1/100\n",
      "\n",
      "Epoch 1: val_loss improved from inf to 1.23649, saving model to best_model.h5\n"
     ]
    },
    {
     "name": "stderr",
     "output_type": "stream",
     "text": [
      "WARNING:absl:You are saving your model as an HDF5 file via `model.save()` or `keras.saving.save_model(model)`. This file format is considered legacy. We recommend using instead the native Keras format, e.g. `model.save('my_model.keras')` or `keras.saving.save_model(model, 'my_model.keras')`. \n"
     ]
    },
    {
     "name": "stdout",
     "output_type": "stream",
     "text": [
      "3125/3125 - 13s - 4ms/step - loss: 1.2209 - mse_real: 73.9877 - rmse_real: 8.5200 - val_loss: 1.2184 - val_mse_real: 77.4115 - val_rmse_real: 8.7068\n",
      "Epoch 3/100\n",
      "\n",
      "Epoch 3: val_loss improved from 1.21839 to 1.21103, saving model to best_model.h5\n"
     ]
    },
    {
     "name": "stderr",
     "output_type": "stream",
     "text": [
      "WARNING:absl:You are saving your model as an HDF5 file via `model.save()` or `keras.saving.save_model(model)`. This file format is considered legacy. We recommend using instead the native Keras format, e.g. `model.save('my_model.keras')` or `keras.saving.save_model(model, 'my_model.keras')`. \n"
     ]
    },
    {
     "name": "stdout",
     "output_type": "stream",
     "text": [
      "3125/3125 - 12s - 4ms/step - loss: 1.2050 - mse_real: 73.2687 - rmse_real: 8.4778 - val_loss: 1.2110 - val_mse_real: 76.6270 - val_rmse_real: 8.6623\n",
      "Epoch 4/100\n",
      "\n",
      "Epoch 4: val_loss improved from 1.21103 to 1.20415, saving model to best_model.h5\n"
     ]
    },
    {
     "name": "stderr",
     "output_type": "stream",
     "text": [
      "WARNING:absl:You are saving your model as an HDF5 file via `model.save()` or `keras.saving.save_model(model)`. This file format is considered legacy. We recommend using instead the native Keras format, e.g. `model.save('my_model.keras')` or `keras.saving.save_model(model, 'my_model.keras')`. \n"
     ]
    },
    {
     "name": "stdout",
     "output_type": "stream",
     "text": [
      "3125/3125 - 12s - 4ms/step - loss: 1.1975 - mse_real: 72.8648 - rmse_real: 8.4544 - val_loss: 1.2041 - val_mse_real: 75.9260 - val_rmse_real: 8.6222\n",
      "Epoch 5/100\n",
      "\n",
      "Epoch 5: val_loss improved from 1.20415 to 1.19617, saving model to best_model.h5\n"
     ]
    },
    {
     "name": "stderr",
     "output_type": "stream",
     "text": [
      "WARNING:absl:You are saving your model as an HDF5 file via `model.save()` or `keras.saving.save_model(model)`. This file format is considered legacy. We recommend using instead the native Keras format, e.g. `model.save('my_model.keras')` or `keras.saving.save_model(model, 'my_model.keras')`. \n"
     ]
    },
    {
     "name": "stdout",
     "output_type": "stream",
     "text": [
      "3125/3125 - 13s - 4ms/step - loss: 1.1927 - mse_real: 72.6599 - rmse_real: 8.4422 - val_loss: 1.1962 - val_mse_real: 74.7014 - val_rmse_real: 8.5519\n",
      "Epoch 6/100\n",
      "\n",
      "Epoch 6: val_loss improved from 1.19617 to 1.19380, saving model to best_model.h5\n"
     ]
    },
    {
     "name": "stderr",
     "output_type": "stream",
     "text": [
      "WARNING:absl:You are saving your model as an HDF5 file via `model.save()` or `keras.saving.save_model(model)`. This file format is considered legacy. We recommend using instead the native Keras format, e.g. `model.save('my_model.keras')` or `keras.saving.save_model(model, 'my_model.keras')`. \n"
     ]
    },
    {
     "name": "stdout",
     "output_type": "stream",
     "text": [
      "3125/3125 - 13s - 4ms/step - loss: 1.1864 - mse_real: 72.3574 - rmse_real: 8.4241 - val_loss: 1.1938 - val_mse_real: 74.5614 - val_rmse_real: 8.5437\n",
      "Epoch 7/100\n",
      "\n",
      "Epoch 7: val_loss improved from 1.19380 to 1.19228, saving model to best_model.h5\n"
     ]
    },
    {
     "name": "stderr",
     "output_type": "stream",
     "text": [
      "WARNING:absl:You are saving your model as an HDF5 file via `model.save()` or `keras.saving.save_model(model)`. This file format is considered legacy. We recommend using instead the native Keras format, e.g. `model.save('my_model.keras')` or `keras.saving.save_model(model, 'my_model.keras')`. \n"
     ]
    },
    {
     "name": "stdout",
     "output_type": "stream",
     "text": [
      "3125/3125 - 13s - 4ms/step - loss: 1.1827 - mse_real: 72.2032 - rmse_real: 8.4152 - val_loss: 1.1923 - val_mse_real: 74.2101 - val_rmse_real: 8.5234\n",
      "Epoch 8/100\n",
      "\n",
      "Epoch 8: val_loss improved from 1.19228 to 1.19173, saving model to best_model.h5\n"
     ]
    },
    {
     "name": "stderr",
     "output_type": "stream",
     "text": [
      "WARNING:absl:You are saving your model as an HDF5 file via `model.save()` or `keras.saving.save_model(model)`. This file format is considered legacy. We recommend using instead the native Keras format, e.g. `model.save('my_model.keras')` or `keras.saving.save_model(model, 'my_model.keras')`. \n"
     ]
    },
    {
     "name": "stdout",
     "output_type": "stream",
     "text": [
      "3125/3125 - 13s - 4ms/step - loss: 1.1781 - mse_real: 71.9939 - rmse_real: 8.4030 - val_loss: 1.1917 - val_mse_real: 73.6760 - val_rmse_real: 8.4925\n",
      "Epoch 9/100\n",
      "\n",
      "Epoch 9: val_loss did not improve from 1.19173\n",
      "3125/3125 - 13s - 4ms/step - loss: 1.1751 - mse_real: 71.8568 - rmse_real: 8.3950 - val_loss: 1.1926 - val_mse_real: 73.6867 - val_rmse_real: 8.4931\n",
      "Epoch 10/100\n",
      "\n",
      "Epoch 10: val_loss did not improve from 1.19173\n",
      "3125/3125 - 13s - 4ms/step - loss: 1.1727 - mse_real: 71.7252 - rmse_real: 8.3872 - val_loss: 1.1921 - val_mse_real: 73.8186 - val_rmse_real: 8.5008\n",
      "Epoch 11/100\n",
      "\n",
      "Epoch 11: val_loss did not improve from 1.19173\n",
      "3125/3125 - 12s - 4ms/step - loss: 1.1696 - mse_real: 71.5848 - rmse_real: 8.3787 - val_loss: 1.1956 - val_mse_real: 73.9565 - val_rmse_real: 8.5088\n",
      "Epoch 12/100\n",
      "\n",
      "Epoch 12: val_loss did not improve from 1.19173\n",
      "3125/3125 - 12s - 4ms/step - loss: 1.1688 - mse_real: 71.5291 - rmse_real: 8.3755 - val_loss: 1.1937 - val_mse_real: 73.7933 - val_rmse_real: 8.4991\n",
      "Epoch 13/100\n",
      "\n",
      "Epoch 13: val_loss did not improve from 1.19173\n",
      "3125/3125 - 13s - 4ms/step - loss: 1.1672 - mse_real: 71.4530 - rmse_real: 8.3710 - val_loss: 1.1925 - val_mse_real: 73.7008 - val_rmse_real: 8.4938\n",
      "Epoch 14/100\n",
      "\n",
      "Epoch 14: val_loss did not improve from 1.19173\n",
      "3125/3125 - 11s - 4ms/step - loss: 1.1643 - mse_real: 71.3180 - rmse_real: 8.3629 - val_loss: 1.1943 - val_mse_real: 73.6289 - val_rmse_real: 8.4896\n",
      "Epoch 15/100\n",
      "\n",
      "Epoch 15: val_loss did not improve from 1.19173\n",
      "3125/3125 - 12s - 4ms/step - loss: 1.1619 - mse_real: 71.1969 - rmse_real: 8.3559 - val_loss: 1.1955 - val_mse_real: 73.9323 - val_rmse_real: 8.5071\n",
      "Epoch 16/100\n",
      "\n",
      "Epoch 16: val_loss did not improve from 1.19173\n",
      "3125/3125 - 12s - 4ms/step - loss: 1.1615 - mse_real: 71.2008 - rmse_real: 8.3562 - val_loss: 1.1932 - val_mse_real: 73.9175 - val_rmse_real: 8.5061\n",
      "Epoch 17/100\n",
      "\n",
      "Epoch 17: val_loss did not improve from 1.19173\n",
      "3125/3125 - 12s - 4ms/step - loss: 1.1591 - mse_real: 71.0512 - rmse_real: 8.3474 - val_loss: 1.1971 - val_mse_real: 74.0468 - val_rmse_real: 8.5136\n",
      "Epoch 18/100\n",
      "\n",
      "Epoch 18: val_loss did not improve from 1.19173\n",
      "3125/3125 - 12s - 4ms/step - loss: 1.1573 - mse_real: 70.9649 - rmse_real: 8.3424 - val_loss: 1.1962 - val_mse_real: 74.1118 - val_rmse_real: 8.5175\n",
      "Epoch 18: early stopping\n",
      "Restoring model weights from the end of the best epoch: 8.\n",
      "\u001b[1m4688/4688\u001b[0m \u001b[32m━━━━━━━━━━━━━━━━━━━━\u001b[0m\u001b[37m\u001b[0m \u001b[1m5s\u001b[0m 1ms/step\n"
     ]
    }
   ],
   "source": [
    "\n",
    "# 1. Reproducibility\n",
    "import random\n",
    "import os\n",
    "import numpy as np\n",
    "import pandas as pd\n",
    "import json\n",
    "import time\n",
    "import tensorflow as tf\n",
    "from tensorflow.keras.callbacks import EarlyStopping, ModelCheckpoint\n",
    "from tensorflow.keras.metrics import RootMeanSquaredError, MeanAbsoluteError, SparseTopKCategoricalAccuracy\n",
    "from sklearn.model_selection import train_test_split\n",
    "from sklearn.impute import SimpleImputer\n",
    "from sklearn.compose import ColumnTransformer\n",
    "from sklearn.preprocessing import StandardScaler, OneHotEncoder, LabelEncoder\n",
    "from sklearn.pipeline import Pipeline\n",
    "\n",
    "seed = 42\n",
    "random.seed(seed)\n",
    "np.random.seed(seed)\n",
    "tf.random.set_seed(seed)\n",
    "\n",
    "# 2. Data Loading\n",
    "train_df = pd.read_csv('tabular-playground-series-aug-2021/train.csv.zip')\n",
    "df_test = pd.read_csv('tabular-playground-series-aug-2021/test.csv.zip')\n",
    "id_col = 'id'\n",
    "target_columns = ['loss']\n",
    "\n",
    "# 3. Target Encoding for regression\n",
    "y_values = train_df[target_columns].astype(float).values\n",
    "y_enc = np.log1p(y_values) if np.all(y_values >= 0) else y_values\n",
    "\n",
    "# 4. Features\n",
    "X = train_df.drop(columns=target_columns + [id_col], errors='ignore')\n",
    "test_ids = df_test[id_col]\n",
    "X_test = df_test.drop(columns=target_columns + [id_col], errors='ignore')\n",
    "\n",
    "# 4a. Drop columns with all missing values\n",
    "all_missing = X.columns[X.isna().all()].tolist()\n",
    "X.drop(columns=all_missing, inplace=True)\n",
    "X_test.drop(columns=all_missing, inplace=True)\n",
    "\n",
    "# 4b. Identify and drop categorical columns with high cardinality\n",
    "cat_cols = X.select_dtypes(include=['object', 'category']).columns.tolist()\n",
    "for col in cat_cols:\n",
    "    if X[col].nunique() > 50:\n",
    "        X.drop(columns=col, inplace=True)\n",
    "        X_test.drop(columns=col, inplace=True)\n",
    "\n",
    "# 5. Preprocessing Pipeline\n",
    "num_cols = X.select_dtypes(include=['number']).columns.tolist()\n",
    "cat_cols = X.select_dtypes(include=['object', 'category']).columns.tolist()\n",
    "\n",
    "num_pipeline = Pipeline([\n",
    "    ('imputer', SimpleImputer(strategy='median')),\n",
    "    ('scaler', StandardScaler())\n",
    "])\n",
    "cat_pipeline = Pipeline([\n",
    "    ('imputer', SimpleImputer(strategy='most_frequent')),\n",
    "    ('ohe', OneHotEncoder(sparse_output=False, handle_unknown='ignore'))\n",
    "])\n",
    "\n",
    "preprocessor = ColumnTransformer([\n",
    "    ('num', num_pipeline, num_cols),\n",
    "    ('cat', cat_pipeline, cat_cols)\n",
    "])\n",
    "\n",
    "# Fit and transform data\n",
    "X_train_proc = preprocessor.fit_transform(X)\n",
    "X_test_proc = preprocessor.transform(X_test)\n",
    "\n",
    "# 6. Model Architecture for continuous regression\n",
    "n_samples, n_features = X_train_proc.shape\n",
    "if n_samples < 10000 or n_features < 100:\n",
    "    hidden_sizes = [min(n_features * 2, 128), min(n_features, 64)]\n",
    "    dropout_rate = 0.3\n",
    "    use_bn = False\n",
    "else:\n",
    "    sizes = [int(min(n_features * i, 1024)) for i in (2, 1, 0.5, 0.25)]\n",
    "    hidden_sizes = [s for s in sizes if s >= 16]\n",
    "    dropout_rate = 0.4\n",
    "    use_bn = True\n",
    "\n",
    "inputs = tf.keras.Input(shape=(n_features,))\n",
    "x = inputs\n",
    "for hs in hidden_sizes:\n",
    "    x = tf.keras.layers.Dense(hs, activation='relu')(x)\n",
    "    if use_bn:\n",
    "        x = tf.keras.layers.BatchNormalization()(x)\n",
    "    x = tf.keras.layers.Dropout(dropout_rate)(x)\n",
    "outputs = tf.keras.layers.Dense(1, activation='linear')(x)\n",
    "model = tf.keras.Model(inputs, outputs)\n",
    "\n",
    "def mse_real(y_true_log, y_pred_log):\n",
    "    y_true = tf.math.expm1(y_true_log)\n",
    "    y_pred = tf.math.expm1(y_pred_log)\n",
    "    return tf.reduce_mean(tf.square(y_true - y_pred))\n",
    "mse_real.__name__ = 'mse_real'      \n",
    "\n",
    "def rmse_real(y_true_log, y_pred_log):\n",
    "    y_true = tf.math.expm1(y_true_log)\n",
    "    y_pred = tf.math.expm1(y_pred_log)\n",
    "    return tf.sqrt(tf.reduce_mean(tf.square(y_true - y_pred)))\n",
    "rmse_real.__name__ = 'rmse_real'\n",
    "\n",
    "model.compile(\n",
    "    optimizer='adam',\n",
    "    loss='mean_squared_error',\n",
    "    metrics=[rmse_real, mse_real]\n",
    ")\n",
    "\n",
    "# 7. Callbacks & Training\n",
    "callbacks = [\n",
    "    EarlyStopping(patience=10, restore_best_weights=True, verbose=1),\n",
    "    ModelCheckpoint('best_model.h5', save_best_only=True, verbose=1)\n",
    "]\n",
    "\n",
    "start_time = time.time()\n",
    "history = model.fit(\n",
    "    X_train_proc, y_enc,\n",
    "    validation_split=0.2,\n",
    "    epochs=100,\n",
    "    batch_size=64,\n",
    "    callbacks=callbacks,\n",
    "    verbose=2\n",
    ")\n",
    "duration = time.time() - start_time\n",
    "\n",
    "# 8. Evaluation & Logging\n",
    "hist = history.history\n",
    "results = {\n",
    "    'training_loss': history.history['mse_real'][-1],\n",
    "    'validation_loss': history.history['val_mse_real'][-1],\n",
    "    'training_RMSE': history.history['rmse_real'][-1],\n",
    "    'validation_RMSE': history.history['val_rmse_real'][-1]\n",
    "}\n",
    "with open('Keras/results.json', 'w') as f:\n",
    "    json.dump(results, f)\n",
    "\n",
    "# 9. Prediction & Submission\n",
    "raw_preds = model.predict(X_test_proc)\n",
    "final = raw_preds\n",
    "if np.all(final >= 0):\n",
    "    final = np.expm1(np.clip(final, a_min=None, a_max=20))\n",
    "if final.ndim == 1:\n",
    "    final = final.reshape(-1, 1)\n",
    "submission = pd.DataFrame(final, columns=target_columns)\n",
    "submission.insert(0, id_col, test_ids.reset_index(drop=True))\n",
    "submission.to_csv('Keras/submission_result.csv', index=False)\n"
   ]
  },
  {
   "cell_type": "markdown",
   "metadata": {},
   "source": [
    "## Keras Tuner - 1 Attempt"
   ]
  },
  {
   "cell_type": "markdown",
   "metadata": {},
   "source": [
    "# Attempt 1"
   ]
  },
  {
   "cell_type": "code",
   "execution_count": null,
   "metadata": {},
   "outputs": [
    {
     "name": "stdout",
     "output_type": "stream",
     "text": [
      "Trial 10 Complete [00h 07m 49s]\n",
      "val_loss: 1.2046785354614258\n",
      "\n",
      "Best val_loss So Far: 1.199518084526062\n",
      "Total elapsed time: 01h 23m 53s\n",
      "Epoch 1/100\n"
     ]
    },
    {
     "name": "stderr",
     "output_type": "stream",
     "text": [
      "WARNING:absl:You are saving your model as an HDF5 file via `model.save()` or `keras.saving.save_model(model)`. This file format is considered legacy. We recommend using instead the native Keras format, e.g. `model.save('my_model.keras')` or `keras.saving.save_model(model, 'my_model.keras')`. \n"
     ]
    },
    {
     "name": "stdout",
     "output_type": "stream",
     "text": [
      "6250/6250 - 41s - 7ms/step - loss: 1.3402 - mse_real: 76.8970 - rmse_real: 8.5880 - val_loss: 1.2173 - val_mse_real: 74.5659 - val_rmse_real: 8.4673\n",
      "Epoch 2/100\n"
     ]
    },
    {
     "name": "stderr",
     "output_type": "stream",
     "text": [
      "WARNING:absl:You are saving your model as an HDF5 file via `model.save()` or `keras.saving.save_model(model)`. This file format is considered legacy. We recommend using instead the native Keras format, e.g. `model.save('my_model.keras')` or `keras.saving.save_model(model, 'my_model.keras')`. \n"
     ]
    },
    {
     "name": "stdout",
     "output_type": "stream",
     "text": [
      "6250/6250 - 37s - 6ms/step - loss: 1.2205 - mse_real: 73.4444 - rmse_real: 8.4042 - val_loss: 1.2041 - val_mse_real: 73.5331 - val_rmse_real: 8.4074\n",
      "Epoch 3/100\n"
     ]
    },
    {
     "name": "stderr",
     "output_type": "stream",
     "text": [
      "WARNING:absl:You are saving your model as an HDF5 file via `model.save()` or `keras.saving.save_model(model)`. This file format is considered legacy. We recommend using instead the native Keras format, e.g. `model.save('my_model.keras')` or `keras.saving.save_model(model, 'my_model.keras')`. \n"
     ]
    },
    {
     "name": "stdout",
     "output_type": "stream",
     "text": [
      "6250/6250 - 38s - 6ms/step - loss: 1.2076 - mse_real: 73.0739 - rmse_real: 8.3823 - val_loss: 1.2036 - val_mse_real: 74.5721 - val_rmse_real: 8.4664\n",
      "Epoch 4/100\n"
     ]
    },
    {
     "name": "stderr",
     "output_type": "stream",
     "text": [
      "WARNING:absl:You are saving your model as an HDF5 file via `model.save()` or `keras.saving.save_model(model)`. This file format is considered legacy. We recommend using instead the native Keras format, e.g. `model.save('my_model.keras')` or `keras.saving.save_model(model, 'my_model.keras')`. \n"
     ]
    },
    {
     "name": "stdout",
     "output_type": "stream",
     "text": [
      "6250/6250 - 37s - 6ms/step - loss: 1.1970 - mse_real: 72.7041 - rmse_real: 8.3596 - val_loss: 1.2027 - val_mse_real: 74.8107 - val_rmse_real: 8.4800\n",
      "Epoch 5/100\n",
      "6250/6250 - 37s - 6ms/step - loss: 1.1864 - mse_real: 72.2902 - rmse_real: 8.3354 - val_loss: 1.2105 - val_mse_real: 76.0896 - val_rmse_real: 8.5525\n",
      "Epoch 6/100\n",
      "6250/6250 - 38s - 6ms/step - loss: 1.1770 - mse_real: 71.8918 - rmse_real: 8.3116 - val_loss: 1.2095 - val_mse_real: 76.1003 - val_rmse_real: 8.5527\n",
      "Epoch 7/100\n",
      "6250/6250 - 37s - 6ms/step - loss: 1.1699 - mse_real: 71.5707 - rmse_real: 8.2931 - val_loss: 1.2073 - val_mse_real: 75.7180 - val_rmse_real: 8.5310\n",
      "Epoch 8/100\n",
      "6250/6250 - 36s - 6ms/step - loss: 1.1627 - mse_real: 71.2016 - rmse_real: 8.2715 - val_loss: 1.2074 - val_mse_real: 75.6720 - val_rmse_real: 8.5287\n",
      "Epoch 9/100\n",
      "6250/6250 - 36s - 6ms/step - loss: 1.1566 - mse_real: 70.9180 - rmse_real: 8.2544 - val_loss: 1.2140 - val_mse_real: 75.4003 - val_rmse_real: 8.5136\n",
      "Epoch 10/100\n",
      "6250/6250 - 38s - 6ms/step - loss: 1.1514 - mse_real: 70.6576 - rmse_real: 8.2391 - val_loss: 1.2182 - val_mse_real: 76.1965 - val_rmse_real: 8.5576\n",
      "Epoch 11/100\n",
      "6250/6250 - 36s - 6ms/step - loss: 1.1464 - mse_real: 70.4143 - rmse_real: 8.2244 - val_loss: 1.2142 - val_mse_real: 75.5413 - val_rmse_real: 8.5215\n",
      "Epoch 12/100\n",
      "6250/6250 - 35s - 6ms/step - loss: 1.1415 - mse_real: 70.1620 - rmse_real: 8.2098 - val_loss: 1.2183 - val_mse_real: 75.5456 - val_rmse_real: 8.5220\n",
      "Epoch 13/100\n",
      "6250/6250 - 36s - 6ms/step - loss: 1.1370 - mse_real: 69.9426 - rmse_real: 8.1963 - val_loss: 1.2160 - val_mse_real: 75.7783 - val_rmse_real: 8.5349\n",
      "Epoch 14/100\n",
      "6250/6250 - 37s - 6ms/step - loss: 1.1323 - mse_real: 69.7129 - rmse_real: 8.1833 - val_loss: 1.2210 - val_mse_real: 75.5706 - val_rmse_real: 8.5232\n",
      "\u001b[1m4688/4688\u001b[0m \u001b[32m━━━━━━━━━━━━━━━━━━━━\u001b[0m\u001b[37m\u001b[0m \u001b[1m7s\u001b[0m 1ms/step\n"
     ]
    }
   ],
   "source": [
    "# 1. Reproducibility\n",
    "import random\n",
    "import os\n",
    "import numpy as np\n",
    "import pandas as pd\n",
    "import json\n",
    "import time\n",
    "import tensorflow as tf\n",
    "from tensorflow.keras.callbacks import EarlyStopping, ModelCheckpoint\n",
    "from tensorflow.keras.metrics import RootMeanSquaredError, MeanAbsoluteError, SparseTopKCategoricalAccuracy\n",
    "from sklearn.model_selection import train_test_split\n",
    "from sklearn.impute import SimpleImputer\n",
    "from sklearn.compose import ColumnTransformer\n",
    "from sklearn.preprocessing import StandardScaler, OneHotEncoder, LabelEncoder\n",
    "from sklearn.pipeline import Pipeline\n",
    "\n",
    "seed = 42\n",
    "random.seed(seed)\n",
    "np.random.seed(seed)\n",
    "tf.random.set_seed(seed)\n",
    "\n",
    "# 2. Data Loading\n",
    "train_df = pd.read_csv('tabular-playground-series-aug-2021/train.csv.zip')\n",
    "df_test = pd.read_csv('tabular-playground-series-aug-2021/test.csv.zip')\n",
    "id_col = 'id'\n",
    "target_columns = ['loss']\n",
    "\n",
    "# 3. Target Encoding for regression\n",
    "y_values = train_df[target_columns].astype(float).values\n",
    "y_enc = np.log1p(y_values) if np.all(y_values >= 0) else y_values\n",
    "\n",
    "# 4. Features\n",
    "X = train_df.drop(columns=target_columns + [id_col], errors='ignore')\n",
    "test_ids = df_test[id_col]\n",
    "X_test = df_test.drop(columns=target_columns + [id_col], errors='ignore')\n",
    "\n",
    "# 4a. Drop columns with all missing values\n",
    "all_missing = X.columns[X.isna().all()].tolist()\n",
    "X.drop(columns=all_missing, inplace=True)\n",
    "X_test.drop(columns=all_missing, inplace=True)\n",
    "\n",
    "# 4b. Identify and drop categorical columns with high cardinality\n",
    "cat_cols = X.select_dtypes(include=['object', 'category']).columns.tolist()\n",
    "for col in cat_cols:\n",
    "    if X[col].nunique() > 50:\n",
    "        X.drop(columns=col, inplace=True)\n",
    "        X_test.drop(columns=col, inplace=True)\n",
    "\n",
    "# 5. Preprocessing Pipeline\n",
    "num_cols = X.select_dtypes(include=['number']).columns.tolist()\n",
    "cat_cols = X.select_dtypes(include=['object', 'category']).columns.tolist()\n",
    "\n",
    "num_pipeline = Pipeline([\n",
    "    ('imputer', SimpleImputer(strategy='median')),\n",
    "    ('scaler', StandardScaler())\n",
    "])\n",
    "cat_pipeline = Pipeline([\n",
    "    ('imputer', SimpleImputer(strategy='most_frequent')),\n",
    "    ('ohe', OneHotEncoder(sparse_output=False, handle_unknown='ignore'))\n",
    "])\n",
    "\n",
    "preprocessor = ColumnTransformer([\n",
    "    ('num', num_pipeline, num_cols),\n",
    "    ('cat', cat_pipeline, cat_cols)\n",
    "])\n",
    "\n",
    "# Fit and transform data\n",
    "X_train_proc = preprocessor.fit_transform(X)\n",
    "X_test_proc = preprocessor.transform(X_test)\n",
    "\n",
    "# 6. Model Architecture for continuous regression\n",
    "n_samples, n_features = X_train_proc.shape\n",
    "if n_samples < 10000 or n_features < 100:\n",
    "    hidden_sizes = [min(n_features * 2, 128), min(n_features, 64)]\n",
    "    dropout_rate = 0.3\n",
    "    use_bn = False\n",
    "else:\n",
    "    sizes = [int(min(n_features * i, 1024)) for i in (2, 1, 0.5, 0.25)]\n",
    "    hidden_sizes = [s for s in sizes if s >= 16]\n",
    "    dropout_rate = 0.4\n",
    "    use_bn = True\n",
    "\n",
    "import keras_tuner as kt\n",
    "from tensorflow.keras.layers import Input, Dense, Dropout, BatchNormalization\n",
    "from tensorflow.keras.models import Model\n",
    "\n",
    "# Define early stopping and model checkpoint\n",
    "early_stopping = EarlyStopping(monitor='val_loss', patience=10, restore_best_weights=True)\n",
    "checkpoint = ModelCheckpoint('best_model.h5', monitor='val_loss', save_best_only=True)\n",
    "\n",
    "# Input dimension\n",
    "n_features = X_train_proc.shape[1]\n",
    "\n",
    "def mse_real(y_true_log, y_pred_log):\n",
    "    y_true = tf.math.expm1(y_true_log)\n",
    "    y_pred = tf.math.expm1(y_pred_log)\n",
    "    return tf.reduce_mean(tf.square(y_true - y_pred))\n",
    "mse_real.__name__ = 'mse_real'      \n",
    "\n",
    "def rmse_real(y_true_log, y_pred_log):\n",
    "    y_true = tf.math.expm1(y_true_log)\n",
    "    y_pred = tf.math.expm1(y_pred_log)\n",
    "    return tf.sqrt(tf.reduce_mean(tf.square(y_true - y_pred)))\n",
    "rmse_real.__name__ = 'rmse_real'\n",
    "\n",
    "\n",
    "# HyperModel\n",
    "class MyHyperModel(kt.HyperModel):\n",
    "    def build(self, hp):\n",
    "        layers = hp.Int('layers', 2, 8)\n",
    "        units = hp.Int('units', 64, 1024, 64)\n",
    "        act = hp.Choice('activation', ['relu'])\n",
    "        drop = hp.Float('dropout', 0.0, 0.5, 0.1)\n",
    "        opt = hp.Choice('optimizer', ['adam'])\n",
    "        lr = hp.Float('learning_rate', 1e-5, 0.01, sampling='log')\n",
    "\n",
    "        inputs = Input(shape=(n_features,))\n",
    "        x = inputs\n",
    "        for _ in range(layers):\n",
    "            x = Dense(units, activation=act)(x)\n",
    "            x = BatchNormalization()(x)\n",
    "            x = Dropout(drop)(x)\n",
    "        outputs = Dense(1, activation='linear')(x)\n",
    "        model = Model(inputs, outputs)\n",
    "        model.compile(optimizer=opt, loss='mean_squared_error', metrics=[mse_real, rmse_real])\n",
    "        return model\n",
    "\n",
    "# Tuner setup\n",
    "bs = 32  # Example batch size, adjust as needed\n",
    "ep = 100  # Example epochs, adjust as needed\n",
    "\n",
    "tuner = kt.BayesianOptimization(\n",
    "    MyHyperModel(),\n",
    "    objective='val_loss',\n",
    "    max_trials=10,\n",
    "    executions_per_trial=1,\n",
    "    seed=42,\n",
    "    overwrite=False,\n",
    "    project_name='bayesian_tuner'\n",
    ")\n",
    "\n",
    "if 'y_val' in locals() and y_val is not None:\n",
    "    tuner.search(\n",
    "        X_train_proc, y_enc,\n",
    "        validation_data=(X_test_proc, y_test),  # Assuming y_test is defined\n",
    "        batch_size=bs, epochs=ep,\n",
    "        callbacks=[early_stopping, checkpoint]\n",
    "    )\n",
    "else:\n",
    "    tuner.search(\n",
    "        X_train_proc, y_enc,\n",
    "        validation_split=0.2,\n",
    "        batch_size=bs, epochs=ep,\n",
    "        callbacks=[early_stopping, checkpoint]\n",
    "    )\n",
    "\n",
    "model = tuner.hypermodel.build(tuner.get_best_hyperparameters(1)[0])\n",
    "\n",
    "start_time = time.time()\n",
    "\n",
    "# Retrain model with original callbacks and data\n",
    "if 'y_val' in locals() and y_val is not None:\n",
    "    history = model.fit(\n",
    "        X_train_proc, y_enc,\n",
    "        validation_data=(X_test_proc, y_test),  # Assuming y_test is defined\n",
    "        epochs=100, batch_size=bs,\n",
    "        callbacks=[early_stopping, checkpoint],\n",
    "        verbose=2\n",
    "    )\n",
    "else:\n",
    "    history = model.fit(\n",
    "        X_train_proc, y_enc,\n",
    "        validation_split=0.2,\n",
    "        epochs=100, batch_size=bs,\n",
    "        callbacks=[early_stopping, checkpoint],\n",
    "        verbose=2\n",
    "    )\n",
    "\n",
    "duration = time.time() - start_time\n",
    "\n",
    "# 8. Evaluation & Logging\n",
    "hist = history.history\n",
    "results = {\n",
    "    'training_loss': history.history['mse_real'][-1],\n",
    "    'validation_loss': history.history['val_mse_real'][-1],\n",
    "    'training_RMSE': history.history['rmse_real'][-1],\n",
    "    'validation_RMSE': history.history['val_rmse_real'][-1]\n",
    "}\n",
    "with open('results.json', 'w') as f:\n",
    "    json.dump(results, f)\n",
    "\n",
    "# 9. Prediction & Submission\n",
    "raw_preds = model.predict(X_test_proc)\n",
    "final = raw_preds\n",
    "if np.all(final >= 0):\n",
    "    final = np.expm1(np.clip(final, a_min=None, a_max=20))\n",
    "if final.ndim == 1:\n",
    "    final = final.reshape(-1, 1)\n",
    "submission = pd.DataFrame(final, columns=target_columns)\n",
    "submission.insert(0, id_col, test_ids.reset_index(drop=True))\n",
    "submission.to_csv('submission_result.csv', index=False)"
   ]
  },
  {
   "cell_type": "code",
   "execution_count": null,
   "metadata": {},
   "outputs": [
    {
     "name": "stdout",
     "output_type": "stream",
     "text": [
      "525.935126\n"
     ]
    }
   ],
   "source": [
    "print(duration)"
   ]
  }
 ],
 "metadata": {
  "kernelspec": {
   "display_name": "Python 3",
   "language": "python",
   "name": "python3"
  },
  "language_info": {
   "codemirror_mode": {
    "name": "ipython",
    "version": 3
   },
   "file_extension": ".py",
   "mimetype": "text/x-python",
   "name": "python",
   "nbconvert_exporter": "python",
   "pygments_lexer": "ipython3",
   "version": "3.12.3"
  }
 },
 "nbformat": 4,
 "nbformat_minor": 2
}
